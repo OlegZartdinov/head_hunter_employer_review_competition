{
 "cells": [
  {
   "cell_type": "code",
   "execution_count": 1,
   "id": "de0cb083",
   "metadata": {},
   "outputs": [
    {
     "name": "stderr",
     "output_type": "stream",
     "text": [
      "[nltk_data] Downloading package punkt to\n",
      "[nltk_data]     /Users/olegzartdinov/nltk_data...\n",
      "[nltk_data]   Package punkt is already up-to-date!\n",
      "[nltk_data] Downloading collection 'popular'\n",
      "[nltk_data]    | \n",
      "[nltk_data]    | Downloading package cmudict to\n",
      "[nltk_data]    |     /Users/olegzartdinov/nltk_data...\n",
      "[nltk_data]    |   Package cmudict is already up-to-date!\n",
      "[nltk_data]    | Downloading package gazetteers to\n",
      "[nltk_data]    |     /Users/olegzartdinov/nltk_data...\n",
      "[nltk_data]    |   Package gazetteers is already up-to-date!\n",
      "[nltk_data]    | Downloading package genesis to\n",
      "[nltk_data]    |     /Users/olegzartdinov/nltk_data...\n",
      "[nltk_data]    |   Package genesis is already up-to-date!\n",
      "[nltk_data]    | Downloading package gutenberg to\n",
      "[nltk_data]    |     /Users/olegzartdinov/nltk_data...\n",
      "[nltk_data]    |   Package gutenberg is already up-to-date!\n",
      "[nltk_data]    | Downloading package inaugural to\n",
      "[nltk_data]    |     /Users/olegzartdinov/nltk_data...\n",
      "[nltk_data]    |   Package inaugural is already up-to-date!\n",
      "[nltk_data]    | Downloading package movie_reviews to\n",
      "[nltk_data]    |     /Users/olegzartdinov/nltk_data...\n",
      "[nltk_data]    |   Package movie_reviews is already up-to-date!\n",
      "[nltk_data]    | Downloading package names to\n",
      "[nltk_data]    |     /Users/olegzartdinov/nltk_data...\n",
      "[nltk_data]    |   Package names is already up-to-date!\n",
      "[nltk_data]    | Downloading package shakespeare to\n",
      "[nltk_data]    |     /Users/olegzartdinov/nltk_data...\n",
      "[nltk_data]    |   Package shakespeare is already up-to-date!\n",
      "[nltk_data]    | Downloading package stopwords to\n",
      "[nltk_data]    |     /Users/olegzartdinov/nltk_data...\n",
      "[nltk_data]    |   Package stopwords is already up-to-date!\n",
      "[nltk_data]    | Downloading package treebank to\n",
      "[nltk_data]    |     /Users/olegzartdinov/nltk_data...\n",
      "[nltk_data]    |   Package treebank is already up-to-date!\n",
      "[nltk_data]    | Downloading package twitter_samples to\n",
      "[nltk_data]    |     /Users/olegzartdinov/nltk_data...\n",
      "[nltk_data]    |   Package twitter_samples is already up-to-date!\n",
      "[nltk_data]    | Downloading package omw to\n",
      "[nltk_data]    |     /Users/olegzartdinov/nltk_data...\n",
      "[nltk_data]    |   Package omw is already up-to-date!\n",
      "[nltk_data]    | Downloading package omw-1.4 to\n",
      "[nltk_data]    |     /Users/olegzartdinov/nltk_data...\n",
      "[nltk_data]    |   Package omw-1.4 is already up-to-date!\n",
      "[nltk_data]    | Downloading package wordnet to\n",
      "[nltk_data]    |     /Users/olegzartdinov/nltk_data...\n",
      "[nltk_data]    |   Package wordnet is already up-to-date!\n",
      "[nltk_data]    | Downloading package wordnet2021 to\n",
      "[nltk_data]    |     /Users/olegzartdinov/nltk_data...\n",
      "[nltk_data]    |   Package wordnet2021 is already up-to-date!\n",
      "[nltk_data]    | Downloading package wordnet31 to\n",
      "[nltk_data]    |     /Users/olegzartdinov/nltk_data...\n",
      "[nltk_data]    |   Package wordnet31 is already up-to-date!\n",
      "[nltk_data]    | Downloading package wordnet_ic to\n",
      "[nltk_data]    |     /Users/olegzartdinov/nltk_data...\n",
      "[nltk_data]    |   Package wordnet_ic is already up-to-date!\n",
      "[nltk_data]    | Downloading package words to\n",
      "[nltk_data]    |     /Users/olegzartdinov/nltk_data...\n",
      "[nltk_data]    |   Package words is already up-to-date!\n",
      "[nltk_data]    | Downloading package maxent_ne_chunker to\n",
      "[nltk_data]    |     /Users/olegzartdinov/nltk_data...\n",
      "[nltk_data]    |   Package maxent_ne_chunker is already up-to-date!\n",
      "[nltk_data]    | Downloading package punkt to\n",
      "[nltk_data]    |     /Users/olegzartdinov/nltk_data...\n",
      "[nltk_data]    |   Package punkt is already up-to-date!\n",
      "[nltk_data]    | Downloading package snowball_data to\n",
      "[nltk_data]    |     /Users/olegzartdinov/nltk_data...\n",
      "[nltk_data]    |   Package snowball_data is already up-to-date!\n",
      "[nltk_data]    | Downloading package averaged_perceptron_tagger to\n",
      "[nltk_data]    |     /Users/olegzartdinov/nltk_data...\n",
      "[nltk_data]    |   Package averaged_perceptron_tagger is already up-\n",
      "[nltk_data]    |       to-date!\n",
      "[nltk_data]    | \n",
      "[nltk_data]  Done downloading collection popular\n"
     ]
    }
   ],
   "source": [
    "import numpy as np\n",
    "import pandas as pd\n",
    "import random\n",
    "\n",
    "from sklearn.model_selection import cross_val_score, train_test_split\n",
    "from sklearn.ensemble import RandomForestRegressor\n",
    "from sklearn.metrics import r2_score\n",
    "from sklearn.model_selection import KFold, GridSearchCV\n",
    "\n",
    "import matplotlib\n",
    "import matplotlib.pyplot as plt\n",
    "import seaborn as sns\n",
    "%matplotlib inline\n",
    "\n",
    "import warnings\n",
    "warnings.filterwarnings('ignore')\n",
    "sns.set(style='whitegrid')\n",
    "sns.set_context(\"paper\", font_scale=1.5)  \n",
    "pd.options.display.float_format = '{:,.2f}'.format\n",
    "pd.set_option('display.max_rows', 50)\n",
    "\n",
    "# Сброс ограничений на количество выводимых рядов\n",
    "pd.set_option('display.max_rows', None)\n",
    " \n",
    "# Сброс ограничений на число столбцов\n",
    "pd.set_option('display.max_columns', None)\n",
    " \n",
    "# Сброс ограничений на количество символов в записи\n",
    "pd.set_option('display.max_colwidth', None)\n",
    "\n",
    "from sklearn.model_selection import train_test_split\n",
    "import nltk\n",
    "import string\n",
    "from nltk.corpus import stopwords\n",
    "from nltk.tokenize import word_tokenize\n",
    "from nltk.stem import SnowballStemmer\n",
    "nltk.download('punkt')\n",
    "nltk.download('popular')\n",
    "from sklearn.pipeline import Pipeline\n",
    "from sklearn.linear_model import LogisticRegression\n",
    "from sklearn.feature_extraction.text import TfidfVectorizer\n",
    "from sklearn.metrics import precision_score, recall_score, precision_recall_curve\n",
    "from matplotlib import pyplot as plt\n",
    "from sklearn.metrics import plot_precision_recall_curve"
   ]
  },
  {
   "cell_type": "markdown",
   "id": "69556d18",
   "metadata": {},
   "source": [
    "**Пути к директориям и папкам**"
   ]
  },
  {
   "cell_type": "code",
   "execution_count": 2,
   "id": "ef65ac95",
   "metadata": {},
   "outputs": [],
   "source": [
    "TRAIN_DATASET_PATH = 'HeadHunter_train.csv'\n",
    "TEST_DATASET_PATH = 'HeadHunter_test.csv'"
   ]
  },
  {
   "cell_type": "markdown",
   "id": "3a7b13ff",
   "metadata": {},
   "source": [
    "# Загрузка данных"
   ]
  },
  {
   "cell_type": "markdown",
   "id": "435283b5",
   "metadata": {},
   "source": [
    "**Описание датасета**\n",
    "\n",
    "В датасете представлены отзывы на разных работодателей с разными характеристиками\n",
    "\n",
    "**Задача:**\n",
    "\n",
    "Участникам предстоит предсказать причины (закодированы числами от 1 до 8 ) по которым отзыв не проходит модерацию. Причин, по которым отзыв не прошёл модерацию может быть несколько. Если отзыв проходит модерацию, то вместо причины отказа нужно отправлять 0. Значение 0 разрешается комбинировать с причинами отказа. "
   ]
  },
  {
   "cell_type": "markdown",
   "id": "0e7c16d7",
   "metadata": {},
   "source": [
    "# Предварительный анализ\n",
    "**Для начала посмотрим на данные**"
   ]
  },
  {
   "cell_type": "code",
   "execution_count": 3,
   "id": "632537b8",
   "metadata": {},
   "outputs": [
    {
     "data": {
      "text/html": [
       "<div>\n",
       "<style scoped>\n",
       "    .dataframe tbody tr th:only-of-type {\n",
       "        vertical-align: middle;\n",
       "    }\n",
       "\n",
       "    .dataframe tbody tr th {\n",
       "        vertical-align: top;\n",
       "    }\n",
       "\n",
       "    .dataframe thead th {\n",
       "        text-align: right;\n",
       "    }\n",
       "</style>\n",
       "<table border=\"1\" class=\"dataframe\">\n",
       "  <thead>\n",
       "    <tr style=\"text-align: right;\">\n",
       "      <th></th>\n",
       "      <th>city</th>\n",
       "      <th>position</th>\n",
       "      <th>positive</th>\n",
       "      <th>negative</th>\n",
       "      <th>salary_rating</th>\n",
       "      <th>team_rating</th>\n",
       "      <th>managment_rating</th>\n",
       "      <th>career_rating</th>\n",
       "      <th>workplace_rating</th>\n",
       "      <th>rest_recovery_rating</th>\n",
       "      <th>target</th>\n",
       "    </tr>\n",
       "    <tr>\n",
       "      <th>review_id</th>\n",
       "      <th></th>\n",
       "      <th></th>\n",
       "      <th></th>\n",
       "      <th></th>\n",
       "      <th></th>\n",
       "      <th></th>\n",
       "      <th></th>\n",
       "      <th></th>\n",
       "      <th></th>\n",
       "      <th></th>\n",
       "      <th></th>\n",
       "    </tr>\n",
       "  </thead>\n",
       "  <tbody>\n",
       "    <tr>\n",
       "      <th>0</th>\n",
       "      <td>Ижевск</td>\n",
       "      <td>Кладовщик</td>\n",
       "      <td>Недавно устроился в ****** на должность кладовщика. Коллектив дружный и приветливый к новичкам - во всем помогают и поддерживают. Зарплата вся белая и без задержек, что сейчас редкость. Всем доволен и рекомендую данного работодателя.</td>\n",
       "      <td>Повысить з/п</td>\n",
       "      <td>5</td>\n",
       "      <td>4</td>\n",
       "      <td>3</td>\n",
       "      <td>3</td>\n",
       "      <td>4</td>\n",
       "      <td>4</td>\n",
       "      <td>0</td>\n",
       "    </tr>\n",
       "    <tr>\n",
       "      <th>1</th>\n",
       "      <td>Москва</td>\n",
       "      <td>Руководитель проекта</td>\n",
       "      <td>Расположение офиса, своего рода стабильность (госбанк)</td>\n",
       "      <td>Упростить процессы - все процессы ради процессов, а не результата. Избавиться от чрезмерного уровня бюрократии. Внедрить нормальный электронный документооборот - сейчас все на бумажках, даже то, что заводится в ЭДО. Высшему руководству избавиться от нежелания видеть проблемы - сейчас действует принцип «не вижу проблемы, значит ее нет».</td>\n",
       "      <td>4</td>\n",
       "      <td>4</td>\n",
       "      <td>4</td>\n",
       "      <td>1</td>\n",
       "      <td>1</td>\n",
       "      <td>1</td>\n",
       "      <td>8</td>\n",
       "    </tr>\n",
       "    <tr>\n",
       "      <th>2</th>\n",
       "      <td>Екатеринбург</td>\n",
       "      <td>Консультант</td>\n",
       "      <td>В нашем банке все по закону в плане зарплаты и графика. Никаких переработок и прочего. Для меня второе очень важно потому что у меня дети , с ними тоже надо проводить время, а если я буду до 12 засиживаться в офисе, то не знаю как и управиться с ними) Короче, работой в этом банке я довольна</td>\n",
       "      <td>Ничего</td>\n",
       "      <td>5</td>\n",
       "      <td>5</td>\n",
       "      <td>5</td>\n",
       "      <td>5</td>\n",
       "      <td>5</td>\n",
       "      <td>5</td>\n",
       "      <td>0</td>\n",
       "    </tr>\n",
       "    <tr>\n",
       "      <th>5</th>\n",
       "      <td>Санкт-Петербург</td>\n",
       "      <td>Оператор</td>\n",
       "      <td>Я в ****** около года работаю оператором. Нормальная работа, коллектив у нас дружный. Начальство понимающее. А самое главное, что как обещали на собеседовании, так и платят. Все честно. Я доволен.</td>\n",
       "      <td>Нет.</td>\n",
       "      <td>5</td>\n",
       "      <td>5</td>\n",
       "      <td>5</td>\n",
       "      <td>5</td>\n",
       "      <td>5</td>\n",
       "      <td>5</td>\n",
       "      <td>0</td>\n",
       "    </tr>\n",
       "    <tr>\n",
       "      <th>7</th>\n",
       "      <td>Москва</td>\n",
       "      <td>Инженер КИПиА</td>\n",
       "      <td>В принципе норм.Работать можно</td>\n",
       "      <td>Всегда есть к чему стремиться</td>\n",
       "      <td>4</td>\n",
       "      <td>5</td>\n",
       "      <td>4</td>\n",
       "      <td>2</td>\n",
       "      <td>5</td>\n",
       "      <td>2</td>\n",
       "      <td>8</td>\n",
       "    </tr>\n",
       "  </tbody>\n",
       "</table>\n",
       "</div>"
      ],
      "text/plain": [
       "                      city              position  \\\n",
       "review_id                                          \n",
       "0                   Ижевск             Кладовщик   \n",
       "1                   Москва  Руководитель проекта   \n",
       "2             Екатеринбург           Консультант   \n",
       "5          Санкт-Петербург              Оператор   \n",
       "7                   Москва         Инженер КИПиА   \n",
       "\n",
       "                                                                                                                                                                                                                                                                                                      positive  \\\n",
       "review_id                                                                                                                                                                                                                                                                                                        \n",
       "0                                                                    Недавно устроился в ****** на должность кладовщика. Коллектив дружный и приветливый к новичкам - во всем помогают и поддерживают. Зарплата вся белая и без задержек, что сейчас редкость. Всем доволен и рекомендую данного работодателя.   \n",
       "1                                                                                                                                                                                                                                                       Расположение офиса, своего рода стабильность (госбанк)   \n",
       "2          В нашем банке все по закону в плане зарплаты и графика. Никаких переработок и прочего. Для меня второе очень важно потому что у меня дети , с ними тоже надо проводить время, а если я буду до 12 засиживаться в офисе, то не знаю как и управиться с ними) Короче, работой в этом банке я довольна   \n",
       "5                                                                                                         Я в ****** около года работаю оператором. Нормальная работа, коллектив у нас дружный. Начальство понимающее. А самое главное, что как обещали на собеседовании, так и платят. Все честно. Я доволен.   \n",
       "7                                                                                                                                                                                                                                                                               В принципе норм.Работать можно   \n",
       "\n",
       "                                                                                                                                                                                                                                                                                                                                                    negative  \\\n",
       "review_id                                                                                                                                                                                                                                                                                                                                                      \n",
       "0                                                                                                                                                                                                                                                                                                                                               Повысить з/п   \n",
       "1          Упростить процессы - все процессы ради процессов, а не результата. Избавиться от чрезмерного уровня бюрократии. Внедрить нормальный электронный документооборот - сейчас все на бумажках, даже то, что заводится в ЭДО. Высшему руководству избавиться от нежелания видеть проблемы - сейчас действует принцип «не вижу проблемы, значит ее нет».   \n",
       "2                                                                                                                                                                                                                                                                                                                                                     Ничего   \n",
       "5                                                                                                                                                                                                                                                                                                                                                       Нет.   \n",
       "7                                                                                                                                                                                                                                                                                                                              Всегда есть к чему стремиться   \n",
       "\n",
       "           salary_rating  team_rating  managment_rating  career_rating  \\\n",
       "review_id                                                                \n",
       "0                      5            4                 3              3   \n",
       "1                      4            4                 4              1   \n",
       "2                      5            5                 5              5   \n",
       "5                      5            5                 5              5   \n",
       "7                      4            5                 4              2   \n",
       "\n",
       "           workplace_rating  rest_recovery_rating target  \n",
       "review_id                                                 \n",
       "0                         4                     4      0  \n",
       "1                         1                     1      8  \n",
       "2                         5                     5      0  \n",
       "5                         5                     5      0  \n",
       "7                         5                     2      8  "
      ]
     },
     "execution_count": 3,
     "metadata": {},
     "output_type": "execute_result"
    }
   ],
   "source": [
    "train_df = pd.read_csv(TRAIN_DATASET_PATH, index_col = 'review_id')\n",
    "train_df.head()"
   ]
  },
  {
   "cell_type": "code",
   "execution_count": 4,
   "id": "c272dc13",
   "metadata": {},
   "outputs": [
    {
     "data": {
      "text/html": [
       "<div>\n",
       "<style scoped>\n",
       "    .dataframe tbody tr th:only-of-type {\n",
       "        vertical-align: middle;\n",
       "    }\n",
       "\n",
       "    .dataframe tbody tr th {\n",
       "        vertical-align: top;\n",
       "    }\n",
       "\n",
       "    .dataframe thead th {\n",
       "        text-align: right;\n",
       "    }\n",
       "</style>\n",
       "<table border=\"1\" class=\"dataframe\">\n",
       "  <thead>\n",
       "    <tr style=\"text-align: right;\">\n",
       "      <th></th>\n",
       "      <th>city</th>\n",
       "      <th>position</th>\n",
       "      <th>positive</th>\n",
       "      <th>negative</th>\n",
       "      <th>salary_rating</th>\n",
       "      <th>team_rating</th>\n",
       "      <th>managment_rating</th>\n",
       "      <th>career_rating</th>\n",
       "      <th>workplace_rating</th>\n",
       "      <th>rest_recovery_rating</th>\n",
       "    </tr>\n",
       "    <tr>\n",
       "      <th>review_id</th>\n",
       "      <th></th>\n",
       "      <th></th>\n",
       "      <th></th>\n",
       "      <th></th>\n",
       "      <th></th>\n",
       "      <th></th>\n",
       "      <th></th>\n",
       "      <th></th>\n",
       "      <th></th>\n",
       "      <th></th>\n",
       "    </tr>\n",
       "  </thead>\n",
       "  <tbody>\n",
       "    <tr>\n",
       "      <th>3</th>\n",
       "      <td>Москва</td>\n",
       "      <td>Старший специалист</td>\n",
       "      <td>Свобода в выборе рабочего графика, условия труда</td>\n",
       "      <td>****** всегда стремится к улучшению всего</td>\n",
       "      <td>5</td>\n",
       "      <td>5</td>\n",
       "      <td>5</td>\n",
       "      <td>5</td>\n",
       "      <td>5</td>\n",
       "      <td>5</td>\n",
       "    </tr>\n",
       "    <tr>\n",
       "      <th>4</th>\n",
       "      <td>Москва</td>\n",
       "      <td>Менеджер по персоналу</td>\n",
       "      <td>Компания делает ставки на молодых и перспективных</td>\n",
       "      <td>Слабая оснащённость рабочих мест, отсутствие ДМС, слабая корпоративная жизнь</td>\n",
       "      <td>4</td>\n",
       "      <td>5</td>\n",
       "      <td>4</td>\n",
       "      <td>5</td>\n",
       "      <td>4</td>\n",
       "      <td>4</td>\n",
       "    </tr>\n",
       "    <tr>\n",
       "      <th>13</th>\n",
       "      <td>Тверь</td>\n",
       "      <td>Тренинг-менеджер</td>\n",
       "      <td>Есть возможность для  развития</td>\n",
       "      <td>Увеличить уровень дохода</td>\n",
       "      <td>2</td>\n",
       "      <td>5</td>\n",
       "      <td>5</td>\n",
       "      <td>5</td>\n",
       "      <td>5</td>\n",
       "      <td>5</td>\n",
       "    </tr>\n",
       "    <tr>\n",
       "      <th>14</th>\n",
       "      <td>Уфа</td>\n",
       "      <td>Специалист отдела кадров</td>\n",
       "      <td>Хороший коллектив, размереная работа, нет переработки, комфортные условия труда.</td>\n",
       "      <td>Обучение сотрудников,  ротацию кадров, увеличение зарплаты.</td>\n",
       "      <td>2</td>\n",
       "      <td>5</td>\n",
       "      <td>5</td>\n",
       "      <td>2</td>\n",
       "      <td>4</td>\n",
       "      <td>4</td>\n",
       "    </tr>\n",
       "    <tr>\n",
       "      <th>17</th>\n",
       "      <td>Москва</td>\n",
       "      <td>Бизнес-аналитик</td>\n",
       "      <td>Гибкость в рабочем графике, коллектив.</td>\n",
       "      <td>Уровень представленности HR-бренда.</td>\n",
       "      <td>5</td>\n",
       "      <td>5</td>\n",
       "      <td>5</td>\n",
       "      <td>5</td>\n",
       "      <td>5</td>\n",
       "      <td>5</td>\n",
       "    </tr>\n",
       "  </tbody>\n",
       "</table>\n",
       "</div>"
      ],
      "text/plain": [
       "             city                  position  \\\n",
       "review_id                                     \n",
       "3          Москва        Старший специалист   \n",
       "4          Москва     Менеджер по персоналу   \n",
       "13          Тверь          Тренинг-менеджер   \n",
       "14            Уфа  Специалист отдела кадров   \n",
       "17         Москва           Бизнес-аналитик   \n",
       "\n",
       "                                                                                   positive  \\\n",
       "review_id                                                                                     \n",
       "3                                          Свобода в выборе рабочего графика, условия труда   \n",
       "4                                         Компания делает ставки на молодых и перспективных   \n",
       "13                                                           Есть возможность для  развития   \n",
       "14         Хороший коллектив, размереная работа, нет переработки, комфортные условия труда.   \n",
       "17                                                   Гибкость в рабочем графике, коллектив.   \n",
       "\n",
       "                                                                               negative  \\\n",
       "review_id                                                                                 \n",
       "3                                             ****** всегда стремится к улучшению всего   \n",
       "4          Слабая оснащённость рабочих мест, отсутствие ДМС, слабая корпоративная жизнь   \n",
       "13                                                             Увеличить уровень дохода   \n",
       "14                          Обучение сотрудников,  ротацию кадров, увеличение зарплаты.   \n",
       "17                                                  Уровень представленности HR-бренда.   \n",
       "\n",
       "           salary_rating  team_rating  managment_rating  career_rating  \\\n",
       "review_id                                                                \n",
       "3                      5            5                 5              5   \n",
       "4                      4            5                 4              5   \n",
       "13                     2            5                 5              5   \n",
       "14                     2            5                 5              2   \n",
       "17                     5            5                 5              5   \n",
       "\n",
       "           workplace_rating  rest_recovery_rating  \n",
       "review_id                                          \n",
       "3                         5                     5  \n",
       "4                         4                     4  \n",
       "13                        5                     5  \n",
       "14                        4                     4  \n",
       "17                        5                     5  "
      ]
     },
     "execution_count": 4,
     "metadata": {},
     "output_type": "execute_result"
    }
   ],
   "source": [
    "test_df = pd.read_csv(TEST_DATASET_PATH, index_col = 'review_id')\n",
    "test_df.head()"
   ]
  },
  {
   "cell_type": "code",
   "execution_count": 5,
   "id": "ea662bef",
   "metadata": {},
   "outputs": [
    {
     "data": {
      "text/plain": [
       "((50876, 11), (50651, 10))"
      ]
     },
     "execution_count": 5,
     "metadata": {},
     "output_type": "execute_result"
    }
   ],
   "source": [
    "train_df.shape, test_df.shape"
   ]
  },
  {
   "cell_type": "markdown",
   "id": "8bed5cb4",
   "metadata": {},
   "source": [
    "**Приведение типов**"
   ]
  },
  {
   "cell_type": "code",
   "execution_count": 6,
   "id": "09d00a64",
   "metadata": {},
   "outputs": [
    {
     "data": {
      "text/plain": [
       "city                    object\n",
       "position                object\n",
       "positive                object\n",
       "negative                object\n",
       "salary_rating            int64\n",
       "team_rating              int64\n",
       "managment_rating         int64\n",
       "career_rating            int64\n",
       "workplace_rating         int64\n",
       "rest_recovery_rating     int64\n",
       "target                  object\n",
       "dtype: object"
      ]
     },
     "execution_count": 6,
     "metadata": {},
     "output_type": "execute_result"
    }
   ],
   "source": [
    "train_df.dtypes"
   ]
  },
  {
   "cell_type": "markdown",
   "id": "443c7cd1",
   "metadata": {},
   "source": [
    "# Обзор данных\n",
    "**Целевая переменная (target)**"
   ]
  },
  {
   "cell_type": "markdown",
   "id": "6a28c04a",
   "metadata": {},
   "source": [
    "**Посмотрим на распределение целевой переменной в train, возможно что одобренных отзывов в датасете сильно больше, тогда придется что-то делать с несбалансированностью**"
   ]
  },
  {
   "cell_type": "code",
   "execution_count": 7,
   "id": "8cbde8bb",
   "metadata": {},
   "outputs": [
    {
     "data": {
      "image/png": "[encoded data removed]",
      "text/plain": [
       "<Figure size 576x288 with 1 Axes>"
      ]
     },
     "metadata": {},
     "output_type": "display_data"
    }
   ],
   "source": [
    "#построим график распределения целевой переменной\n",
    "plt.figure(figsize = (8,4))\n",
    "\n",
    "train_df['target'].hist(bins=60)\n",
    "plt.ylabel('Count')\n",
    "plt.xlabel('target')\n",
    "plt.title('Target distribution');"
   ]
  },
  {
   "cell_type": "markdown",
   "id": "8b2a762a",
   "metadata": {},
   "source": [
    "Построим более наглядный countplot"
   ]
  },
  {
   "cell_type": "code",
   "execution_count": 8,
   "id": "4fe29b32",
   "metadata": {},
   "outputs": [
    {
     "data": {
      "image/png": "[encoded data removed]",
      "text/plain": [
       "<Figure size 1152x432 with 1 Axes>"
      ]
     },
     "metadata": {},
     "output_type": "display_data"
    }
   ],
   "source": [
    "#посмотрим распределение на графике\n",
    "sns.set(style=\"whitegrid\", font_scale=1.5)\n",
    "f, ax = plt.subplots(figsize=(16,6))\n",
    "sns.countplot(x='target', data=train_df);\n",
    "ax.tick_params(axis='x', rotation=90)\n",
    "ax.xaxis.set_major_locator(plt.MaxNLocator(50))"
   ]
  },
  {
   "cell_type": "markdown",
   "id": "4d4a0b53",
   "metadata": {},
   "source": [
    "Несмотря на то, что правильно график построить не удалось видно, что лидирует причина номер 8\n",
    "\n",
    "Посмотрим на значения, чтобы определить в чем причина"
   ]
  },
  {
   "cell_type": "code",
   "execution_count": 9,
   "id": "f4d18ff6",
   "metadata": {},
   "outputs": [
    {
     "data": {
      "text/plain": [
       "8          24093\n",
       "0          21003\n",
       "1,8         1476\n",
       "1           1269\n",
       "3            905\n",
       "6,8          473\n",
       "6            368\n",
       "7            326\n",
       "3,8          209\n",
       "1,6          141\n",
       "5,8          121\n",
       "5            102\n",
       "1,5           78\n",
       "1,6,8         48\n",
       "4             38\n",
       "4,8           36\n",
       "1,5,8         33\n",
       "7,8           25\n",
       "1,4           24\n",
       "1,7           15\n",
       "5,7           13\n",
       "2             12\n",
       "5,6            9\n",
       "1,3            9\n",
       "1,5,6          7\n",
       "5,6,8          6\n",
       "3,7            5\n",
       "4,6            5\n",
       "1,4,8          4\n",
       "1,3,8          3\n",
       "1,4,6          3\n",
       "6,7            3\n",
       "1,7,8          2\n",
       "1,3,5          2\n",
       "3,5,8          1\n",
       "5,7,8          1\n",
       "3,6            1\n",
       "1,3,6          1\n",
       "3,5,7          1\n",
       "1,2,6          1\n",
       "1,5,6,8        1\n",
       "3,6,8          1\n",
       "4,6,8          1\n",
       "3,5            1\n",
       "Name: target, dtype: int64"
      ]
     },
     "execution_count": 9,
     "metadata": {},
     "output_type": "execute_result"
    }
   ],
   "source": [
    "train_df['target'].value_counts()"
   ]
  },
  {
   "cell_type": "markdown",
   "id": "2cc6f580",
   "metadata": {},
   "source": [
    "Ответ найден, один отзыв может иметь более одной причины отказа, поэтому они перечислены через запятую. Постараемся исправить ситуацию в дальнейшем."
   ]
  },
  {
   "cell_type": "markdown",
   "id": "9da6aa9e",
   "metadata": {},
   "source": [
    "# Первые выводы"
   ]
  },
  {
   "cell_type": "markdown",
   "id": "8e119767",
   "metadata": {},
   "source": [
    "Датасет train вполне сбалансирован, 21003 отзыва (из 50876) проходят модерацию. Из оставшихся 29873 отзывов большая часть имеет единственную причину отказа номер 8 (24093 отзыва), оставшиеся отзывы (5780) имеют другие или несколько причин отказа. "
   ]
  },
  {
   "cell_type": "code",
   "execution_count": 10,
   "id": "7528d69d",
   "metadata": {},
   "outputs": [
    {
     "data": {
      "text/plain": [
       "city                      852\n",
       "position                12258\n",
       "positive                46988\n",
       "negative                45029\n",
       "salary_rating               5\n",
       "team_rating                 5\n",
       "managment_rating            5\n",
       "career_rating               6\n",
       "workplace_rating            5\n",
       "rest_recovery_rating        5\n",
       "target                     44\n",
       "dtype: int64"
      ]
     },
     "execution_count": 10,
     "metadata": {},
     "output_type": "execute_result"
    }
   ],
   "source": [
    "#посмотрим на количество уникальных значений признаков\n",
    "train_df.nunique()"
   ]
  },
  {
   "cell_type": "markdown",
   "id": "ed2e6687",
   "metadata": {},
   "source": [
    "В нескольких признаках всего несколько значений, поэтому их можно будет отнести к категориальным (salary_rating, team_rating, managment_rating, career_rating, workplace_rating, rest_recovery_rating). Очевидно, что рейтинг выставлялся в звёздах от 1 до 5."
   ]
  },
  {
   "cell_type": "markdown",
   "id": "f41b3006",
   "metadata": {},
   "source": [
    "**Career_rating**"
   ]
  },
  {
   "cell_type": "code",
   "execution_count": 11,
   "id": "4f180dfd",
   "metadata": {},
   "outputs": [
    {
     "data": {
      "text/plain": [
       "5    18820\n",
       "1    10436\n",
       "4     8398\n",
       "3     7752\n",
       "2     5444\n",
       "0       26\n",
       "Name: career_rating, dtype: int64"
      ]
     },
     "execution_count": 11,
     "metadata": {},
     "output_type": "execute_result"
    }
   ],
   "source": [
    "#рассмотрим значения в перспективах карьеры\n",
    "train_df['career_rating'].value_counts()"
   ]
  },
  {
   "cell_type": "markdown",
   "id": "ce19ebcf",
   "metadata": {},
   "source": [
    "Несмотря на большое желание произвести замену, оценка 0 может быть как пропущенным значением автоматически заполненным, так и крайней степенью раздражения и соответственно сильно коррелировать с негативным отзывов не прошедшим проверку"
   ]
  },
  {
   "cell_type": "code",
   "execution_count": 12,
   "id": "b339be14",
   "metadata": {},
   "outputs": [
    {
     "data": {
      "text/html": [
       "<div>\n",
       "<style scoped>\n",
       "    .dataframe tbody tr th:only-of-type {\n",
       "        vertical-align: middle;\n",
       "    }\n",
       "\n",
       "    .dataframe tbody tr th {\n",
       "        vertical-align: top;\n",
       "    }\n",
       "\n",
       "    .dataframe thead th {\n",
       "        text-align: right;\n",
       "    }\n",
       "</style>\n",
       "<table border=\"1\" class=\"dataframe\">\n",
       "  <thead>\n",
       "    <tr style=\"text-align: right;\">\n",
       "      <th></th>\n",
       "      <th>city</th>\n",
       "      <th>position</th>\n",
       "      <th>positive</th>\n",
       "      <th>negative</th>\n",
       "      <th>salary_rating</th>\n",
       "      <th>team_rating</th>\n",
       "      <th>managment_rating</th>\n",
       "      <th>career_rating</th>\n",
       "      <th>workplace_rating</th>\n",
       "      <th>rest_recovery_rating</th>\n",
       "      <th>target</th>\n",
       "    </tr>\n",
       "    <tr>\n",
       "      <th>review_id</th>\n",
       "      <th></th>\n",
       "      <th></th>\n",
       "      <th></th>\n",
       "      <th></th>\n",
       "      <th></th>\n",
       "      <th></th>\n",
       "      <th></th>\n",
       "      <th></th>\n",
       "      <th></th>\n",
       "      <th></th>\n",
       "      <th></th>\n",
       "    </tr>\n",
       "  </thead>\n",
       "  <tbody>\n",
       "    <tr>\n",
       "      <th>1808</th>\n",
       "      <td>Воронеж</td>\n",
       "      <td>NaN</td>\n",
       "      <td>Многие пугаются той ответственности и многозадачности, при которых нам приходится работать в компании. Некоторые сотрудники просто не выдерживают нагрузки, на мой взгляд, сложности для того и существуют, чтобы с ними справляться. Мне, как новичку, тоже было тяжело первое время. Но у меня была цель достигнуть хороших результатов, учила всю информацию, которую мне предоставляли и которую сама находила в интернете, спрашивала советов у своих более опытных коллег. Не могу сказать, что прям все бросали свои дела и сидели со мной, но совет дать могли, дружеская атмосфера присутствует, поэтому приятно работать в компании. Хоть коллектив большой, можно найти своих единомышленников. Благо, что еще начальство нормальное, видят разницу между опытным сотрудником и новичком, который только только вчера пришел в компанию. Невыполнимых задач не ставит перед сотрудниками, так что все приходит с опытом. То, что в ****** берут без опыта - плюс. Много внимания уделяют обучению своих сотрудников: семинары, тренинги, в общем есть возможность профессионального развития.</td>\n",
       "      <td>Люди, которые здесь работают давно, неплохо зарабатывают. Так что есть к чему стремиться.</td>\n",
       "      <td>5</td>\n",
       "      <td>5</td>\n",
       "      <td>5</td>\n",
       "      <td>0</td>\n",
       "      <td>3</td>\n",
       "      <td>3</td>\n",
       "      <td>0</td>\n",
       "    </tr>\n",
       "    <tr>\n",
       "      <th>6247</th>\n",
       "      <td>Киев</td>\n",
       "      <td>NaN</td>\n",
       "      <td>Вот только закончила стажировку, переводят уже в полноценные сотрудники компании. Работа в офисе интересная, мне нравится, да и условия, считаю,  отличные. Требуют, конечно, много, но я надеюсь втянусь и все освою. Уже подругами обзавелась, коллектив здесь дружный. Очень хочу задержаться здесь надолго.</td>\n",
       "      <td>все устраивает</td>\n",
       "      <td>5</td>\n",
       "      <td>5</td>\n",
       "      <td>3</td>\n",
       "      <td>0</td>\n",
       "      <td>5</td>\n",
       "      <td>3</td>\n",
       "      <td>0</td>\n",
       "    </tr>\n",
       "    <tr>\n",
       "      <th>10970</th>\n",
       "      <td>Москва</td>\n",
       "      <td>NaN</td>\n",
       "      <td>Плюсов У ****** как у работодателя много. Во-первых оформление официальное, во-вторых выплаты без задержек, премии за хорошую работу даются раз в несколько месяцев, у каждого подразделения своя бонусная система. Вахтовикам бесплатное общежитие предоставляется и других \"плюшек\" много, смотря кем работать.</td>\n",
       "      <td>Не думал об этом, особенных замечаний у меня нет.</td>\n",
       "      <td>5</td>\n",
       "      <td>5</td>\n",
       "      <td>5</td>\n",
       "      <td>0</td>\n",
       "      <td>5</td>\n",
       "      <td>4</td>\n",
       "      <td>0</td>\n",
       "    </tr>\n",
       "    <tr>\n",
       "      <th>13030</th>\n",
       "      <td>Москва</td>\n",
       "      <td>Швея</td>\n",
       "      <td>Очень нравится здесь работать. Очень хорошее отношения руководства к работникам несомненно радует. Достойная оплата труда, дружный коллектив.</td>\n",
       "      <td>Меня всё устраивает</td>\n",
       "      <td>5</td>\n",
       "      <td>5</td>\n",
       "      <td>5</td>\n",
       "      <td>0</td>\n",
       "      <td>5</td>\n",
       "      <td>4</td>\n",
       "      <td>0</td>\n",
       "    </tr>\n",
       "    <tr>\n",
       "      <th>15028</th>\n",
       "      <td>Москва</td>\n",
       "      <td>NaN</td>\n",
       "      <td>Прекрасный коллектив, в котором действительно помогут и все объяснят по столько раз, сколько потребуется. Начальство идёт навстречу и относится с пониманием к косякам.</td>\n",
       "      <td>Маленькое количество инструкторов = не обучают на многие позиции.</td>\n",
       "      <td>3</td>\n",
       "      <td>5</td>\n",
       "      <td>5</td>\n",
       "      <td>0</td>\n",
       "      <td>5</td>\n",
       "      <td>3</td>\n",
       "      <td>0</td>\n",
       "    </tr>\n",
       "  </tbody>\n",
       "</table>\n",
       "</div>"
      ],
      "text/plain": [
       "              city position  \\\n",
       "review_id                     \n",
       "1808       Воронеж      NaN   \n",
       "6247          Киев      NaN   \n",
       "10970       Москва      NaN   \n",
       "13030       Москва     Швея   \n",
       "15028       Москва      NaN   \n",
       "\n",
       "                                                                                                                                                                                                                                                                                                                                                                                                                                                                                                                                                                                                                                                                                                                                                                                                                                                                                                                                                                                                                                                                                                           positive  \\\n",
       "review_id                                                                                                                                                                                                                                                                                                                                                                                                                                                                                                                                                                                                                                                                                                                                                                                                                                                                                                                                                                                                                                                                                                             \n",
       "1808       Многие пугаются той ответственности и многозадачности, при которых нам приходится работать в компании. Некоторые сотрудники просто не выдерживают нагрузки, на мой взгляд, сложности для того и существуют, чтобы с ними справляться. Мне, как новичку, тоже было тяжело первое время. Но у меня была цель достигнуть хороших результатов, учила всю информацию, которую мне предоставляли и которую сама находила в интернете, спрашивала советов у своих более опытных коллег. Не могу сказать, что прям все бросали свои дела и сидели со мной, но совет дать могли, дружеская атмосфера присутствует, поэтому приятно работать в компании. Хоть коллектив большой, можно найти своих единомышленников. Благо, что еще начальство нормальное, видят разницу между опытным сотрудником и новичком, который только только вчера пришел в компанию. Невыполнимых задач не ставит перед сотрудниками, так что все приходит с опытом. То, что в ****** берут без опыта - плюс. Много внимания уделяют обучению своих сотрудников: семинары, тренинги, в общем есть возможность профессионального развития.   \n",
       "6247                                                                                                                                                                                                                                                                                                                                                                                                                                                                                                                                                                                                                                                                                                                                                                                                Вот только закончила стажировку, переводят уже в полноценные сотрудники компании. Работа в офисе интересная, мне нравится, да и условия, считаю,  отличные. Требуют, конечно, много, но я надеюсь втянусь и все освою. Уже подругами обзавелась, коллектив здесь дружный. Очень хочу задержаться здесь надолго.   \n",
       "10970                                                                                                                                                                                                                                                                                                                                                                                                                                                                                                                                                                                                                                                                                                                                                                                             Плюсов У ****** как у работодателя много. Во-первых оформление официальное, во-вторых выплаты без задержек, премии за хорошую работу даются раз в несколько месяцев, у каждого подразделения своя бонусная система. Вахтовикам бесплатное общежитие предоставляется и других \"плюшек\" много, смотря кем работать.   \n",
       "13030                                                                                                                                                                                                                                                                                                                                                                                                                                                                                                                                                                                                                                                                                                                                                                                                                                                                                                                                                                 Очень нравится здесь работать. Очень хорошее отношения руководства к работникам несомненно радует. Достойная оплата труда, дружный коллектив.   \n",
       "15028                                                                                                                                                                                                                                                                                                                                                                                                                                                                                                                                                                                                                                                                                                                                                                                                                                                                                                                                       Прекрасный коллектив, в котором действительно помогут и все объяснят по столько раз, сколько потребуется. Начальство идёт навстречу и относится с пониманием к косякам.   \n",
       "\n",
       "                                                                                            negative  \\\n",
       "review_id                                                                                              \n",
       "1808       Люди, которые здесь работают давно, неплохо зарабатывают. Так что есть к чему стремиться.   \n",
       "6247                                                                                  все устраивает   \n",
       "10970                                              Не думал об этом, особенных замечаний у меня нет.   \n",
       "13030                                                                            Меня всё устраивает   \n",
       "15028                              Маленькое количество инструкторов = не обучают на многие позиции.   \n",
       "\n",
       "           salary_rating  team_rating  managment_rating  career_rating  \\\n",
       "review_id                                                                \n",
       "1808                   5            5                 5              0   \n",
       "6247                   5            5                 3              0   \n",
       "10970                  5            5                 5              0   \n",
       "13030                  5            5                 5              0   \n",
       "15028                  3            5                 5              0   \n",
       "\n",
       "           workplace_rating  rest_recovery_rating target  \n",
       "review_id                                                 \n",
       "1808                      3                     3      0  \n",
       "6247                      5                     3      0  \n",
       "10970                     5                     4      0  \n",
       "13030                     5                     4      0  \n",
       "15028                     5                     3      0  "
      ]
     },
     "execution_count": 12,
     "metadata": {},
     "output_type": "execute_result"
    }
   ],
   "source": [
    "#проверим эту теорию\n",
    "train_df[train_df['career_rating'] == 0].head()"
   ]
  },
  {
   "cell_type": "markdown",
   "id": "b5be3711",
   "metadata": {},
   "source": [
    "Теория не оправдалась, поэтому заменим все значния 0 на среднее-арифметическое от оценок salary_rating, team_rating, managment_rating, workplace_rating, rest_recovery_rating"
   ]
  },
  {
   "cell_type": "code",
   "execution_count": 13,
   "id": "bc1d65be",
   "metadata": {},
   "outputs": [],
   "source": [
    "#произведём замену\n",
    "train_df.loc[train_df['career_rating'] == 0, 'career_rating'] = round((train_df['salary_rating']+train_df['team_rating']+train_df['managment_rating']+train_df['workplace_rating']+train_df['rest_recovery_rating'])/5)\n",
    "test_df.loc[test_df['career_rating'] == 0, 'career_rating'] = round((test_df['salary_rating']+test_df['team_rating']+test_df['managment_rating']+test_df['workplace_rating']+test_df['rest_recovery_rating'])/5) "
   ]
  },
  {
   "cell_type": "code",
   "execution_count": 14,
   "id": "7c2cb817",
   "metadata": {},
   "outputs": [
    {
     "data": {
      "text/plain": [
       "5.00    18833\n",
       "1.00    10436\n",
       "4.00     8409\n",
       "3.00     7754\n",
       "2.00     5444\n",
       "Name: career_rating, dtype: int64"
      ]
     },
     "execution_count": 14,
     "metadata": {},
     "output_type": "execute_result"
    }
   ],
   "source": [
    "#проверим результат в train\n",
    "train_df['career_rating'].value_counts()"
   ]
  },
  {
   "cell_type": "code",
   "execution_count": 15,
   "id": "b447ff6d",
   "metadata": {},
   "outputs": [
    {
     "data": {
      "text/plain": [
       "5.00    17576\n",
       "1.00    10642\n",
       "3.00     8609\n",
       "4.00     7950\n",
       "2.00     5874\n",
       "Name: career_rating, dtype: int64"
      ]
     },
     "execution_count": 15,
     "metadata": {},
     "output_type": "execute_result"
    }
   ],
   "source": [
    "#проверим результат в test\n",
    "test_df['career_rating'].value_counts()"
   ]
  },
  {
   "cell_type": "markdown",
   "id": "3b607701",
   "metadata": {},
   "source": [
    "**Заменим все рейтинги на словесное описание**  \n",
    "Ужасно  \n",
    "Плохо  \n",
    "Нормально  \n",
    "Хорошо  \n",
    "Отлично"
   ]
  },
  {
   "cell_type": "markdown",
   "id": "2af860b6",
   "metadata": {},
   "source": [
    "**salary_rating**"
   ]
  },
  {
   "cell_type": "code",
   "execution_count": 16,
   "id": "5b81348f",
   "metadata": {},
   "outputs": [],
   "source": [
    "train_df.loc[(train_df['salary_rating'] == 1), 'salary_rating'] = \"ужасно\"\n",
    "train_df.loc[(train_df['salary_rating'] == 2), 'salary_rating'] = \"плохо\"\n",
    "train_df.loc[(train_df['salary_rating'] == 3), 'salary_rating'] = \"нормально\"\n",
    "train_df.loc[(train_df['salary_rating'] == 4), 'salary_rating'] = \"хорошо\"\n",
    "train_df.loc[(train_df['salary_rating'] == 5), 'salary_rating'] = \"отлично\""
   ]
  },
  {
   "cell_type": "code",
   "execution_count": 17,
   "id": "35f1778d",
   "metadata": {},
   "outputs": [
    {
     "data": {
      "text/plain": [
       "отлично      17893\n",
       "хорошо        9739\n",
       "нормально     8911\n",
       "ужасно        8561\n",
       "плохо         5772\n",
       "Name: salary_rating, dtype: int64"
      ]
     },
     "execution_count": 17,
     "metadata": {},
     "output_type": "execute_result"
    }
   ],
   "source": [
    "#проверим результат в train\n",
    "train_df['salary_rating'].value_counts()"
   ]
  },
  {
   "cell_type": "code",
   "execution_count": 18,
   "id": "7679cede",
   "metadata": {},
   "outputs": [],
   "source": [
    "test_df.loc[(test_df['salary_rating'] == 1), 'salary_rating'] = \"ужасно\"\n",
    "test_df.loc[(test_df['salary_rating'] == 2), 'salary_rating'] = \"плохо\"\n",
    "test_df.loc[(test_df['salary_rating'] == 3), 'salary_rating'] = \"нормально\"\n",
    "test_df.loc[(test_df['salary_rating'] == 4), 'salary_rating'] = \"хорошо\"\n",
    "test_df.loc[(test_df['salary_rating'] == 5), 'salary_rating'] = \"отлично\""
   ]
  },
  {
   "cell_type": "code",
   "execution_count": 19,
   "id": "62853e28",
   "metadata": {},
   "outputs": [
    {
     "data": {
      "text/plain": [
       "отлично      15129\n",
       "нормально    10520\n",
       "хорошо        9798\n",
       "ужасно        8809\n",
       "плохо         6395\n",
       "Name: salary_rating, dtype: int64"
      ]
     },
     "execution_count": 19,
     "metadata": {},
     "output_type": "execute_result"
    }
   ],
   "source": [
    "#проверим результат в test\n",
    "test_df['salary_rating'].value_counts()"
   ]
  },
  {
   "cell_type": "markdown",
   "id": "51cd2dbe",
   "metadata": {},
   "source": [
    "**team_rating**"
   ]
  },
  {
   "cell_type": "code",
   "execution_count": 20,
   "id": "ad55ff06",
   "metadata": {},
   "outputs": [],
   "source": [
    "train_df.loc[(train_df['team_rating'] == 1), 'team_rating'] = \"ужасно\"\n",
    "train_df.loc[(train_df['team_rating'] == 2), 'team_rating'] = \"плохо\"\n",
    "train_df.loc[(train_df['team_rating'] == 3), 'team_rating'] = \"нормально\"\n",
    "train_df.loc[(train_df['team_rating'] == 4), 'team_rating'] = \"хорошо\"\n",
    "train_df.loc[(train_df['team_rating'] == 5), 'team_rating'] = \"отлично\""
   ]
  },
  {
   "cell_type": "code",
   "execution_count": 21,
   "id": "e792f3b2",
   "metadata": {},
   "outputs": [
    {
     "data": {
      "text/plain": [
       "отлично      30263\n",
       "хорошо        8772\n",
       "нормально     5059\n",
       "ужасно        4286\n",
       "плохо         2496\n",
       "Name: team_rating, dtype: int64"
      ]
     },
     "execution_count": 21,
     "metadata": {},
     "output_type": "execute_result"
    }
   ],
   "source": [
    "#проверим результат в train\n",
    "train_df['team_rating'].value_counts()"
   ]
  },
  {
   "cell_type": "code",
   "execution_count": 22,
   "id": "7ca070e1",
   "metadata": {},
   "outputs": [],
   "source": [
    "test_df.loc[(test_df['team_rating'] == 1), 'team_rating'] = \"ужасно\"\n",
    "test_df.loc[(test_df['team_rating'] == 2), 'team_rating'] = \"плохо\"\n",
    "test_df.loc[(test_df['team_rating'] == 3), 'team_rating'] = \"нормально\"\n",
    "test_df.loc[(test_df['team_rating'] == 4), 'team_rating'] = \"хорошо\"\n",
    "test_df.loc[(test_df['team_rating'] == 5), 'team_rating'] = \"отлично\""
   ]
  },
  {
   "cell_type": "code",
   "execution_count": 23,
   "id": "acaaec05",
   "metadata": {},
   "outputs": [
    {
     "data": {
      "text/plain": [
       "отлично      29775\n",
       "хорошо        8603\n",
       "нормально     5440\n",
       "ужасно        4282\n",
       "плохо         2551\n",
       "Name: team_rating, dtype: int64"
      ]
     },
     "execution_count": 23,
     "metadata": {},
     "output_type": "execute_result"
    }
   ],
   "source": [
    "#проверим результат в test\n",
    "test_df['team_rating'].value_counts()"
   ]
  },
  {
   "cell_type": "markdown",
   "id": "712d3818",
   "metadata": {},
   "source": [
    "**managment_rating**"
   ]
  },
  {
   "cell_type": "code",
   "execution_count": 24,
   "id": "3d2be90a",
   "metadata": {},
   "outputs": [],
   "source": [
    "train_df.loc[(train_df['managment_rating'] == 1), 'managment_rating'] = \"ужасно\"\n",
    "train_df.loc[(train_df['managment_rating'] == 2), 'managment_rating'] = \"плохо\"\n",
    "train_df.loc[(train_df['managment_rating'] == 3), 'managment_rating'] = \"нормально\"\n",
    "train_df.loc[(train_df['managment_rating'] == 4), 'managment_rating'] = \"хорошо\"\n",
    "train_df.loc[(train_df['managment_rating'] == 5), 'managment_rating'] = \"отлично\""
   ]
  },
  {
   "cell_type": "code",
   "execution_count": 25,
   "id": "80e602b6",
   "metadata": {},
   "outputs": [
    {
     "data": {
      "text/plain": [
       "отлично      21812\n",
       "ужасно       10706\n",
       "хорошо        8450\n",
       "нормально     5713\n",
       "плохо         4195\n",
       "Name: managment_rating, dtype: int64"
      ]
     },
     "execution_count": 25,
     "metadata": {},
     "output_type": "execute_result"
    }
   ],
   "source": [
    "#проверим результат в train\n",
    "train_df['managment_rating'].value_counts()"
   ]
  },
  {
   "cell_type": "code",
   "execution_count": 26,
   "id": "ed6c259c",
   "metadata": {},
   "outputs": [],
   "source": [
    "test_df.loc[(test_df['managment_rating'] == 1), 'managment_rating'] = \"ужасно\"\n",
    "test_df.loc[(test_df['managment_rating'] == 2), 'managment_rating'] = \"плохо\"\n",
    "test_df.loc[(test_df['managment_rating'] == 3), 'managment_rating'] = \"нормально\"\n",
    "test_df.loc[(test_df['managment_rating'] == 4), 'managment_rating'] = \"хорошо\"\n",
    "test_df.loc[(test_df['managment_rating'] == 5), 'managment_rating'] = \"отлично\""
   ]
  },
  {
   "cell_type": "code",
   "execution_count": 27,
   "id": "3b0528a8",
   "metadata": {},
   "outputs": [
    {
     "data": {
      "text/plain": [
       "отлично      20941\n",
       "ужасно       10647\n",
       "хорошо        8066\n",
       "нормально     6437\n",
       "плохо         4560\n",
       "Name: managment_rating, dtype: int64"
      ]
     },
     "execution_count": 27,
     "metadata": {},
     "output_type": "execute_result"
    }
   ],
   "source": [
    "#проверим результат в test\n",
    "test_df['managment_rating'].value_counts()"
   ]
  },
  {
   "cell_type": "markdown",
   "id": "84cd8459",
   "metadata": {},
   "source": [
    "**career_rating**"
   ]
  },
  {
   "cell_type": "code",
   "execution_count": 28,
   "id": "fccaa2c3",
   "metadata": {},
   "outputs": [],
   "source": [
    "train_df.loc[(train_df['career_rating'] == 1), 'career_rating'] = \"ужасно\"\n",
    "train_df.loc[(train_df['career_rating'] == 2), 'career_rating'] = \"плохо\"\n",
    "train_df.loc[(train_df['career_rating'] == 3), 'career_rating'] = \"нормально\"\n",
    "train_df.loc[(train_df['career_rating'] == 4), 'career_rating'] = \"хорошо\"\n",
    "train_df.loc[(train_df['career_rating'] == 5), 'career_rating'] = \"отлично\""
   ]
  },
  {
   "cell_type": "code",
   "execution_count": 29,
   "id": "944994fd",
   "metadata": {},
   "outputs": [
    {
     "data": {
      "text/plain": [
       "отлично      18833\n",
       "ужасно       10436\n",
       "хорошо        8409\n",
       "нормально     7754\n",
       "плохо         5444\n",
       "Name: career_rating, dtype: int64"
      ]
     },
     "execution_count": 29,
     "metadata": {},
     "output_type": "execute_result"
    }
   ],
   "source": [
    "#проверим результат в train\n",
    "train_df['career_rating'].value_counts()"
   ]
  },
  {
   "cell_type": "code",
   "execution_count": 30,
   "id": "33c21344",
   "metadata": {},
   "outputs": [],
   "source": [
    "test_df.loc[(test_df['career_rating'] == 1), 'career_rating'] = \"ужасно\"\n",
    "test_df.loc[(test_df['career_rating'] == 2), 'career_rating'] = \"плохо\"\n",
    "test_df.loc[(test_df['career_rating'] == 3), 'career_rating'] = \"нормально\"\n",
    "test_df.loc[(test_df['career_rating'] == 4), 'career_rating'] = \"хорошо\"\n",
    "test_df.loc[(test_df['career_rating'] == 5), 'career_rating'] = \"отлично\""
   ]
  },
  {
   "cell_type": "code",
   "execution_count": 31,
   "id": "1477e0a1",
   "metadata": {},
   "outputs": [
    {
     "data": {
      "text/plain": [
       "отлично      17576\n",
       "ужасно       10642\n",
       "нормально     8609\n",
       "хорошо        7950\n",
       "плохо         5874\n",
       "Name: career_rating, dtype: int64"
      ]
     },
     "execution_count": 31,
     "metadata": {},
     "output_type": "execute_result"
    }
   ],
   "source": [
    "#проверим результат в test\n",
    "test_df['career_rating'].value_counts()"
   ]
  },
  {
   "cell_type": "markdown",
   "id": "4c5b11b6",
   "metadata": {},
   "source": [
    "**workplace_rating**"
   ]
  },
  {
   "cell_type": "code",
   "execution_count": 32,
   "id": "f13185df",
   "metadata": {},
   "outputs": [],
   "source": [
    "train_df.loc[(train_df['workplace_rating'] == 1), 'workplace_rating'] = \"ужасно\"\n",
    "train_df.loc[(train_df['workplace_rating'] == 2), 'workplace_rating'] = \"плохо\"\n",
    "train_df.loc[(train_df['workplace_rating'] == 3), 'workplace_rating'] = \"нормально\"\n",
    "train_df.loc[(train_df['workplace_rating'] == 4), 'workplace_rating'] = \"хорошо\"\n",
    "train_df.loc[(train_df['workplace_rating'] == 5), 'workplace_rating'] = \"отлично\""
   ]
  },
  {
   "cell_type": "code",
   "execution_count": 33,
   "id": "dc43b9ce",
   "metadata": {},
   "outputs": [
    {
     "data": {
      "text/plain": [
       "отлично      23073\n",
       "хорошо        9537\n",
       "ужасно        7286\n",
       "нормально     6908\n",
       "плохо         4072\n",
       "Name: workplace_rating, dtype: int64"
      ]
     },
     "execution_count": 33,
     "metadata": {},
     "output_type": "execute_result"
    }
   ],
   "source": [
    "#проверим результат в train\n",
    "train_df['workplace_rating'].value_counts()"
   ]
  },
  {
   "cell_type": "code",
   "execution_count": 34,
   "id": "7e1a8f8a",
   "metadata": {},
   "outputs": [],
   "source": [
    "test_df.loc[(test_df['workplace_rating'] == 1), 'workplace_rating'] = \"ужасно\"\n",
    "test_df.loc[(test_df['workplace_rating'] == 2), 'workplace_rating'] = \"плохо\"\n",
    "test_df.loc[(test_df['workplace_rating'] == 3), 'workplace_rating'] = \"нормально\"\n",
    "test_df.loc[(test_df['workplace_rating'] == 4), 'workplace_rating'] = \"хорошо\"\n",
    "test_df.loc[(test_df['workplace_rating'] == 5), 'workplace_rating'] = \"отлично\""
   ]
  },
  {
   "cell_type": "code",
   "execution_count": 35,
   "id": "646766be",
   "metadata": {},
   "outputs": [
    {
     "data": {
      "text/plain": [
       "отлично      22568\n",
       "хорошо        9192\n",
       "нормально     7362\n",
       "ужасно        7300\n",
       "плохо         4229\n",
       "Name: workplace_rating, dtype: int64"
      ]
     },
     "execution_count": 35,
     "metadata": {},
     "output_type": "execute_result"
    }
   ],
   "source": [
    "#проверим результат в test\n",
    "test_df['workplace_rating'].value_counts()"
   ]
  },
  {
   "cell_type": "markdown",
   "id": "f1956505",
   "metadata": {},
   "source": [
    "**rest_recovery_rating**"
   ]
  },
  {
   "cell_type": "code",
   "execution_count": 36,
   "id": "f833c64e",
   "metadata": {},
   "outputs": [],
   "source": [
    "train_df.loc[(train_df['rest_recovery_rating'] == 1), 'rest_recovery_rating'] = \"ужасно\"\n",
    "train_df.loc[(train_df['rest_recovery_rating'] == 2), 'rest_recovery_rating'] = \"плохо\"\n",
    "train_df.loc[(train_df['rest_recovery_rating'] == 3), 'rest_recovery_rating'] = \"нормально\"\n",
    "train_df.loc[(train_df['rest_recovery_rating'] == 4), 'rest_recovery_rating'] = \"хорошо\"\n",
    "train_df.loc[(train_df['rest_recovery_rating'] == 5), 'rest_recovery_rating'] = \"отлично\""
   ]
  },
  {
   "cell_type": "code",
   "execution_count": 37,
   "id": "cd43b5d3",
   "metadata": {},
   "outputs": [
    {
     "data": {
      "text/plain": [
       "отлично      20305\n",
       "ужасно       11714\n",
       "хорошо        8243\n",
       "нормально     6037\n",
       "плохо         4577\n",
       "Name: rest_recovery_rating, dtype: int64"
      ]
     },
     "execution_count": 37,
     "metadata": {},
     "output_type": "execute_result"
    }
   ],
   "source": [
    "#проверим результат в train\n",
    "train_df['rest_recovery_rating'].value_counts()"
   ]
  },
  {
   "cell_type": "code",
   "execution_count": 38,
   "id": "cb974872",
   "metadata": {},
   "outputs": [],
   "source": [
    "test_df.loc[(test_df['rest_recovery_rating'] == 1), 'rest_recovery_rating'] = \"ужасно\"\n",
    "test_df.loc[(test_df['rest_recovery_rating'] == 2), 'rest_recovery_rating'] = \"плохо\"\n",
    "test_df.loc[(test_df['rest_recovery_rating'] == 3), 'rest_recovery_rating'] = \"нормально\"\n",
    "test_df.loc[(test_df['rest_recovery_rating'] == 4), 'rest_recovery_rating'] = \"хорошо\"\n",
    "test_df.loc[(test_df['rest_recovery_rating'] == 5), 'rest_recovery_rating'] = \"отлично\""
   ]
  },
  {
   "cell_type": "code",
   "execution_count": 39,
   "id": "61d4d3ce",
   "metadata": {},
   "outputs": [
    {
     "data": {
      "text/plain": [
       "отлично      18706\n",
       "ужасно       12137\n",
       "хорошо        7402\n",
       "нормально     7163\n",
       "плохо         5243\n",
       "Name: rest_recovery_rating, dtype: int64"
      ]
     },
     "execution_count": 39,
     "metadata": {},
     "output_type": "execute_result"
    }
   ],
   "source": [
    "#проверим результат в test\n",
    "test_df['rest_recovery_rating'].value_counts()"
   ]
  },
  {
   "cell_type": "markdown",
   "id": "e53c5347",
   "metadata": {},
   "source": [
    "# Обработка пропущенных значений"
   ]
  },
  {
   "cell_type": "code",
   "execution_count": 40,
   "id": "64dcd7ed",
   "metadata": {},
   "outputs": [
    {
     "data": {
      "text/plain": [
       "city        3351\n",
       "position    4658\n",
       "positive      39\n",
       "negative     137\n",
       "dtype: int64"
      ]
     },
     "execution_count": 40,
     "metadata": {},
     "output_type": "execute_result"
    }
   ],
   "source": [
    "#посмотрим на пропущенные значения\n",
    "train_df.isna().sum()[train_df.isna().sum() != 0]"
   ]
  },
  {
   "cell_type": "markdown",
   "id": "6b3ebeca",
   "metadata": {},
   "source": [
    "Пропущенне значения есть в четырех категориях (city, position, positive, negative)"
   ]
  },
  {
   "cell_type": "markdown",
   "id": "d32b2d38",
   "metadata": {},
   "source": [
    "**Обработка категории city**"
   ]
  },
  {
   "cell_type": "code",
   "execution_count": 41,
   "id": "5231e749",
   "metadata": {},
   "outputs": [
    {
     "name": "stdout",
     "output_type": "stream",
     "text": [
      "852 уникальных значений в train\n",
      "815 уникальных значений в train\n"
     ]
    }
   ],
   "source": [
    "#посмотрим на количество разных городов\n",
    "print(train_df['city'].nunique(), 'уникальных значений в train')\n",
    "print(test_df['city'].nunique(), 'уникальных значений в train')"
   ]
  },
  {
   "cell_type": "code",
   "execution_count": 42,
   "id": "c6654cdb",
   "metadata": {},
   "outputs": [],
   "source": [
    "#выведем список наиболее популярных городов\n",
    "#city_count = train_df['city'].value_counts().reset_index().rename(columns={'index': 'city', 'city':'citycount'})\n",
    "#city_count"
   ]
  },
  {
   "cell_type": "code",
   "execution_count": 43,
   "id": "2ce3b36d",
   "metadata": {},
   "outputs": [],
   "source": [
    "#посмотрим на города, где больше 200 отзывов\n",
    "#city_count.loc[city_count['citycount'] > 200, :]"
   ]
  },
  {
   "cell_type": "markdown",
   "id": "019fa718",
   "metadata": {},
   "source": [
    "Получилось 22 города с отзывами более 200"
   ]
  },
  {
   "cell_type": "code",
   "execution_count": 44,
   "id": "adf05875",
   "metadata": {},
   "outputs": [],
   "source": [
    "#внесём все популярные районы в список\n",
    "#city_popular = city_count.loc[city_count['citycount'] > 200, 'city'].tolist()\n",
    "#city_popular"
   ]
  },
  {
   "cell_type": "code",
   "execution_count": 45,
   "id": "a5fe5a08",
   "metadata": {},
   "outputs": [],
   "source": [
    "#произведём замену\n",
    "#city_count.loc[~city_count['city'].isin(city_popular), 'city'] = \"Другой\"\n",
    "#city_count = city_count.groupby('city')['citycount'].agg(citycount='median')\n",
    "#city_count.reset_index(level='city', inplace=True)"
   ]
  },
  {
   "cell_type": "code",
   "execution_count": 46,
   "id": "1f828daf",
   "metadata": {},
   "outputs": [],
   "source": [
    "#проверим результат\n",
    "#city_count"
   ]
  },
  {
   "cell_type": "code",
   "execution_count": 47,
   "id": "39b2b58c",
   "metadata": {},
   "outputs": [],
   "source": [
    "#заменим в train и test\n",
    "#train_df.loc[~train_df['city'].isin(city_popular), 'city'] = \"Другой\"\n",
    "#test_df.loc[~test_df['city'].isin(city_popular), 'city'] = \"Другой\""
   ]
  },
  {
   "cell_type": "code",
   "execution_count": 48,
   "id": "8b0a5610",
   "metadata": {},
   "outputs": [],
   "source": [
    "#проверим результат в test\n",
    "#test_df['city'].value_counts()"
   ]
  },
  {
   "cell_type": "code",
   "execution_count": 49,
   "id": "34dfb7c4",
   "metadata": {},
   "outputs": [],
   "source": [
    "#заменим пропущенные профессии пробелами\n",
    "train_df.loc[train_df['city'].isna(), 'city'] = \" \"\n",
    "test_df.loc[test_df['city'].isna(), 'city'] = \" \""
   ]
  },
  {
   "cell_type": "code",
   "execution_count": 50,
   "id": "48928bc8",
   "metadata": {},
   "outputs": [
    {
     "name": "stdout",
     "output_type": "stream",
     "text": [
      "853 уникальных значений в train\n",
      "816 уникальных значений в train\n"
     ]
    }
   ],
   "source": [
    "#посмотрим на количество разных позиций\n",
    "print(train_df['city'].nunique(), 'уникальных значений в train')\n",
    "print(test_df['city'].nunique(), 'уникальных значений в train')"
   ]
  },
  {
   "cell_type": "markdown",
   "id": "41f1cbc1",
   "metadata": {},
   "source": [
    "<span style=\"color:red\">Хороший признак, только около 25% городов входят в категорию Другой</span>"
   ]
  },
  {
   "cell_type": "markdown",
   "id": "4559c6a1",
   "metadata": {},
   "source": [
    "**Обработка категории position**"
   ]
  },
  {
   "cell_type": "code",
   "execution_count": 51,
   "id": "cf8cbfcb",
   "metadata": {},
   "outputs": [
    {
     "name": "stdout",
     "output_type": "stream",
     "text": [
      "12258 уникальных значений в train\n",
      "13274 уникальных значений в train\n"
     ]
    }
   ],
   "source": [
    "#посмотрим на количество разных позиций\n",
    "print(train_df['position'].nunique(), 'уникальных значений в train')\n",
    "print(test_df['position'].nunique(), 'уникальных значений в train')"
   ]
  },
  {
   "cell_type": "code",
   "execution_count": 52,
   "id": "2f80415b",
   "metadata": {},
   "outputs": [],
   "source": [
    "#выведем список наиболее популярных позиций\n",
    "#position_count = train_df['position'].value_counts().reset_index().rename(columns={'index': 'position', 'position':'positioncount'})\n",
    "#position_count"
   ]
  },
  {
   "cell_type": "code",
   "execution_count": 53,
   "id": "d4a12317",
   "metadata": {},
   "outputs": [],
   "source": [
    "#посмотрим на позиции, где больше 300 отзывов\n",
    "#position_count.loc[position_count['positioncount'] > 200, :]"
   ]
  },
  {
   "cell_type": "markdown",
   "id": "1d2f0877",
   "metadata": {},
   "source": [
    "Получилось 27 профессий с отзывами более 200"
   ]
  },
  {
   "cell_type": "code",
   "execution_count": 54,
   "id": "21b4f88d",
   "metadata": {},
   "outputs": [],
   "source": [
    "#внесём все популярные позиции в список\n",
    "#position_popular = position_count.loc[position_count['positioncount'] > 200, 'position'].tolist()\n",
    "#position_popular"
   ]
  },
  {
   "cell_type": "code",
   "execution_count": 55,
   "id": "2a40681d",
   "metadata": {},
   "outputs": [],
   "source": [
    "#произведём замену\n",
    "#position_count.loc[~position_count['position'].isin(position_popular), 'position'] = \"Другой\"\n",
    "#position_count = position_count.groupby('position')['positioncount'].agg(positioncount='median')\n",
    "#position_count.reset_index(level='position', inplace=True)"
   ]
  },
  {
   "cell_type": "code",
   "execution_count": 56,
   "id": "0141bca7",
   "metadata": {},
   "outputs": [],
   "source": [
    "#проверим результат\n",
    "#position_count"
   ]
  },
  {
   "cell_type": "code",
   "execution_count": 57,
   "id": "3e91cbf3",
   "metadata": {},
   "outputs": [],
   "source": [
    "#заменим в train и test\n",
    "#train_df.loc[~train_df['position'].isin(position_popular), 'position'] = \"Другая\"\n",
    "#test_df.loc[~test_df['position'].isin(position_popular), 'position'] = \"Другая\""
   ]
  },
  {
   "cell_type": "code",
   "execution_count": 58,
   "id": "c803ff2a",
   "metadata": {},
   "outputs": [],
   "source": [
    "#проверим результат в test\n",
    "#test_df['position'].value_counts()"
   ]
  },
  {
   "cell_type": "code",
   "execution_count": 59,
   "id": "f1cbd278",
   "metadata": {},
   "outputs": [],
   "source": [
    "#заменим пропущенные профессии пробелами\n",
    "train_df.loc[train_df['position'].isna(), 'position'] = \" \"\n",
    "test_df.loc[test_df['position'].isna(), 'position'] = \" \""
   ]
  },
  {
   "cell_type": "code",
   "execution_count": 60,
   "id": "9f25c781",
   "metadata": {},
   "outputs": [
    {
     "name": "stdout",
     "output_type": "stream",
     "text": [
      "12259 уникальных значений в train\n",
      "13275 уникальных значений в train\n"
     ]
    }
   ],
   "source": [
    "#посмотрим на количество разных позиций\n",
    "print(train_df['position'].nunique(), 'уникальных значений в train')\n",
    "print(test_df['position'].nunique(), 'уникальных значений в train')"
   ]
  },
  {
   "cell_type": "markdown",
   "id": "664e04b0",
   "metadata": {},
   "source": [
    "<span style=\"color:red\">В отличие от списка городов, где всего 25% городов входят в категорию Другой, в списке профессий почти 80% профессий не входят в список популярных. Скорее всего признак придётся удалить</span>"
   ]
  },
  {
   "cell_type": "markdown",
   "id": "f7a2082b",
   "metadata": {},
   "source": [
    "**Обработка категории positive**"
   ]
  },
  {
   "cell_type": "code",
   "execution_count": 61,
   "id": "d540652f",
   "metadata": {},
   "outputs": [
    {
     "data": {
      "text/html": [
       "<div>\n",
       "<style scoped>\n",
       "    .dataframe tbody tr th:only-of-type {\n",
       "        vertical-align: middle;\n",
       "    }\n",
       "\n",
       "    .dataframe tbody tr th {\n",
       "        vertical-align: top;\n",
       "    }\n",
       "\n",
       "    .dataframe thead th {\n",
       "        text-align: right;\n",
       "    }\n",
       "</style>\n",
       "<table border=\"1\" class=\"dataframe\">\n",
       "  <thead>\n",
       "    <tr style=\"text-align: right;\">\n",
       "      <th></th>\n",
       "      <th>city</th>\n",
       "      <th>position</th>\n",
       "      <th>positive</th>\n",
       "      <th>negative</th>\n",
       "      <th>salary_rating</th>\n",
       "      <th>team_rating</th>\n",
       "      <th>managment_rating</th>\n",
       "      <th>career_rating</th>\n",
       "      <th>workplace_rating</th>\n",
       "      <th>rest_recovery_rating</th>\n",
       "      <th>target</th>\n",
       "    </tr>\n",
       "    <tr>\n",
       "      <th>review_id</th>\n",
       "      <th></th>\n",
       "      <th></th>\n",
       "      <th></th>\n",
       "      <th></th>\n",
       "      <th></th>\n",
       "      <th></th>\n",
       "      <th></th>\n",
       "      <th></th>\n",
       "      <th></th>\n",
       "      <th></th>\n",
       "      <th></th>\n",
       "    </tr>\n",
       "  </thead>\n",
       "  <tbody>\n",
       "    <tr>\n",
       "      <th>18733</th>\n",
       "      <td>Истра</td>\n",
       "      <td>Кассир-консультант</td>\n",
       "      <td>NaN</td>\n",
       "      <td>NaN</td>\n",
       "      <td>хорошо</td>\n",
       "      <td>отлично</td>\n",
       "      <td>нормально</td>\n",
       "      <td>нормально</td>\n",
       "      <td>нормально</td>\n",
       "      <td>хорошо</td>\n",
       "      <td>8</td>\n",
       "    </tr>\n",
       "    <tr>\n",
       "      <th>32105</th>\n",
       "      <td>Москва</td>\n",
       "      <td>Водитель-экспедитор</td>\n",
       "      <td>NaN</td>\n",
       "      <td>NaN</td>\n",
       "      <td>ужасно</td>\n",
       "      <td>нормально</td>\n",
       "      <td>ужасно</td>\n",
       "      <td>ужасно</td>\n",
       "      <td>ужасно</td>\n",
       "      <td>ужасно</td>\n",
       "      <td>8</td>\n",
       "    </tr>\n",
       "    <tr>\n",
       "      <th>37600</th>\n",
       "      <td>Екатеринбург</td>\n",
       "      <td>Кладовщик</td>\n",
       "      <td>NaN</td>\n",
       "      <td>NaN</td>\n",
       "      <td>плохо</td>\n",
       "      <td>нормально</td>\n",
       "      <td>ужасно</td>\n",
       "      <td>ужасно</td>\n",
       "      <td>ужасно</td>\n",
       "      <td>ужасно</td>\n",
       "      <td>8</td>\n",
       "    </tr>\n",
       "    <tr>\n",
       "      <th>37689</th>\n",
       "      <td>Белгород</td>\n",
       "      <td>Кладовщик</td>\n",
       "      <td>NaN</td>\n",
       "      <td>NaN</td>\n",
       "      <td>ужасно</td>\n",
       "      <td>отлично</td>\n",
       "      <td>ужасно</td>\n",
       "      <td>плохо</td>\n",
       "      <td>ужасно</td>\n",
       "      <td>хорошо</td>\n",
       "      <td>8</td>\n",
       "    </tr>\n",
       "    <tr>\n",
       "      <th>39717</th>\n",
       "      <td>Москва</td>\n",
       "      <td></td>\n",
       "      <td>NaN</td>\n",
       "      <td>NaN</td>\n",
       "      <td>ужасно</td>\n",
       "      <td>ужасно</td>\n",
       "      <td>ужасно</td>\n",
       "      <td>ужасно</td>\n",
       "      <td>ужасно</td>\n",
       "      <td>ужасно</td>\n",
       "      <td>8</td>\n",
       "    </tr>\n",
       "  </tbody>\n",
       "</table>\n",
       "</div>"
      ],
      "text/plain": [
       "                   city             position positive negative salary_rating  \\\n",
       "review_id                                                                      \n",
       "18733             Истра   Кассир-консультант      NaN      NaN        хорошо   \n",
       "32105            Москва  Водитель-экспедитор      NaN      NaN        ужасно   \n",
       "37600      Екатеринбург            Кладовщик      NaN      NaN         плохо   \n",
       "37689          Белгород            Кладовщик      NaN      NaN        ужасно   \n",
       "39717            Москва                           NaN      NaN        ужасно   \n",
       "\n",
       "          team_rating managment_rating career_rating workplace_rating  \\\n",
       "review_id                                                               \n",
       "18733         отлично        нормально     нормально        нормально   \n",
       "32105       нормально           ужасно        ужасно           ужасно   \n",
       "37600       нормально           ужасно        ужасно           ужасно   \n",
       "37689         отлично           ужасно         плохо           ужасно   \n",
       "39717          ужасно           ужасно        ужасно           ужасно   \n",
       "\n",
       "          rest_recovery_rating target  \n",
       "review_id                              \n",
       "18733                   хорошо      8  \n",
       "32105                   ужасно      8  \n",
       "37600                   ужасно      8  \n",
       "37689                   хорошо      8  \n",
       "39717                   ужасно      8  "
      ]
     },
     "execution_count": 61,
     "metadata": {},
     "output_type": "execute_result"
    }
   ],
   "source": [
    "#посмотрим повлияло ли отсутсвие положительного части отзыва на модерацию отзыва\n",
    "bool_series_positive = pd.isnull(train_df[\"positive\"])\n",
    "train_df[bool_series_positive].head()"
   ]
  },
  {
   "cell_type": "code",
   "execution_count": 62,
   "id": "63c7e67c",
   "metadata": {},
   "outputs": [],
   "source": [
    "#заменим пропущенные отзывы пробелами\n",
    "train_df.loc[train_df['positive'].isna(), 'positive'] = \" \"\n",
    "test_df.loc[test_df['positive'].isna(), 'positive'] = \" \""
   ]
  },
  {
   "cell_type": "markdown",
   "id": "493d50dc",
   "metadata": {},
   "source": [
    "<span style=\"color:red\">В 100% случаев отсутсвие положительной части отзыва приводит к отсутствии и негативного отзыва и причине отказа номер 8</span>"
   ]
  },
  {
   "cell_type": "markdown",
   "id": "e9638193",
   "metadata": {},
   "source": [
    "**Обработка категории negative**"
   ]
  },
  {
   "cell_type": "code",
   "execution_count": 63,
   "id": "8528cfe1",
   "metadata": {},
   "outputs": [
    {
     "data": {
      "text/html": [
       "<div>\n",
       "<style scoped>\n",
       "    .dataframe tbody tr th:only-of-type {\n",
       "        vertical-align: middle;\n",
       "    }\n",
       "\n",
       "    .dataframe tbody tr th {\n",
       "        vertical-align: top;\n",
       "    }\n",
       "\n",
       "    .dataframe thead th {\n",
       "        text-align: right;\n",
       "    }\n",
       "</style>\n",
       "<table border=\"1\" class=\"dataframe\">\n",
       "  <thead>\n",
       "    <tr style=\"text-align: right;\">\n",
       "      <th></th>\n",
       "      <th>city</th>\n",
       "      <th>position</th>\n",
       "      <th>positive</th>\n",
       "      <th>negative</th>\n",
       "      <th>salary_rating</th>\n",
       "      <th>team_rating</th>\n",
       "      <th>managment_rating</th>\n",
       "      <th>career_rating</th>\n",
       "      <th>workplace_rating</th>\n",
       "      <th>rest_recovery_rating</th>\n",
       "      <th>target</th>\n",
       "    </tr>\n",
       "    <tr>\n",
       "      <th>review_id</th>\n",
       "      <th></th>\n",
       "      <th></th>\n",
       "      <th></th>\n",
       "      <th></th>\n",
       "      <th></th>\n",
       "      <th></th>\n",
       "      <th></th>\n",
       "      <th></th>\n",
       "      <th></th>\n",
       "      <th></th>\n",
       "      <th></th>\n",
       "    </tr>\n",
       "  </thead>\n",
       "  <tbody>\n",
       "    <tr>\n",
       "      <th>3047</th>\n",
       "      <td></td>\n",
       "      <td>Продавец</td>\n",
       "      <td>Почитать отзывы, так одни абсолютно за, а другие категорически против. Люди! Вы о чем? Если поставили цель - работайте. В каждом коллективе есть разные сотрудники. Но если относиться по человечески, и с вами будут нормально работать. Остается только выполнять свою работу и зарабатывать деньги.</td>\n",
       "      <td>NaN</td>\n",
       "      <td>отлично</td>\n",
       "      <td>отлично</td>\n",
       "      <td>хорошо</td>\n",
       "      <td>хорошо</td>\n",
       "      <td>отлично</td>\n",
       "      <td>отлично</td>\n",
       "      <td>0</td>\n",
       "    </tr>\n",
       "    <tr>\n",
       "      <th>8042</th>\n",
       "      <td>Москва</td>\n",
       "      <td></td>\n",
       "      <td>Работа не сложная и довольно интересная. Директора компитентные и если что всегда готовы помочь. З/п и премии тоже приятные. Сама работаю уже 3-ий год и все устраивает.</td>\n",
       "      <td>NaN</td>\n",
       "      <td>отлично</td>\n",
       "      <td>отлично</td>\n",
       "      <td>отлично</td>\n",
       "      <td>отлично</td>\n",
       "      <td>отлично</td>\n",
       "      <td>отлично</td>\n",
       "      <td>0</td>\n",
       "    </tr>\n",
       "    <tr>\n",
       "      <th>8333</th>\n",
       "      <td>Воронеж</td>\n",
       "      <td></td>\n",
       "      <td>Ребята, в ****** нормально к людям относятся. Компенсируют расходы на ГСМ, амортизацию авто, проживание, суточные когда в командировку ездишь. А они очень часто бывают. Раньше работал в другой компании тоже региональным менеджером и тоже были командировки, так там все за счет процентов от продаж было. Никто  ничего не оплачивал.</td>\n",
       "      <td>NaN</td>\n",
       "      <td>отлично</td>\n",
       "      <td>отлично</td>\n",
       "      <td>отлично</td>\n",
       "      <td>отлично</td>\n",
       "      <td>отлично</td>\n",
       "      <td>отлично</td>\n",
       "      <td>0</td>\n",
       "    </tr>\n",
       "    <tr>\n",
       "      <th>9985</th>\n",
       "      <td>Москва</td>\n",
       "      <td></td>\n",
       "      <td>Когда-то еще студентом работал тут. Тогда мне казалось эта работа вполне приемлемой. Удобный график, возможность заработать неплохие деньги. Тогда был молодой коллектив. Мы часто соревновались с друг другом, кто быстрее добьется поставленных результатов. Это подстегивало))</td>\n",
       "      <td>NaN</td>\n",
       "      <td>отлично</td>\n",
       "      <td>отлично</td>\n",
       "      <td>отлично</td>\n",
       "      <td>отлично</td>\n",
       "      <td>отлично</td>\n",
       "      <td>отлично</td>\n",
       "      <td>0</td>\n",
       "    </tr>\n",
       "    <tr>\n",
       "      <th>12624</th>\n",
       "      <td>Москва</td>\n",
       "      <td></td>\n",
       "      <td>В компании есть возможность самостоятельно влиять на свою заработную плату, Тут  я получаю ценный опыт, который в дальнейшем очень пригодится, и прошу заметить, не только со стороны профессиональных качеств, но и личностных. Увольняться еще не собираюсь.</td>\n",
       "      <td>NaN</td>\n",
       "      <td>отлично</td>\n",
       "      <td>отлично</td>\n",
       "      <td>хорошо</td>\n",
       "      <td>отлично</td>\n",
       "      <td>хорошо</td>\n",
       "      <td>отлично</td>\n",
       "      <td>0</td>\n",
       "    </tr>\n",
       "  </tbody>\n",
       "</table>\n",
       "</div>"
      ],
      "text/plain": [
       "              city  position  \\\n",
       "review_id                      \n",
       "3047                Продавец   \n",
       "8042        Москва             \n",
       "8333       Воронеж             \n",
       "9985        Москва             \n",
       "12624       Москва             \n",
       "\n",
       "                                                                                                                                                                                                                                                                                                                                             positive  \\\n",
       "review_id                                                                                                                                                                                                                                                                                                                                               \n",
       "3047                                           Почитать отзывы, так одни абсолютно за, а другие категорически против. Люди! Вы о чем? Если поставили цель - работайте. В каждом коллективе есть разные сотрудники. Но если относиться по человечески, и с вами будут нормально работать. Остается только выполнять свою работу и зарабатывать деньги.   \n",
       "8042                                                                                                                                                                         Работа не сложная и довольно интересная. Директора компитентные и если что всегда готовы помочь. З/п и премии тоже приятные. Сама работаю уже 3-ий год и все устраивает.   \n",
       "8333       Ребята, в ****** нормально к людям относятся. Компенсируют расходы на ГСМ, амортизацию авто, проживание, суточные когда в командировку ездишь. А они очень часто бывают. Раньше работал в другой компании тоже региональным менеджером и тоже были командировки, так там все за счет процентов от продаж было. Никто  ничего не оплачивал.   \n",
       "9985                                                                Когда-то еще студентом работал тут. Тогда мне казалось эта работа вполне приемлемой. Удобный график, возможность заработать неплохие деньги. Тогда был молодой коллектив. Мы часто соревновались с друг другом, кто быстрее добьется поставленных результатов. Это подстегивало))   \n",
       "12624                                                                                  В компании есть возможность самостоятельно влиять на свою заработную плату, Тут  я получаю ценный опыт, который в дальнейшем очень пригодится, и прошу заметить, не только со стороны профессиональных качеств, но и личностных. Увольняться еще не собираюсь.   \n",
       "\n",
       "          negative salary_rating team_rating managment_rating career_rating  \\\n",
       "review_id                                                                     \n",
       "3047           NaN       отлично     отлично           хорошо        хорошо   \n",
       "8042           NaN       отлично     отлично          отлично       отлично   \n",
       "8333           NaN       отлично     отлично          отлично       отлично   \n",
       "9985           NaN       отлично     отлично          отлично       отлично   \n",
       "12624          NaN       отлично     отлично           хорошо       отлично   \n",
       "\n",
       "          workplace_rating rest_recovery_rating target  \n",
       "review_id                                               \n",
       "3047               отлично              отлично      0  \n",
       "8042               отлично              отлично      0  \n",
       "8333               отлично              отлично      0  \n",
       "9985               отлично              отлично      0  \n",
       "12624               хорошо              отлично      0  "
      ]
     },
     "execution_count": 63,
     "metadata": {},
     "output_type": "execute_result"
    }
   ],
   "source": [
    "#посмотрим повлияло ли отсутсвие негативной части отзыва на модерацию отзыва\n",
    "bool_series_negative = pd.isnull(train_df['negative'])\n",
    "train_df[bool_series_negative].head()"
   ]
  },
  {
   "cell_type": "code",
   "execution_count": 64,
   "id": "59d23f16",
   "metadata": {},
   "outputs": [],
   "source": [
    "#заменим пропущенные отзывы пробелами\n",
    "train_df.loc[train_df['negative'].isna(), 'negative'] = \" \"\n",
    "test_df.loc[test_df['negative'].isna(), 'negative'] = \" \""
   ]
  },
  {
   "cell_type": "markdown",
   "id": "5815bdff",
   "metadata": {},
   "source": [
    "<span style=\"color:red\">Отсутствие негативной части отзыва не приводит автоматически к причине 8, и оценка происходит на основе данных положительной части</span>"
   ]
  },
  {
   "cell_type": "code",
   "execution_count": 65,
   "id": "284d44df",
   "metadata": {},
   "outputs": [
    {
     "data": {
      "text/plain": [
       "Series([], dtype: int64)"
      ]
     },
     "execution_count": 65,
     "metadata": {},
     "output_type": "execute_result"
    }
   ],
   "source": [
    "#посмотрим на пропущенные значения\n",
    "train_df.isna().sum()[train_df.isna().sum() != 0]\n",
    "test_df.isna().sum()[test_df.isna().sum() != 0]"
   ]
  },
  {
   "cell_type": "markdown",
   "id": "59b01028",
   "metadata": {},
   "source": [
    "<span style=\"color:red\">Все пропущенные значения обработаны</span>"
   ]
  },
  {
   "cell_type": "markdown",
   "id": "9a019cc7",
   "metadata": {},
   "source": [
    "# Для лучшего понимания попробуем установить, что значат цифры в причинах отказа"
   ]
  },
  {
   "cell_type": "code",
   "execution_count": 66,
   "id": "c98ebaa8",
   "metadata": {},
   "outputs": [],
   "source": [
    "#выведем 5 отзывов с причиной отказа 1\n",
    "#train_df[train_df['target'] == '1'].head()"
   ]
  },
  {
   "cell_type": "markdown",
   "id": "f739a542",
   "metadata": {},
   "source": [
    "Причина номер 1 похоже соответствует причине **\"Оскорбительные слова\"**"
   ]
  },
  {
   "cell_type": "code",
   "execution_count": 67,
   "id": "d8f74a6d",
   "metadata": {},
   "outputs": [],
   "source": [
    "#выведем 5 отзывов с причиной отказа 2\n",
    "#train_df[train_df['target'] == '2'].head()"
   ]
  },
  {
   "cell_type": "markdown",
   "id": "ac584349",
   "metadata": {},
   "source": [
    "Причина номер 2 похоже соответствует причине **\"Излишние размышления\"**"
   ]
  },
  {
   "cell_type": "code",
   "execution_count": 68,
   "id": "9f7e2549",
   "metadata": {},
   "outputs": [],
   "source": [
    "#выведем 5 отзывов с причиной отказа 3\n",
    "#train_df[train_df['target'] == '3'].head()"
   ]
  },
  {
   "cell_type": "markdown",
   "id": "c7b8eb87",
   "metadata": {},
   "source": [
    "Причина номер 3 похоже соответствует причине **\"Полнейшая белиберда\"**"
   ]
  },
  {
   "cell_type": "code",
   "execution_count": 69,
   "id": "01ff442f",
   "metadata": {},
   "outputs": [],
   "source": [
    "#выведем 5 отзывов с причиной отказа 4\n",
    "#train_df[train_df['target'] == '4'].head()"
   ]
  },
  {
   "cell_type": "markdown",
   "id": "b735b26d",
   "metadata": {},
   "source": [
    "Причина номер 4 похоже соответствует причине **\"Наличие расистских высказываний\"**"
   ]
  },
  {
   "cell_type": "code",
   "execution_count": 70,
   "id": "60cb35fe",
   "metadata": {},
   "outputs": [],
   "source": [
    "#выведем 5 отзывов с причиной отказа 5\n",
    "#train_df[train_df['target'] == '5'].head()"
   ]
  },
  {
   "cell_type": "markdown",
   "id": "750b8961",
   "metadata": {},
   "source": [
    "Причина номер 5 похоже соответствует причине **\"Упоминание имен\"**"
   ]
  },
  {
   "cell_type": "code",
   "execution_count": 71,
   "id": "08abc7e1",
   "metadata": {},
   "outputs": [],
   "source": [
    "#выведем 5 отзывов с причиной отказа 6\n",
    "#train_df[train_df['target'] == '6'].head()"
   ]
  },
  {
   "cell_type": "markdown",
   "id": "731c3663",
   "metadata": {},
   "source": [
    "Причина номер 6 похоже соответствует причине **\"Упоминание зарплаты\"**"
   ]
  },
  {
   "cell_type": "code",
   "execution_count": 72,
   "id": "1976d3c4",
   "metadata": {},
   "outputs": [],
   "source": [
    "#выведем 5 отзывов с причиной отказа 7\n",
    "#train_df[train_df['target'] == '7'].sample(n = 5, random_state = 5)"
   ]
  },
  {
   "cell_type": "markdown",
   "id": "daf3abf4",
   "metadata": {},
   "source": [
    "Причина номер 7 похоже соответствует причине **\"Непрошенные советы\"**"
   ]
  },
  {
   "cell_type": "code",
   "execution_count": 73,
   "id": "56091c72",
   "metadata": {},
   "outputs": [],
   "source": [
    "#выведем 5 отзывов с причиной отказа 8\n",
    "#train_df[train_df['target'] == '8'].head()"
   ]
  },
  {
   "cell_type": "markdown",
   "id": "1e2ef676",
   "metadata": {},
   "source": [
    "Причина номер 8 похоже соответствует причине **\"Отсутствие смысла\"**"
   ]
  },
  {
   "cell_type": "markdown",
   "id": "7ea6d85d",
   "metadata": {},
   "source": [
    "Весь список причин отказов:  \n",
    "**1) Оскорбительные слова**  \n",
    "**2) Излишние размышления**  \n",
    "**3) Полнейшая белиберда**  \n",
    "**4) Наличие расистских высказываний**  \n",
    "**5) Упоминание имен**  \n",
    "**6) Упоминание зарплаты**  \n",
    "**7) Непрошенные советы**  \n",
    "**8) Отсутствие смысла**"
   ]
  },
  {
   "cell_type": "markdown",
   "id": "2b004ea4",
   "metadata": {},
   "source": [
    "# Для упрощения задачи для начала построим модель, определяющую бинарную классификацию отзыва (прошел/отказ) без указания конкретных причин"
   ]
  },
  {
   "cell_type": "markdown",
   "id": "d90ea4da",
   "metadata": {},
   "source": [
    "Для этого во-первых преобразуем данные по отзывам в 0 (отзыв прошел) и 1 (отзыв не прошел модерацию по одной из 8 причин)"
   ]
  },
  {
   "cell_type": "code",
   "execution_count": 74,
   "id": "bc358ab6",
   "metadata": {},
   "outputs": [],
   "source": [
    "#скопируем столбец target\n",
    "train_df['target_review'] = train_df['target']"
   ]
  },
  {
   "cell_type": "code",
   "execution_count": 75,
   "id": "3f67aa8c",
   "metadata": {},
   "outputs": [
    {
     "data": {
      "text/html": [
       "<div>\n",
       "<style scoped>\n",
       "    .dataframe tbody tr th:only-of-type {\n",
       "        vertical-align: middle;\n",
       "    }\n",
       "\n",
       "    .dataframe tbody tr th {\n",
       "        vertical-align: top;\n",
       "    }\n",
       "\n",
       "    .dataframe thead th {\n",
       "        text-align: right;\n",
       "    }\n",
       "</style>\n",
       "<table border=\"1\" class=\"dataframe\">\n",
       "  <thead>\n",
       "    <tr style=\"text-align: right;\">\n",
       "      <th></th>\n",
       "      <th>city</th>\n",
       "      <th>position</th>\n",
       "      <th>positive</th>\n",
       "      <th>negative</th>\n",
       "      <th>salary_rating</th>\n",
       "      <th>team_rating</th>\n",
       "      <th>managment_rating</th>\n",
       "      <th>career_rating</th>\n",
       "      <th>workplace_rating</th>\n",
       "      <th>rest_recovery_rating</th>\n",
       "      <th>target</th>\n",
       "      <th>target_review</th>\n",
       "    </tr>\n",
       "    <tr>\n",
       "      <th>review_id</th>\n",
       "      <th></th>\n",
       "      <th></th>\n",
       "      <th></th>\n",
       "      <th></th>\n",
       "      <th></th>\n",
       "      <th></th>\n",
       "      <th></th>\n",
       "      <th></th>\n",
       "      <th></th>\n",
       "      <th></th>\n",
       "      <th></th>\n",
       "      <th></th>\n",
       "    </tr>\n",
       "  </thead>\n",
       "  <tbody>\n",
       "    <tr>\n",
       "      <th>0</th>\n",
       "      <td>Ижевск</td>\n",
       "      <td>Кладовщик</td>\n",
       "      <td>Недавно устроился в ****** на должность кладовщика. Коллектив дружный и приветливый к новичкам - во всем помогают и поддерживают. Зарплата вся белая и без задержек, что сейчас редкость. Всем доволен и рекомендую данного работодателя.</td>\n",
       "      <td>Повысить з/п</td>\n",
       "      <td>отлично</td>\n",
       "      <td>хорошо</td>\n",
       "      <td>нормально</td>\n",
       "      <td>нормально</td>\n",
       "      <td>хорошо</td>\n",
       "      <td>хорошо</td>\n",
       "      <td>0</td>\n",
       "      <td>0</td>\n",
       "    </tr>\n",
       "  </tbody>\n",
       "</table>\n",
       "</div>"
      ],
      "text/plain": [
       "             city   position  \\\n",
       "review_id                      \n",
       "0          Ижевск  Кладовщик   \n",
       "\n",
       "                                                                                                                                                                                                                                            positive  \\\n",
       "review_id                                                                                                                                                                                                                                              \n",
       "0          Недавно устроился в ****** на должность кладовщика. Коллектив дружный и приветливый к новичкам - во всем помогают и поддерживают. Зарплата вся белая и без задержек, что сейчас редкость. Всем доволен и рекомендую данного работодателя.   \n",
       "\n",
       "               negative salary_rating team_rating managment_rating  \\\n",
       "review_id                                                            \n",
       "0          Повысить з/п       отлично      хорошо        нормально   \n",
       "\n",
       "          career_rating workplace_rating rest_recovery_rating target  \\\n",
       "review_id                                                              \n",
       "0             нормально           хорошо               хорошо      0   \n",
       "\n",
       "          target_review  \n",
       "review_id                \n",
       "0                     0  "
      ]
     },
     "execution_count": 75,
     "metadata": {},
     "output_type": "execute_result"
    }
   ],
   "source": [
    "#проверим создание\n",
    "train_df.head(1)"
   ]
  },
  {
   "cell_type": "code",
   "execution_count": 76,
   "id": "5b4699cb",
   "metadata": {},
   "outputs": [],
   "source": [
    "#заменим все значения причин 1 - 8 на 1\n",
    "train_df.loc[(train_df['target_review'] != \"0\"), 'target_review'] = 1\n",
    "train_df.loc[(train_df['target_review'] != 1), 'target_review'] = 0"
   ]
  },
  {
   "cell_type": "code",
   "execution_count": 77,
   "id": "9e326116",
   "metadata": {},
   "outputs": [
    {
     "data": {
      "text/plain": [
       "1    29873\n",
       "0    21003\n",
       "Name: target_review, dtype: int64"
      ]
     },
     "execution_count": 77,
     "metadata": {},
     "output_type": "execute_result"
    }
   ],
   "source": [
    "#проверим результат\n",
    "train_df['target_review'].value_counts()"
   ]
  },
  {
   "cell_type": "code",
   "execution_count": 78,
   "id": "4d31452a",
   "metadata": {},
   "outputs": [
    {
     "data": {
      "text/plain": [
       "city                    object\n",
       "position                object\n",
       "positive                object\n",
       "negative                object\n",
       "salary_rating           object\n",
       "team_rating             object\n",
       "managment_rating        object\n",
       "career_rating           object\n",
       "workplace_rating        object\n",
       "rest_recovery_rating    object\n",
       "target                  object\n",
       "target_review           object\n",
       "dtype: object"
      ]
     },
     "execution_count": 78,
     "metadata": {},
     "output_type": "execute_result"
    }
   ],
   "source": [
    "train_df.dtypes"
   ]
  },
  {
   "cell_type": "code",
   "execution_count": 79,
   "id": "8f84dd1f",
   "metadata": {},
   "outputs": [
    {
     "name": "stdout",
     "output_type": "stream",
     "text": [
      "1    29873\n",
      "0    21003\n",
      "Name: target_review, dtype: int64\n"
     ]
    },
    {
     "data": {
      "image/png": "[encoded data removed]",
      "text/plain": [
       "<Figure size 432x288 with 1 Axes>"
      ]
     },
     "metadata": {},
     "output_type": "display_data"
    }
   ],
   "source": [
    "#построим график распределения целевой переменной target_review\n",
    "print(train_df['target_review'].value_counts())\n",
    "train_df['target_review'].value_counts().plot.bar(edgecolor='black', rot=0, width=1, color=['lightblue', 'pink']);"
   ]
  },
  {
   "cell_type": "markdown",
   "id": "3a7441b5",
   "metadata": {},
   "source": [
    "Классы получились сбалансированными"
   ]
  },
  {
   "cell_type": "markdown",
   "id": "940d4c1e",
   "metadata": {},
   "source": [
    "# Начнём обработку текстового отзыва"
   ]
  },
  {
   "cell_type": "code",
   "execution_count": 80,
   "id": "58eaea01",
   "metadata": {},
   "outputs": [],
   "source": [
    "#объединим части негативного и позитивного отзывов, также добавим city, position и рейтинги\n",
    "train_df['review_union'] = train_df['city'] + \" \" + train_df['position'] + \" \" + train_df['positive'] + \" \" + train_df['negative'] + \" \" + train_df['salary_rating'] + \" \" + train_df['team_rating'] + \" \" + train_df['managment_rating'] + \" \" + train_df['career_rating'] + \" \" + train_df['workplace_rating'] + \" \" + train_df['rest_recovery_rating']\n",
    "test_df['review_union'] = test_df['city'] + \" \" + test_df['position'] + \" \" +test_df['positive'] + \" \" + test_df['negative']+ \" \" + test_df['salary_rating'] + \" \" + test_df['team_rating'] + \" \" + test_df['managment_rating'] + \" \" + test_df['career_rating'] + \" \" + test_df['workplace_rating'] + \" \" + test_df['rest_recovery_rating']"
   ]
  },
  {
   "cell_type": "code",
   "execution_count": 81,
   "id": "42640fe7",
   "metadata": {},
   "outputs": [],
   "source": [
    "train_df['target_review'] = train_df['target_review'].apply(int)"
   ]
  },
  {
   "cell_type": "code",
   "execution_count": 82,
   "id": "b5b82e48",
   "metadata": {},
   "outputs": [
    {
     "data": {
      "text/plain": [
       "1    29873\n",
       "0    21003\n",
       "Name: target_review, dtype: int64"
      ]
     },
     "execution_count": 82,
     "metadata": {},
     "output_type": "execute_result"
    }
   ],
   "source": [
    "train_df['target_review'].value_counts()"
   ]
  },
  {
   "cell_type": "code",
   "execution_count": 83,
   "id": "39c989f7",
   "metadata": {},
   "outputs": [],
   "source": [
    "#разобьёем train_df на train и test\n",
    "train_df_split, test_df_split = train_test_split(train_df, test_size=2000, random_state=0)"
   ]
  },
  {
   "cell_type": "code",
   "execution_count": 84,
   "id": "b09f2b62",
   "metadata": {},
   "outputs": [
    {
     "data": {
      "text/plain": [
       "(2000, 13)"
      ]
     },
     "execution_count": 84,
     "metadata": {},
     "output_type": "execute_result"
    }
   ],
   "source": [
    "test_df_split.shape"
   ]
  },
  {
   "cell_type": "code",
   "execution_count": 85,
   "id": "47226e57",
   "metadata": {},
   "outputs": [
    {
     "data": {
      "text/plain": [
       "1    1186\n",
       "0     814\n",
       "Name: target_review, dtype: int64"
      ]
     },
     "execution_count": 85,
     "metadata": {},
     "output_type": "execute_result"
    }
   ],
   "source": [
    "test_df_split['target_review'].value_counts()"
   ]
  },
  {
   "cell_type": "code",
   "execution_count": 86,
   "id": "59eb5af8",
   "metadata": {},
   "outputs": [
    {
     "data": {
      "text/plain": [
       "1    28687\n",
       "0    20189\n",
       "Name: target_review, dtype: int64"
      ]
     },
     "execution_count": 86,
     "metadata": {},
     "output_type": "execute_result"
    }
   ],
   "source": [
    "train_df_split['target_review'].value_counts()"
   ]
  },
  {
   "cell_type": "markdown",
   "id": "7388c027",
   "metadata": {},
   "source": [
    "**Предобработка текста**"
   ]
  },
  {
   "cell_type": "code",
   "execution_count": 87,
   "id": "4ad35344",
   "metadata": {},
   "outputs": [],
   "source": [
    "#разобьём предложения на токены\n",
    "sentence_example = train_df.iloc[1][\"review_union\"]\n",
    "tokens = word_tokenize(sentence_example, language=\"russian\")\n",
    "tokens_without_punctuation = [i for i in tokens if i not in string.punctuation]\n",
    "russian_stop_words = stopwords.words(\"russian\")\n",
    "tokens_without_stop_words_and_punctuation = [i for i in tokens_without_punctuation if i not in russian_stop_words]\n",
    "snowball = SnowballStemmer(language=\"russian\")\n",
    "stemmed_tokens = [snowball.stem(i) for i in tokens_without_stop_words_and_punctuation]"
   ]
  },
  {
   "cell_type": "code",
   "execution_count": 88,
   "id": "39bf5499",
   "metadata": {},
   "outputs": [
    {
     "name": "stdout",
     "output_type": "stream",
     "text": [
      "Исходный текст: Москва Руководитель проекта Расположение офиса, своего рода стабильность (госбанк) Упростить процессы - все процессы ради процессов, а не результата. Избавиться от чрезмерного уровня бюрократии. Внедрить нормальный электронный документооборот - сейчас все на бумажках, даже то, что заводится в ЭДО. Высшему руководству избавиться от нежелания видеть проблемы - сейчас действует принцип «не вижу проблемы, значит ее нет». хорошо хорошо хорошо ужасно ужасно ужасно\n",
      "-----------------\n",
      "Токены: ['Москва', 'Руководитель', 'проекта', 'Расположение', 'офиса', ',', 'своего', 'рода', 'стабильность', '(', 'госбанк', ')', 'Упростить', 'процессы', '-', 'все', 'процессы', 'ради', 'процессов', ',', 'а', 'не', 'результата', '.', 'Избавиться', 'от', 'чрезмерного', 'уровня', 'бюрократии', '.', 'Внедрить', 'нормальный', 'электронный', 'документооборот', '-', 'сейчас', 'все', 'на', 'бумажках', ',', 'даже', 'то', ',', 'что', 'заводится', 'в', 'ЭДО', '.', 'Высшему', 'руководству', 'избавиться', 'от', 'нежелания', 'видеть', 'проблемы', '-', 'сейчас', 'действует', 'принцип', '«', 'не', 'вижу', 'проблемы', ',', 'значит', 'ее', 'нет', '»', '.', 'хорошо', 'хорошо', 'хорошо', 'ужасно', 'ужасно', 'ужасно']\n",
      "-----------------\n",
      "Токены без пунктуации: ['Москва', 'Руководитель', 'проекта', 'Расположение', 'офиса', 'своего', 'рода', 'стабильность', 'госбанк', 'Упростить', 'процессы', 'все', 'процессы', 'ради', 'процессов', 'а', 'не', 'результата', 'Избавиться', 'от', 'чрезмерного', 'уровня', 'бюрократии', 'Внедрить', 'нормальный', 'электронный', 'документооборот', 'сейчас', 'все', 'на', 'бумажках', 'даже', 'то', 'что', 'заводится', 'в', 'ЭДО', 'Высшему', 'руководству', 'избавиться', 'от', 'нежелания', 'видеть', 'проблемы', 'сейчас', 'действует', 'принцип', '«', 'не', 'вижу', 'проблемы', 'значит', 'ее', 'нет', '»', 'хорошо', 'хорошо', 'хорошо', 'ужасно', 'ужасно', 'ужасно']\n",
      "-----------------\n",
      "Токены без пунктуации и стоп слов: ['Москва', 'Руководитель', 'проекта', 'Расположение', 'офиса', 'своего', 'рода', 'стабильность', 'госбанк', 'Упростить', 'процессы', 'процессы', 'ради', 'процессов', 'результата', 'Избавиться', 'чрезмерного', 'уровня', 'бюрократии', 'Внедрить', 'нормальный', 'электронный', 'документооборот', 'бумажках', 'заводится', 'ЭДО', 'Высшему', 'руководству', 'избавиться', 'нежелания', 'видеть', 'проблемы', 'действует', 'принцип', '«', 'вижу', 'проблемы', 'значит', '»', 'ужасно', 'ужасно', 'ужасно']\n",
      "-----------------\n",
      "Токены после стемминга: ['москв', 'руководител', 'проект', 'расположен', 'офис', 'сво', 'род', 'стабильн', 'госбанк', 'упрост', 'процесс', 'процесс', 'рад', 'процесс', 'результат', 'избав', 'чрезмерн', 'уровн', 'бюрократ', 'внедр', 'нормальн', 'электрон', 'документооборот', 'бумажк', 'завод', 'эд', 'высш', 'руководств', 'избав', 'нежелан', 'видет', 'проблем', 'действ', 'принцип', '«', 'виж', 'проблем', 'знач', '»', 'ужасн', 'ужасн', 'ужасн']\n",
      "-----------------\n"
     ]
    }
   ],
   "source": [
    "#проверим работоспособность\n",
    "print(f\"Исходный текст: {sentence_example}\")\n",
    "print(\"-----------------\")\n",
    "print(f\"Токены: {tokens}\")\n",
    "print(\"-----------------\")\n",
    "print(f\"Токены без пунктуации: {tokens_without_punctuation}\")\n",
    "print(\"-----------------\")\n",
    "print(f\"Токены без пунктуации и стоп слов: {tokens_without_stop_words_and_punctuation}\")\n",
    "print(\"-----------------\")\n",
    "print(f\"Токены после стемминга: {stemmed_tokens}\")\n",
    "print(\"-----------------\")"
   ]
  },
  {
   "cell_type": "code",
   "execution_count": 89,
   "id": "3f82ce15",
   "metadata": {},
   "outputs": [],
   "source": [
    "#функция для обработки всех отзывов\n",
    "snowball = SnowballStemmer(language=\"russian\")\n",
    "russian_stop_words = stopwords.words(\"russian\")\n",
    "\n",
    "def tokenize_sentence(sentence: str, remove_stop_words: bool = True):\n",
    "    tokens = word_tokenize(sentence, language=\"russian\")\n",
    "    tokens = [i for i in tokens if i not in string.punctuation]\n",
    "    if remove_stop_words:\n",
    "        tokens = [i for i in tokens if i not in russian_stop_words]\n",
    "    tokens = [snowball.stem(i) for i in tokens]\n",
    "    return tokens"
   ]
  },
  {
   "cell_type": "code",
   "execution_count": 90,
   "id": "1d1cc310",
   "metadata": {},
   "outputs": [
    {
     "data": {
      "text/plain": [
       "['москв',\n",
       " 'руководител',\n",
       " 'проект',\n",
       " 'расположен',\n",
       " 'офис',\n",
       " 'сво',\n",
       " 'род',\n",
       " 'стабильн',\n",
       " 'госбанк',\n",
       " 'упрост',\n",
       " 'процесс',\n",
       " 'процесс',\n",
       " 'рад',\n",
       " 'процесс',\n",
       " 'результат',\n",
       " 'избав',\n",
       " 'чрезмерн',\n",
       " 'уровн',\n",
       " 'бюрократ',\n",
       " 'внедр',\n",
       " 'нормальн',\n",
       " 'электрон',\n",
       " 'документооборот',\n",
       " 'бумажк',\n",
       " 'завод',\n",
       " 'эд',\n",
       " 'высш',\n",
       " 'руководств',\n",
       " 'избав',\n",
       " 'нежелан',\n",
       " 'видет',\n",
       " 'проблем',\n",
       " 'действ',\n",
       " 'принцип',\n",
       " '«',\n",
       " 'виж',\n",
       " 'проблем',\n",
       " 'знач',\n",
       " '»',\n",
       " 'ужасн',\n",
       " 'ужасн',\n",
       " 'ужасн']"
      ]
     },
     "execution_count": 90,
     "metadata": {},
     "output_type": "execute_result"
    }
   ],
   "source": [
    "#проверим работу\n",
    "tokenize_sentence(sentence_example)"
   ]
  },
  {
   "cell_type": "markdown",
   "id": "13c553a0",
   "metadata": {},
   "source": [
    "**TFIDF**"
   ]
  },
  {
   "cell_type": "code",
   "execution_count": 91,
   "id": "18a5bdd6",
   "metadata": {},
   "outputs": [],
   "source": [
    "vectorizer = TfidfVectorizer(tokenizer=lambda x: tokenize_sentence(x, remove_stop_words=True))"
   ]
  },
  {
   "cell_type": "code",
   "execution_count": 92,
   "id": "e8bd93a9",
   "metadata": {},
   "outputs": [],
   "source": [
    "features = vectorizer.fit_transform(train_df['review_union'])"
   ]
  },
  {
   "cell_type": "code",
   "execution_count": 93,
   "id": "b77b9923",
   "metadata": {},
   "outputs": [
    {
     "data": {
      "text/plain": [
       "LogisticRegression(C=10, random_state=0)"
      ]
     },
     "execution_count": 93,
     "metadata": {},
     "output_type": "execute_result"
    }
   ],
   "source": [
    "model = LogisticRegression(random_state=0, C=10)\n",
    "model.fit(features, train_df['target_review'])"
   ]
  },
  {
   "cell_type": "code",
   "execution_count": 94,
   "id": "9eabccbe",
   "metadata": {},
   "outputs": [],
   "source": [
    "model_pipeline = Pipeline([\n",
    "    (\"vectorizer\", TfidfVectorizer(tokenizer=lambda x: tokenize_sentence(x, remove_stop_words=True))),\n",
    "    (\"model\", LogisticRegression(random_state=0, C=10))\n",
    "]\n",
    ")"
   ]
  },
  {
   "cell_type": "code",
   "execution_count": 95,
   "id": "9de8d096",
   "metadata": {},
   "outputs": [
    {
     "data": {
      "text/plain": [
       "Pipeline(steps=[('vectorizer',\n",
       "                 TfidfVectorizer(tokenizer=<function <lambda> at 0x7f9b58bb4e50>)),\n",
       "                ('model', LogisticRegression(C=10, random_state=0))])"
      ]
     },
     "execution_count": 95,
     "metadata": {},
     "output_type": "execute_result"
    }
   ],
   "source": [
    "model_pipeline.fit(train_df[\"review_union\"], train_df[\"target_review\"])"
   ]
  },
  {
   "cell_type": "code",
   "execution_count": 96,
   "id": "b87e35ed",
   "metadata": {},
   "outputs": [
    {
     "data": {
      "text/plain": [
       "0.9168012924071083"
      ]
     },
     "execution_count": 96,
     "metadata": {},
     "output_type": "execute_result"
    }
   ],
   "source": [
    "precision_score(y_true=test_df_split[\"target_review\"], y_pred=model_pipeline.predict(test_df_split[\"review_union\"]))"
   ]
  },
  {
   "cell_type": "code",
   "execution_count": 97,
   "id": "2528b296",
   "metadata": {},
   "outputs": [
    {
     "data": {
      "text/plain": [
       "0.9569983136593592"
      ]
     },
     "execution_count": 97,
     "metadata": {},
     "output_type": "execute_result"
    }
   ],
   "source": [
    "recall_score(y_true=test_df_split[\"target_review\"], y_pred=model_pipeline.predict(test_df_split[\"review_union\"]))"
   ]
  },
  {
   "cell_type": "code",
   "execution_count": 98,
   "id": "2440f320",
   "metadata": {},
   "outputs": [],
   "source": [
    "prec, rec, thresholds = precision_recall_curve(y_true=test_df_split[\"target_review\"], probas_pred=model_pipeline.predict_proba(test_df_split[\"review_union\"])[:, 1])"
   ]
  },
  {
   "cell_type": "code",
   "execution_count": 99,
   "id": "53e38cf9",
   "metadata": {},
   "outputs": [
    {
     "data": {
      "text/plain": [
       "<sklearn.metrics._plot.precision_recall_curve.PrecisionRecallDisplay at 0x7f9b58bb3070>"
      ]
     },
     "execution_count": 99,
     "metadata": {},
     "output_type": "execute_result"
    },
    {
     "data": {
      "image/png": "[encoded data removed]",
      "text/plain": [
       "<Figure size 432x288 with 1 Axes>"
      ]
     },
     "metadata": {},
     "output_type": "display_data"
    }
   ],
   "source": [
    "plot_precision_recall_curve(estimator=model_pipeline, X=test_df_split[\"review_union\"], y=test_df_split[\"target_review\"])"
   ]
  },
  {
   "cell_type": "code",
   "execution_count": 100,
   "id": "3295656c",
   "metadata": {},
   "outputs": [],
   "source": [
    "features_test = vectorizer.transform(test_df['review_union'])"
   ]
  },
  {
   "cell_type": "code",
   "execution_count": 101,
   "id": "170bdfbb",
   "metadata": {},
   "outputs": [
    {
     "data": {
      "text/plain": [
       "array([1, 0, 1, ..., 1, 1, 1])"
      ]
     },
     "execution_count": 101,
     "metadata": {},
     "output_type": "execute_result"
    }
   ],
   "source": [
    "y_pred = model.predict(features_test)\n",
    "y_pred"
   ]
  },
  {
   "cell_type": "code",
   "execution_count": 102,
   "id": "bb435fe7",
   "metadata": {},
   "outputs": [
    {
     "data": {
      "text/plain": [
       "array([[0.26993827, 0.73006173]])"
      ]
     },
     "execution_count": 102,
     "metadata": {},
     "output_type": "execute_result"
    }
   ],
   "source": [
    "y_pred_proba = model.predict_proba(features_test)\n",
    "y_pred_proba[:1]"
   ]
  },
  {
   "cell_type": "code",
   "execution_count": 103,
   "id": "5a83077c",
   "metadata": {},
   "outputs": [
    {
     "data": {
      "text/html": [
       "<div>\n",
       "<style scoped>\n",
       "    .dataframe tbody tr th:only-of-type {\n",
       "        vertical-align: middle;\n",
       "    }\n",
       "\n",
       "    .dataframe tbody tr th {\n",
       "        vertical-align: top;\n",
       "    }\n",
       "\n",
       "    .dataframe thead th {\n",
       "        text-align: right;\n",
       "    }\n",
       "</style>\n",
       "<table border=\"1\" class=\"dataframe\">\n",
       "  <thead>\n",
       "    <tr style=\"text-align: right;\">\n",
       "      <th></th>\n",
       "      <th>review_id</th>\n",
       "      <th>target</th>\n",
       "    </tr>\n",
       "  </thead>\n",
       "  <tbody>\n",
       "    <tr>\n",
       "      <th>0</th>\n",
       "      <td>3</td>\n",
       "      <td>1</td>\n",
       "    </tr>\n",
       "    <tr>\n",
       "      <th>1</th>\n",
       "      <td>4</td>\n",
       "      <td>0</td>\n",
       "    </tr>\n",
       "    <tr>\n",
       "      <th>2</th>\n",
       "      <td>13</td>\n",
       "      <td>1</td>\n",
       "    </tr>\n",
       "    <tr>\n",
       "      <th>3</th>\n",
       "      <td>14</td>\n",
       "      <td>0</td>\n",
       "    </tr>\n",
       "    <tr>\n",
       "      <th>4</th>\n",
       "      <td>17</td>\n",
       "      <td>1</td>\n",
       "    </tr>\n",
       "    <tr>\n",
       "      <th>5</th>\n",
       "      <td>23</td>\n",
       "      <td>1</td>\n",
       "    </tr>\n",
       "    <tr>\n",
       "      <th>6</th>\n",
       "      <td>24</td>\n",
       "      <td>1</td>\n",
       "    </tr>\n",
       "    <tr>\n",
       "      <th>7</th>\n",
       "      <td>26</td>\n",
       "      <td>1</td>\n",
       "    </tr>\n",
       "    <tr>\n",
       "      <th>8</th>\n",
       "      <td>34</td>\n",
       "      <td>1</td>\n",
       "    </tr>\n",
       "    <tr>\n",
       "      <th>9</th>\n",
       "      <td>36</td>\n",
       "      <td>0</td>\n",
       "    </tr>\n",
       "    <tr>\n",
       "      <th>10</th>\n",
       "      <td>39</td>\n",
       "      <td>0</td>\n",
       "    </tr>\n",
       "    <tr>\n",
       "      <th>11</th>\n",
       "      <td>40</td>\n",
       "      <td>0</td>\n",
       "    </tr>\n",
       "    <tr>\n",
       "      <th>12</th>\n",
       "      <td>46</td>\n",
       "      <td>0</td>\n",
       "    </tr>\n",
       "    <tr>\n",
       "      <th>13</th>\n",
       "      <td>50</td>\n",
       "      <td>1</td>\n",
       "    </tr>\n",
       "    <tr>\n",
       "      <th>14</th>\n",
       "      <td>52</td>\n",
       "      <td>1</td>\n",
       "    </tr>\n",
       "    <tr>\n",
       "      <th>15</th>\n",
       "      <td>60</td>\n",
       "      <td>0</td>\n",
       "    </tr>\n",
       "    <tr>\n",
       "      <th>16</th>\n",
       "      <td>61</td>\n",
       "      <td>1</td>\n",
       "    </tr>\n",
       "    <tr>\n",
       "      <th>17</th>\n",
       "      <td>62</td>\n",
       "      <td>1</td>\n",
       "    </tr>\n",
       "    <tr>\n",
       "      <th>18</th>\n",
       "      <td>70</td>\n",
       "      <td>0</td>\n",
       "    </tr>\n",
       "    <tr>\n",
       "      <th>19</th>\n",
       "      <td>72</td>\n",
       "      <td>0</td>\n",
       "    </tr>\n",
       "  </tbody>\n",
       "</table>\n",
       "</div>"
      ],
      "text/plain": [
       "    review_id  target\n",
       "0           3       1\n",
       "1           4       0\n",
       "2          13       1\n",
       "3          14       0\n",
       "4          17       1\n",
       "5          23       1\n",
       "6          24       1\n",
       "7          26       1\n",
       "8          34       1\n",
       "9          36       0\n",
       "10         39       0\n",
       "11         40       0\n",
       "12         46       0\n",
       "13         50       1\n",
       "14         52       1\n",
       "15         60       0\n",
       "16         61       1\n",
       "17         62       1\n",
       "18         70       0\n",
       "19         72       0"
      ]
     },
     "execution_count": 103,
     "metadata": {},
     "output_type": "execute_result"
    }
   ],
   "source": [
    "preds = pd.DataFrame()\n",
    "preds['review_id'] = test_df.index\n",
    "preds['target'] = y_pred\n",
    "preds.head(20)"
   ]
  },
  {
   "cell_type": "code",
   "execution_count": 104,
   "id": "1a1531d8",
   "metadata": {},
   "outputs": [
    {
     "data": {
      "text/html": [
       "<div>\n",
       "<style scoped>\n",
       "    .dataframe tbody tr th:only-of-type {\n",
       "        vertical-align: middle;\n",
       "    }\n",
       "\n",
       "    .dataframe tbody tr th {\n",
       "        vertical-align: top;\n",
       "    }\n",
       "\n",
       "    .dataframe thead th {\n",
       "        text-align: right;\n",
       "    }\n",
       "</style>\n",
       "<table border=\"1\" class=\"dataframe\">\n",
       "  <thead>\n",
       "    <tr style=\"text-align: right;\">\n",
       "      <th></th>\n",
       "      <th>review_id</th>\n",
       "      <th>target</th>\n",
       "    </tr>\n",
       "  </thead>\n",
       "  <tbody>\n",
       "    <tr>\n",
       "      <th>0</th>\n",
       "      <td>3</td>\n",
       "      <td>8</td>\n",
       "    </tr>\n",
       "    <tr>\n",
       "      <th>1</th>\n",
       "      <td>4</td>\n",
       "      <td>0</td>\n",
       "    </tr>\n",
       "    <tr>\n",
       "      <th>2</th>\n",
       "      <td>13</td>\n",
       "      <td>8</td>\n",
       "    </tr>\n",
       "    <tr>\n",
       "      <th>3</th>\n",
       "      <td>14</td>\n",
       "      <td>0</td>\n",
       "    </tr>\n",
       "    <tr>\n",
       "      <th>4</th>\n",
       "      <td>17</td>\n",
       "      <td>8</td>\n",
       "    </tr>\n",
       "  </tbody>\n",
       "</table>\n",
       "</div>"
      ],
      "text/plain": [
       "   review_id  target\n",
       "0          3       8\n",
       "1          4       0\n",
       "2         13       8\n",
       "3         14       0\n",
       "4         17       8"
      ]
     },
     "execution_count": 104,
     "metadata": {},
     "output_type": "execute_result"
    }
   ],
   "source": [
    "preds.loc[(preds['target'] == 1), 'target'] = 8\n",
    "preds.head()"
   ]
  },
  {
   "cell_type": "code",
   "execution_count": 105,
   "id": "a7c0a4b5",
   "metadata": {},
   "outputs": [
    {
     "data": {
      "text/plain": [
       "8    33939\n",
       "0    16712\n",
       "Name: target, dtype: int64"
      ]
     },
     "execution_count": 105,
     "metadata": {},
     "output_type": "execute_result"
    }
   ],
   "source": [
    "preds['target'].value_counts()"
   ]
  },
  {
   "cell_type": "code",
   "execution_count": 106,
   "id": "15c2185a",
   "metadata": {},
   "outputs": [],
   "source": [
    "#запись результатов в итоговый файл\n",
    "preds.to_csv('eight_and_zero_only.csv', index=False)"
   ]
  },
  {
   "cell_type": "markdown",
   "id": "e80b05b4",
   "metadata": {},
   "source": [
    "# Первая модель, разделяющая отзывы на прощедшие и отказные построена. Теперь можно построить модели определяющие причины отказов 1 - 8"
   ]
  },
  {
   "cell_type": "code",
   "execution_count": 107,
   "id": "15c6721f",
   "metadata": {},
   "outputs": [],
   "source": [
    "#сохраним все отказные отзывы в отдельный датасет, с которым и продолжим работу\n",
    "train_df_negative_1 = train_df.loc[train_df['target_review'] == 1]"
   ]
  },
  {
   "cell_type": "code",
   "execution_count": 108,
   "id": "163fc544",
   "metadata": {},
   "outputs": [
    {
     "data": {
      "text/plain": [
       "city                      715\n",
       "position                10628\n",
       "positive                26376\n",
       "negative                26789\n",
       "salary_rating               5\n",
       "team_rating                 5\n",
       "managment_rating            5\n",
       "career_rating               5\n",
       "workplace_rating            5\n",
       "rest_recovery_rating        5\n",
       "target                     43\n",
       "target_review               1\n",
       "review_union            29857\n",
       "dtype: int64"
      ]
     },
     "execution_count": 108,
     "metadata": {},
     "output_type": "execute_result"
    }
   ],
   "source": [
    "#проверим результат\n",
    "train_df_negative_1.nunique()"
   ]
  },
  {
   "cell_type": "markdown",
   "id": "3b6bf79b",
   "metadata": {},
   "source": [
    "**Датасет разбит**"
   ]
  },
  {
   "cell_type": "code",
   "execution_count": 109,
   "id": "c28c5ea6",
   "metadata": {},
   "outputs": [],
   "source": [
    "test_negative_df = test_df"
   ]
  },
  {
   "cell_type": "code",
   "execution_count": 110,
   "id": "46f7861a",
   "metadata": {},
   "outputs": [],
   "source": [
    "test_negative_df['target_negative'] = y_pred"
   ]
  },
  {
   "cell_type": "code",
   "execution_count": 111,
   "id": "42e866c2",
   "metadata": {},
   "outputs": [],
   "source": [
    "#test_negative_df.head()"
   ]
  },
  {
   "cell_type": "code",
   "execution_count": 112,
   "id": "098494ce",
   "metadata": {},
   "outputs": [
    {
     "data": {
      "text/plain": [
       "1    33939\n",
       "Name: target_negative, dtype: int64"
      ]
     },
     "execution_count": 112,
     "metadata": {},
     "output_type": "execute_result"
    }
   ],
   "source": [
    "test_negative_df = test_negative_df.loc[test_negative_df['target_negative'] == 1 ]\n",
    "test_negative_df['target_negative'].value_counts()"
   ]
  },
  {
   "cell_type": "markdown",
   "id": "4b4dd59b",
   "metadata": {},
   "source": [
    "# Причина номер 1"
   ]
  },
  {
   "cell_type": "markdown",
   "id": "e3cb4eac",
   "metadata": {},
   "source": [
    "Список всех значений, где в target есть 1:  \n",
    "1,8      -----   1476  \n",
    "1       -----     1269  \n",
    "1,6        -----   141  \n",
    "1,6,8     -----     48  \n",
    "1,5,8     -----     33  \n",
    "1,4       -----     24  \n",
    "1,7----- 15  \n",
    "1,3      -----       9  \n",
    "1,5,6          ----- 7  \n",
    "1,4,8          ----- 4  \n",
    "1,4,6          ----- 3  \n",
    "1,3,8      -----     3  \n",
    "1,3,5    -----       2  \n",
    "1,7,8        -----   2  \n",
    "1,5,6,8       -----  1  \n",
    "1,2,6        -----   1  \n",
    "1,3,6        -----   1  "
   ]
  },
  {
   "cell_type": "markdown",
   "id": "8f03eb90",
   "metadata": {},
   "source": [
    "Заменим все значения 8 по этим условиям на 1"
   ]
  },
  {
   "cell_type": "code",
   "execution_count": 113,
   "id": "5c6baada",
   "metadata": {},
   "outputs": [],
   "source": [
    "train_df_negative_1['target_review'] = train_df_negative_1['target']"
   ]
  },
  {
   "cell_type": "code",
   "execution_count": 114,
   "id": "cdf565fd",
   "metadata": {},
   "outputs": [
    {
     "data": {
      "text/html": [
       "<div>\n",
       "<style scoped>\n",
       "    .dataframe tbody tr th:only-of-type {\n",
       "        vertical-align: middle;\n",
       "    }\n",
       "\n",
       "    .dataframe tbody tr th {\n",
       "        vertical-align: top;\n",
       "    }\n",
       "\n",
       "    .dataframe thead th {\n",
       "        text-align: right;\n",
       "    }\n",
       "</style>\n",
       "<table border=\"1\" class=\"dataframe\">\n",
       "  <thead>\n",
       "    <tr style=\"text-align: right;\">\n",
       "      <th></th>\n",
       "      <th>city</th>\n",
       "      <th>position</th>\n",
       "      <th>positive</th>\n",
       "      <th>negative</th>\n",
       "      <th>salary_rating</th>\n",
       "      <th>team_rating</th>\n",
       "      <th>managment_rating</th>\n",
       "      <th>career_rating</th>\n",
       "      <th>workplace_rating</th>\n",
       "      <th>rest_recovery_rating</th>\n",
       "      <th>target</th>\n",
       "      <th>target_review</th>\n",
       "      <th>review_union</th>\n",
       "    </tr>\n",
       "    <tr>\n",
       "      <th>review_id</th>\n",
       "      <th></th>\n",
       "      <th></th>\n",
       "      <th></th>\n",
       "      <th></th>\n",
       "      <th></th>\n",
       "      <th></th>\n",
       "      <th></th>\n",
       "      <th></th>\n",
       "      <th></th>\n",
       "      <th></th>\n",
       "      <th></th>\n",
       "      <th></th>\n",
       "      <th></th>\n",
       "    </tr>\n",
       "  </thead>\n",
       "  <tbody>\n",
       "    <tr>\n",
       "      <th>1</th>\n",
       "      <td>Москва</td>\n",
       "      <td>Руководитель проекта</td>\n",
       "      <td>Расположение офиса, своего рода стабильность (госбанк)</td>\n",
       "      <td>Упростить процессы - все процессы ради процессов, а не результата. Избавиться от чрезмерного уровня бюрократии. Внедрить нормальный электронный документооборот - сейчас все на бумажках, даже то, что заводится в ЭДО. Высшему руководству избавиться от нежелания видеть проблемы - сейчас действует принцип «не вижу проблемы, значит ее нет».</td>\n",
       "      <td>хорошо</td>\n",
       "      <td>хорошо</td>\n",
       "      <td>хорошо</td>\n",
       "      <td>ужасно</td>\n",
       "      <td>ужасно</td>\n",
       "      <td>ужасно</td>\n",
       "      <td>8</td>\n",
       "      <td>8</td>\n",
       "      <td>Москва Руководитель проекта Расположение офиса, своего рода стабильность (госбанк) Упростить процессы - все процессы ради процессов, а не результата. Избавиться от чрезмерного уровня бюрократии. Внедрить нормальный электронный документооборот - сейчас все на бумажках, даже то, что заводится в ЭДО. Высшему руководству избавиться от нежелания видеть проблемы - сейчас действует принцип «не вижу проблемы, значит ее нет». хорошо хорошо хорошо ужасно ужасно ужасно</td>\n",
       "    </tr>\n",
       "    <tr>\n",
       "      <th>7</th>\n",
       "      <td>Москва</td>\n",
       "      <td>Инженер КИПиА</td>\n",
       "      <td>В принципе норм.Работать можно</td>\n",
       "      <td>Всегда есть к чему стремиться</td>\n",
       "      <td>хорошо</td>\n",
       "      <td>отлично</td>\n",
       "      <td>хорошо</td>\n",
       "      <td>плохо</td>\n",
       "      <td>отлично</td>\n",
       "      <td>плохо</td>\n",
       "      <td>8</td>\n",
       "      <td>8</td>\n",
       "      <td>Москва Инженер КИПиА В принципе норм.Работать можно Всегда есть к чему стремиться хорошо отлично хорошо плохо отлично плохо</td>\n",
       "    </tr>\n",
       "    <tr>\n",
       "      <th>21</th>\n",
       "      <td>Новосибирск</td>\n",
       "      <td>Менеджер по работе с крупными корпоративными и государственными клиентами (КАМ)</td>\n",
       "      <td>Ужасно , просто совдепия, зарплата нищенская</td>\n",
       "      <td>Там надо всё улучшать, место дно.</td>\n",
       "      <td>ужасно</td>\n",
       "      <td>плохо</td>\n",
       "      <td>ужасно</td>\n",
       "      <td>ужасно</td>\n",
       "      <td>ужасно</td>\n",
       "      <td>ужасно</td>\n",
       "      <td>8</td>\n",
       "      <td>8</td>\n",
       "      <td>Новосибирск Менеджер по работе с крупными корпоративными и государственными клиентами (КАМ) Ужасно , просто совдепия, зарплата нищенская Там надо всё улучшать, место дно. ужасно плохо ужасно ужасно ужасно ужасно</td>\n",
       "    </tr>\n",
       "    <tr>\n",
       "      <th>22</th>\n",
       "      <td></td>\n",
       "      <td>Механик</td>\n",
       "      <td>Норм норм норм норм норм</td>\n",
       "      <td>Ниче ниче ниче гтчн ниче</td>\n",
       "      <td>отлично</td>\n",
       "      <td>отлично</td>\n",
       "      <td>отлично</td>\n",
       "      <td>отлично</td>\n",
       "      <td>отлично</td>\n",
       "      <td>отлично</td>\n",
       "      <td>8</td>\n",
       "      <td>8</td>\n",
       "      <td>Механик Норм норм норм норм норм Ниче ниче ниче гтчн ниче отлично отлично отлично отлично отлично отлично</td>\n",
       "    </tr>\n",
       "    <tr>\n",
       "      <th>31</th>\n",
       "      <td>Москва</td>\n",
       "      <td>Поиск Работы в строительстве</td>\n",
       "      <td>Позвали на собеседование, но не сказали что нужно прежде чем устроиться оплатить обучение, не известно попадёшь работать или нет. Лохотрон</td>\n",
       "      <td>Не звать на собеседование</td>\n",
       "      <td>ужасно</td>\n",
       "      <td>ужасно</td>\n",
       "      <td>ужасно</td>\n",
       "      <td>ужасно</td>\n",
       "      <td>ужасно</td>\n",
       "      <td>ужасно</td>\n",
       "      <td>7</td>\n",
       "      <td>7</td>\n",
       "      <td>Москва Поиск Работы в строительстве Позвали на собеседование, но не сказали что нужно прежде чем устроиться оплатить обучение, не известно попадёшь работать или нет. Лохотрон Не звать на собеседование ужасно ужасно ужасно ужасно ужасно ужасно</td>\n",
       "    </tr>\n",
       "  </tbody>\n",
       "</table>\n",
       "</div>"
      ],
      "text/plain": [
       "                  city  \\\n",
       "review_id                \n",
       "1               Москва   \n",
       "7               Москва   \n",
       "21         Новосибирск   \n",
       "22                       \n",
       "31              Москва   \n",
       "\n",
       "                                                                                  position  \\\n",
       "review_id                                                                                    \n",
       "1                                                                     Руководитель проекта   \n",
       "7                                                                            Инженер КИПиА   \n",
       "21         Менеджер по работе с крупными корпоративными и государственными клиентами (КАМ)   \n",
       "22                                                                                 Механик   \n",
       "31                                                            Поиск Работы в строительстве   \n",
       "\n",
       "                                                                                                                                             positive  \\\n",
       "review_id                                                                                                                                               \n",
       "1                                                                                              Расположение офиса, своего рода стабильность (госбанк)   \n",
       "7                                                                                                                      В принципе норм.Работать можно   \n",
       "21                                                                                                       Ужасно , просто совдепия, зарплата нищенская   \n",
       "22                                                                                                                           Норм норм норм норм норм   \n",
       "31         Позвали на собеседование, но не сказали что нужно прежде чем устроиться оплатить обучение, не известно попадёшь работать или нет. Лохотрон   \n",
       "\n",
       "                                                                                                                                                                                                                                                                                                                                                    negative  \\\n",
       "review_id                                                                                                                                                                                                                                                                                                                                                      \n",
       "1          Упростить процессы - все процессы ради процессов, а не результата. Избавиться от чрезмерного уровня бюрократии. Внедрить нормальный электронный документооборот - сейчас все на бумажках, даже то, что заводится в ЭДО. Высшему руководству избавиться от нежелания видеть проблемы - сейчас действует принцип «не вижу проблемы, значит ее нет».   \n",
       "7                                                                                                                                                                                                                                                                                                                              Всегда есть к чему стремиться   \n",
       "21                                                                                                                                                                                                                                                                                                                         Там надо всё улучшать, место дно.   \n",
       "22                                                                                                                                                                                                                                                                                                                                  Ниче ниче ниче гтчн ниче   \n",
       "31                                                                                                                                                                                                                                                                                                                                 Не звать на собеседование   \n",
       "\n",
       "          salary_rating team_rating managment_rating career_rating  \\\n",
       "review_id                                                            \n",
       "1                хорошо      хорошо           хорошо        ужасно   \n",
       "7                хорошо     отлично           хорошо         плохо   \n",
       "21               ужасно       плохо           ужасно        ужасно   \n",
       "22              отлично     отлично          отлично       отлично   \n",
       "31               ужасно      ужасно           ужасно        ужасно   \n",
       "\n",
       "          workplace_rating rest_recovery_rating target target_review  \\\n",
       "review_id                                                              \n",
       "1                   ужасно               ужасно      8             8   \n",
       "7                  отлично                плохо      8             8   \n",
       "21                  ужасно               ужасно      8             8   \n",
       "22                 отлично              отлично      8             8   \n",
       "31                  ужасно               ужасно      7             7   \n",
       "\n",
       "                                                                                                                                                                                                                                                                                                                                                                                                                                                                             review_union  \n",
       "review_id                                                                                                                                                                                                                                                                                                                                                                                                                                                                                  \n",
       "1          Москва Руководитель проекта Расположение офиса, своего рода стабильность (госбанк) Упростить процессы - все процессы ради процессов, а не результата. Избавиться от чрезмерного уровня бюрократии. Внедрить нормальный электронный документооборот - сейчас все на бумажках, даже то, что заводится в ЭДО. Высшему руководству избавиться от нежелания видеть проблемы - сейчас действует принцип «не вижу проблемы, значит ее нет». хорошо хорошо хорошо ужасно ужасно ужасно  \n",
       "7                                                                                                                                                                                                                                                                                                                                                             Москва Инженер КИПиА В принципе норм.Работать можно Всегда есть к чему стремиться хорошо отлично хорошо плохо отлично плохо  \n",
       "21                                                                                                                                                                                                                                                                    Новосибирск Менеджер по работе с крупными корпоративными и государственными клиентами (КАМ) Ужасно , просто совдепия, зарплата нищенская Там надо всё улучшать, место дно. ужасно плохо ужасно ужасно ужасно ужасно  \n",
       "22                                                                                                                                                                                                                                                                                                                                                                              Механик Норм норм норм норм норм Ниче ниче ниче гтчн ниче отлично отлично отлично отлично отлично отлично  \n",
       "31                                                                                                                                                                                                                                     Москва Поиск Работы в строительстве Позвали на собеседование, но не сказали что нужно прежде чем устроиться оплатить обучение, не известно попадёшь работать или нет. Лохотрон Не звать на собеседование ужасно ужасно ужасно ужасно ужасно ужасно  "
      ]
     },
     "execution_count": 114,
     "metadata": {},
     "output_type": "execute_result"
    }
   ],
   "source": [
    "train_df_negative_1.head()"
   ]
  },
  {
   "cell_type": "code",
   "execution_count": 115,
   "id": "b7d2dd0c",
   "metadata": {},
   "outputs": [],
   "source": [
    "train_df_negative_1.loc[(train_df_negative_1['target_review'] == \"1,8\"), 'target_review'] = 1\n",
    "train_df_negative_1.loc[(train_df_negative_1['target_review'] == \"1\"), 'target_review'] = 1\n",
    "train_df_negative_1.loc[(train_df_negative_1['target_review'] == \"1,6\"), 'target_review'] = 1\n",
    "train_df_negative_1.loc[(train_df_negative_1['target_review'] == \"1,6,8\"), 'target_review'] = 1\n",
    "train_df_negative_1.loc[(train_df_negative_1['target_review'] == \"1,5,8\"), 'target_review'] = 1\n",
    "train_df_negative_1.loc[(train_df_negative_1['target_review'] == \"1,4\"), 'target_review'] = 1\n",
    "train_df_negative_1.loc[(train_df_negative_1['target_review'] == \"1,7\"), 'target_review'] = 1\n",
    "train_df_negative_1.loc[(train_df_negative_1['target_review'] == \"1,3\"), 'target_review'] = 1\n",
    "train_df_negative_1.loc[(train_df_negative_1['target_review'] == \"1,5,6\"), 'target_review'] = 1\n",
    "train_df_negative_1.loc[(train_df_negative_1['target_review'] == \"1,4,8\"), 'target_review'] = 1\n",
    "train_df_negative_1.loc[(train_df_negative_1['target_review'] == \"1,4,6\"), 'target_review'] = 1\n",
    "train_df_negative_1.loc[(train_df_negative_1['target_review'] == \"1,3,8\"), 'target_review'] = 1\n",
    "train_df_negative_1.loc[(train_df_negative_1['target_review'] == \"1,3,5\"), 'target_review'] = 1\n",
    "train_df_negative_1.loc[(train_df_negative_1['target_review'] == \"1,7,8\"), 'target_review'] = 1\n",
    "train_df_negative_1.loc[(train_df_negative_1['target_review'] == \"1,5,6,8\"), 'target_review'] = 1\n",
    "train_df_negative_1.loc[(train_df_negative_1['target_review'] == \"1,2,6\"), 'target_review'] = 1\n",
    "train_df_negative_1.loc[(train_df_negative_1['target_review'] == \"1,3,6\"), 'target_review'] = 1"
   ]
  },
  {
   "cell_type": "code",
   "execution_count": 116,
   "id": "d06e9afe",
   "metadata": {},
   "outputs": [
    {
     "data": {
      "text/plain": [
       "8        24093\n",
       "1         3039\n",
       "3          905\n",
       "6,8        473\n",
       "6          368\n",
       "7          326\n",
       "3,8        209\n",
       "5,8        121\n",
       "5          102\n",
       "1,5         78\n",
       "4           38\n",
       "4,8         36\n",
       "7,8         25\n",
       "5,7         13\n",
       "2           12\n",
       "5,6          9\n",
       "5,6,8        6\n",
       "4,6          5\n",
       "3,7          5\n",
       "6,7          3\n",
       "3,6          1\n",
       "3,5,7        1\n",
       "3,5,8        1\n",
       "3,6,8        1\n",
       "4,6,8        1\n",
       "5,7,8        1\n",
       "3,5          1\n",
       "Name: target_review, dtype: int64"
      ]
     },
     "execution_count": 116,
     "metadata": {},
     "output_type": "execute_result"
    }
   ],
   "source": [
    "train_df_negative_1['target_review'].value_counts()"
   ]
  },
  {
   "cell_type": "code",
   "execution_count": 117,
   "id": "6b41ca1e",
   "metadata": {},
   "outputs": [
    {
     "data": {
      "text/plain": [
       "city                      715\n",
       "position                10628\n",
       "positive                26376\n",
       "negative                26789\n",
       "salary_rating               5\n",
       "team_rating                 5\n",
       "managment_rating            5\n",
       "career_rating               5\n",
       "workplace_rating            5\n",
       "rest_recovery_rating        5\n",
       "target                     43\n",
       "target_review              27\n",
       "review_union            29857\n",
       "dtype: int64"
      ]
     },
     "execution_count": 117,
     "metadata": {},
     "output_type": "execute_result"
    }
   ],
   "source": [
    "train_df_negative_1.nunique()"
   ]
  },
  {
   "cell_type": "code",
   "execution_count": 118,
   "id": "5e4e6925",
   "metadata": {},
   "outputs": [],
   "source": [
    "#заменим все не 1 на 8\n",
    "train_df_negative_1.loc[(train_df_negative_1['target_review'] != 1), 'target_review'] = 0"
   ]
  },
  {
   "cell_type": "code",
   "execution_count": 119,
   "id": "148e5eda",
   "metadata": {},
   "outputs": [
    {
     "data": {
      "text/plain": [
       "city                      715\n",
       "position                10628\n",
       "positive                26376\n",
       "negative                26789\n",
       "salary_rating               5\n",
       "team_rating                 5\n",
       "managment_rating            5\n",
       "career_rating               5\n",
       "workplace_rating            5\n",
       "rest_recovery_rating        5\n",
       "target                     43\n",
       "target_review               2\n",
       "review_union            29857\n",
       "dtype: int64"
      ]
     },
     "execution_count": 119,
     "metadata": {},
     "output_type": "execute_result"
    }
   ],
   "source": [
    "train_df_negative_1.nunique()"
   ]
  },
  {
   "cell_type": "code",
   "execution_count": 120,
   "id": "fc5ae72d",
   "metadata": {},
   "outputs": [],
   "source": [
    "train_df_negative_1['target_review'] = train_df_negative_1['target_review'].apply(int)"
   ]
  },
  {
   "cell_type": "code",
   "execution_count": 121,
   "id": "6ab9637a",
   "metadata": {},
   "outputs": [
    {
     "data": {
      "text/plain": [
       "0    26834\n",
       "1     3039\n",
       "Name: target_review, dtype: int64"
      ]
     },
     "execution_count": 121,
     "metadata": {},
     "output_type": "execute_result"
    }
   ],
   "source": [
    "train_df_negative_1['target_review'].value_counts()"
   ]
  },
  {
   "cell_type": "markdown",
   "id": "bdc6b4f0",
   "metadata": {},
   "source": [
    "Разбиение прошло успешно, создадим модель"
   ]
  },
  {
   "cell_type": "code",
   "execution_count": 122,
   "id": "4261458e",
   "metadata": {},
   "outputs": [],
   "source": [
    "#разобьёем train_df на train и test\n",
    "train_df_negative_1_split, test_df_negative_1_split = train_test_split(train_df_negative_1, test_size=2000, random_state=0)"
   ]
  },
  {
   "cell_type": "code",
   "execution_count": 123,
   "id": "0e1a5882",
   "metadata": {},
   "outputs": [
    {
     "data": {
      "text/plain": [
       "(2000, 13)"
      ]
     },
     "execution_count": 123,
     "metadata": {},
     "output_type": "execute_result"
    }
   ],
   "source": [
    "test_df_negative_1_split.shape"
   ]
  },
  {
   "cell_type": "code",
   "execution_count": 124,
   "id": "c5ee44a1",
   "metadata": {},
   "outputs": [
    {
     "data": {
      "text/plain": [
       "0    1813\n",
       "1     187\n",
       "Name: target_review, dtype: int64"
      ]
     },
     "execution_count": 124,
     "metadata": {},
     "output_type": "execute_result"
    }
   ],
   "source": [
    "test_df_negative_1_split['target_review'].value_counts()"
   ]
  },
  {
   "cell_type": "code",
   "execution_count": 125,
   "id": "335b0be4",
   "metadata": {},
   "outputs": [
    {
     "data": {
      "text/plain": [
       "0    25021\n",
       "1     2852\n",
       "Name: target_review, dtype: int64"
      ]
     },
     "execution_count": 125,
     "metadata": {},
     "output_type": "execute_result"
    }
   ],
   "source": [
    "train_df_negative_1_split['target_review'].value_counts()"
   ]
  },
  {
   "cell_type": "code",
   "execution_count": 126,
   "id": "c0af1ca4",
   "metadata": {},
   "outputs": [],
   "source": [
    "vectorizer_1 = TfidfVectorizer(tokenizer=lambda x: tokenize_sentence(x, remove_stop_words=True))"
   ]
  },
  {
   "cell_type": "code",
   "execution_count": 127,
   "id": "d458aa20",
   "metadata": {},
   "outputs": [],
   "source": [
    "features_1 = vectorizer_1.fit_transform(train_df_negative_1['review_union'])"
   ]
  },
  {
   "cell_type": "code",
   "execution_count": 128,
   "id": "138b41a4",
   "metadata": {},
   "outputs": [
    {
     "data": {
      "text/plain": [
       "LogisticRegression(C=10, random_state=0)"
      ]
     },
     "execution_count": 128,
     "metadata": {},
     "output_type": "execute_result"
    }
   ],
   "source": [
    "model = LogisticRegression(random_state=0, C=10)\n",
    "model.fit(features_1, train_df_negative_1['target_review'])"
   ]
  },
  {
   "cell_type": "code",
   "execution_count": 129,
   "id": "01ed8468",
   "metadata": {},
   "outputs": [],
   "source": [
    "model_pipeline = Pipeline([\n",
    "    (\"vectorizer_1\", TfidfVectorizer(tokenizer=lambda x: tokenize_sentence(x, remove_stop_words=True))),\n",
    "    (\"model\", LogisticRegression(random_state=0, C=30))\n",
    "]\n",
    ")"
   ]
  },
  {
   "cell_type": "code",
   "execution_count": 130,
   "id": "1f11eedb",
   "metadata": {},
   "outputs": [
    {
     "data": {
      "text/plain": [
       "Pipeline(steps=[('vectorizer_1',\n",
       "                 TfidfVectorizer(tokenizer=<function <lambda> at 0x7f9b6e01fee0>)),\n",
       "                ('model', LogisticRegression(C=30, random_state=0))])"
      ]
     },
     "execution_count": 130,
     "metadata": {},
     "output_type": "execute_result"
    }
   ],
   "source": [
    "model_pipeline.fit(train_df_negative_1[\"review_union\"], train_df_negative_1[\"target_review\"])"
   ]
  },
  {
   "cell_type": "code",
   "execution_count": 131,
   "id": "b7c07453",
   "metadata": {},
   "outputs": [
    {
     "data": {
      "text/plain": [
       "0.9333333333333333"
      ]
     },
     "execution_count": 131,
     "metadata": {},
     "output_type": "execute_result"
    }
   ],
   "source": [
    "precision_score(y_true=test_df_negative_1_split[\"target_review\"], y_pred=model_pipeline.predict(test_df_negative_1_split[\"review_union\"]))"
   ]
  },
  {
   "cell_type": "code",
   "execution_count": 132,
   "id": "fd60d49a",
   "metadata": {},
   "outputs": [
    {
     "data": {
      "text/plain": [
       "0.8235294117647058"
      ]
     },
     "execution_count": 132,
     "metadata": {},
     "output_type": "execute_result"
    }
   ],
   "source": [
    "recall_score(y_true=test_df_negative_1_split[\"target_review\"], y_pred=model_pipeline.predict(test_df_negative_1_split[\"review_union\"]))"
   ]
  },
  {
   "cell_type": "code",
   "execution_count": 133,
   "id": "bd1781a3",
   "metadata": {},
   "outputs": [],
   "source": [
    "prec, rec, thresholds = precision_recall_curve(y_true=test_df_negative_1_split[\"target_review\"], probas_pred=model_pipeline.predict_proba(test_df_negative_1_split[\"review_union\"])[:, 1])"
   ]
  },
  {
   "cell_type": "code",
   "execution_count": 134,
   "id": "271ac706",
   "metadata": {},
   "outputs": [
    {
     "data": {
      "text/plain": [
       "<sklearn.metrics._plot.precision_recall_curve.PrecisionRecallDisplay at 0x7f9b5cbd5ac0>"
      ]
     },
     "execution_count": 134,
     "metadata": {},
     "output_type": "execute_result"
    },
    {
     "data": {
      "image/png": "[encoded data removed]",
      "text/plain": [
       "<Figure size 432x288 with 1 Axes>"
      ]
     },
     "metadata": {},
     "output_type": "display_data"
    }
   ],
   "source": [
    "plot_precision_recall_curve(estimator=model_pipeline, X=test_df_negative_1_split[\"review_union\"], y=test_df_negative_1_split[\"target_review\"])"
   ]
  },
  {
   "cell_type": "code",
   "execution_count": 135,
   "id": "4a4b9199",
   "metadata": {},
   "outputs": [],
   "source": [
    "features_test_1 = vectorizer_1.transform(test_negative_df['review_union'])"
   ]
  },
  {
   "cell_type": "code",
   "execution_count": 136,
   "id": "a1a9cdd1",
   "metadata": {},
   "outputs": [
    {
     "data": {
      "text/plain": [
       "array([0, 0, 0, ..., 1, 0, 0])"
      ]
     },
     "execution_count": 136,
     "metadata": {},
     "output_type": "execute_result"
    }
   ],
   "source": [
    "y_pred_1 = model.predict(features_test_1)\n",
    "y_pred_1"
   ]
  },
  {
   "cell_type": "code",
   "execution_count": 137,
   "id": "f06d1b3d",
   "metadata": {},
   "outputs": [
    {
     "data": {
      "text/plain": [
       "array([9.37717972e-04, 6.65221130e-04, 1.47902624e-03, 1.04016165e-01,\n",
       "       1.03958749e-04, 3.11505614e-02, 8.08675944e-01, 9.19599658e-03,\n",
       "       4.82590529e-03, 3.15145779e-03])"
      ]
     },
     "execution_count": 137,
     "metadata": {},
     "output_type": "execute_result"
    }
   ],
   "source": [
    "y_pred_1_proba = model.predict_proba(features_test_1)[:,1]\n",
    "y_pred_1_proba[:10]"
   ]
  },
  {
   "cell_type": "markdown",
   "id": "97b9e379",
   "metadata": {},
   "source": [
    "# Причина номер 2"
   ]
  },
  {
   "cell_type": "markdown",
   "id": "fcfaba59",
   "metadata": {},
   "source": [
    "Список всех значений, где в target есть 2:  \n",
    "2       ----      12  \n",
    "1,2,6   ----       1  "
   ]
  },
  {
   "cell_type": "markdown",
   "id": "2bc6b335",
   "metadata": {},
   "source": [
    "Заменим все значения 8 по этим условиям на 2"
   ]
  },
  {
   "cell_type": "code",
   "execution_count": 138,
   "id": "6a3cc805",
   "metadata": {},
   "outputs": [],
   "source": [
    "#сохраним все отказные отзывы в отдельный датасет, с которым и продолжим работу\n",
    "train_df_negative_2 = train_df.loc[train_df['target_review'] == 1]"
   ]
  },
  {
   "cell_type": "code",
   "execution_count": 139,
   "id": "19a92624",
   "metadata": {},
   "outputs": [
    {
     "data": {
      "text/plain": [
       "city                      715\n",
       "position                10628\n",
       "positive                26376\n",
       "negative                26789\n",
       "salary_rating               5\n",
       "team_rating                 5\n",
       "managment_rating            5\n",
       "career_rating               5\n",
       "workplace_rating            5\n",
       "rest_recovery_rating        5\n",
       "target                     43\n",
       "target_review               1\n",
       "review_union            29857\n",
       "dtype: int64"
      ]
     },
     "execution_count": 139,
     "metadata": {},
     "output_type": "execute_result"
    }
   ],
   "source": [
    "#проверим результат\n",
    "train_df_negative_2.nunique()"
   ]
  },
  {
   "cell_type": "code",
   "execution_count": 140,
   "id": "e7909af5",
   "metadata": {},
   "outputs": [],
   "source": [
    "train_df_negative_2['target_review'] = train_df_negative_2['target']"
   ]
  },
  {
   "cell_type": "code",
   "execution_count": 141,
   "id": "d920a092",
   "metadata": {},
   "outputs": [
    {
     "data": {
      "text/html": [
       "<div>\n",
       "<style scoped>\n",
       "    .dataframe tbody tr th:only-of-type {\n",
       "        vertical-align: middle;\n",
       "    }\n",
       "\n",
       "    .dataframe tbody tr th {\n",
       "        vertical-align: top;\n",
       "    }\n",
       "\n",
       "    .dataframe thead th {\n",
       "        text-align: right;\n",
       "    }\n",
       "</style>\n",
       "<table border=\"1\" class=\"dataframe\">\n",
       "  <thead>\n",
       "    <tr style=\"text-align: right;\">\n",
       "      <th></th>\n",
       "      <th>city</th>\n",
       "      <th>position</th>\n",
       "      <th>positive</th>\n",
       "      <th>negative</th>\n",
       "      <th>salary_rating</th>\n",
       "      <th>team_rating</th>\n",
       "      <th>managment_rating</th>\n",
       "      <th>career_rating</th>\n",
       "      <th>workplace_rating</th>\n",
       "      <th>rest_recovery_rating</th>\n",
       "      <th>target</th>\n",
       "      <th>target_review</th>\n",
       "      <th>review_union</th>\n",
       "    </tr>\n",
       "    <tr>\n",
       "      <th>review_id</th>\n",
       "      <th></th>\n",
       "      <th></th>\n",
       "      <th></th>\n",
       "      <th></th>\n",
       "      <th></th>\n",
       "      <th></th>\n",
       "      <th></th>\n",
       "      <th></th>\n",
       "      <th></th>\n",
       "      <th></th>\n",
       "      <th></th>\n",
       "      <th></th>\n",
       "      <th></th>\n",
       "    </tr>\n",
       "  </thead>\n",
       "  <tbody>\n",
       "    <tr>\n",
       "      <th>1</th>\n",
       "      <td>Москва</td>\n",
       "      <td>Руководитель проекта</td>\n",
       "      <td>Расположение офиса, своего рода стабильность (госбанк)</td>\n",
       "      <td>Упростить процессы - все процессы ради процессов, а не результата. Избавиться от чрезмерного уровня бюрократии. Внедрить нормальный электронный документооборот - сейчас все на бумажках, даже то, что заводится в ЭДО. Высшему руководству избавиться от нежелания видеть проблемы - сейчас действует принцип «не вижу проблемы, значит ее нет».</td>\n",
       "      <td>хорошо</td>\n",
       "      <td>хорошо</td>\n",
       "      <td>хорошо</td>\n",
       "      <td>ужасно</td>\n",
       "      <td>ужасно</td>\n",
       "      <td>ужасно</td>\n",
       "      <td>8</td>\n",
       "      <td>8</td>\n",
       "      <td>Москва Руководитель проекта Расположение офиса, своего рода стабильность (госбанк) Упростить процессы - все процессы ради процессов, а не результата. Избавиться от чрезмерного уровня бюрократии. Внедрить нормальный электронный документооборот - сейчас все на бумажках, даже то, что заводится в ЭДО. Высшему руководству избавиться от нежелания видеть проблемы - сейчас действует принцип «не вижу проблемы, значит ее нет». хорошо хорошо хорошо ужасно ужасно ужасно</td>\n",
       "    </tr>\n",
       "    <tr>\n",
       "      <th>7</th>\n",
       "      <td>Москва</td>\n",
       "      <td>Инженер КИПиА</td>\n",
       "      <td>В принципе норм.Работать можно</td>\n",
       "      <td>Всегда есть к чему стремиться</td>\n",
       "      <td>хорошо</td>\n",
       "      <td>отлично</td>\n",
       "      <td>хорошо</td>\n",
       "      <td>плохо</td>\n",
       "      <td>отлично</td>\n",
       "      <td>плохо</td>\n",
       "      <td>8</td>\n",
       "      <td>8</td>\n",
       "      <td>Москва Инженер КИПиА В принципе норм.Работать можно Всегда есть к чему стремиться хорошо отлично хорошо плохо отлично плохо</td>\n",
       "    </tr>\n",
       "    <tr>\n",
       "      <th>21</th>\n",
       "      <td>Новосибирск</td>\n",
       "      <td>Менеджер по работе с крупными корпоративными и государственными клиентами (КАМ)</td>\n",
       "      <td>Ужасно , просто совдепия, зарплата нищенская</td>\n",
       "      <td>Там надо всё улучшать, место дно.</td>\n",
       "      <td>ужасно</td>\n",
       "      <td>плохо</td>\n",
       "      <td>ужасно</td>\n",
       "      <td>ужасно</td>\n",
       "      <td>ужасно</td>\n",
       "      <td>ужасно</td>\n",
       "      <td>8</td>\n",
       "      <td>8</td>\n",
       "      <td>Новосибирск Менеджер по работе с крупными корпоративными и государственными клиентами (КАМ) Ужасно , просто совдепия, зарплата нищенская Там надо всё улучшать, место дно. ужасно плохо ужасно ужасно ужасно ужасно</td>\n",
       "    </tr>\n",
       "    <tr>\n",
       "      <th>22</th>\n",
       "      <td></td>\n",
       "      <td>Механик</td>\n",
       "      <td>Норм норм норм норм норм</td>\n",
       "      <td>Ниче ниче ниче гтчн ниче</td>\n",
       "      <td>отлично</td>\n",
       "      <td>отлично</td>\n",
       "      <td>отлично</td>\n",
       "      <td>отлично</td>\n",
       "      <td>отлично</td>\n",
       "      <td>отлично</td>\n",
       "      <td>8</td>\n",
       "      <td>8</td>\n",
       "      <td>Механик Норм норм норм норм норм Ниче ниче ниче гтчн ниче отлично отлично отлично отлично отлично отлично</td>\n",
       "    </tr>\n",
       "    <tr>\n",
       "      <th>31</th>\n",
       "      <td>Москва</td>\n",
       "      <td>Поиск Работы в строительстве</td>\n",
       "      <td>Позвали на собеседование, но не сказали что нужно прежде чем устроиться оплатить обучение, не известно попадёшь работать или нет. Лохотрон</td>\n",
       "      <td>Не звать на собеседование</td>\n",
       "      <td>ужасно</td>\n",
       "      <td>ужасно</td>\n",
       "      <td>ужасно</td>\n",
       "      <td>ужасно</td>\n",
       "      <td>ужасно</td>\n",
       "      <td>ужасно</td>\n",
       "      <td>7</td>\n",
       "      <td>7</td>\n",
       "      <td>Москва Поиск Работы в строительстве Позвали на собеседование, но не сказали что нужно прежде чем устроиться оплатить обучение, не известно попадёшь работать или нет. Лохотрон Не звать на собеседование ужасно ужасно ужасно ужасно ужасно ужасно</td>\n",
       "    </tr>\n",
       "  </tbody>\n",
       "</table>\n",
       "</div>"
      ],
      "text/plain": [
       "                  city  \\\n",
       "review_id                \n",
       "1               Москва   \n",
       "7               Москва   \n",
       "21         Новосибирск   \n",
       "22                       \n",
       "31              Москва   \n",
       "\n",
       "                                                                                  position  \\\n",
       "review_id                                                                                    \n",
       "1                                                                     Руководитель проекта   \n",
       "7                                                                            Инженер КИПиА   \n",
       "21         Менеджер по работе с крупными корпоративными и государственными клиентами (КАМ)   \n",
       "22                                                                                 Механик   \n",
       "31                                                            Поиск Работы в строительстве   \n",
       "\n",
       "                                                                                                                                             positive  \\\n",
       "review_id                                                                                                                                               \n",
       "1                                                                                              Расположение офиса, своего рода стабильность (госбанк)   \n",
       "7                                                                                                                      В принципе норм.Работать можно   \n",
       "21                                                                                                       Ужасно , просто совдепия, зарплата нищенская   \n",
       "22                                                                                                                           Норм норм норм норм норм   \n",
       "31         Позвали на собеседование, но не сказали что нужно прежде чем устроиться оплатить обучение, не известно попадёшь работать или нет. Лохотрон   \n",
       "\n",
       "                                                                                                                                                                                                                                                                                                                                                    negative  \\\n",
       "review_id                                                                                                                                                                                                                                                                                                                                                      \n",
       "1          Упростить процессы - все процессы ради процессов, а не результата. Избавиться от чрезмерного уровня бюрократии. Внедрить нормальный электронный документооборот - сейчас все на бумажках, даже то, что заводится в ЭДО. Высшему руководству избавиться от нежелания видеть проблемы - сейчас действует принцип «не вижу проблемы, значит ее нет».   \n",
       "7                                                                                                                                                                                                                                                                                                                              Всегда есть к чему стремиться   \n",
       "21                                                                                                                                                                                                                                                                                                                         Там надо всё улучшать, место дно.   \n",
       "22                                                                                                                                                                                                                                                                                                                                  Ниче ниче ниче гтчн ниче   \n",
       "31                                                                                                                                                                                                                                                                                                                                 Не звать на собеседование   \n",
       "\n",
       "          salary_rating team_rating managment_rating career_rating  \\\n",
       "review_id                                                            \n",
       "1                хорошо      хорошо           хорошо        ужасно   \n",
       "7                хорошо     отлично           хорошо         плохо   \n",
       "21               ужасно       плохо           ужасно        ужасно   \n",
       "22              отлично     отлично          отлично       отлично   \n",
       "31               ужасно      ужасно           ужасно        ужасно   \n",
       "\n",
       "          workplace_rating rest_recovery_rating target target_review  \\\n",
       "review_id                                                              \n",
       "1                   ужасно               ужасно      8             8   \n",
       "7                  отлично                плохо      8             8   \n",
       "21                  ужасно               ужасно      8             8   \n",
       "22                 отлично              отлично      8             8   \n",
       "31                  ужасно               ужасно      7             7   \n",
       "\n",
       "                                                                                                                                                                                                                                                                                                                                                                                                                                                                             review_union  \n",
       "review_id                                                                                                                                                                                                                                                                                                                                                                                                                                                                                  \n",
       "1          Москва Руководитель проекта Расположение офиса, своего рода стабильность (госбанк) Упростить процессы - все процессы ради процессов, а не результата. Избавиться от чрезмерного уровня бюрократии. Внедрить нормальный электронный документооборот - сейчас все на бумажках, даже то, что заводится в ЭДО. Высшему руководству избавиться от нежелания видеть проблемы - сейчас действует принцип «не вижу проблемы, значит ее нет». хорошо хорошо хорошо ужасно ужасно ужасно  \n",
       "7                                                                                                                                                                                                                                                                                                                                                             Москва Инженер КИПиА В принципе норм.Работать можно Всегда есть к чему стремиться хорошо отлично хорошо плохо отлично плохо  \n",
       "21                                                                                                                                                                                                                                                                    Новосибирск Менеджер по работе с крупными корпоративными и государственными клиентами (КАМ) Ужасно , просто совдепия, зарплата нищенская Там надо всё улучшать, место дно. ужасно плохо ужасно ужасно ужасно ужасно  \n",
       "22                                                                                                                                                                                                                                                                                                                                                                              Механик Норм норм норм норм норм Ниче ниче ниче гтчн ниче отлично отлично отлично отлично отлично отлично  \n",
       "31                                                                                                                                                                                                                                     Москва Поиск Работы в строительстве Позвали на собеседование, но не сказали что нужно прежде чем устроиться оплатить обучение, не известно попадёшь работать или нет. Лохотрон Не звать на собеседование ужасно ужасно ужасно ужасно ужасно ужасно  "
      ]
     },
     "execution_count": 141,
     "metadata": {},
     "output_type": "execute_result"
    }
   ],
   "source": [
    "train_df_negative_2.head()"
   ]
  },
  {
   "cell_type": "code",
   "execution_count": 142,
   "id": "ceaf4b0e",
   "metadata": {},
   "outputs": [],
   "source": [
    "train_df_negative_2.loc[(train_df_negative_2['target_review'] == \"2\"), 'target_review'] = 2\n",
    "train_df_negative_2.loc[(train_df_negative_2['target_review'] == \"1,2,6\"), 'target_review'] = 2"
   ]
  },
  {
   "cell_type": "code",
   "execution_count": 143,
   "id": "379f2da5",
   "metadata": {},
   "outputs": [
    {
     "data": {
      "text/plain": [
       "8          24093\n",
       "1,8         1476\n",
       "1           1269\n",
       "3            905\n",
       "6,8          473\n",
       "6            368\n",
       "7            326\n",
       "3,8          209\n",
       "1,6          141\n",
       "5,8          121\n",
       "5            102\n",
       "1,5           78\n",
       "1,6,8         48\n",
       "4             38\n",
       "4,8           36\n",
       "1,5,8         33\n",
       "7,8           25\n",
       "1,4           24\n",
       "1,7           15\n",
       "5,7           13\n",
       "2             13\n",
       "1,3            9\n",
       "5,6            9\n",
       "1,5,6          7\n",
       "5,6,8          6\n",
       "4,6            5\n",
       "3,7            5\n",
       "1,4,8          4\n",
       "1,4,6          3\n",
       "1,3,8          3\n",
       "6,7            3\n",
       "1,7,8          2\n",
       "1,3,5          2\n",
       "1,3,6          1\n",
       "3,6            1\n",
       "3,5,7          1\n",
       "3,5,8          1\n",
       "1,5,6,8        1\n",
       "4,6,8          1\n",
       "3,6,8          1\n",
       "5,7,8          1\n",
       "3,5            1\n",
       "Name: target_review, dtype: int64"
      ]
     },
     "execution_count": 143,
     "metadata": {},
     "output_type": "execute_result"
    }
   ],
   "source": [
    "train_df_negative_2['target_review'].value_counts()"
   ]
  },
  {
   "cell_type": "code",
   "execution_count": 144,
   "id": "9bd5816f",
   "metadata": {},
   "outputs": [
    {
     "data": {
      "text/plain": [
       "city                      715\n",
       "position                10628\n",
       "positive                26376\n",
       "negative                26789\n",
       "salary_rating               5\n",
       "team_rating                 5\n",
       "managment_rating            5\n",
       "career_rating               5\n",
       "workplace_rating            5\n",
       "rest_recovery_rating        5\n",
       "target                     43\n",
       "target_review              42\n",
       "review_union            29857\n",
       "dtype: int64"
      ]
     },
     "execution_count": 144,
     "metadata": {},
     "output_type": "execute_result"
    }
   ],
   "source": [
    "train_df_negative_2.nunique()"
   ]
  },
  {
   "cell_type": "code",
   "execution_count": 145,
   "id": "e3c3399e",
   "metadata": {},
   "outputs": [],
   "source": [
    "#заменим все не 1 на 8\n",
    "train_df_negative_2.loc[(train_df_negative_2['target_review'] != 2), 'target_review'] = 8"
   ]
  },
  {
   "cell_type": "code",
   "execution_count": 146,
   "id": "d523bcdc",
   "metadata": {},
   "outputs": [
    {
     "data": {
      "text/plain": [
       "city                      715\n",
       "position                10628\n",
       "positive                26376\n",
       "negative                26789\n",
       "salary_rating               5\n",
       "team_rating                 5\n",
       "managment_rating            5\n",
       "career_rating               5\n",
       "workplace_rating            5\n",
       "rest_recovery_rating        5\n",
       "target                     43\n",
       "target_review               2\n",
       "review_union            29857\n",
       "dtype: int64"
      ]
     },
     "execution_count": 146,
     "metadata": {},
     "output_type": "execute_result"
    }
   ],
   "source": [
    "train_df_negative_2.nunique()"
   ]
  },
  {
   "cell_type": "code",
   "execution_count": 147,
   "id": "e4a103c9",
   "metadata": {},
   "outputs": [],
   "source": [
    "train_df_negative_2['target_review'] = train_df_negative_2['target_review'].apply(int)"
   ]
  },
  {
   "cell_type": "code",
   "execution_count": 148,
   "id": "26664dfa",
   "metadata": {},
   "outputs": [
    {
     "data": {
      "text/plain": [
       "8    29860\n",
       "2       13\n",
       "Name: target_review, dtype: int64"
      ]
     },
     "execution_count": 148,
     "metadata": {},
     "output_type": "execute_result"
    }
   ],
   "source": [
    "train_df_negative_2['target_review'].value_counts()"
   ]
  },
  {
   "cell_type": "code",
   "execution_count": 149,
   "id": "2f853f8c",
   "metadata": {},
   "outputs": [],
   "source": [
    "#заменим все не 1 на 8\n",
    "train_df_negative_2.loc[(train_df_negative_2['target_review'] == 2), 'target_review'] = 1\n",
    "train_df_negative_2.loc[(train_df_negative_2['target_review'] == 8), 'target_review'] = 0"
   ]
  },
  {
   "cell_type": "code",
   "execution_count": 150,
   "id": "16090f10",
   "metadata": {},
   "outputs": [
    {
     "data": {
      "text/plain": [
       "0    29860\n",
       "1       13\n",
       "Name: target_review, dtype: int64"
      ]
     },
     "execution_count": 150,
     "metadata": {},
     "output_type": "execute_result"
    }
   ],
   "source": [
    "train_df_negative_2['target_review'].value_counts()"
   ]
  },
  {
   "cell_type": "markdown",
   "id": "6a00d6b1",
   "metadata": {},
   "source": [
    "Разбиение прошло успешно, создадим модель"
   ]
  },
  {
   "cell_type": "code",
   "execution_count": 151,
   "id": "76cdc041",
   "metadata": {},
   "outputs": [],
   "source": [
    "#разобьёем train_df на train и test\n",
    "train_df_negative_2_split, test_df_negative_2_split = train_test_split(train_df_negative_2, test_size=2000, random_state=2)"
   ]
  },
  {
   "cell_type": "code",
   "execution_count": 152,
   "id": "b4907a54",
   "metadata": {},
   "outputs": [
    {
     "data": {
      "text/plain": [
       "(2000, 13)"
      ]
     },
     "execution_count": 152,
     "metadata": {},
     "output_type": "execute_result"
    }
   ],
   "source": [
    "test_df_negative_2_split.shape"
   ]
  },
  {
   "cell_type": "code",
   "execution_count": 153,
   "id": "fe3c36a6",
   "metadata": {},
   "outputs": [
    {
     "data": {
      "text/plain": [
       "0    1999\n",
       "1       1\n",
       "Name: target_review, dtype: int64"
      ]
     },
     "execution_count": 153,
     "metadata": {},
     "output_type": "execute_result"
    }
   ],
   "source": [
    "test_df_negative_2_split['target_review'].value_counts()"
   ]
  },
  {
   "cell_type": "code",
   "execution_count": 154,
   "id": "204856ca",
   "metadata": {},
   "outputs": [
    {
     "data": {
      "text/plain": [
       "0    27861\n",
       "1       12\n",
       "Name: target_review, dtype: int64"
      ]
     },
     "execution_count": 154,
     "metadata": {},
     "output_type": "execute_result"
    }
   ],
   "source": [
    "train_df_negative_2_split['target_review'].value_counts()"
   ]
  },
  {
   "cell_type": "code",
   "execution_count": 155,
   "id": "d1218c95",
   "metadata": {},
   "outputs": [],
   "source": [
    "vectorizer_2 = TfidfVectorizer(tokenizer=lambda x: tokenize_sentence(x, remove_stop_words=True))"
   ]
  },
  {
   "cell_type": "code",
   "execution_count": 156,
   "id": "61f8879b",
   "metadata": {},
   "outputs": [],
   "source": [
    "features_2 = vectorizer_2.fit_transform(train_df_negative_2['review_union'])"
   ]
  },
  {
   "cell_type": "code",
   "execution_count": 157,
   "id": "07da16ca",
   "metadata": {},
   "outputs": [
    {
     "data": {
      "text/plain": [
       "LogisticRegression(random_state=0)"
      ]
     },
     "execution_count": 157,
     "metadata": {},
     "output_type": "execute_result"
    }
   ],
   "source": [
    "model = LogisticRegression(random_state=0)\n",
    "model.fit(features_2, train_df_negative_2['target_review'])"
   ]
  },
  {
   "cell_type": "code",
   "execution_count": 158,
   "id": "cfef5bca",
   "metadata": {},
   "outputs": [],
   "source": [
    "model_pipeline = Pipeline([\n",
    "    (\"vectorizer_2\", TfidfVectorizer(tokenizer=lambda x: tokenize_sentence(x, remove_stop_words=True))),\n",
    "    (\"model\", LogisticRegression(random_state=0))\n",
    "]\n",
    ")"
   ]
  },
  {
   "cell_type": "code",
   "execution_count": 159,
   "id": "4340e1b3",
   "metadata": {},
   "outputs": [
    {
     "data": {
      "text/plain": [
       "Pipeline(steps=[('vectorizer_2',\n",
       "                 TfidfVectorizer(tokenizer=<function <lambda> at 0x7f9b7219a9d0>)),\n",
       "                ('model', LogisticRegression(random_state=0))])"
      ]
     },
     "execution_count": 159,
     "metadata": {},
     "output_type": "execute_result"
    }
   ],
   "source": [
    "model_pipeline.fit(train_df_negative_2[\"review_union\"], train_df_negative_2[\"target_review\"])"
   ]
  },
  {
   "cell_type": "code",
   "execution_count": 160,
   "id": "785f8b07",
   "metadata": {},
   "outputs": [
    {
     "data": {
      "text/plain": [
       "0.0"
      ]
     },
     "execution_count": 160,
     "metadata": {},
     "output_type": "execute_result"
    }
   ],
   "source": [
    "precision_score(y_true=test_df_negative_2_split[\"target_review\"], y_pred=model_pipeline.predict(test_df_negative_2_split[\"review_union\"]))"
   ]
  },
  {
   "cell_type": "code",
   "execution_count": 161,
   "id": "986e408a",
   "metadata": {},
   "outputs": [
    {
     "data": {
      "text/plain": [
       "0.0"
      ]
     },
     "execution_count": 161,
     "metadata": {},
     "output_type": "execute_result"
    }
   ],
   "source": [
    "recall_score(y_true=test_df_negative_2_split[\"target_review\"], y_pred=model_pipeline.predict(test_df_negative_2_split[\"review_union\"]))"
   ]
  },
  {
   "cell_type": "code",
   "execution_count": 162,
   "id": "0f53a2c4",
   "metadata": {},
   "outputs": [],
   "source": [
    "prec, rec, thresholds = precision_recall_curve(y_true=test_df_negative_2_split[\"target_review\"], probas_pred=model_pipeline.predict_proba(test_df_negative_2_split[\"review_union\"])[:, 1])"
   ]
  },
  {
   "cell_type": "code",
   "execution_count": 163,
   "id": "f43d040b",
   "metadata": {},
   "outputs": [
    {
     "data": {
      "text/plain": [
       "<sklearn.metrics._plot.precision_recall_curve.PrecisionRecallDisplay at 0x7f9b598877f0>"
      ]
     },
     "execution_count": 163,
     "metadata": {},
     "output_type": "execute_result"
    },
    {
     "data": {
      "image/png": "[encoded data removed]",
      "text/plain": [
       "<Figure size 432x288 with 1 Axes>"
      ]
     },
     "metadata": {},
     "output_type": "display_data"
    }
   ],
   "source": [
    "plot_precision_recall_curve(estimator=model_pipeline, X=test_df_negative_2_split[\"review_union\"], y=test_df_negative_2_split[\"target_review\"])"
   ]
  },
  {
   "cell_type": "markdown",
   "id": "6a0b8638",
   "metadata": {},
   "source": [
    "<span style=\"color:red\">Построение модели по выявлению причины 2 требует больших времененных затрат и масштабирования ввиду сильного дисбаланса классов</span>"
   ]
  },
  {
   "cell_type": "code",
   "execution_count": 164,
   "id": "77cb84ff",
   "metadata": {},
   "outputs": [],
   "source": [
    "features_test_2 = vectorizer_2.transform(test_negative_df['review_union'])"
   ]
  },
  {
   "cell_type": "code",
   "execution_count": 165,
   "id": "e5e47948",
   "metadata": {},
   "outputs": [
    {
     "data": {
      "text/plain": [
       "array([0, 0, 0, ..., 0, 0, 0])"
      ]
     },
     "execution_count": 165,
     "metadata": {},
     "output_type": "execute_result"
    }
   ],
   "source": [
    "y_pred_2 = model.predict(features_test_2)\n",
    "y_pred_2"
   ]
  },
  {
   "cell_type": "code",
   "execution_count": 166,
   "id": "2f672b46",
   "metadata": {},
   "outputs": [
    {
     "data": {
      "text/plain": [
       "array([0.00057432, 0.00051976, 0.00052427, 0.00044332, 0.0005072 ,\n",
       "       0.00035972, 0.00026476, 0.00054219, 0.00051666, 0.00038817])"
      ]
     },
     "execution_count": 166,
     "metadata": {},
     "output_type": "execute_result"
    }
   ],
   "source": [
    "y_pred_2_proba = model.predict_proba(features_test_2)[:,1]\n",
    "y_pred_2_proba[:10]"
   ]
  },
  {
   "cell_type": "markdown",
   "id": "4d8bed4f",
   "metadata": {},
   "source": [
    "# Причина номер 3"
   ]
  },
  {
   "cell_type": "markdown",
   "id": "0548ac11",
   "metadata": {},
   "source": [
    "Список всех значений, где в target есть 3:  \n",
    "3        ----    905  \n",
    "3,8       ----   209  \n",
    "1,3        ----    9  \n",
    "3,7        ----    5  \n",
    "1,3,8      ----    3  \n",
    "1,3,5       ----   2  \n",
    "1,3,6      ----    1  \n",
    "3,5        ----    1  \n",
    "3,5,8      ----    1  \n",
    "3,5,7      ----    1  \n",
    "3,6,8      ----    1  \n",
    "3,6        ----    1  "
   ]
  },
  {
   "cell_type": "markdown",
   "id": "f13c7de1",
   "metadata": {},
   "source": [
    "Заменим все значения 8 по этим условиям на 3"
   ]
  },
  {
   "cell_type": "code",
   "execution_count": 167,
   "id": "0c97e652",
   "metadata": {},
   "outputs": [],
   "source": [
    "#сохраним все отказные отзывы в отдельный датасет, с которым и продолжим работу\n",
    "train_df_negative_3 = train_df.loc[train_df['target_review'] == 1]"
   ]
  },
  {
   "cell_type": "code",
   "execution_count": 168,
   "id": "4132710e",
   "metadata": {},
   "outputs": [
    {
     "data": {
      "text/plain": [
       "city                      715\n",
       "position                10628\n",
       "positive                26376\n",
       "negative                26789\n",
       "salary_rating               5\n",
       "team_rating                 5\n",
       "managment_rating            5\n",
       "career_rating               5\n",
       "workplace_rating            5\n",
       "rest_recovery_rating        5\n",
       "target                     43\n",
       "target_review               1\n",
       "review_union            29857\n",
       "dtype: int64"
      ]
     },
     "execution_count": 168,
     "metadata": {},
     "output_type": "execute_result"
    }
   ],
   "source": [
    "#проверим результат\n",
    "train_df_negative_3.nunique()"
   ]
  },
  {
   "cell_type": "code",
   "execution_count": 169,
   "id": "bb429fa1",
   "metadata": {},
   "outputs": [],
   "source": [
    "train_df_negative_3['target_review'] = train_df_negative_3['target']"
   ]
  },
  {
   "cell_type": "code",
   "execution_count": 170,
   "id": "6456214d",
   "metadata": {},
   "outputs": [
    {
     "data": {
      "text/html": [
       "<div>\n",
       "<style scoped>\n",
       "    .dataframe tbody tr th:only-of-type {\n",
       "        vertical-align: middle;\n",
       "    }\n",
       "\n",
       "    .dataframe tbody tr th {\n",
       "        vertical-align: top;\n",
       "    }\n",
       "\n",
       "    .dataframe thead th {\n",
       "        text-align: right;\n",
       "    }\n",
       "</style>\n",
       "<table border=\"1\" class=\"dataframe\">\n",
       "  <thead>\n",
       "    <tr style=\"text-align: right;\">\n",
       "      <th></th>\n",
       "      <th>city</th>\n",
       "      <th>position</th>\n",
       "      <th>positive</th>\n",
       "      <th>negative</th>\n",
       "      <th>salary_rating</th>\n",
       "      <th>team_rating</th>\n",
       "      <th>managment_rating</th>\n",
       "      <th>career_rating</th>\n",
       "      <th>workplace_rating</th>\n",
       "      <th>rest_recovery_rating</th>\n",
       "      <th>target</th>\n",
       "      <th>target_review</th>\n",
       "      <th>review_union</th>\n",
       "    </tr>\n",
       "    <tr>\n",
       "      <th>review_id</th>\n",
       "      <th></th>\n",
       "      <th></th>\n",
       "      <th></th>\n",
       "      <th></th>\n",
       "      <th></th>\n",
       "      <th></th>\n",
       "      <th></th>\n",
       "      <th></th>\n",
       "      <th></th>\n",
       "      <th></th>\n",
       "      <th></th>\n",
       "      <th></th>\n",
       "      <th></th>\n",
       "    </tr>\n",
       "  </thead>\n",
       "  <tbody>\n",
       "    <tr>\n",
       "      <th>1</th>\n",
       "      <td>Москва</td>\n",
       "      <td>Руководитель проекта</td>\n",
       "      <td>Расположение офиса, своего рода стабильность (госбанк)</td>\n",
       "      <td>Упростить процессы - все процессы ради процессов, а не результата. Избавиться от чрезмерного уровня бюрократии. Внедрить нормальный электронный документооборот - сейчас все на бумажках, даже то, что заводится в ЭДО. Высшему руководству избавиться от нежелания видеть проблемы - сейчас действует принцип «не вижу проблемы, значит ее нет».</td>\n",
       "      <td>хорошо</td>\n",
       "      <td>хорошо</td>\n",
       "      <td>хорошо</td>\n",
       "      <td>ужасно</td>\n",
       "      <td>ужасно</td>\n",
       "      <td>ужасно</td>\n",
       "      <td>8</td>\n",
       "      <td>8</td>\n",
       "      <td>Москва Руководитель проекта Расположение офиса, своего рода стабильность (госбанк) Упростить процессы - все процессы ради процессов, а не результата. Избавиться от чрезмерного уровня бюрократии. Внедрить нормальный электронный документооборот - сейчас все на бумажках, даже то, что заводится в ЭДО. Высшему руководству избавиться от нежелания видеть проблемы - сейчас действует принцип «не вижу проблемы, значит ее нет». хорошо хорошо хорошо ужасно ужасно ужасно</td>\n",
       "    </tr>\n",
       "    <tr>\n",
       "      <th>7</th>\n",
       "      <td>Москва</td>\n",
       "      <td>Инженер КИПиА</td>\n",
       "      <td>В принципе норм.Работать можно</td>\n",
       "      <td>Всегда есть к чему стремиться</td>\n",
       "      <td>хорошо</td>\n",
       "      <td>отлично</td>\n",
       "      <td>хорошо</td>\n",
       "      <td>плохо</td>\n",
       "      <td>отлично</td>\n",
       "      <td>плохо</td>\n",
       "      <td>8</td>\n",
       "      <td>8</td>\n",
       "      <td>Москва Инженер КИПиА В принципе норм.Работать можно Всегда есть к чему стремиться хорошо отлично хорошо плохо отлично плохо</td>\n",
       "    </tr>\n",
       "    <tr>\n",
       "      <th>21</th>\n",
       "      <td>Новосибирск</td>\n",
       "      <td>Менеджер по работе с крупными корпоративными и государственными клиентами (КАМ)</td>\n",
       "      <td>Ужасно , просто совдепия, зарплата нищенская</td>\n",
       "      <td>Там надо всё улучшать, место дно.</td>\n",
       "      <td>ужасно</td>\n",
       "      <td>плохо</td>\n",
       "      <td>ужасно</td>\n",
       "      <td>ужасно</td>\n",
       "      <td>ужасно</td>\n",
       "      <td>ужасно</td>\n",
       "      <td>8</td>\n",
       "      <td>8</td>\n",
       "      <td>Новосибирск Менеджер по работе с крупными корпоративными и государственными клиентами (КАМ) Ужасно , просто совдепия, зарплата нищенская Там надо всё улучшать, место дно. ужасно плохо ужасно ужасно ужасно ужасно</td>\n",
       "    </tr>\n",
       "    <tr>\n",
       "      <th>22</th>\n",
       "      <td></td>\n",
       "      <td>Механик</td>\n",
       "      <td>Норм норм норм норм норм</td>\n",
       "      <td>Ниче ниче ниче гтчн ниче</td>\n",
       "      <td>отлично</td>\n",
       "      <td>отлично</td>\n",
       "      <td>отлично</td>\n",
       "      <td>отлично</td>\n",
       "      <td>отлично</td>\n",
       "      <td>отлично</td>\n",
       "      <td>8</td>\n",
       "      <td>8</td>\n",
       "      <td>Механик Норм норм норм норм норм Ниче ниче ниче гтчн ниче отлично отлично отлично отлично отлично отлично</td>\n",
       "    </tr>\n",
       "    <tr>\n",
       "      <th>31</th>\n",
       "      <td>Москва</td>\n",
       "      <td>Поиск Работы в строительстве</td>\n",
       "      <td>Позвали на собеседование, но не сказали что нужно прежде чем устроиться оплатить обучение, не известно попадёшь работать или нет. Лохотрон</td>\n",
       "      <td>Не звать на собеседование</td>\n",
       "      <td>ужасно</td>\n",
       "      <td>ужасно</td>\n",
       "      <td>ужасно</td>\n",
       "      <td>ужасно</td>\n",
       "      <td>ужасно</td>\n",
       "      <td>ужасно</td>\n",
       "      <td>7</td>\n",
       "      <td>7</td>\n",
       "      <td>Москва Поиск Работы в строительстве Позвали на собеседование, но не сказали что нужно прежде чем устроиться оплатить обучение, не известно попадёшь работать или нет. Лохотрон Не звать на собеседование ужасно ужасно ужасно ужасно ужасно ужасно</td>\n",
       "    </tr>\n",
       "  </tbody>\n",
       "</table>\n",
       "</div>"
      ],
      "text/plain": [
       "                  city  \\\n",
       "review_id                \n",
       "1               Москва   \n",
       "7               Москва   \n",
       "21         Новосибирск   \n",
       "22                       \n",
       "31              Москва   \n",
       "\n",
       "                                                                                  position  \\\n",
       "review_id                                                                                    \n",
       "1                                                                     Руководитель проекта   \n",
       "7                                                                            Инженер КИПиА   \n",
       "21         Менеджер по работе с крупными корпоративными и государственными клиентами (КАМ)   \n",
       "22                                                                                 Механик   \n",
       "31                                                            Поиск Работы в строительстве   \n",
       "\n",
       "                                                                                                                                             positive  \\\n",
       "review_id                                                                                                                                               \n",
       "1                                                                                              Расположение офиса, своего рода стабильность (госбанк)   \n",
       "7                                                                                                                      В принципе норм.Работать можно   \n",
       "21                                                                                                       Ужасно , просто совдепия, зарплата нищенская   \n",
       "22                                                                                                                           Норм норм норм норм норм   \n",
       "31         Позвали на собеседование, но не сказали что нужно прежде чем устроиться оплатить обучение, не известно попадёшь работать или нет. Лохотрон   \n",
       "\n",
       "                                                                                                                                                                                                                                                                                                                                                    negative  \\\n",
       "review_id                                                                                                                                                                                                                                                                                                                                                      \n",
       "1          Упростить процессы - все процессы ради процессов, а не результата. Избавиться от чрезмерного уровня бюрократии. Внедрить нормальный электронный документооборот - сейчас все на бумажках, даже то, что заводится в ЭДО. Высшему руководству избавиться от нежелания видеть проблемы - сейчас действует принцип «не вижу проблемы, значит ее нет».   \n",
       "7                                                                                                                                                                                                                                                                                                                              Всегда есть к чему стремиться   \n",
       "21                                                                                                                                                                                                                                                                                                                         Там надо всё улучшать, место дно.   \n",
       "22                                                                                                                                                                                                                                                                                                                                  Ниче ниче ниче гтчн ниче   \n",
       "31                                                                                                                                                                                                                                                                                                                                 Не звать на собеседование   \n",
       "\n",
       "          salary_rating team_rating managment_rating career_rating  \\\n",
       "review_id                                                            \n",
       "1                хорошо      хорошо           хорошо        ужасно   \n",
       "7                хорошо     отлично           хорошо         плохо   \n",
       "21               ужасно       плохо           ужасно        ужасно   \n",
       "22              отлично     отлично          отлично       отлично   \n",
       "31               ужасно      ужасно           ужасно        ужасно   \n",
       "\n",
       "          workplace_rating rest_recovery_rating target target_review  \\\n",
       "review_id                                                              \n",
       "1                   ужасно               ужасно      8             8   \n",
       "7                  отлично                плохо      8             8   \n",
       "21                  ужасно               ужасно      8             8   \n",
       "22                 отлично              отлично      8             8   \n",
       "31                  ужасно               ужасно      7             7   \n",
       "\n",
       "                                                                                                                                                                                                                                                                                                                                                                                                                                                                             review_union  \n",
       "review_id                                                                                                                                                                                                                                                                                                                                                                                                                                                                                  \n",
       "1          Москва Руководитель проекта Расположение офиса, своего рода стабильность (госбанк) Упростить процессы - все процессы ради процессов, а не результата. Избавиться от чрезмерного уровня бюрократии. Внедрить нормальный электронный документооборот - сейчас все на бумажках, даже то, что заводится в ЭДО. Высшему руководству избавиться от нежелания видеть проблемы - сейчас действует принцип «не вижу проблемы, значит ее нет». хорошо хорошо хорошо ужасно ужасно ужасно  \n",
       "7                                                                                                                                                                                                                                                                                                                                                             Москва Инженер КИПиА В принципе норм.Работать можно Всегда есть к чему стремиться хорошо отлично хорошо плохо отлично плохо  \n",
       "21                                                                                                                                                                                                                                                                    Новосибирск Менеджер по работе с крупными корпоративными и государственными клиентами (КАМ) Ужасно , просто совдепия, зарплата нищенская Там надо всё улучшать, место дно. ужасно плохо ужасно ужасно ужасно ужасно  \n",
       "22                                                                                                                                                                                                                                                                                                                                                                              Механик Норм норм норм норм норм Ниче ниче ниче гтчн ниче отлично отлично отлично отлично отлично отлично  \n",
       "31                                                                                                                                                                                                                                     Москва Поиск Работы в строительстве Позвали на собеседование, но не сказали что нужно прежде чем устроиться оплатить обучение, не известно попадёшь работать или нет. Лохотрон Не звать на собеседование ужасно ужасно ужасно ужасно ужасно ужасно  "
      ]
     },
     "execution_count": 170,
     "metadata": {},
     "output_type": "execute_result"
    }
   ],
   "source": [
    "train_df_negative_3.head()"
   ]
  },
  {
   "cell_type": "code",
   "execution_count": 171,
   "id": "b9b6b41f",
   "metadata": {},
   "outputs": [],
   "source": [
    "train_df_negative_3.loc[(train_df_negative_3['target_review'] == \"3\"), 'target_review'] = 3\n",
    "train_df_negative_3.loc[(train_df_negative_3['target_review'] == \"3,8\"), 'target_review'] = 3\n",
    "train_df_negative_3.loc[(train_df_negative_3['target_review'] == \"1,3\"), 'target_review'] = 3\n",
    "train_df_negative_3.loc[(train_df_negative_3['target_review'] == \"3,7\"), 'target_review'] = 3\n",
    "train_df_negative_3.loc[(train_df_negative_3['target_review'] == \"1,3,8\"), 'target_review'] = 3\n",
    "train_df_negative_3.loc[(train_df_negative_3['target_review'] == \"1,3,5\"), 'target_review'] = 3\n",
    "train_df_negative_3.loc[(train_df_negative_3['target_review'] == \"1,3,6\"), 'target_review'] = 3\n",
    "train_df_negative_3.loc[(train_df_negative_3['target_review'] == \"3,5\"), 'target_review'] = 3\n",
    "train_df_negative_3.loc[(train_df_negative_3['target_review'] == \"3,5,8\"), 'target_review'] = 3\n",
    "train_df_negative_3.loc[(train_df_negative_3['target_review'] == \"3,5,7\"), 'target_review'] = 3\n",
    "train_df_negative_3.loc[(train_df_negative_3['target_review'] == \"3,6,8\"), 'target_review'] = 3\n",
    "train_df_negative_3.loc[(train_df_negative_3['target_review'] == \"3,6\"), 'target_review'] = 3"
   ]
  },
  {
   "cell_type": "code",
   "execution_count": 172,
   "id": "e279c968",
   "metadata": {},
   "outputs": [
    {
     "data": {
      "text/plain": [
       "8          24093\n",
       "1,8         1476\n",
       "1           1269\n",
       "3           1139\n",
       "6,8          473\n",
       "6            368\n",
       "7            326\n",
       "1,6          141\n",
       "5,8          121\n",
       "5            102\n",
       "1,5           78\n",
       "1,6,8         48\n",
       "4             38\n",
       "4,8           36\n",
       "1,5,8         33\n",
       "7,8           25\n",
       "1,4           24\n",
       "1,7           15\n",
       "5,7           13\n",
       "2             12\n",
       "5,6            9\n",
       "1,5,6          7\n",
       "5,6,8          6\n",
       "4,6            5\n",
       "1,4,8          4\n",
       "6,7            3\n",
       "1,4,6          3\n",
       "1,7,8          2\n",
       "1,2,6          1\n",
       "5,7,8          1\n",
       "4,6,8          1\n",
       "1,5,6,8        1\n",
       "Name: target_review, dtype: int64"
      ]
     },
     "execution_count": 172,
     "metadata": {},
     "output_type": "execute_result"
    }
   ],
   "source": [
    "train_df_negative_3['target_review'].value_counts()"
   ]
  },
  {
   "cell_type": "code",
   "execution_count": 173,
   "id": "3ac33be2",
   "metadata": {},
   "outputs": [
    {
     "data": {
      "text/plain": [
       "city                      715\n",
       "position                10628\n",
       "positive                26376\n",
       "negative                26789\n",
       "salary_rating               5\n",
       "team_rating                 5\n",
       "managment_rating            5\n",
       "career_rating               5\n",
       "workplace_rating            5\n",
       "rest_recovery_rating        5\n",
       "target                     43\n",
       "target_review              32\n",
       "review_union            29857\n",
       "dtype: int64"
      ]
     },
     "execution_count": 173,
     "metadata": {},
     "output_type": "execute_result"
    }
   ],
   "source": [
    "train_df_negative_3.nunique()"
   ]
  },
  {
   "cell_type": "code",
   "execution_count": 174,
   "id": "39bbd2ea",
   "metadata": {},
   "outputs": [],
   "source": [
    "#заменим все не 3 на 8\n",
    "train_df_negative_3.loc[(train_df_negative_3['target_review'] != 3), 'target_review'] = 8"
   ]
  },
  {
   "cell_type": "code",
   "execution_count": 175,
   "id": "a6ac861a",
   "metadata": {},
   "outputs": [
    {
     "data": {
      "text/plain": [
       "city                      715\n",
       "position                10628\n",
       "positive                26376\n",
       "negative                26789\n",
       "salary_rating               5\n",
       "team_rating                 5\n",
       "managment_rating            5\n",
       "career_rating               5\n",
       "workplace_rating            5\n",
       "rest_recovery_rating        5\n",
       "target                     43\n",
       "target_review               2\n",
       "review_union            29857\n",
       "dtype: int64"
      ]
     },
     "execution_count": 175,
     "metadata": {},
     "output_type": "execute_result"
    }
   ],
   "source": [
    "train_df_negative_3.nunique()"
   ]
  },
  {
   "cell_type": "code",
   "execution_count": 176,
   "id": "3787f24c",
   "metadata": {},
   "outputs": [],
   "source": [
    "train_df_negative_3['target_review'] = train_df_negative_3['target_review'].apply(int)"
   ]
  },
  {
   "cell_type": "code",
   "execution_count": 177,
   "id": "f0b80874",
   "metadata": {},
   "outputs": [
    {
     "data": {
      "text/plain": [
       "8    28734\n",
       "3     1139\n",
       "Name: target_review, dtype: int64"
      ]
     },
     "execution_count": 177,
     "metadata": {},
     "output_type": "execute_result"
    }
   ],
   "source": [
    "train_df_negative_3['target_review'].value_counts()"
   ]
  },
  {
   "cell_type": "code",
   "execution_count": 178,
   "id": "87b5b963",
   "metadata": {},
   "outputs": [],
   "source": [
    "train_df_negative_3.loc[(train_df_negative_3['target_review'] == 3), 'target_review'] = 1\n",
    "train_df_negative_3.loc[(train_df_negative_3['target_review'] == 8), 'target_review'] = 0"
   ]
  },
  {
   "cell_type": "code",
   "execution_count": 179,
   "id": "113d6bab",
   "metadata": {},
   "outputs": [
    {
     "data": {
      "text/plain": [
       "0    28734\n",
       "1     1139\n",
       "Name: target_review, dtype: int64"
      ]
     },
     "execution_count": 179,
     "metadata": {},
     "output_type": "execute_result"
    }
   ],
   "source": [
    "train_df_negative_3['target_review'].value_counts()"
   ]
  },
  {
   "cell_type": "markdown",
   "id": "430317a9",
   "metadata": {},
   "source": [
    "Разбиение прошло успешно, создадим модель"
   ]
  },
  {
   "cell_type": "code",
   "execution_count": 180,
   "id": "5b326f0f",
   "metadata": {},
   "outputs": [],
   "source": [
    "#разобьёем train_df на train и test\n",
    "train_df_negative_3_split, test_df_negative_3_split = train_test_split(train_df_negative_3, test_size=2000, random_state=2)"
   ]
  },
  {
   "cell_type": "code",
   "execution_count": 181,
   "id": "8808a4c8",
   "metadata": {},
   "outputs": [
    {
     "data": {
      "text/plain": [
       "(2000, 13)"
      ]
     },
     "execution_count": 181,
     "metadata": {},
     "output_type": "execute_result"
    }
   ],
   "source": [
    "test_df_negative_3_split.shape"
   ]
  },
  {
   "cell_type": "code",
   "execution_count": 182,
   "id": "2c58c8af",
   "metadata": {},
   "outputs": [
    {
     "data": {
      "text/plain": [
       "0    1908\n",
       "1      92\n",
       "Name: target_review, dtype: int64"
      ]
     },
     "execution_count": 182,
     "metadata": {},
     "output_type": "execute_result"
    }
   ],
   "source": [
    "test_df_negative_3_split['target_review'].value_counts()"
   ]
  },
  {
   "cell_type": "code",
   "execution_count": 183,
   "id": "817a10f7",
   "metadata": {},
   "outputs": [
    {
     "data": {
      "text/plain": [
       "0    26826\n",
       "1     1047\n",
       "Name: target_review, dtype: int64"
      ]
     },
     "execution_count": 183,
     "metadata": {},
     "output_type": "execute_result"
    }
   ],
   "source": [
    "train_df_negative_3_split['target_review'].value_counts()"
   ]
  },
  {
   "cell_type": "code",
   "execution_count": 184,
   "id": "61dbacfb",
   "metadata": {},
   "outputs": [],
   "source": [
    "vectorizer_3 = TfidfVectorizer(tokenizer=lambda x: tokenize_sentence(x, remove_stop_words=True))"
   ]
  },
  {
   "cell_type": "code",
   "execution_count": 185,
   "id": "d1e53a0d",
   "metadata": {},
   "outputs": [],
   "source": [
    "features_3 = vectorizer_3.fit_transform(train_df_negative_3['review_union'])"
   ]
  },
  {
   "cell_type": "code",
   "execution_count": 186,
   "id": "8aa6bd77",
   "metadata": {},
   "outputs": [
    {
     "data": {
      "text/plain": [
       "LogisticRegression(C=10, random_state=0)"
      ]
     },
     "execution_count": 186,
     "metadata": {},
     "output_type": "execute_result"
    }
   ],
   "source": [
    "model = LogisticRegression(random_state=0, C=10)\n",
    "model.fit(features_3, train_df_negative_3['target_review'])"
   ]
  },
  {
   "cell_type": "code",
   "execution_count": 187,
   "id": "088ebbb8",
   "metadata": {},
   "outputs": [],
   "source": [
    "model_pipeline = Pipeline([\n",
    "    (\"vectorizer_3\", TfidfVectorizer(tokenizer=lambda x: tokenize_sentence(x, remove_stop_words=True))),\n",
    "    (\"model\", LogisticRegression(random_state=0, C=10))\n",
    "]\n",
    ")"
   ]
  },
  {
   "cell_type": "code",
   "execution_count": 188,
   "id": "ef50c714",
   "metadata": {},
   "outputs": [
    {
     "data": {
      "text/plain": [
       "Pipeline(steps=[('vectorizer_3',\n",
       "                 TfidfVectorizer(tokenizer=<function <lambda> at 0x7f9b43656940>)),\n",
       "                ('model', LogisticRegression(C=10, random_state=0))])"
      ]
     },
     "execution_count": 188,
     "metadata": {},
     "output_type": "execute_result"
    }
   ],
   "source": [
    "model_pipeline.fit(train_df_negative_3[\"review_union\"], train_df_negative_3[\"target_review\"])"
   ]
  },
  {
   "cell_type": "code",
   "execution_count": 189,
   "id": "f042a670",
   "metadata": {},
   "outputs": [
    {
     "data": {
      "text/plain": [
       "0.958904109589041"
      ]
     },
     "execution_count": 189,
     "metadata": {},
     "output_type": "execute_result"
    }
   ],
   "source": [
    "precision_score(y_true=test_df_negative_3_split[\"target_review\"], y_pred=model_pipeline.predict(test_df_negative_3_split[\"review_union\"]))"
   ]
  },
  {
   "cell_type": "code",
   "execution_count": 190,
   "id": "4e4dd101",
   "metadata": {},
   "outputs": [
    {
     "data": {
      "text/plain": [
       "0.7608695652173914"
      ]
     },
     "execution_count": 190,
     "metadata": {},
     "output_type": "execute_result"
    }
   ],
   "source": [
    "recall_score(y_true=test_df_negative_3_split[\"target_review\"], y_pred=model_pipeline.predict(test_df_negative_3_split[\"review_union\"]))"
   ]
  },
  {
   "cell_type": "code",
   "execution_count": 191,
   "id": "411bd6c5",
   "metadata": {},
   "outputs": [],
   "source": [
    "prec, rec, thresholds = precision_recall_curve(y_true=test_df_negative_3_split[\"target_review\"], probas_pred=model_pipeline.predict_proba(test_df_negative_3_split[\"review_union\"])[:, 1])"
   ]
  },
  {
   "cell_type": "code",
   "execution_count": 192,
   "id": "959ff25e",
   "metadata": {},
   "outputs": [
    {
     "data": {
      "text/plain": [
       "<sklearn.metrics._plot.precision_recall_curve.PrecisionRecallDisplay at 0x7f9b443ad850>"
      ]
     },
     "execution_count": 192,
     "metadata": {},
     "output_type": "execute_result"
    },
    {
     "data": {
      "image/png": "[encoded data removed]",
      "text/plain": [
       "<Figure size 432x288 with 1 Axes>"
      ]
     },
     "metadata": {},
     "output_type": "display_data"
    }
   ],
   "source": [
    "plot_precision_recall_curve(estimator=model_pipeline, X=test_df_negative_3_split[\"review_union\"], y=test_df_negative_3_split[\"target_review\"])"
   ]
  },
  {
   "cell_type": "code",
   "execution_count": 193,
   "id": "2938f835",
   "metadata": {},
   "outputs": [],
   "source": [
    "features_test_3 = vectorizer_3.transform(test_negative_df['review_union'])"
   ]
  },
  {
   "cell_type": "code",
   "execution_count": 194,
   "id": "9c026ca6",
   "metadata": {},
   "outputs": [
    {
     "data": {
      "text/plain": [
       "array([0, 0, 0, ..., 0, 0, 0])"
      ]
     },
     "execution_count": 194,
     "metadata": {},
     "output_type": "execute_result"
    }
   ],
   "source": [
    "y_pred_3 = model.predict(features_test_3)\n",
    "y_pred_3"
   ]
  },
  {
   "cell_type": "code",
   "execution_count": 195,
   "id": "ef1c537b",
   "metadata": {},
   "outputs": [
    {
     "data": {
      "text/plain": [
       "array([0.00090277, 0.00224098, 0.01510032, 0.00968717, 0.04988545,\n",
       "       0.00139323, 0.00136117, 0.00044276, 0.00812565, 0.00023753])"
      ]
     },
     "execution_count": 195,
     "metadata": {},
     "output_type": "execute_result"
    }
   ],
   "source": [
    "y_pred_3_proba = model.predict_proba(features_test_3)[:,1]\n",
    "y_pred_3_proba[:10]"
   ]
  },
  {
   "cell_type": "markdown",
   "id": "1930550e",
   "metadata": {},
   "source": [
    "# Причина номер 4"
   ]
  },
  {
   "cell_type": "markdown",
   "id": "d96a672a",
   "metadata": {},
   "source": [
    "Список всех значений, где в target есть 4:  \n",
    "4        ----     38  \n",
    "4,8       ----    36  \n",
    "1,4       ----    24  \n",
    "4,6       ----     5  \n",
    "1,4,8      ----    4  \n",
    "1,4,6      ----    3  \n",
    "4,6,8      ----    1  "
   ]
  },
  {
   "cell_type": "markdown",
   "id": "a37562f8",
   "metadata": {},
   "source": [
    "Заменим все значения 8 по этим условиям на 4"
   ]
  },
  {
   "cell_type": "code",
   "execution_count": 196,
   "id": "92cb3092",
   "metadata": {},
   "outputs": [],
   "source": [
    "#сохраним все отказные отзывы в отдельный датасет, с которым и продолжим работу\n",
    "train_df_negative_4 = train_df.loc[train_df['target_review'] == 1]"
   ]
  },
  {
   "cell_type": "code",
   "execution_count": 197,
   "id": "9682c5e8",
   "metadata": {},
   "outputs": [
    {
     "data": {
      "text/plain": [
       "city                      715\n",
       "position                10628\n",
       "positive                26376\n",
       "negative                26789\n",
       "salary_rating               5\n",
       "team_rating                 5\n",
       "managment_rating            5\n",
       "career_rating               5\n",
       "workplace_rating            5\n",
       "rest_recovery_rating        5\n",
       "target                     43\n",
       "target_review               1\n",
       "review_union            29857\n",
       "dtype: int64"
      ]
     },
     "execution_count": 197,
     "metadata": {},
     "output_type": "execute_result"
    }
   ],
   "source": [
    "#проверим результат\n",
    "train_df_negative_4.nunique()"
   ]
  },
  {
   "cell_type": "code",
   "execution_count": 198,
   "id": "70bc60f3",
   "metadata": {},
   "outputs": [],
   "source": [
    "train_df_negative_4['target_review'] = train_df_negative_4['target']"
   ]
  },
  {
   "cell_type": "code",
   "execution_count": 199,
   "id": "11595764",
   "metadata": {},
   "outputs": [
    {
     "data": {
      "text/html": [
       "<div>\n",
       "<style scoped>\n",
       "    .dataframe tbody tr th:only-of-type {\n",
       "        vertical-align: middle;\n",
       "    }\n",
       "\n",
       "    .dataframe tbody tr th {\n",
       "        vertical-align: top;\n",
       "    }\n",
       "\n",
       "    .dataframe thead th {\n",
       "        text-align: right;\n",
       "    }\n",
       "</style>\n",
       "<table border=\"1\" class=\"dataframe\">\n",
       "  <thead>\n",
       "    <tr style=\"text-align: right;\">\n",
       "      <th></th>\n",
       "      <th>city</th>\n",
       "      <th>position</th>\n",
       "      <th>positive</th>\n",
       "      <th>negative</th>\n",
       "      <th>salary_rating</th>\n",
       "      <th>team_rating</th>\n",
       "      <th>managment_rating</th>\n",
       "      <th>career_rating</th>\n",
       "      <th>workplace_rating</th>\n",
       "      <th>rest_recovery_rating</th>\n",
       "      <th>target</th>\n",
       "      <th>target_review</th>\n",
       "      <th>review_union</th>\n",
       "    </tr>\n",
       "    <tr>\n",
       "      <th>review_id</th>\n",
       "      <th></th>\n",
       "      <th></th>\n",
       "      <th></th>\n",
       "      <th></th>\n",
       "      <th></th>\n",
       "      <th></th>\n",
       "      <th></th>\n",
       "      <th></th>\n",
       "      <th></th>\n",
       "      <th></th>\n",
       "      <th></th>\n",
       "      <th></th>\n",
       "      <th></th>\n",
       "    </tr>\n",
       "  </thead>\n",
       "  <tbody>\n",
       "    <tr>\n",
       "      <th>1</th>\n",
       "      <td>Москва</td>\n",
       "      <td>Руководитель проекта</td>\n",
       "      <td>Расположение офиса, своего рода стабильность (госбанк)</td>\n",
       "      <td>Упростить процессы - все процессы ради процессов, а не результата. Избавиться от чрезмерного уровня бюрократии. Внедрить нормальный электронный документооборот - сейчас все на бумажках, даже то, что заводится в ЭДО. Высшему руководству избавиться от нежелания видеть проблемы - сейчас действует принцип «не вижу проблемы, значит ее нет».</td>\n",
       "      <td>хорошо</td>\n",
       "      <td>хорошо</td>\n",
       "      <td>хорошо</td>\n",
       "      <td>ужасно</td>\n",
       "      <td>ужасно</td>\n",
       "      <td>ужасно</td>\n",
       "      <td>8</td>\n",
       "      <td>8</td>\n",
       "      <td>Москва Руководитель проекта Расположение офиса, своего рода стабильность (госбанк) Упростить процессы - все процессы ради процессов, а не результата. Избавиться от чрезмерного уровня бюрократии. Внедрить нормальный электронный документооборот - сейчас все на бумажках, даже то, что заводится в ЭДО. Высшему руководству избавиться от нежелания видеть проблемы - сейчас действует принцип «не вижу проблемы, значит ее нет». хорошо хорошо хорошо ужасно ужасно ужасно</td>\n",
       "    </tr>\n",
       "    <tr>\n",
       "      <th>7</th>\n",
       "      <td>Москва</td>\n",
       "      <td>Инженер КИПиА</td>\n",
       "      <td>В принципе норм.Работать можно</td>\n",
       "      <td>Всегда есть к чему стремиться</td>\n",
       "      <td>хорошо</td>\n",
       "      <td>отлично</td>\n",
       "      <td>хорошо</td>\n",
       "      <td>плохо</td>\n",
       "      <td>отлично</td>\n",
       "      <td>плохо</td>\n",
       "      <td>8</td>\n",
       "      <td>8</td>\n",
       "      <td>Москва Инженер КИПиА В принципе норм.Работать можно Всегда есть к чему стремиться хорошо отлично хорошо плохо отлично плохо</td>\n",
       "    </tr>\n",
       "    <tr>\n",
       "      <th>21</th>\n",
       "      <td>Новосибирск</td>\n",
       "      <td>Менеджер по работе с крупными корпоративными и государственными клиентами (КАМ)</td>\n",
       "      <td>Ужасно , просто совдепия, зарплата нищенская</td>\n",
       "      <td>Там надо всё улучшать, место дно.</td>\n",
       "      <td>ужасно</td>\n",
       "      <td>плохо</td>\n",
       "      <td>ужасно</td>\n",
       "      <td>ужасно</td>\n",
       "      <td>ужасно</td>\n",
       "      <td>ужасно</td>\n",
       "      <td>8</td>\n",
       "      <td>8</td>\n",
       "      <td>Новосибирск Менеджер по работе с крупными корпоративными и государственными клиентами (КАМ) Ужасно , просто совдепия, зарплата нищенская Там надо всё улучшать, место дно. ужасно плохо ужасно ужасно ужасно ужасно</td>\n",
       "    </tr>\n",
       "    <tr>\n",
       "      <th>22</th>\n",
       "      <td></td>\n",
       "      <td>Механик</td>\n",
       "      <td>Норм норм норм норм норм</td>\n",
       "      <td>Ниче ниче ниче гтчн ниче</td>\n",
       "      <td>отлично</td>\n",
       "      <td>отлично</td>\n",
       "      <td>отлично</td>\n",
       "      <td>отлично</td>\n",
       "      <td>отлично</td>\n",
       "      <td>отлично</td>\n",
       "      <td>8</td>\n",
       "      <td>8</td>\n",
       "      <td>Механик Норм норм норм норм норм Ниче ниче ниче гтчн ниче отлично отлично отлично отлично отлично отлично</td>\n",
       "    </tr>\n",
       "    <tr>\n",
       "      <th>31</th>\n",
       "      <td>Москва</td>\n",
       "      <td>Поиск Работы в строительстве</td>\n",
       "      <td>Позвали на собеседование, но не сказали что нужно прежде чем устроиться оплатить обучение, не известно попадёшь работать или нет. Лохотрон</td>\n",
       "      <td>Не звать на собеседование</td>\n",
       "      <td>ужасно</td>\n",
       "      <td>ужасно</td>\n",
       "      <td>ужасно</td>\n",
       "      <td>ужасно</td>\n",
       "      <td>ужасно</td>\n",
       "      <td>ужасно</td>\n",
       "      <td>7</td>\n",
       "      <td>7</td>\n",
       "      <td>Москва Поиск Работы в строительстве Позвали на собеседование, но не сказали что нужно прежде чем устроиться оплатить обучение, не известно попадёшь работать или нет. Лохотрон Не звать на собеседование ужасно ужасно ужасно ужасно ужасно ужасно</td>\n",
       "    </tr>\n",
       "  </tbody>\n",
       "</table>\n",
       "</div>"
      ],
      "text/plain": [
       "                  city  \\\n",
       "review_id                \n",
       "1               Москва   \n",
       "7               Москва   \n",
       "21         Новосибирск   \n",
       "22                       \n",
       "31              Москва   \n",
       "\n",
       "                                                                                  position  \\\n",
       "review_id                                                                                    \n",
       "1                                                                     Руководитель проекта   \n",
       "7                                                                            Инженер КИПиА   \n",
       "21         Менеджер по работе с крупными корпоративными и государственными клиентами (КАМ)   \n",
       "22                                                                                 Механик   \n",
       "31                                                            Поиск Работы в строительстве   \n",
       "\n",
       "                                                                                                                                             positive  \\\n",
       "review_id                                                                                                                                               \n",
       "1                                                                                              Расположение офиса, своего рода стабильность (госбанк)   \n",
       "7                                                                                                                      В принципе норм.Работать можно   \n",
       "21                                                                                                       Ужасно , просто совдепия, зарплата нищенская   \n",
       "22                                                                                                                           Норм норм норм норм норм   \n",
       "31         Позвали на собеседование, но не сказали что нужно прежде чем устроиться оплатить обучение, не известно попадёшь работать или нет. Лохотрон   \n",
       "\n",
       "                                                                                                                                                                                                                                                                                                                                                    negative  \\\n",
       "review_id                                                                                                                                                                                                                                                                                                                                                      \n",
       "1          Упростить процессы - все процессы ради процессов, а не результата. Избавиться от чрезмерного уровня бюрократии. Внедрить нормальный электронный документооборот - сейчас все на бумажках, даже то, что заводится в ЭДО. Высшему руководству избавиться от нежелания видеть проблемы - сейчас действует принцип «не вижу проблемы, значит ее нет».   \n",
       "7                                                                                                                                                                                                                                                                                                                              Всегда есть к чему стремиться   \n",
       "21                                                                                                                                                                                                                                                                                                                         Там надо всё улучшать, место дно.   \n",
       "22                                                                                                                                                                                                                                                                                                                                  Ниче ниче ниче гтчн ниче   \n",
       "31                                                                                                                                                                                                                                                                                                                                 Не звать на собеседование   \n",
       "\n",
       "          salary_rating team_rating managment_rating career_rating  \\\n",
       "review_id                                                            \n",
       "1                хорошо      хорошо           хорошо        ужасно   \n",
       "7                хорошо     отлично           хорошо         плохо   \n",
       "21               ужасно       плохо           ужасно        ужасно   \n",
       "22              отлично     отлично          отлично       отлично   \n",
       "31               ужасно      ужасно           ужасно        ужасно   \n",
       "\n",
       "          workplace_rating rest_recovery_rating target target_review  \\\n",
       "review_id                                                              \n",
       "1                   ужасно               ужасно      8             8   \n",
       "7                  отлично                плохо      8             8   \n",
       "21                  ужасно               ужасно      8             8   \n",
       "22                 отлично              отлично      8             8   \n",
       "31                  ужасно               ужасно      7             7   \n",
       "\n",
       "                                                                                                                                                                                                                                                                                                                                                                                                                                                                             review_union  \n",
       "review_id                                                                                                                                                                                                                                                                                                                                                                                                                                                                                  \n",
       "1          Москва Руководитель проекта Расположение офиса, своего рода стабильность (госбанк) Упростить процессы - все процессы ради процессов, а не результата. Избавиться от чрезмерного уровня бюрократии. Внедрить нормальный электронный документооборот - сейчас все на бумажках, даже то, что заводится в ЭДО. Высшему руководству избавиться от нежелания видеть проблемы - сейчас действует принцип «не вижу проблемы, значит ее нет». хорошо хорошо хорошо ужасно ужасно ужасно  \n",
       "7                                                                                                                                                                                                                                                                                                                                                             Москва Инженер КИПиА В принципе норм.Работать можно Всегда есть к чему стремиться хорошо отлично хорошо плохо отлично плохо  \n",
       "21                                                                                                                                                                                                                                                                    Новосибирск Менеджер по работе с крупными корпоративными и государственными клиентами (КАМ) Ужасно , просто совдепия, зарплата нищенская Там надо всё улучшать, место дно. ужасно плохо ужасно ужасно ужасно ужасно  \n",
       "22                                                                                                                                                                                                                                                                                                                                                                              Механик Норм норм норм норм норм Ниче ниче ниче гтчн ниче отлично отлично отлично отлично отлично отлично  \n",
       "31                                                                                                                                                                                                                                     Москва Поиск Работы в строительстве Позвали на собеседование, но не сказали что нужно прежде чем устроиться оплатить обучение, не известно попадёшь работать или нет. Лохотрон Не звать на собеседование ужасно ужасно ужасно ужасно ужасно ужасно  "
      ]
     },
     "execution_count": 199,
     "metadata": {},
     "output_type": "execute_result"
    }
   ],
   "source": [
    "train_df_negative_4.head()"
   ]
  },
  {
   "cell_type": "code",
   "execution_count": 200,
   "id": "85e7166e",
   "metadata": {},
   "outputs": [],
   "source": [
    "train_df_negative_4.loc[(train_df_negative_4['target_review'] == \"4\"), 'target_review'] = 4\n",
    "train_df_negative_4.loc[(train_df_negative_4['target_review'] == \"4,8\"), 'target_review'] = 4\n",
    "train_df_negative_4.loc[(train_df_negative_4['target_review'] == \"1,4\"), 'target_review'] = 4\n",
    "train_df_negative_4.loc[(train_df_negative_4['target_review'] == \"4,6\"), 'target_review'] = 4\n",
    "train_df_negative_4.loc[(train_df_negative_4['target_review'] == \"1,4,8\"), 'target_review'] = 4\n",
    "train_df_negative_4.loc[(train_df_negative_4['target_review'] == \"1,4,6\"), 'target_review'] = 4\n",
    "train_df_negative_4.loc[(train_df_negative_4['target_review'] == \"4,6,8\"), 'target_review'] = 4"
   ]
  },
  {
   "cell_type": "code",
   "execution_count": 201,
   "id": "31676b17",
   "metadata": {},
   "outputs": [
    {
     "data": {
      "text/plain": [
       "8          24093\n",
       "1,8         1476\n",
       "1           1269\n",
       "3            905\n",
       "6,8          473\n",
       "6            368\n",
       "7            326\n",
       "3,8          209\n",
       "1,6          141\n",
       "5,8          121\n",
       "4            111\n",
       "5            102\n",
       "1,5           78\n",
       "1,6,8         48\n",
       "1,5,8         33\n",
       "7,8           25\n",
       "1,7           15\n",
       "5,7           13\n",
       "2             12\n",
       "1,3            9\n",
       "5,6            9\n",
       "1,5,6          7\n",
       "5,6,8          6\n",
       "3,7            5\n",
       "6,7            3\n",
       "1,3,8          3\n",
       "1,3,5          2\n",
       "1,7,8          2\n",
       "1,5,6,8        1\n",
       "3,6            1\n",
       "1,3,6          1\n",
       "3,5,7          1\n",
       "1,2,6          1\n",
       "5,7,8          1\n",
       "3,5,8          1\n",
       "3,6,8          1\n",
       "3,5            1\n",
       "Name: target_review, dtype: int64"
      ]
     },
     "execution_count": 201,
     "metadata": {},
     "output_type": "execute_result"
    }
   ],
   "source": [
    "train_df_negative_4['target_review'].value_counts()"
   ]
  },
  {
   "cell_type": "code",
   "execution_count": 202,
   "id": "fe999cd5",
   "metadata": {},
   "outputs": [
    {
     "data": {
      "text/plain": [
       "city                      715\n",
       "position                10628\n",
       "positive                26376\n",
       "negative                26789\n",
       "salary_rating               5\n",
       "team_rating                 5\n",
       "managment_rating            5\n",
       "career_rating               5\n",
       "workplace_rating            5\n",
       "rest_recovery_rating        5\n",
       "target                     43\n",
       "target_review              37\n",
       "review_union            29857\n",
       "dtype: int64"
      ]
     },
     "execution_count": 202,
     "metadata": {},
     "output_type": "execute_result"
    }
   ],
   "source": [
    "train_df_negative_4.nunique()"
   ]
  },
  {
   "cell_type": "code",
   "execution_count": 203,
   "id": "8c200e50",
   "metadata": {},
   "outputs": [],
   "source": [
    "train_df_negative_4.loc[(train_df_negative_4['target_review'] != 4), 'target_review'] = 8"
   ]
  },
  {
   "cell_type": "code",
   "execution_count": 204,
   "id": "acaecb44",
   "metadata": {},
   "outputs": [
    {
     "data": {
      "text/plain": [
       "city                      715\n",
       "position                10628\n",
       "positive                26376\n",
       "negative                26789\n",
       "salary_rating               5\n",
       "team_rating                 5\n",
       "managment_rating            5\n",
       "career_rating               5\n",
       "workplace_rating            5\n",
       "rest_recovery_rating        5\n",
       "target                     43\n",
       "target_review               2\n",
       "review_union            29857\n",
       "dtype: int64"
      ]
     },
     "execution_count": 204,
     "metadata": {},
     "output_type": "execute_result"
    }
   ],
   "source": [
    "train_df_negative_4.nunique()"
   ]
  },
  {
   "cell_type": "code",
   "execution_count": 205,
   "id": "f86ab829",
   "metadata": {},
   "outputs": [],
   "source": [
    "train_df_negative_4['target_review'] = train_df_negative_4['target_review'].apply(int)"
   ]
  },
  {
   "cell_type": "code",
   "execution_count": 206,
   "id": "0b39d8b2",
   "metadata": {},
   "outputs": [
    {
     "data": {
      "text/plain": [
       "8    29762\n",
       "4      111\n",
       "Name: target_review, dtype: int64"
      ]
     },
     "execution_count": 206,
     "metadata": {},
     "output_type": "execute_result"
    }
   ],
   "source": [
    "train_df_negative_4['target_review'].value_counts()"
   ]
  },
  {
   "cell_type": "code",
   "execution_count": 207,
   "id": "a4337457",
   "metadata": {},
   "outputs": [],
   "source": [
    "train_df_negative_4.loc[(train_df_negative_4['target_review'] == 4), 'target_review'] = 1\n",
    "train_df_negative_4.loc[(train_df_negative_4['target_review'] == 8), 'target_review'] = 0"
   ]
  },
  {
   "cell_type": "code",
   "execution_count": 208,
   "id": "d7d34524",
   "metadata": {},
   "outputs": [
    {
     "data": {
      "text/plain": [
       "0    29762\n",
       "1      111\n",
       "Name: target_review, dtype: int64"
      ]
     },
     "execution_count": 208,
     "metadata": {},
     "output_type": "execute_result"
    }
   ],
   "source": [
    "train_df_negative_4['target_review'].value_counts()"
   ]
  },
  {
   "cell_type": "markdown",
   "id": "d90daf5b",
   "metadata": {},
   "source": [
    "Разбиение прошло успешно, создадим модель"
   ]
  },
  {
   "cell_type": "code",
   "execution_count": 209,
   "id": "924bf211",
   "metadata": {},
   "outputs": [],
   "source": [
    "#разобьёем train_df на train и test\n",
    "train_df_negative_4_split, test_df_negative_4_split = train_test_split(train_df_negative_4, test_size=2000, random_state=2)"
   ]
  },
  {
   "cell_type": "code",
   "execution_count": 210,
   "id": "e4bd6f1c",
   "metadata": {},
   "outputs": [
    {
     "data": {
      "text/plain": [
       "(2000, 13)"
      ]
     },
     "execution_count": 210,
     "metadata": {},
     "output_type": "execute_result"
    }
   ],
   "source": [
    "test_df_negative_4_split.shape"
   ]
  },
  {
   "cell_type": "code",
   "execution_count": 211,
   "id": "676ea7ba",
   "metadata": {},
   "outputs": [
    {
     "data": {
      "text/plain": [
       "0    1992\n",
       "1       8\n",
       "Name: target_review, dtype: int64"
      ]
     },
     "execution_count": 211,
     "metadata": {},
     "output_type": "execute_result"
    }
   ],
   "source": [
    "test_df_negative_4_split['target_review'].value_counts()"
   ]
  },
  {
   "cell_type": "code",
   "execution_count": 212,
   "id": "71e2b8cd",
   "metadata": {},
   "outputs": [
    {
     "data": {
      "text/plain": [
       "0    27770\n",
       "1      103\n",
       "Name: target_review, dtype: int64"
      ]
     },
     "execution_count": 212,
     "metadata": {},
     "output_type": "execute_result"
    }
   ],
   "source": [
    "train_df_negative_4_split['target_review'].value_counts()"
   ]
  },
  {
   "cell_type": "code",
   "execution_count": 213,
   "id": "ab5489ad",
   "metadata": {},
   "outputs": [],
   "source": [
    "vectorizer_4 = TfidfVectorizer(tokenizer=lambda x: tokenize_sentence(x, remove_stop_words=True))"
   ]
  },
  {
   "cell_type": "code",
   "execution_count": 214,
   "id": "a7aa10cd",
   "metadata": {},
   "outputs": [],
   "source": [
    "features_4 = vectorizer_4.fit_transform(train_df_negative_4['review_union'])"
   ]
  },
  {
   "cell_type": "code",
   "execution_count": 215,
   "id": "5b57afab",
   "metadata": {},
   "outputs": [
    {
     "data": {
      "text/plain": [
       "LogisticRegression(random_state=0)"
      ]
     },
     "execution_count": 215,
     "metadata": {},
     "output_type": "execute_result"
    }
   ],
   "source": [
    "model = LogisticRegression(random_state=0)\n",
    "model.fit(features_4, train_df_negative_4['target_review'])"
   ]
  },
  {
   "cell_type": "code",
   "execution_count": 216,
   "id": "1051965c",
   "metadata": {},
   "outputs": [],
   "source": [
    "model_pipeline = Pipeline([\n",
    "    (\"vectorizer_4\", TfidfVectorizer(tokenizer=lambda x: tokenize_sentence(x, remove_stop_words=True))),\n",
    "    (\"model\", LogisticRegression(random_state=0, C=10))\n",
    "]\n",
    ")"
   ]
  },
  {
   "cell_type": "code",
   "execution_count": 217,
   "id": "a0103bb9",
   "metadata": {},
   "outputs": [
    {
     "data": {
      "text/plain": [
       "Pipeline(steps=[('vectorizer_4',\n",
       "                 TfidfVectorizer(tokenizer=<function <lambda> at 0x7f9b436568b0>)),\n",
       "                ('model', LogisticRegression(C=10, random_state=0))])"
      ]
     },
     "execution_count": 217,
     "metadata": {},
     "output_type": "execute_result"
    }
   ],
   "source": [
    "model_pipeline.fit(train_df_negative_4[\"review_union\"], train_df_negative_4[\"target_review\"])"
   ]
  },
  {
   "cell_type": "code",
   "execution_count": 218,
   "id": "5cba0843",
   "metadata": {},
   "outputs": [
    {
     "data": {
      "text/plain": [
       "0.0"
      ]
     },
     "execution_count": 218,
     "metadata": {},
     "output_type": "execute_result"
    }
   ],
   "source": [
    "precision_score(y_true=test_df_negative_4_split[\"target_review\"], y_pred=model_pipeline.predict(test_df_negative_4_split[\"review_union\"]))"
   ]
  },
  {
   "cell_type": "code",
   "execution_count": 219,
   "id": "e0eab5db",
   "metadata": {},
   "outputs": [
    {
     "data": {
      "text/plain": [
       "0.0"
      ]
     },
     "execution_count": 219,
     "metadata": {},
     "output_type": "execute_result"
    }
   ],
   "source": [
    "recall_score(y_true=test_df_negative_4_split[\"target_review\"], y_pred=model_pipeline.predict(test_df_negative_4_split[\"review_union\"]))"
   ]
  },
  {
   "cell_type": "code",
   "execution_count": 220,
   "id": "db476d73",
   "metadata": {},
   "outputs": [],
   "source": [
    "prec, rec, thresholds = precision_recall_curve(y_true=test_df_negative_4_split[\"target_review\"], probas_pred=model_pipeline.predict_proba(test_df_negative_4_split[\"review_union\"])[:, 1])"
   ]
  },
  {
   "cell_type": "code",
   "execution_count": 221,
   "id": "32c00cad",
   "metadata": {},
   "outputs": [
    {
     "data": {
      "text/plain": [
       "<sklearn.metrics._plot.precision_recall_curve.PrecisionRecallDisplay at 0x7f9b5910f400>"
      ]
     },
     "execution_count": 221,
     "metadata": {},
     "output_type": "execute_result"
    },
    {
     "data": {
      "image/png": "[encoded data removed]",
      "text/plain": [
       "<Figure size 432x288 with 1 Axes>"
      ]
     },
     "metadata": {},
     "output_type": "display_data"
    }
   ],
   "source": [
    "plot_precision_recall_curve(estimator=model_pipeline, X=test_df_negative_4_split[\"review_union\"], y=test_df_negative_4_split[\"target_review\"])"
   ]
  },
  {
   "cell_type": "markdown",
   "id": "fe7fa001",
   "metadata": {},
   "source": [
    "<span style=\"color:red\">Построение модели по выявлению причины 4 требует больших времененных затрат и масштабирования ввиду сильного дисбаланса классов</span>"
   ]
  },
  {
   "cell_type": "code",
   "execution_count": 222,
   "id": "2ae800d7",
   "metadata": {},
   "outputs": [],
   "source": [
    "features_test_4 = vectorizer_4.transform(test_negative_df['review_union'])"
   ]
  },
  {
   "cell_type": "code",
   "execution_count": 223,
   "id": "50465b93",
   "metadata": {},
   "outputs": [
    {
     "data": {
      "text/plain": [
       "array([0, 0, 0, ..., 0, 0, 0])"
      ]
     },
     "execution_count": 223,
     "metadata": {},
     "output_type": "execute_result"
    }
   ],
   "source": [
    "y_pred_4 = model.predict(features_test_4)\n",
    "y_pred_4"
   ]
  },
  {
   "cell_type": "code",
   "execution_count": 224,
   "id": "04369f1d",
   "metadata": {},
   "outputs": [
    {
     "data": {
      "text/plain": [
       "array([0.00065842, 0.00107378, 0.00145532, 0.01036855, 0.00071776,\n",
       "       0.00496516, 0.00130149, 0.00429525, 0.00213054, 0.00223701])"
      ]
     },
     "execution_count": 224,
     "metadata": {},
     "output_type": "execute_result"
    }
   ],
   "source": [
    "y_pred_4_proba = model.predict_proba(features_test_4)[:,1]\n",
    "y_pred_4_proba[:10]"
   ]
  },
  {
   "cell_type": "markdown",
   "id": "04c0d80f",
   "metadata": {},
   "source": [
    "# Причина номер 5"
   ]
  },
  {
   "cell_type": "markdown",
   "id": "a9726fd3",
   "metadata": {},
   "source": [
    "Список всех значений, где в target есть 5:  \n",
    "5,8     ----     121   \n",
    "5       ----     102  \n",
    "1,5       ----    78  \n",
    "1,5,8     ----    33   \n",
    "5,7       ----    13   \n",
    "5,6       ----     9   \n",
    "1,5,6      ----    7   \n",
    "5,6,8      ----    6  \n",
    "1,3,5       ----   2  \n",
    "5,7,8       ----   1  \n",
    "3,5        -----    1  \n",
    "3,5,8       ----   1   \n",
    "3,5,7       -----   1  \n",
    "1,5,6,8     ----   1"
   ]
  },
  {
   "cell_type": "markdown",
   "id": "a49b8f50",
   "metadata": {},
   "source": [
    "Заменим все значения 8 по этим условиям на 5"
   ]
  },
  {
   "cell_type": "code",
   "execution_count": 225,
   "id": "52ef986b",
   "metadata": {},
   "outputs": [],
   "source": [
    "#сохраним все отказные отзывы в отдельный датасет, с которым и продолжим работу\n",
    "train_df_negative_5 = train_df.loc[train_df['target_review'] == 1]"
   ]
  },
  {
   "cell_type": "code",
   "execution_count": 226,
   "id": "7684afc2",
   "metadata": {},
   "outputs": [
    {
     "data": {
      "text/plain": [
       "city                      715\n",
       "position                10628\n",
       "positive                26376\n",
       "negative                26789\n",
       "salary_rating               5\n",
       "team_rating                 5\n",
       "managment_rating            5\n",
       "career_rating               5\n",
       "workplace_rating            5\n",
       "rest_recovery_rating        5\n",
       "target                     43\n",
       "target_review               1\n",
       "review_union            29857\n",
       "dtype: int64"
      ]
     },
     "execution_count": 226,
     "metadata": {},
     "output_type": "execute_result"
    }
   ],
   "source": [
    "#проверим результат\n",
    "train_df_negative_5.nunique()"
   ]
  },
  {
   "cell_type": "code",
   "execution_count": 227,
   "id": "ad682cdd",
   "metadata": {},
   "outputs": [],
   "source": [
    "train_df_negative_5['target_review'] = train_df_negative_5['target']"
   ]
  },
  {
   "cell_type": "code",
   "execution_count": 228,
   "id": "40926955",
   "metadata": {},
   "outputs": [
    {
     "data": {
      "text/html": [
       "<div>\n",
       "<style scoped>\n",
       "    .dataframe tbody tr th:only-of-type {\n",
       "        vertical-align: middle;\n",
       "    }\n",
       "\n",
       "    .dataframe tbody tr th {\n",
       "        vertical-align: top;\n",
       "    }\n",
       "\n",
       "    .dataframe thead th {\n",
       "        text-align: right;\n",
       "    }\n",
       "</style>\n",
       "<table border=\"1\" class=\"dataframe\">\n",
       "  <thead>\n",
       "    <tr style=\"text-align: right;\">\n",
       "      <th></th>\n",
       "      <th>city</th>\n",
       "      <th>position</th>\n",
       "      <th>positive</th>\n",
       "      <th>negative</th>\n",
       "      <th>salary_rating</th>\n",
       "      <th>team_rating</th>\n",
       "      <th>managment_rating</th>\n",
       "      <th>career_rating</th>\n",
       "      <th>workplace_rating</th>\n",
       "      <th>rest_recovery_rating</th>\n",
       "      <th>target</th>\n",
       "      <th>target_review</th>\n",
       "      <th>review_union</th>\n",
       "    </tr>\n",
       "    <tr>\n",
       "      <th>review_id</th>\n",
       "      <th></th>\n",
       "      <th></th>\n",
       "      <th></th>\n",
       "      <th></th>\n",
       "      <th></th>\n",
       "      <th></th>\n",
       "      <th></th>\n",
       "      <th></th>\n",
       "      <th></th>\n",
       "      <th></th>\n",
       "      <th></th>\n",
       "      <th></th>\n",
       "      <th></th>\n",
       "    </tr>\n",
       "  </thead>\n",
       "  <tbody>\n",
       "    <tr>\n",
       "      <th>1</th>\n",
       "      <td>Москва</td>\n",
       "      <td>Руководитель проекта</td>\n",
       "      <td>Расположение офиса, своего рода стабильность (госбанк)</td>\n",
       "      <td>Упростить процессы - все процессы ради процессов, а не результата. Избавиться от чрезмерного уровня бюрократии. Внедрить нормальный электронный документооборот - сейчас все на бумажках, даже то, что заводится в ЭДО. Высшему руководству избавиться от нежелания видеть проблемы - сейчас действует принцип «не вижу проблемы, значит ее нет».</td>\n",
       "      <td>хорошо</td>\n",
       "      <td>хорошо</td>\n",
       "      <td>хорошо</td>\n",
       "      <td>ужасно</td>\n",
       "      <td>ужасно</td>\n",
       "      <td>ужасно</td>\n",
       "      <td>8</td>\n",
       "      <td>8</td>\n",
       "      <td>Москва Руководитель проекта Расположение офиса, своего рода стабильность (госбанк) Упростить процессы - все процессы ради процессов, а не результата. Избавиться от чрезмерного уровня бюрократии. Внедрить нормальный электронный документооборот - сейчас все на бумажках, даже то, что заводится в ЭДО. Высшему руководству избавиться от нежелания видеть проблемы - сейчас действует принцип «не вижу проблемы, значит ее нет». хорошо хорошо хорошо ужасно ужасно ужасно</td>\n",
       "    </tr>\n",
       "    <tr>\n",
       "      <th>7</th>\n",
       "      <td>Москва</td>\n",
       "      <td>Инженер КИПиА</td>\n",
       "      <td>В принципе норм.Работать можно</td>\n",
       "      <td>Всегда есть к чему стремиться</td>\n",
       "      <td>хорошо</td>\n",
       "      <td>отлично</td>\n",
       "      <td>хорошо</td>\n",
       "      <td>плохо</td>\n",
       "      <td>отлично</td>\n",
       "      <td>плохо</td>\n",
       "      <td>8</td>\n",
       "      <td>8</td>\n",
       "      <td>Москва Инженер КИПиА В принципе норм.Работать можно Всегда есть к чему стремиться хорошо отлично хорошо плохо отлично плохо</td>\n",
       "    </tr>\n",
       "    <tr>\n",
       "      <th>21</th>\n",
       "      <td>Новосибирск</td>\n",
       "      <td>Менеджер по работе с крупными корпоративными и государственными клиентами (КАМ)</td>\n",
       "      <td>Ужасно , просто совдепия, зарплата нищенская</td>\n",
       "      <td>Там надо всё улучшать, место дно.</td>\n",
       "      <td>ужасно</td>\n",
       "      <td>плохо</td>\n",
       "      <td>ужасно</td>\n",
       "      <td>ужасно</td>\n",
       "      <td>ужасно</td>\n",
       "      <td>ужасно</td>\n",
       "      <td>8</td>\n",
       "      <td>8</td>\n",
       "      <td>Новосибирск Менеджер по работе с крупными корпоративными и государственными клиентами (КАМ) Ужасно , просто совдепия, зарплата нищенская Там надо всё улучшать, место дно. ужасно плохо ужасно ужасно ужасно ужасно</td>\n",
       "    </tr>\n",
       "    <tr>\n",
       "      <th>22</th>\n",
       "      <td></td>\n",
       "      <td>Механик</td>\n",
       "      <td>Норм норм норм норм норм</td>\n",
       "      <td>Ниче ниче ниче гтчн ниче</td>\n",
       "      <td>отлично</td>\n",
       "      <td>отлично</td>\n",
       "      <td>отлично</td>\n",
       "      <td>отлично</td>\n",
       "      <td>отлично</td>\n",
       "      <td>отлично</td>\n",
       "      <td>8</td>\n",
       "      <td>8</td>\n",
       "      <td>Механик Норм норм норм норм норм Ниче ниче ниче гтчн ниче отлично отлично отлично отлично отлично отлично</td>\n",
       "    </tr>\n",
       "    <tr>\n",
       "      <th>31</th>\n",
       "      <td>Москва</td>\n",
       "      <td>Поиск Работы в строительстве</td>\n",
       "      <td>Позвали на собеседование, но не сказали что нужно прежде чем устроиться оплатить обучение, не известно попадёшь работать или нет. Лохотрон</td>\n",
       "      <td>Не звать на собеседование</td>\n",
       "      <td>ужасно</td>\n",
       "      <td>ужасно</td>\n",
       "      <td>ужасно</td>\n",
       "      <td>ужасно</td>\n",
       "      <td>ужасно</td>\n",
       "      <td>ужасно</td>\n",
       "      <td>7</td>\n",
       "      <td>7</td>\n",
       "      <td>Москва Поиск Работы в строительстве Позвали на собеседование, но не сказали что нужно прежде чем устроиться оплатить обучение, не известно попадёшь работать или нет. Лохотрон Не звать на собеседование ужасно ужасно ужасно ужасно ужасно ужасно</td>\n",
       "    </tr>\n",
       "  </tbody>\n",
       "</table>\n",
       "</div>"
      ],
      "text/plain": [
       "                  city  \\\n",
       "review_id                \n",
       "1               Москва   \n",
       "7               Москва   \n",
       "21         Новосибирск   \n",
       "22                       \n",
       "31              Москва   \n",
       "\n",
       "                                                                                  position  \\\n",
       "review_id                                                                                    \n",
       "1                                                                     Руководитель проекта   \n",
       "7                                                                            Инженер КИПиА   \n",
       "21         Менеджер по работе с крупными корпоративными и государственными клиентами (КАМ)   \n",
       "22                                                                                 Механик   \n",
       "31                                                            Поиск Работы в строительстве   \n",
       "\n",
       "                                                                                                                                             positive  \\\n",
       "review_id                                                                                                                                               \n",
       "1                                                                                              Расположение офиса, своего рода стабильность (госбанк)   \n",
       "7                                                                                                                      В принципе норм.Работать можно   \n",
       "21                                                                                                       Ужасно , просто совдепия, зарплата нищенская   \n",
       "22                                                                                                                           Норм норм норм норм норм   \n",
       "31         Позвали на собеседование, но не сказали что нужно прежде чем устроиться оплатить обучение, не известно попадёшь работать или нет. Лохотрон   \n",
       "\n",
       "                                                                                                                                                                                                                                                                                                                                                    negative  \\\n",
       "review_id                                                                                                                                                                                                                                                                                                                                                      \n",
       "1          Упростить процессы - все процессы ради процессов, а не результата. Избавиться от чрезмерного уровня бюрократии. Внедрить нормальный электронный документооборот - сейчас все на бумажках, даже то, что заводится в ЭДО. Высшему руководству избавиться от нежелания видеть проблемы - сейчас действует принцип «не вижу проблемы, значит ее нет».   \n",
       "7                                                                                                                                                                                                                                                                                                                              Всегда есть к чему стремиться   \n",
       "21                                                                                                                                                                                                                                                                                                                         Там надо всё улучшать, место дно.   \n",
       "22                                                                                                                                                                                                                                                                                                                                  Ниче ниче ниче гтчн ниче   \n",
       "31                                                                                                                                                                                                                                                                                                                                 Не звать на собеседование   \n",
       "\n",
       "          salary_rating team_rating managment_rating career_rating  \\\n",
       "review_id                                                            \n",
       "1                хорошо      хорошо           хорошо        ужасно   \n",
       "7                хорошо     отлично           хорошо         плохо   \n",
       "21               ужасно       плохо           ужасно        ужасно   \n",
       "22              отлично     отлично          отлично       отлично   \n",
       "31               ужасно      ужасно           ужасно        ужасно   \n",
       "\n",
       "          workplace_rating rest_recovery_rating target target_review  \\\n",
       "review_id                                                              \n",
       "1                   ужасно               ужасно      8             8   \n",
       "7                  отлично                плохо      8             8   \n",
       "21                  ужасно               ужасно      8             8   \n",
       "22                 отлично              отлично      8             8   \n",
       "31                  ужасно               ужасно      7             7   \n",
       "\n",
       "                                                                                                                                                                                                                                                                                                                                                                                                                                                                             review_union  \n",
       "review_id                                                                                                                                                                                                                                                                                                                                                                                                                                                                                  \n",
       "1          Москва Руководитель проекта Расположение офиса, своего рода стабильность (госбанк) Упростить процессы - все процессы ради процессов, а не результата. Избавиться от чрезмерного уровня бюрократии. Внедрить нормальный электронный документооборот - сейчас все на бумажках, даже то, что заводится в ЭДО. Высшему руководству избавиться от нежелания видеть проблемы - сейчас действует принцип «не вижу проблемы, значит ее нет». хорошо хорошо хорошо ужасно ужасно ужасно  \n",
       "7                                                                                                                                                                                                                                                                                                                                                             Москва Инженер КИПиА В принципе норм.Работать можно Всегда есть к чему стремиться хорошо отлично хорошо плохо отлично плохо  \n",
       "21                                                                                                                                                                                                                                                                    Новосибирск Менеджер по работе с крупными корпоративными и государственными клиентами (КАМ) Ужасно , просто совдепия, зарплата нищенская Там надо всё улучшать, место дно. ужасно плохо ужасно ужасно ужасно ужасно  \n",
       "22                                                                                                                                                                                                                                                                                                                                                                              Механик Норм норм норм норм норм Ниче ниче ниче гтчн ниче отлично отлично отлично отлично отлично отлично  \n",
       "31                                                                                                                                                                                                                                     Москва Поиск Работы в строительстве Позвали на собеседование, но не сказали что нужно прежде чем устроиться оплатить обучение, не известно попадёшь работать или нет. Лохотрон Не звать на собеседование ужасно ужасно ужасно ужасно ужасно ужасно  "
      ]
     },
     "execution_count": 228,
     "metadata": {},
     "output_type": "execute_result"
    }
   ],
   "source": [
    "train_df_negative_5.head()"
   ]
  },
  {
   "cell_type": "code",
   "execution_count": 229,
   "id": "289e54cb",
   "metadata": {},
   "outputs": [],
   "source": [
    "train_df_negative_5.loc[(train_df_negative_5['target_review'] == \"5,8\"), 'target_review'] = 5\n",
    "train_df_negative_5.loc[(train_df_negative_5['target_review'] == \"5\"), 'target_review'] = 5\n",
    "train_df_negative_5.loc[(train_df_negative_5['target_review'] == \"1,5\"), 'target_review'] = 5\n",
    "train_df_negative_5.loc[(train_df_negative_5['target_review'] == \"1,5,8\"), 'target_review'] = 5\n",
    "train_df_negative_5.loc[(train_df_negative_5['target_review'] == \"5,7\"), 'target_review'] = 5\n",
    "train_df_negative_5.loc[(train_df_negative_5['target_review'] == \"5,6\"), 'target_review'] = 5\n",
    "train_df_negative_5.loc[(train_df_negative_5['target_review'] == \"1,5,6\"), 'target_review'] = 5\n",
    "train_df_negative_5.loc[(train_df_negative_5['target_review'] == \"5,6,8\"), 'target_review'] = 5\n",
    "train_df_negative_5.loc[(train_df_negative_5['target_review'] == \"1,3,5\"), 'target_review'] = 5\n",
    "train_df_negative_5.loc[(train_df_negative_5['target_review'] == \"5,7,8\"), 'target_review'] = 5\n",
    "train_df_negative_5.loc[(train_df_negative_5['target_review'] == \"3,5\"), 'target_review'] = 5\n",
    "train_df_negative_5.loc[(train_df_negative_5['target_review'] == \"3,5,8\"), 'target_review'] = 5\n",
    "train_df_negative_5.loc[(train_df_negative_5['target_review'] == \"3,5,7\"), 'target_review'] = 5\n",
    "train_df_negative_5.loc[(train_df_negative_5['target_review'] == \"1,5,6,8\"), 'target_review'] = 5"
   ]
  },
  {
   "cell_type": "code",
   "execution_count": 230,
   "id": "a9e401ed",
   "metadata": {},
   "outputs": [
    {
     "data": {
      "text/plain": [
       "8        24093\n",
       "1,8       1476\n",
       "1         1269\n",
       "3          905\n",
       "6,8        473\n",
       "5          376\n",
       "6          368\n",
       "7          326\n",
       "3,8        209\n",
       "1,6        141\n",
       "1,6,8       48\n",
       "4           38\n",
       "4,8         36\n",
       "7,8         25\n",
       "1,4         24\n",
       "1,7         15\n",
       "2           12\n",
       "1,3          9\n",
       "4,6          5\n",
       "3,7          5\n",
       "1,4,8        4\n",
       "6,7          3\n",
       "1,3,8        3\n",
       "1,4,6        3\n",
       "1,7,8        2\n",
       "4,6,8        1\n",
       "3,6,8        1\n",
       "3,6          1\n",
       "1,3,6        1\n",
       "1,2,6        1\n",
       "Name: target_review, dtype: int64"
      ]
     },
     "execution_count": 230,
     "metadata": {},
     "output_type": "execute_result"
    }
   ],
   "source": [
    "train_df_negative_5['target_review'].value_counts()"
   ]
  },
  {
   "cell_type": "code",
   "execution_count": 231,
   "id": "f3e5ca34",
   "metadata": {},
   "outputs": [
    {
     "data": {
      "text/plain": [
       "city                      715\n",
       "position                10628\n",
       "positive                26376\n",
       "negative                26789\n",
       "salary_rating               5\n",
       "team_rating                 5\n",
       "managment_rating            5\n",
       "career_rating               5\n",
       "workplace_rating            5\n",
       "rest_recovery_rating        5\n",
       "target                     43\n",
       "target_review              30\n",
       "review_union            29857\n",
       "dtype: int64"
      ]
     },
     "execution_count": 231,
     "metadata": {},
     "output_type": "execute_result"
    }
   ],
   "source": [
    "train_df_negative_5.nunique()"
   ]
  },
  {
   "cell_type": "code",
   "execution_count": 232,
   "id": "9f07cd24",
   "metadata": {},
   "outputs": [],
   "source": [
    "train_df_negative_5.loc[(train_df_negative_5['target_review'] != 5), 'target_review'] = 8"
   ]
  },
  {
   "cell_type": "code",
   "execution_count": 233,
   "id": "d402ff5b",
   "metadata": {},
   "outputs": [
    {
     "data": {
      "text/plain": [
       "city                      715\n",
       "position                10628\n",
       "positive                26376\n",
       "negative                26789\n",
       "salary_rating               5\n",
       "team_rating                 5\n",
       "managment_rating            5\n",
       "career_rating               5\n",
       "workplace_rating            5\n",
       "rest_recovery_rating        5\n",
       "target                     43\n",
       "target_review               2\n",
       "review_union            29857\n",
       "dtype: int64"
      ]
     },
     "execution_count": 233,
     "metadata": {},
     "output_type": "execute_result"
    }
   ],
   "source": [
    "train_df_negative_5.nunique()"
   ]
  },
  {
   "cell_type": "code",
   "execution_count": 234,
   "id": "1b637476",
   "metadata": {},
   "outputs": [],
   "source": [
    "train_df_negative_5['target_review'] = train_df_negative_5['target_review'].apply(int)"
   ]
  },
  {
   "cell_type": "code",
   "execution_count": 235,
   "id": "70e8594a",
   "metadata": {},
   "outputs": [
    {
     "data": {
      "text/plain": [
       "8    29497\n",
       "5      376\n",
       "Name: target_review, dtype: int64"
      ]
     },
     "execution_count": 235,
     "metadata": {},
     "output_type": "execute_result"
    }
   ],
   "source": [
    "train_df_negative_5['target_review'].value_counts()"
   ]
  },
  {
   "cell_type": "code",
   "execution_count": 236,
   "id": "3a390cef",
   "metadata": {},
   "outputs": [],
   "source": [
    "train_df_negative_5.loc[(train_df_negative_5['target_review'] == 5), 'target_review'] = 1\n",
    "train_df_negative_5.loc[(train_df_negative_5['target_review'] == 8), 'target_review'] = 0"
   ]
  },
  {
   "cell_type": "code",
   "execution_count": 237,
   "id": "80831dbc",
   "metadata": {},
   "outputs": [
    {
     "data": {
      "text/plain": [
       "0    29497\n",
       "1      376\n",
       "Name: target_review, dtype: int64"
      ]
     },
     "execution_count": 237,
     "metadata": {},
     "output_type": "execute_result"
    }
   ],
   "source": [
    "train_df_negative_5['target_review'].value_counts()"
   ]
  },
  {
   "cell_type": "markdown",
   "id": "7ef6a159",
   "metadata": {},
   "source": [
    "Разбиение прошло успешно, создадим модель"
   ]
  },
  {
   "cell_type": "code",
   "execution_count": 238,
   "id": "e7729d2f",
   "metadata": {},
   "outputs": [],
   "source": [
    "#разобьёем train_df на train и test\n",
    "train_df_negative_5_split, test_df_negative_5_split = train_test_split(train_df_negative_5, test_size=2000, random_state=2)"
   ]
  },
  {
   "cell_type": "code",
   "execution_count": 239,
   "id": "a066ec1a",
   "metadata": {},
   "outputs": [
    {
     "data": {
      "text/plain": [
       "(2000, 13)"
      ]
     },
     "execution_count": 239,
     "metadata": {},
     "output_type": "execute_result"
    }
   ],
   "source": [
    "test_df_negative_5_split.shape"
   ]
  },
  {
   "cell_type": "code",
   "execution_count": 240,
   "id": "042a01fa",
   "metadata": {},
   "outputs": [
    {
     "data": {
      "text/plain": [
       "0    1972\n",
       "1      28\n",
       "Name: target_review, dtype: int64"
      ]
     },
     "execution_count": 240,
     "metadata": {},
     "output_type": "execute_result"
    }
   ],
   "source": [
    "test_df_negative_5_split['target_review'].value_counts()"
   ]
  },
  {
   "cell_type": "code",
   "execution_count": 241,
   "id": "ed227691",
   "metadata": {},
   "outputs": [
    {
     "data": {
      "text/plain": [
       "0    27525\n",
       "1      348\n",
       "Name: target_review, dtype: int64"
      ]
     },
     "execution_count": 241,
     "metadata": {},
     "output_type": "execute_result"
    }
   ],
   "source": [
    "train_df_negative_5_split['target_review'].value_counts()"
   ]
  },
  {
   "cell_type": "code",
   "execution_count": 242,
   "id": "afa1d369",
   "metadata": {},
   "outputs": [],
   "source": [
    "vectorizer_5 = TfidfVectorizer(tokenizer=lambda x: tokenize_sentence(x, remove_stop_words=True))"
   ]
  },
  {
   "cell_type": "code",
   "execution_count": 243,
   "id": "b568152a",
   "metadata": {},
   "outputs": [],
   "source": [
    "features_5 = vectorizer_5.fit_transform(train_df_negative_5['review_union'])"
   ]
  },
  {
   "cell_type": "code",
   "execution_count": 244,
   "id": "2e1d71a9",
   "metadata": {},
   "outputs": [
    {
     "data": {
      "text/plain": [
       "LogisticRegression(C=12, random_state=0)"
      ]
     },
     "execution_count": 244,
     "metadata": {},
     "output_type": "execute_result"
    }
   ],
   "source": [
    "model = LogisticRegression(random_state=0, C=12)\n",
    "model.fit(features_5, train_df_negative_5['target_review'])"
   ]
  },
  {
   "cell_type": "code",
   "execution_count": 245,
   "id": "b62f3bb6",
   "metadata": {},
   "outputs": [],
   "source": [
    "model_pipeline = Pipeline([\n",
    "    (\"vectorizer_5\", TfidfVectorizer(tokenizer=lambda x: tokenize_sentence(x, remove_stop_words=True))),\n",
    "    (\"model\", LogisticRegression(random_state=0, C=12))\n",
    "]\n",
    ")"
   ]
  },
  {
   "cell_type": "code",
   "execution_count": 246,
   "id": "3f168225",
   "metadata": {},
   "outputs": [
    {
     "data": {
      "text/plain": [
       "Pipeline(steps=[('vectorizer_5',\n",
       "                 TfidfVectorizer(tokenizer=<function <lambda> at 0x7f9b6bcd9040>)),\n",
       "                ('model', LogisticRegression(C=12, random_state=0))])"
      ]
     },
     "execution_count": 246,
     "metadata": {},
     "output_type": "execute_result"
    }
   ],
   "source": [
    "model_pipeline.fit(train_df_negative_5[\"review_union\"], train_df_negative_5[\"target_review\"])"
   ]
  },
  {
   "cell_type": "code",
   "execution_count": 247,
   "id": "ff382514",
   "metadata": {},
   "outputs": [
    {
     "data": {
      "text/plain": [
       "1.0"
      ]
     },
     "execution_count": 247,
     "metadata": {},
     "output_type": "execute_result"
    }
   ],
   "source": [
    "precision_score(y_true=test_df_negative_5_split[\"target_review\"], y_pred=model_pipeline.predict(test_df_negative_5_split[\"review_union\"]))"
   ]
  },
  {
   "cell_type": "code",
   "execution_count": 248,
   "id": "63f9f3cc",
   "metadata": {},
   "outputs": [
    {
     "data": {
      "text/plain": [
       "0.7857142857142857"
      ]
     },
     "execution_count": 248,
     "metadata": {},
     "output_type": "execute_result"
    }
   ],
   "source": [
    "recall_score(y_true=test_df_negative_5_split[\"target_review\"], y_pred=model_pipeline.predict(test_df_negative_5_split[\"review_union\"]))"
   ]
  },
  {
   "cell_type": "code",
   "execution_count": 249,
   "id": "715d6a80",
   "metadata": {},
   "outputs": [],
   "source": [
    "prec, rec, thresholds = precision_recall_curve(y_true=test_df_negative_5_split[\"target_review\"], probas_pred=model_pipeline.predict_proba(test_df_negative_5_split[\"review_union\"])[:, 1])"
   ]
  },
  {
   "cell_type": "code",
   "execution_count": 250,
   "id": "b3e47997",
   "metadata": {},
   "outputs": [
    {
     "data": {
      "text/plain": [
       "<sklearn.metrics._plot.precision_recall_curve.PrecisionRecallDisplay at 0x7f9b5ccb9370>"
      ]
     },
     "execution_count": 250,
     "metadata": {},
     "output_type": "execute_result"
    },
    {
     "data": {
      "image/png": "[encoded data removed]",
      "text/plain": [
       "<Figure size 432x288 with 1 Axes>"
      ]
     },
     "metadata": {},
     "output_type": "display_data"
    }
   ],
   "source": [
    "plot_precision_recall_curve(estimator=model_pipeline, X=test_df_negative_5_split[\"review_union\"], y=test_df_negative_5_split[\"target_review\"])"
   ]
  },
  {
   "cell_type": "code",
   "execution_count": 251,
   "id": "40549af6",
   "metadata": {},
   "outputs": [],
   "source": [
    "features_test_5 = vectorizer_5.transform(test_negative_df['review_union'])"
   ]
  },
  {
   "cell_type": "code",
   "execution_count": 252,
   "id": "f951e0fa",
   "metadata": {},
   "outputs": [
    {
     "data": {
      "text/plain": [
       "array([0, 0, 0, ..., 0, 0, 0])"
      ]
     },
     "execution_count": 252,
     "metadata": {},
     "output_type": "execute_result"
    }
   ],
   "source": [
    "y_pred_5 = model.predict(features_test_5)\n",
    "y_pred_5"
   ]
  },
  {
   "cell_type": "code",
   "execution_count": 253,
   "id": "9428be2a",
   "metadata": {},
   "outputs": [
    {
     "data": {
      "text/plain": [
       "array([4.35085004e-05, 1.03752601e-04, 5.72300953e-04, 3.12476947e-02,\n",
       "       2.04405268e-04, 8.59045736e-03, 2.05171577e-04, 2.53410641e-03,\n",
       "       3.04034474e-03, 1.80245824e-04])"
      ]
     },
     "execution_count": 253,
     "metadata": {},
     "output_type": "execute_result"
    }
   ],
   "source": [
    "y_pred_5_proba = model.predict_proba(features_test_5)[:,1]\n",
    "y_pred_5_proba[:10]"
   ]
  },
  {
   "cell_type": "markdown",
   "id": "68f2cbdf",
   "metadata": {},
   "source": [
    "# Причина номер 6"
   ]
  },
  {
   "cell_type": "markdown",
   "id": "b66d69bb",
   "metadata": {},
   "source": [
    "Список всех значений, где в target есть 6:  \n",
    "6,8      ----    473   \n",
    "6       ----     368   \n",
    "1,6      ----    141   \n",
    "1,6,8     ----    48   \n",
    "5,6       ----     9   \n",
    "1,5,6      ----    7   \n",
    "5,6,8      ----    6   \n",
    "4,6        ----    5   \n",
    "6,7        ----    3  \n",
    "1,4,6       ----   3  \n",
    "1,3,6      ----    1  \n",
    "1,2,6      ----    1  \n",
    "4,6,8       ----   1   \n",
    "1,5,6,8     ----   1  \n",
    "3,6,8       ----   1  \n",
    "3,6         ----   1  "
   ]
  },
  {
   "cell_type": "markdown",
   "id": "41136043",
   "metadata": {},
   "source": [
    "Заменим все значения 8 по этим условиям на 6"
   ]
  },
  {
   "cell_type": "code",
   "execution_count": 254,
   "id": "723531fe",
   "metadata": {},
   "outputs": [],
   "source": [
    "#сохраним все отказные отзывы в отдельный датасет, с которым и продолжим работу\n",
    "train_df_negative_6 = train_df.loc[train_df['target_review'] == 1]"
   ]
  },
  {
   "cell_type": "code",
   "execution_count": 255,
   "id": "b86d2cc5",
   "metadata": {},
   "outputs": [
    {
     "data": {
      "text/plain": [
       "city                      715\n",
       "position                10628\n",
       "positive                26376\n",
       "negative                26789\n",
       "salary_rating               5\n",
       "team_rating                 5\n",
       "managment_rating            5\n",
       "career_rating               5\n",
       "workplace_rating            5\n",
       "rest_recovery_rating        5\n",
       "target                     43\n",
       "target_review               1\n",
       "review_union            29857\n",
       "dtype: int64"
      ]
     },
     "execution_count": 255,
     "metadata": {},
     "output_type": "execute_result"
    }
   ],
   "source": [
    "#проверим результат\n",
    "train_df_negative_6.nunique()"
   ]
  },
  {
   "cell_type": "code",
   "execution_count": 256,
   "id": "81ecd4af",
   "metadata": {},
   "outputs": [],
   "source": [
    "train_df_negative_6['target_review'] = train_df_negative_6['target']"
   ]
  },
  {
   "cell_type": "code",
   "execution_count": 257,
   "id": "751ab0e8",
   "metadata": {},
   "outputs": [
    {
     "data": {
      "text/html": [
       "<div>\n",
       "<style scoped>\n",
       "    .dataframe tbody tr th:only-of-type {\n",
       "        vertical-align: middle;\n",
       "    }\n",
       "\n",
       "    .dataframe tbody tr th {\n",
       "        vertical-align: top;\n",
       "    }\n",
       "\n",
       "    .dataframe thead th {\n",
       "        text-align: right;\n",
       "    }\n",
       "</style>\n",
       "<table border=\"1\" class=\"dataframe\">\n",
       "  <thead>\n",
       "    <tr style=\"text-align: right;\">\n",
       "      <th></th>\n",
       "      <th>city</th>\n",
       "      <th>position</th>\n",
       "      <th>positive</th>\n",
       "      <th>negative</th>\n",
       "      <th>salary_rating</th>\n",
       "      <th>team_rating</th>\n",
       "      <th>managment_rating</th>\n",
       "      <th>career_rating</th>\n",
       "      <th>workplace_rating</th>\n",
       "      <th>rest_recovery_rating</th>\n",
       "      <th>target</th>\n",
       "      <th>target_review</th>\n",
       "      <th>review_union</th>\n",
       "    </tr>\n",
       "    <tr>\n",
       "      <th>review_id</th>\n",
       "      <th></th>\n",
       "      <th></th>\n",
       "      <th></th>\n",
       "      <th></th>\n",
       "      <th></th>\n",
       "      <th></th>\n",
       "      <th></th>\n",
       "      <th></th>\n",
       "      <th></th>\n",
       "      <th></th>\n",
       "      <th></th>\n",
       "      <th></th>\n",
       "      <th></th>\n",
       "    </tr>\n",
       "  </thead>\n",
       "  <tbody>\n",
       "    <tr>\n",
       "      <th>1</th>\n",
       "      <td>Москва</td>\n",
       "      <td>Руководитель проекта</td>\n",
       "      <td>Расположение офиса, своего рода стабильность (госбанк)</td>\n",
       "      <td>Упростить процессы - все процессы ради процессов, а не результата. Избавиться от чрезмерного уровня бюрократии. Внедрить нормальный электронный документооборот - сейчас все на бумажках, даже то, что заводится в ЭДО. Высшему руководству избавиться от нежелания видеть проблемы - сейчас действует принцип «не вижу проблемы, значит ее нет».</td>\n",
       "      <td>хорошо</td>\n",
       "      <td>хорошо</td>\n",
       "      <td>хорошо</td>\n",
       "      <td>ужасно</td>\n",
       "      <td>ужасно</td>\n",
       "      <td>ужасно</td>\n",
       "      <td>8</td>\n",
       "      <td>8</td>\n",
       "      <td>Москва Руководитель проекта Расположение офиса, своего рода стабильность (госбанк) Упростить процессы - все процессы ради процессов, а не результата. Избавиться от чрезмерного уровня бюрократии. Внедрить нормальный электронный документооборот - сейчас все на бумажках, даже то, что заводится в ЭДО. Высшему руководству избавиться от нежелания видеть проблемы - сейчас действует принцип «не вижу проблемы, значит ее нет». хорошо хорошо хорошо ужасно ужасно ужасно</td>\n",
       "    </tr>\n",
       "    <tr>\n",
       "      <th>7</th>\n",
       "      <td>Москва</td>\n",
       "      <td>Инженер КИПиА</td>\n",
       "      <td>В принципе норм.Работать можно</td>\n",
       "      <td>Всегда есть к чему стремиться</td>\n",
       "      <td>хорошо</td>\n",
       "      <td>отлично</td>\n",
       "      <td>хорошо</td>\n",
       "      <td>плохо</td>\n",
       "      <td>отлично</td>\n",
       "      <td>плохо</td>\n",
       "      <td>8</td>\n",
       "      <td>8</td>\n",
       "      <td>Москва Инженер КИПиА В принципе норм.Работать можно Всегда есть к чему стремиться хорошо отлично хорошо плохо отлично плохо</td>\n",
       "    </tr>\n",
       "    <tr>\n",
       "      <th>21</th>\n",
       "      <td>Новосибирск</td>\n",
       "      <td>Менеджер по работе с крупными корпоративными и государственными клиентами (КАМ)</td>\n",
       "      <td>Ужасно , просто совдепия, зарплата нищенская</td>\n",
       "      <td>Там надо всё улучшать, место дно.</td>\n",
       "      <td>ужасно</td>\n",
       "      <td>плохо</td>\n",
       "      <td>ужасно</td>\n",
       "      <td>ужасно</td>\n",
       "      <td>ужасно</td>\n",
       "      <td>ужасно</td>\n",
       "      <td>8</td>\n",
       "      <td>8</td>\n",
       "      <td>Новосибирск Менеджер по работе с крупными корпоративными и государственными клиентами (КАМ) Ужасно , просто совдепия, зарплата нищенская Там надо всё улучшать, место дно. ужасно плохо ужасно ужасно ужасно ужасно</td>\n",
       "    </tr>\n",
       "    <tr>\n",
       "      <th>22</th>\n",
       "      <td></td>\n",
       "      <td>Механик</td>\n",
       "      <td>Норм норм норм норм норм</td>\n",
       "      <td>Ниче ниче ниче гтчн ниче</td>\n",
       "      <td>отлично</td>\n",
       "      <td>отлично</td>\n",
       "      <td>отлично</td>\n",
       "      <td>отлично</td>\n",
       "      <td>отлично</td>\n",
       "      <td>отлично</td>\n",
       "      <td>8</td>\n",
       "      <td>8</td>\n",
       "      <td>Механик Норм норм норм норм норм Ниче ниче ниче гтчн ниче отлично отлично отлично отлично отлично отлично</td>\n",
       "    </tr>\n",
       "    <tr>\n",
       "      <th>31</th>\n",
       "      <td>Москва</td>\n",
       "      <td>Поиск Работы в строительстве</td>\n",
       "      <td>Позвали на собеседование, но не сказали что нужно прежде чем устроиться оплатить обучение, не известно попадёшь работать или нет. Лохотрон</td>\n",
       "      <td>Не звать на собеседование</td>\n",
       "      <td>ужасно</td>\n",
       "      <td>ужасно</td>\n",
       "      <td>ужасно</td>\n",
       "      <td>ужасно</td>\n",
       "      <td>ужасно</td>\n",
       "      <td>ужасно</td>\n",
       "      <td>7</td>\n",
       "      <td>7</td>\n",
       "      <td>Москва Поиск Работы в строительстве Позвали на собеседование, но не сказали что нужно прежде чем устроиться оплатить обучение, не известно попадёшь работать или нет. Лохотрон Не звать на собеседование ужасно ужасно ужасно ужасно ужасно ужасно</td>\n",
       "    </tr>\n",
       "  </tbody>\n",
       "</table>\n",
       "</div>"
      ],
      "text/plain": [
       "                  city  \\\n",
       "review_id                \n",
       "1               Москва   \n",
       "7               Москва   \n",
       "21         Новосибирск   \n",
       "22                       \n",
       "31              Москва   \n",
       "\n",
       "                                                                                  position  \\\n",
       "review_id                                                                                    \n",
       "1                                                                     Руководитель проекта   \n",
       "7                                                                            Инженер КИПиА   \n",
       "21         Менеджер по работе с крупными корпоративными и государственными клиентами (КАМ)   \n",
       "22                                                                                 Механик   \n",
       "31                                                            Поиск Работы в строительстве   \n",
       "\n",
       "                                                                                                                                             positive  \\\n",
       "review_id                                                                                                                                               \n",
       "1                                                                                              Расположение офиса, своего рода стабильность (госбанк)   \n",
       "7                                                                                                                      В принципе норм.Работать можно   \n",
       "21                                                                                                       Ужасно , просто совдепия, зарплата нищенская   \n",
       "22                                                                                                                           Норм норм норм норм норм   \n",
       "31         Позвали на собеседование, но не сказали что нужно прежде чем устроиться оплатить обучение, не известно попадёшь работать или нет. Лохотрон   \n",
       "\n",
       "                                                                                                                                                                                                                                                                                                                                                    negative  \\\n",
       "review_id                                                                                                                                                                                                                                                                                                                                                      \n",
       "1          Упростить процессы - все процессы ради процессов, а не результата. Избавиться от чрезмерного уровня бюрократии. Внедрить нормальный электронный документооборот - сейчас все на бумажках, даже то, что заводится в ЭДО. Высшему руководству избавиться от нежелания видеть проблемы - сейчас действует принцип «не вижу проблемы, значит ее нет».   \n",
       "7                                                                                                                                                                                                                                                                                                                              Всегда есть к чему стремиться   \n",
       "21                                                                                                                                                                                                                                                                                                                         Там надо всё улучшать, место дно.   \n",
       "22                                                                                                                                                                                                                                                                                                                                  Ниче ниче ниче гтчн ниче   \n",
       "31                                                                                                                                                                                                                                                                                                                                 Не звать на собеседование   \n",
       "\n",
       "          salary_rating team_rating managment_rating career_rating  \\\n",
       "review_id                                                            \n",
       "1                хорошо      хорошо           хорошо        ужасно   \n",
       "7                хорошо     отлично           хорошо         плохо   \n",
       "21               ужасно       плохо           ужасно        ужасно   \n",
       "22              отлично     отлично          отлично       отлично   \n",
       "31               ужасно      ужасно           ужасно        ужасно   \n",
       "\n",
       "          workplace_rating rest_recovery_rating target target_review  \\\n",
       "review_id                                                              \n",
       "1                   ужасно               ужасно      8             8   \n",
       "7                  отлично                плохо      8             8   \n",
       "21                  ужасно               ужасно      8             8   \n",
       "22                 отлично              отлично      8             8   \n",
       "31                  ужасно               ужасно      7             7   \n",
       "\n",
       "                                                                                                                                                                                                                                                                                                                                                                                                                                                                             review_union  \n",
       "review_id                                                                                                                                                                                                                                                                                                                                                                                                                                                                                  \n",
       "1          Москва Руководитель проекта Расположение офиса, своего рода стабильность (госбанк) Упростить процессы - все процессы ради процессов, а не результата. Избавиться от чрезмерного уровня бюрократии. Внедрить нормальный электронный документооборот - сейчас все на бумажках, даже то, что заводится в ЭДО. Высшему руководству избавиться от нежелания видеть проблемы - сейчас действует принцип «не вижу проблемы, значит ее нет». хорошо хорошо хорошо ужасно ужасно ужасно  \n",
       "7                                                                                                                                                                                                                                                                                                                                                             Москва Инженер КИПиА В принципе норм.Работать можно Всегда есть к чему стремиться хорошо отлично хорошо плохо отлично плохо  \n",
       "21                                                                                                                                                                                                                                                                    Новосибирск Менеджер по работе с крупными корпоративными и государственными клиентами (КАМ) Ужасно , просто совдепия, зарплата нищенская Там надо всё улучшать, место дно. ужасно плохо ужасно ужасно ужасно ужасно  \n",
       "22                                                                                                                                                                                                                                                                                                                                                                              Механик Норм норм норм норм норм Ниче ниче ниче гтчн ниче отлично отлично отлично отлично отлично отлично  \n",
       "31                                                                                                                                                                                                                                     Москва Поиск Работы в строительстве Позвали на собеседование, но не сказали что нужно прежде чем устроиться оплатить обучение, не известно попадёшь работать или нет. Лохотрон Не звать на собеседование ужасно ужасно ужасно ужасно ужасно ужасно  "
      ]
     },
     "execution_count": 257,
     "metadata": {},
     "output_type": "execute_result"
    }
   ],
   "source": [
    "train_df_negative_6.head()"
   ]
  },
  {
   "cell_type": "code",
   "execution_count": 258,
   "id": "53c3652a",
   "metadata": {},
   "outputs": [],
   "source": [
    "train_df_negative_6.loc[(train_df_negative_6['target_review'] == \"6,8\"), 'target_review'] = 6\n",
    "train_df_negative_6.loc[(train_df_negative_6['target_review'] == \"6\"), 'target_review'] = 6\n",
    "train_df_negative_6.loc[(train_df_negative_6['target_review'] == \"1,6\"), 'target_review'] = 6\n",
    "train_df_negative_6.loc[(train_df_negative_6['target_review'] == \"1,6,8\"), 'target_review'] = 6\n",
    "train_df_negative_6.loc[(train_df_negative_6['target_review'] == \"5,6\"), 'target_review'] = 6\n",
    "train_df_negative_6.loc[(train_df_negative_6['target_review'] == \"1,5,6\"), 'target_review'] = 6\n",
    "train_df_negative_6.loc[(train_df_negative_6['target_review'] == \"4,6\"), 'target_review'] = 6\n",
    "train_df_negative_6.loc[(train_df_negative_6['target_review'] == \"6,7\"), 'target_review'] = 6\n",
    "train_df_negative_6.loc[(train_df_negative_6['target_review'] == \"1,4,6\"), 'target_review'] = 6\n",
    "train_df_negative_6.loc[(train_df_negative_6['target_review'] == \"1,3,6\"), 'target_review'] = 6\n",
    "train_df_negative_6.loc[(train_df_negative_6['target_review'] == \"1,2,6\"), 'target_review'] = 6\n",
    "train_df_negative_6.loc[(train_df_negative_6['target_review'] == \"4,6,8\"), 'target_review'] = 6\n",
    "train_df_negative_6.loc[(train_df_negative_6['target_review'] == \"1,5,6,8\"), 'target_review'] = 6\n",
    "train_df_negative_6.loc[(train_df_negative_6['target_review'] == \"3,6,8\"), 'target_review'] = 6\n",
    "train_df_negative_6.loc[(train_df_negative_6['target_review'] == \"3,6\"), 'target_review'] = 6"
   ]
  },
  {
   "cell_type": "code",
   "execution_count": 259,
   "id": "a20b8c75",
   "metadata": {},
   "outputs": [
    {
     "data": {
      "text/plain": [
       "8        24093\n",
       "1,8       1476\n",
       "1         1269\n",
       "6         1063\n",
       "3          905\n",
       "7          326\n",
       "3,8        209\n",
       "5,8        121\n",
       "5          102\n",
       "1,5         78\n",
       "4           38\n",
       "4,8         36\n",
       "1,5,8       33\n",
       "7,8         25\n",
       "1,4         24\n",
       "1,7         15\n",
       "5,7         13\n",
       "2           12\n",
       "1,3          9\n",
       "5,6,8        6\n",
       "3,7          5\n",
       "1,4,8        4\n",
       "1,3,8        3\n",
       "1,7,8        2\n",
       "1,3,5        2\n",
       "3,5,7        1\n",
       "5,7,8        1\n",
       "3,5,8        1\n",
       "3,5          1\n",
       "Name: target_review, dtype: int64"
      ]
     },
     "execution_count": 259,
     "metadata": {},
     "output_type": "execute_result"
    }
   ],
   "source": [
    "train_df_negative_6['target_review'].value_counts()"
   ]
  },
  {
   "cell_type": "code",
   "execution_count": 260,
   "id": "5f152a62",
   "metadata": {},
   "outputs": [
    {
     "data": {
      "text/plain": [
       "city                      715\n",
       "position                10628\n",
       "positive                26376\n",
       "negative                26789\n",
       "salary_rating               5\n",
       "team_rating                 5\n",
       "managment_rating            5\n",
       "career_rating               5\n",
       "workplace_rating            5\n",
       "rest_recovery_rating        5\n",
       "target                     43\n",
       "target_review              29\n",
       "review_union            29857\n",
       "dtype: int64"
      ]
     },
     "execution_count": 260,
     "metadata": {},
     "output_type": "execute_result"
    }
   ],
   "source": [
    "train_df_negative_6.nunique()"
   ]
  },
  {
   "cell_type": "code",
   "execution_count": 261,
   "id": "f819d88b",
   "metadata": {},
   "outputs": [],
   "source": [
    "train_df_negative_6.loc[(train_df_negative_6['target_review'] != 6), 'target_review'] = 8"
   ]
  },
  {
   "cell_type": "code",
   "execution_count": 262,
   "id": "d7579e13",
   "metadata": {},
   "outputs": [
    {
     "data": {
      "text/plain": [
       "city                      715\n",
       "position                10628\n",
       "positive                26376\n",
       "negative                26789\n",
       "salary_rating               5\n",
       "team_rating                 5\n",
       "managment_rating            5\n",
       "career_rating               5\n",
       "workplace_rating            5\n",
       "rest_recovery_rating        5\n",
       "target                     43\n",
       "target_review               2\n",
       "review_union            29857\n",
       "dtype: int64"
      ]
     },
     "execution_count": 262,
     "metadata": {},
     "output_type": "execute_result"
    }
   ],
   "source": [
    "train_df_negative_6.nunique()"
   ]
  },
  {
   "cell_type": "code",
   "execution_count": 263,
   "id": "7c986cd3",
   "metadata": {},
   "outputs": [],
   "source": [
    "train_df_negative_6['target_review'] = train_df_negative_6['target_review'].apply(int)"
   ]
  },
  {
   "cell_type": "code",
   "execution_count": 264,
   "id": "5002428c",
   "metadata": {},
   "outputs": [
    {
     "data": {
      "text/plain": [
       "8    28810\n",
       "6     1063\n",
       "Name: target_review, dtype: int64"
      ]
     },
     "execution_count": 264,
     "metadata": {},
     "output_type": "execute_result"
    }
   ],
   "source": [
    "train_df_negative_6['target_review'].value_counts()"
   ]
  },
  {
   "cell_type": "code",
   "execution_count": 265,
   "id": "298c221a",
   "metadata": {},
   "outputs": [],
   "source": [
    "train_df_negative_6.loc[(train_df_negative_6['target_review'] == 6), 'target_review'] = 1\n",
    "train_df_negative_6.loc[(train_df_negative_6['target_review'] == 8), 'target_review'] = 0"
   ]
  },
  {
   "cell_type": "code",
   "execution_count": 266,
   "id": "abf5ef70",
   "metadata": {},
   "outputs": [
    {
     "data": {
      "text/plain": [
       "0    28810\n",
       "1     1063\n",
       "Name: target_review, dtype: int64"
      ]
     },
     "execution_count": 266,
     "metadata": {},
     "output_type": "execute_result"
    }
   ],
   "source": [
    "train_df_negative_6['target_review'].value_counts()"
   ]
  },
  {
   "cell_type": "markdown",
   "id": "c14b5e2e",
   "metadata": {},
   "source": [
    "Разбиение прошло успешно, создадим модель"
   ]
  },
  {
   "cell_type": "code",
   "execution_count": 267,
   "id": "d962fc66",
   "metadata": {},
   "outputs": [],
   "source": [
    "#разобьёем train_df на train и test\n",
    "train_df_negative_6_split, test_df_negative_6_split = train_test_split(train_df_negative_6, test_size=2000, random_state=2)"
   ]
  },
  {
   "cell_type": "code",
   "execution_count": 268,
   "id": "0c01600d",
   "metadata": {},
   "outputs": [
    {
     "data": {
      "text/plain": [
       "(2000, 13)"
      ]
     },
     "execution_count": 268,
     "metadata": {},
     "output_type": "execute_result"
    }
   ],
   "source": [
    "test_df_negative_6_split.shape"
   ]
  },
  {
   "cell_type": "code",
   "execution_count": 269,
   "id": "1eefd59e",
   "metadata": {},
   "outputs": [
    {
     "data": {
      "text/plain": [
       "0    1930\n",
       "1      70\n",
       "Name: target_review, dtype: int64"
      ]
     },
     "execution_count": 269,
     "metadata": {},
     "output_type": "execute_result"
    }
   ],
   "source": [
    "test_df_negative_6_split['target_review'].value_counts()"
   ]
  },
  {
   "cell_type": "code",
   "execution_count": 270,
   "id": "03f404c6",
   "metadata": {},
   "outputs": [
    {
     "data": {
      "text/plain": [
       "0    26880\n",
       "1      993\n",
       "Name: target_review, dtype: int64"
      ]
     },
     "execution_count": 270,
     "metadata": {},
     "output_type": "execute_result"
    }
   ],
   "source": [
    "train_df_negative_6_split['target_review'].value_counts()"
   ]
  },
  {
   "cell_type": "code",
   "execution_count": 271,
   "id": "0a29eb74",
   "metadata": {},
   "outputs": [],
   "source": [
    "vectorizer_6 = TfidfVectorizer(tokenizer=lambda x: tokenize_sentence(x, remove_stop_words=True))"
   ]
  },
  {
   "cell_type": "code",
   "execution_count": 272,
   "id": "43782fea",
   "metadata": {},
   "outputs": [],
   "source": [
    "features_6 = vectorizer_6.fit_transform(train_df_negative_6['review_union'])"
   ]
  },
  {
   "cell_type": "code",
   "execution_count": 273,
   "id": "52ab6cca",
   "metadata": {},
   "outputs": [
    {
     "data": {
      "text/plain": [
       "LogisticRegression(C=15, random_state=0)"
      ]
     },
     "execution_count": 273,
     "metadata": {},
     "output_type": "execute_result"
    }
   ],
   "source": [
    "model = LogisticRegression(random_state=0, C=15)\n",
    "model.fit(features_6, train_df_negative_6['target_review'])"
   ]
  },
  {
   "cell_type": "code",
   "execution_count": 274,
   "id": "9bf07b86",
   "metadata": {},
   "outputs": [],
   "source": [
    "model_pipeline = Pipeline([\n",
    "    (\"vectorizer_6\", TfidfVectorizer(tokenizer=lambda x: tokenize_sentence(x, remove_stop_words=True))),\n",
    "    (\"model\", LogisticRegression(random_state=0, C=15))\n",
    "]\n",
    ")"
   ]
  },
  {
   "cell_type": "code",
   "execution_count": 275,
   "id": "e73e75af",
   "metadata": {},
   "outputs": [
    {
     "data": {
      "text/plain": [
       "Pipeline(steps=[('vectorizer_6',\n",
       "                 TfidfVectorizer(tokenizer=<function <lambda> at 0x7f9b486ef1f0>)),\n",
       "                ('model', LogisticRegression(C=15, random_state=0))])"
      ]
     },
     "execution_count": 275,
     "metadata": {},
     "output_type": "execute_result"
    }
   ],
   "source": [
    "model_pipeline.fit(train_df_negative_6[\"review_union\"], train_df_negative_6[\"target_review\"])"
   ]
  },
  {
   "cell_type": "code",
   "execution_count": 276,
   "id": "a042b1a2",
   "metadata": {},
   "outputs": [
    {
     "data": {
      "text/plain": [
       "0.9473684210526315"
      ]
     },
     "execution_count": 276,
     "metadata": {},
     "output_type": "execute_result"
    }
   ],
   "source": [
    "precision_score(y_true=test_df_negative_6_split[\"target_review\"], y_pred=model_pipeline.predict(test_df_negative_6_split[\"review_union\"]))"
   ]
  },
  {
   "cell_type": "code",
   "execution_count": 277,
   "id": "331c3df7",
   "metadata": {},
   "outputs": [
    {
     "data": {
      "text/plain": [
       "0.7714285714285715"
      ]
     },
     "execution_count": 277,
     "metadata": {},
     "output_type": "execute_result"
    }
   ],
   "source": [
    "recall_score(y_true=test_df_negative_6_split[\"target_review\"], y_pred=model_pipeline.predict(test_df_negative_6_split[\"review_union\"]))"
   ]
  },
  {
   "cell_type": "code",
   "execution_count": 278,
   "id": "dee5f161",
   "metadata": {},
   "outputs": [],
   "source": [
    "prec, rec, thresholds = precision_recall_curve(y_true=test_df_negative_6_split[\"target_review\"], probas_pred=model_pipeline.predict_proba(test_df_negative_6_split[\"review_union\"])[:, 1])"
   ]
  },
  {
   "cell_type": "code",
   "execution_count": 279,
   "id": "3dd066e2",
   "metadata": {},
   "outputs": [
    {
     "data": {
      "text/plain": [
       "<sklearn.metrics._plot.precision_recall_curve.PrecisionRecallDisplay at 0x7f9b58b98100>"
      ]
     },
     "execution_count": 279,
     "metadata": {},
     "output_type": "execute_result"
    },
    {
     "data": {
      "image/png": "[encoded data removed]",
      "text/plain": [
       "<Figure size 432x288 with 1 Axes>"
      ]
     },
     "metadata": {},
     "output_type": "display_data"
    }
   ],
   "source": [
    "plot_precision_recall_curve(estimator=model_pipeline, X=test_df_negative_6_split[\"review_union\"], y=test_df_negative_6_split[\"target_review\"])"
   ]
  },
  {
   "cell_type": "code",
   "execution_count": 280,
   "id": "3778090c",
   "metadata": {},
   "outputs": [],
   "source": [
    "features_test_6 = vectorizer_6.transform(test_negative_df['review_union'])"
   ]
  },
  {
   "cell_type": "code",
   "execution_count": 281,
   "id": "a673d1df",
   "metadata": {},
   "outputs": [
    {
     "data": {
      "text/plain": [
       "array([0, 0, 0, ..., 0, 0, 0])"
      ]
     },
     "execution_count": 281,
     "metadata": {},
     "output_type": "execute_result"
    }
   ],
   "source": [
    "y_pred_6 = model.predict(features_test_6)\n",
    "y_pred_6"
   ]
  },
  {
   "cell_type": "code",
   "execution_count": 282,
   "id": "445e49c7",
   "metadata": {},
   "outputs": [
    {
     "data": {
      "text/plain": [
       "array([2.02180255e-04, 5.19885215e-04, 1.78361828e-04, 1.80135852e-03,\n",
       "       5.97173958e-05, 8.24423262e-03, 9.61956260e-06, 7.26734908e-03,\n",
       "       7.75843094e-03, 5.50443281e-03])"
      ]
     },
     "execution_count": 282,
     "metadata": {},
     "output_type": "execute_result"
    }
   ],
   "source": [
    "y_pred_6_proba = model.predict_proba(features_test_6)[:,1]\n",
    "y_pred_6_proba[:10]"
   ]
  },
  {
   "cell_type": "markdown",
   "id": "864abfca",
   "metadata": {},
   "source": [
    "# Причина номер 7"
   ]
  },
  {
   "cell_type": "markdown",
   "id": "00014bfc",
   "metadata": {},
   "source": [
    "Список всех значений, где в target есть 7:  \n",
    "7         ----   326   \n",
    "7,8      ----     25   \n",
    "1,7          ----- 15   \n",
    "5,7     ----      13   \n",
    "3,7       ----     5   \n",
    "6,7          ----  3   \n",
    "1,7,8       ----   2   \n",
    "5,7,8       ----   1  \n",
    "3,5,7      ----    1   "
   ]
  },
  {
   "cell_type": "markdown",
   "id": "52a87b2d",
   "metadata": {},
   "source": [
    "Заменим все значения 8 по этим условиям на 7"
   ]
  },
  {
   "cell_type": "code",
   "execution_count": 283,
   "id": "29fabeff",
   "metadata": {},
   "outputs": [],
   "source": [
    "#сохраним все отказные отзывы в отдельный датасет, с которым и продолжим работу\n",
    "train_df_negative_7 = train_df.loc[train_df['target_review'] == 1]"
   ]
  },
  {
   "cell_type": "code",
   "execution_count": 284,
   "id": "e8d98709",
   "metadata": {},
   "outputs": [
    {
     "data": {
      "text/plain": [
       "city                      715\n",
       "position                10628\n",
       "positive                26376\n",
       "negative                26789\n",
       "salary_rating               5\n",
       "team_rating                 5\n",
       "managment_rating            5\n",
       "career_rating               5\n",
       "workplace_rating            5\n",
       "rest_recovery_rating        5\n",
       "target                     43\n",
       "target_review               1\n",
       "review_union            29857\n",
       "dtype: int64"
      ]
     },
     "execution_count": 284,
     "metadata": {},
     "output_type": "execute_result"
    }
   ],
   "source": [
    "#проверим результат\n",
    "train_df_negative_7.nunique()"
   ]
  },
  {
   "cell_type": "code",
   "execution_count": 285,
   "id": "ae5e352f",
   "metadata": {},
   "outputs": [],
   "source": [
    "train_df_negative_7['target_review'] = train_df_negative_7['target']"
   ]
  },
  {
   "cell_type": "code",
   "execution_count": 286,
   "id": "0ce8ca03",
   "metadata": {},
   "outputs": [
    {
     "data": {
      "text/html": [
       "<div>\n",
       "<style scoped>\n",
       "    .dataframe tbody tr th:only-of-type {\n",
       "        vertical-align: middle;\n",
       "    }\n",
       "\n",
       "    .dataframe tbody tr th {\n",
       "        vertical-align: top;\n",
       "    }\n",
       "\n",
       "    .dataframe thead th {\n",
       "        text-align: right;\n",
       "    }\n",
       "</style>\n",
       "<table border=\"1\" class=\"dataframe\">\n",
       "  <thead>\n",
       "    <tr style=\"text-align: right;\">\n",
       "      <th></th>\n",
       "      <th>city</th>\n",
       "      <th>position</th>\n",
       "      <th>positive</th>\n",
       "      <th>negative</th>\n",
       "      <th>salary_rating</th>\n",
       "      <th>team_rating</th>\n",
       "      <th>managment_rating</th>\n",
       "      <th>career_rating</th>\n",
       "      <th>workplace_rating</th>\n",
       "      <th>rest_recovery_rating</th>\n",
       "      <th>target</th>\n",
       "      <th>target_review</th>\n",
       "      <th>review_union</th>\n",
       "    </tr>\n",
       "    <tr>\n",
       "      <th>review_id</th>\n",
       "      <th></th>\n",
       "      <th></th>\n",
       "      <th></th>\n",
       "      <th></th>\n",
       "      <th></th>\n",
       "      <th></th>\n",
       "      <th></th>\n",
       "      <th></th>\n",
       "      <th></th>\n",
       "      <th></th>\n",
       "      <th></th>\n",
       "      <th></th>\n",
       "      <th></th>\n",
       "    </tr>\n",
       "  </thead>\n",
       "  <tbody>\n",
       "    <tr>\n",
       "      <th>1</th>\n",
       "      <td>Москва</td>\n",
       "      <td>Руководитель проекта</td>\n",
       "      <td>Расположение офиса, своего рода стабильность (госбанк)</td>\n",
       "      <td>Упростить процессы - все процессы ради процессов, а не результата. Избавиться от чрезмерного уровня бюрократии. Внедрить нормальный электронный документооборот - сейчас все на бумажках, даже то, что заводится в ЭДО. Высшему руководству избавиться от нежелания видеть проблемы - сейчас действует принцип «не вижу проблемы, значит ее нет».</td>\n",
       "      <td>хорошо</td>\n",
       "      <td>хорошо</td>\n",
       "      <td>хорошо</td>\n",
       "      <td>ужасно</td>\n",
       "      <td>ужасно</td>\n",
       "      <td>ужасно</td>\n",
       "      <td>8</td>\n",
       "      <td>8</td>\n",
       "      <td>Москва Руководитель проекта Расположение офиса, своего рода стабильность (госбанк) Упростить процессы - все процессы ради процессов, а не результата. Избавиться от чрезмерного уровня бюрократии. Внедрить нормальный электронный документооборот - сейчас все на бумажках, даже то, что заводится в ЭДО. Высшему руководству избавиться от нежелания видеть проблемы - сейчас действует принцип «не вижу проблемы, значит ее нет». хорошо хорошо хорошо ужасно ужасно ужасно</td>\n",
       "    </tr>\n",
       "    <tr>\n",
       "      <th>7</th>\n",
       "      <td>Москва</td>\n",
       "      <td>Инженер КИПиА</td>\n",
       "      <td>В принципе норм.Работать можно</td>\n",
       "      <td>Всегда есть к чему стремиться</td>\n",
       "      <td>хорошо</td>\n",
       "      <td>отлично</td>\n",
       "      <td>хорошо</td>\n",
       "      <td>плохо</td>\n",
       "      <td>отлично</td>\n",
       "      <td>плохо</td>\n",
       "      <td>8</td>\n",
       "      <td>8</td>\n",
       "      <td>Москва Инженер КИПиА В принципе норм.Работать можно Всегда есть к чему стремиться хорошо отлично хорошо плохо отлично плохо</td>\n",
       "    </tr>\n",
       "    <tr>\n",
       "      <th>21</th>\n",
       "      <td>Новосибирск</td>\n",
       "      <td>Менеджер по работе с крупными корпоративными и государственными клиентами (КАМ)</td>\n",
       "      <td>Ужасно , просто совдепия, зарплата нищенская</td>\n",
       "      <td>Там надо всё улучшать, место дно.</td>\n",
       "      <td>ужасно</td>\n",
       "      <td>плохо</td>\n",
       "      <td>ужасно</td>\n",
       "      <td>ужасно</td>\n",
       "      <td>ужасно</td>\n",
       "      <td>ужасно</td>\n",
       "      <td>8</td>\n",
       "      <td>8</td>\n",
       "      <td>Новосибирск Менеджер по работе с крупными корпоративными и государственными клиентами (КАМ) Ужасно , просто совдепия, зарплата нищенская Там надо всё улучшать, место дно. ужасно плохо ужасно ужасно ужасно ужасно</td>\n",
       "    </tr>\n",
       "    <tr>\n",
       "      <th>22</th>\n",
       "      <td></td>\n",
       "      <td>Механик</td>\n",
       "      <td>Норм норм норм норм норм</td>\n",
       "      <td>Ниче ниче ниче гтчн ниче</td>\n",
       "      <td>отлично</td>\n",
       "      <td>отлично</td>\n",
       "      <td>отлично</td>\n",
       "      <td>отлично</td>\n",
       "      <td>отлично</td>\n",
       "      <td>отлично</td>\n",
       "      <td>8</td>\n",
       "      <td>8</td>\n",
       "      <td>Механик Норм норм норм норм норм Ниче ниче ниче гтчн ниче отлично отлично отлично отлично отлично отлично</td>\n",
       "    </tr>\n",
       "    <tr>\n",
       "      <th>31</th>\n",
       "      <td>Москва</td>\n",
       "      <td>Поиск Работы в строительстве</td>\n",
       "      <td>Позвали на собеседование, но не сказали что нужно прежде чем устроиться оплатить обучение, не известно попадёшь работать или нет. Лохотрон</td>\n",
       "      <td>Не звать на собеседование</td>\n",
       "      <td>ужасно</td>\n",
       "      <td>ужасно</td>\n",
       "      <td>ужасно</td>\n",
       "      <td>ужасно</td>\n",
       "      <td>ужасно</td>\n",
       "      <td>ужасно</td>\n",
       "      <td>7</td>\n",
       "      <td>7</td>\n",
       "      <td>Москва Поиск Работы в строительстве Позвали на собеседование, но не сказали что нужно прежде чем устроиться оплатить обучение, не известно попадёшь работать или нет. Лохотрон Не звать на собеседование ужасно ужасно ужасно ужасно ужасно ужасно</td>\n",
       "    </tr>\n",
       "  </tbody>\n",
       "</table>\n",
       "</div>"
      ],
      "text/plain": [
       "                  city  \\\n",
       "review_id                \n",
       "1               Москва   \n",
       "7               Москва   \n",
       "21         Новосибирск   \n",
       "22                       \n",
       "31              Москва   \n",
       "\n",
       "                                                                                  position  \\\n",
       "review_id                                                                                    \n",
       "1                                                                     Руководитель проекта   \n",
       "7                                                                            Инженер КИПиА   \n",
       "21         Менеджер по работе с крупными корпоративными и государственными клиентами (КАМ)   \n",
       "22                                                                                 Механик   \n",
       "31                                                            Поиск Работы в строительстве   \n",
       "\n",
       "                                                                                                                                             positive  \\\n",
       "review_id                                                                                                                                               \n",
       "1                                                                                              Расположение офиса, своего рода стабильность (госбанк)   \n",
       "7                                                                                                                      В принципе норм.Работать можно   \n",
       "21                                                                                                       Ужасно , просто совдепия, зарплата нищенская   \n",
       "22                                                                                                                           Норм норм норм норм норм   \n",
       "31         Позвали на собеседование, но не сказали что нужно прежде чем устроиться оплатить обучение, не известно попадёшь работать или нет. Лохотрон   \n",
       "\n",
       "                                                                                                                                                                                                                                                                                                                                                    negative  \\\n",
       "review_id                                                                                                                                                                                                                                                                                                                                                      \n",
       "1          Упростить процессы - все процессы ради процессов, а не результата. Избавиться от чрезмерного уровня бюрократии. Внедрить нормальный электронный документооборот - сейчас все на бумажках, даже то, что заводится в ЭДО. Высшему руководству избавиться от нежелания видеть проблемы - сейчас действует принцип «не вижу проблемы, значит ее нет».   \n",
       "7                                                                                                                                                                                                                                                                                                                              Всегда есть к чему стремиться   \n",
       "21                                                                                                                                                                                                                                                                                                                         Там надо всё улучшать, место дно.   \n",
       "22                                                                                                                                                                                                                                                                                                                                  Ниче ниче ниче гтчн ниче   \n",
       "31                                                                                                                                                                                                                                                                                                                                 Не звать на собеседование   \n",
       "\n",
       "          salary_rating team_rating managment_rating career_rating  \\\n",
       "review_id                                                            \n",
       "1                хорошо      хорошо           хорошо        ужасно   \n",
       "7                хорошо     отлично           хорошо         плохо   \n",
       "21               ужасно       плохо           ужасно        ужасно   \n",
       "22              отлично     отлично          отлично       отлично   \n",
       "31               ужасно      ужасно           ужасно        ужасно   \n",
       "\n",
       "          workplace_rating rest_recovery_rating target target_review  \\\n",
       "review_id                                                              \n",
       "1                   ужасно               ужасно      8             8   \n",
       "7                  отлично                плохо      8             8   \n",
       "21                  ужасно               ужасно      8             8   \n",
       "22                 отлично              отлично      8             8   \n",
       "31                  ужасно               ужасно      7             7   \n",
       "\n",
       "                                                                                                                                                                                                                                                                                                                                                                                                                                                                             review_union  \n",
       "review_id                                                                                                                                                                                                                                                                                                                                                                                                                                                                                  \n",
       "1          Москва Руководитель проекта Расположение офиса, своего рода стабильность (госбанк) Упростить процессы - все процессы ради процессов, а не результата. Избавиться от чрезмерного уровня бюрократии. Внедрить нормальный электронный документооборот - сейчас все на бумажках, даже то, что заводится в ЭДО. Высшему руководству избавиться от нежелания видеть проблемы - сейчас действует принцип «не вижу проблемы, значит ее нет». хорошо хорошо хорошо ужасно ужасно ужасно  \n",
       "7                                                                                                                                                                                                                                                                                                                                                             Москва Инженер КИПиА В принципе норм.Работать можно Всегда есть к чему стремиться хорошо отлично хорошо плохо отлично плохо  \n",
       "21                                                                                                                                                                                                                                                                    Новосибирск Менеджер по работе с крупными корпоративными и государственными клиентами (КАМ) Ужасно , просто совдепия, зарплата нищенская Там надо всё улучшать, место дно. ужасно плохо ужасно ужасно ужасно ужасно  \n",
       "22                                                                                                                                                                                                                                                                                                                                                                              Механик Норм норм норм норм норм Ниче ниче ниче гтчн ниче отлично отлично отлично отлично отлично отлично  \n",
       "31                                                                                                                                                                                                                                     Москва Поиск Работы в строительстве Позвали на собеседование, но не сказали что нужно прежде чем устроиться оплатить обучение, не известно попадёшь работать или нет. Лохотрон Не звать на собеседование ужасно ужасно ужасно ужасно ужасно ужасно  "
      ]
     },
     "execution_count": 286,
     "metadata": {},
     "output_type": "execute_result"
    }
   ],
   "source": [
    "train_df_negative_7.head()"
   ]
  },
  {
   "cell_type": "code",
   "execution_count": 287,
   "id": "363f03ff",
   "metadata": {},
   "outputs": [],
   "source": [
    "train_df_negative_7.loc[(train_df_negative_7['target_review'] == \"7\"), 'target_review'] = 7\n",
    "train_df_negative_7.loc[(train_df_negative_7['target_review'] == \"7,8\"), 'target_review'] = 7\n",
    "train_df_negative_7.loc[(train_df_negative_7['target_review'] == \"1,7\"), 'target_review'] = 7\n",
    "train_df_negative_7.loc[(train_df_negative_7['target_review'] == \"5,7\"), 'target_review'] = 7\n",
    "train_df_negative_7.loc[(train_df_negative_7['target_review'] == \"3,7\"), 'target_review'] = 7\n",
    "train_df_negative_7.loc[(train_df_negative_7['target_review'] == \"6,7\"), 'target_review'] = 7\n",
    "train_df_negative_7.loc[(train_df_negative_7['target_review'] == \"1,7,8\"), 'target_review'] = 7\n",
    "train_df_negative_7.loc[(train_df_negative_7['target_review'] == \"5,7,8\"), 'target_review'] = 7\n",
    "train_df_negative_7.loc[(train_df_negative_7['target_review'] == \"3,5,7\"), 'target_review'] = 7"
   ]
  },
  {
   "cell_type": "code",
   "execution_count": 288,
   "id": "0c2ca4a5",
   "metadata": {},
   "outputs": [
    {
     "data": {
      "text/plain": [
       "8          24093\n",
       "1,8         1476\n",
       "1           1269\n",
       "3            905\n",
       "6,8          473\n",
       "7            391\n",
       "6            368\n",
       "3,8          209\n",
       "1,6          141\n",
       "5,8          121\n",
       "5            102\n",
       "1,5           78\n",
       "1,6,8         48\n",
       "4             38\n",
       "4,8           36\n",
       "1,5,8         33\n",
       "1,4           24\n",
       "2             12\n",
       "5,6            9\n",
       "1,3            9\n",
       "1,5,6          7\n",
       "5,6,8          6\n",
       "4,6            5\n",
       "1,4,8          4\n",
       "1,3,8          3\n",
       "1,4,6          3\n",
       "1,3,5          2\n",
       "3,6            1\n",
       "1,3,6          1\n",
       "1,5,6,8        1\n",
       "1,2,6          1\n",
       "4,6,8          1\n",
       "3,6,8          1\n",
       "3,5,8          1\n",
       "3,5            1\n",
       "Name: target_review, dtype: int64"
      ]
     },
     "execution_count": 288,
     "metadata": {},
     "output_type": "execute_result"
    }
   ],
   "source": [
    "train_df_negative_7['target_review'].value_counts()"
   ]
  },
  {
   "cell_type": "code",
   "execution_count": 289,
   "id": "78ac9f88",
   "metadata": {},
   "outputs": [
    {
     "data": {
      "text/plain": [
       "city                      715\n",
       "position                10628\n",
       "positive                26376\n",
       "negative                26789\n",
       "salary_rating               5\n",
       "team_rating                 5\n",
       "managment_rating            5\n",
       "career_rating               5\n",
       "workplace_rating            5\n",
       "rest_recovery_rating        5\n",
       "target                     43\n",
       "target_review              35\n",
       "review_union            29857\n",
       "dtype: int64"
      ]
     },
     "execution_count": 289,
     "metadata": {},
     "output_type": "execute_result"
    }
   ],
   "source": [
    "train_df_negative_7.nunique()"
   ]
  },
  {
   "cell_type": "code",
   "execution_count": 290,
   "id": "5cae48a0",
   "metadata": {},
   "outputs": [],
   "source": [
    "train_df_negative_7.loc[(train_df_negative_7['target_review'] != 7), 'target_review'] = 8"
   ]
  },
  {
   "cell_type": "code",
   "execution_count": 291,
   "id": "89fc0cce",
   "metadata": {},
   "outputs": [
    {
     "data": {
      "text/plain": [
       "city                      715\n",
       "position                10628\n",
       "positive                26376\n",
       "negative                26789\n",
       "salary_rating               5\n",
       "team_rating                 5\n",
       "managment_rating            5\n",
       "career_rating               5\n",
       "workplace_rating            5\n",
       "rest_recovery_rating        5\n",
       "target                     43\n",
       "target_review               2\n",
       "review_union            29857\n",
       "dtype: int64"
      ]
     },
     "execution_count": 291,
     "metadata": {},
     "output_type": "execute_result"
    }
   ],
   "source": [
    "train_df_negative_7.nunique()"
   ]
  },
  {
   "cell_type": "code",
   "execution_count": 292,
   "id": "aca8fe64",
   "metadata": {},
   "outputs": [],
   "source": [
    "train_df_negative_7['target_review'] = train_df_negative_7['target_review'].apply(int)"
   ]
  },
  {
   "cell_type": "code",
   "execution_count": 293,
   "id": "a03bb9cd",
   "metadata": {},
   "outputs": [
    {
     "data": {
      "text/plain": [
       "8    29482\n",
       "7      391\n",
       "Name: target_review, dtype: int64"
      ]
     },
     "execution_count": 293,
     "metadata": {},
     "output_type": "execute_result"
    }
   ],
   "source": [
    "train_df_negative_7['target_review'].value_counts()"
   ]
  },
  {
   "cell_type": "code",
   "execution_count": 294,
   "id": "640836ac",
   "metadata": {},
   "outputs": [],
   "source": [
    "train_df_negative_7.loc[(train_df_negative_7['target_review'] == 7), 'target_review'] = 1\n",
    "train_df_negative_7.loc[(train_df_negative_7['target_review'] == 8), 'target_review'] = 0"
   ]
  },
  {
   "cell_type": "code",
   "execution_count": 295,
   "id": "065c3c81",
   "metadata": {},
   "outputs": [
    {
     "data": {
      "text/plain": [
       "0    29482\n",
       "1      391\n",
       "Name: target_review, dtype: int64"
      ]
     },
     "execution_count": 295,
     "metadata": {},
     "output_type": "execute_result"
    }
   ],
   "source": [
    "train_df_negative_7['target_review'].value_counts()"
   ]
  },
  {
   "cell_type": "markdown",
   "id": "ce522db3",
   "metadata": {},
   "source": [
    "Разбиение прошло успешно, создадим модель"
   ]
  },
  {
   "cell_type": "code",
   "execution_count": 296,
   "id": "4e8ed391",
   "metadata": {},
   "outputs": [],
   "source": [
    "#разобьёем train_df на train и test\n",
    "train_df_negative_7_split, test_df_negative_7_split = train_test_split(train_df_negative_7, test_size=2000, random_state=2)"
   ]
  },
  {
   "cell_type": "code",
   "execution_count": 297,
   "id": "af21684b",
   "metadata": {},
   "outputs": [
    {
     "data": {
      "text/plain": [
       "(2000, 13)"
      ]
     },
     "execution_count": 297,
     "metadata": {},
     "output_type": "execute_result"
    }
   ],
   "source": [
    "test_df_negative_7_split.shape"
   ]
  },
  {
   "cell_type": "code",
   "execution_count": 298,
   "id": "6364756e",
   "metadata": {},
   "outputs": [
    {
     "data": {
      "text/plain": [
       "0    1967\n",
       "1      33\n",
       "Name: target_review, dtype: int64"
      ]
     },
     "execution_count": 298,
     "metadata": {},
     "output_type": "execute_result"
    }
   ],
   "source": [
    "test_df_negative_7_split['target_review'].value_counts()"
   ]
  },
  {
   "cell_type": "code",
   "execution_count": 299,
   "id": "ec5c6231",
   "metadata": {},
   "outputs": [
    {
     "data": {
      "text/plain": [
       "0    27515\n",
       "1      358\n",
       "Name: target_review, dtype: int64"
      ]
     },
     "execution_count": 299,
     "metadata": {},
     "output_type": "execute_result"
    }
   ],
   "source": [
    "train_df_negative_7_split['target_review'].value_counts()"
   ]
  },
  {
   "cell_type": "code",
   "execution_count": 300,
   "id": "8c43ac80",
   "metadata": {},
   "outputs": [],
   "source": [
    "vectorizer_7 = TfidfVectorizer(tokenizer=lambda x: tokenize_sentence(x, remove_stop_words=True))"
   ]
  },
  {
   "cell_type": "code",
   "execution_count": 301,
   "id": "333b1e23",
   "metadata": {},
   "outputs": [],
   "source": [
    "features_7 = vectorizer_7.fit_transform(train_df_negative_7['review_union'])"
   ]
  },
  {
   "cell_type": "code",
   "execution_count": 302,
   "id": "c58ac7c8",
   "metadata": {},
   "outputs": [
    {
     "data": {
      "text/plain": [
       "LogisticRegression(C=30, random_state=0)"
      ]
     },
     "execution_count": 302,
     "metadata": {},
     "output_type": "execute_result"
    }
   ],
   "source": [
    "model = LogisticRegression(random_state=0, C=30)\n",
    "model.fit(features_7, train_df_negative_7['target_review'])"
   ]
  },
  {
   "cell_type": "code",
   "execution_count": 303,
   "id": "e26b9f97",
   "metadata": {},
   "outputs": [],
   "source": [
    "model_pipeline = Pipeline([\n",
    "    (\"vectorizer_7\", TfidfVectorizer(tokenizer=lambda x: tokenize_sentence(x, remove_stop_words=True))),\n",
    "    (\"model\", LogisticRegression(random_state=0, C=20))\n",
    "]\n",
    ")"
   ]
  },
  {
   "cell_type": "code",
   "execution_count": 304,
   "id": "b126bffd",
   "metadata": {},
   "outputs": [
    {
     "data": {
      "text/plain": [
       "Pipeline(steps=[('vectorizer_7',\n",
       "                 TfidfVectorizer(tokenizer=<function <lambda> at 0x7f9b4cf6e1f0>)),\n",
       "                ('model', LogisticRegression(C=20, random_state=0))])"
      ]
     },
     "execution_count": 304,
     "metadata": {},
     "output_type": "execute_result"
    }
   ],
   "source": [
    "model_pipeline.fit(train_df_negative_7[\"review_union\"], train_df_negative_7[\"target_review\"])"
   ]
  },
  {
   "cell_type": "code",
   "execution_count": 305,
   "id": "7b91b0bc",
   "metadata": {},
   "outputs": [
    {
     "data": {
      "text/plain": [
       "1.0"
      ]
     },
     "execution_count": 305,
     "metadata": {},
     "output_type": "execute_result"
    }
   ],
   "source": [
    "precision_score(y_true=test_df_negative_7_split[\"target_review\"], y_pred=model_pipeline.predict(test_df_negative_7_split[\"review_union\"]))"
   ]
  },
  {
   "cell_type": "code",
   "execution_count": 306,
   "id": "f72c1c14",
   "metadata": {},
   "outputs": [
    {
     "data": {
      "text/plain": [
       "0.7878787878787878"
      ]
     },
     "execution_count": 306,
     "metadata": {},
     "output_type": "execute_result"
    }
   ],
   "source": [
    "recall_score(y_true=test_df_negative_7_split[\"target_review\"], y_pred=model_pipeline.predict(test_df_negative_7_split[\"review_union\"]))"
   ]
  },
  {
   "cell_type": "code",
   "execution_count": 307,
   "id": "28b56618",
   "metadata": {},
   "outputs": [],
   "source": [
    "prec, rec, thresholds = precision_recall_curve(y_true=test_df_negative_7_split[\"target_review\"], probas_pred=model_pipeline.predict_proba(test_df_negative_7_split[\"review_union\"])[:, 1])"
   ]
  },
  {
   "cell_type": "code",
   "execution_count": 308,
   "id": "07fabe28",
   "metadata": {},
   "outputs": [
    {
     "data": {
      "text/plain": [
       "<sklearn.metrics._plot.precision_recall_curve.PrecisionRecallDisplay at 0x7f9b4d2b0ac0>"
      ]
     },
     "execution_count": 308,
     "metadata": {},
     "output_type": "execute_result"
    },
    {
     "data": {
      "image/png": "[encoded data removed]",
      "text/plain": [
       "<Figure size 432x288 with 1 Axes>"
      ]
     },
     "metadata": {},
     "output_type": "display_data"
    }
   ],
   "source": [
    "plot_precision_recall_curve(estimator=model_pipeline, X=test_df_negative_7_split[\"review_union\"], y=test_df_negative_7_split[\"target_review\"])"
   ]
  },
  {
   "cell_type": "code",
   "execution_count": 309,
   "id": "e748507c",
   "metadata": {},
   "outputs": [],
   "source": [
    "features_test_7 = vectorizer_7.transform(test_negative_df['review_union'])"
   ]
  },
  {
   "cell_type": "code",
   "execution_count": 310,
   "id": "c14cccf1",
   "metadata": {},
   "outputs": [
    {
     "data": {
      "text/plain": [
       "array([0, 0, 0, ..., 0, 0, 0])"
      ]
     },
     "execution_count": 310,
     "metadata": {},
     "output_type": "execute_result"
    }
   ],
   "source": [
    "y_pred_7 = model.predict(features_test_7)\n",
    "y_pred_7"
   ]
  },
  {
   "cell_type": "code",
   "execution_count": 311,
   "id": "a27af218",
   "metadata": {},
   "outputs": [
    {
     "data": {
      "text/plain": [
       "array([9.80375100e-05, 2.93346110e-03, 7.53601758e-04, 2.70694684e-03,\n",
       "       2.57193965e-04, 7.81633789e-05, 2.01297268e-05, 1.59526173e-04,\n",
       "       5.17806870e-05, 3.49565025e-04])"
      ]
     },
     "execution_count": 311,
     "metadata": {},
     "output_type": "execute_result"
    }
   ],
   "source": [
    "y_pred_7_proba = model.predict_proba(features_test_7)[:,1]\n",
    "y_pred_7_proba[:10]"
   ]
  },
  {
   "cell_type": "markdown",
   "id": "a2e91dee",
   "metadata": {},
   "source": [
    "# Причина номер 8"
   ]
  },
  {
   "cell_type": "markdown",
   "id": "e9ad4de4",
   "metadata": {},
   "source": [
    "Список всех значений, где в target есть 8:  \n",
    "8       ----   24093  \n",
    "1,8      ----   1476  \n",
    "6,8       ----   473  \n",
    "3,8       ----   209  \n",
    "5,8       ----   121  \n",
    "1,6,8      ----   48  \n",
    "4,8        ----   36  \n",
    "1,5,8      ----   33  \n",
    "7,8        ----   25  \n",
    "5,6,8      ----    6  \n",
    "1,4,8     ----     4  \n",
    "1,3,8     ----     3  \n",
    "1,7,8     ----     2  \n",
    "5,7,8     ----     1  \n",
    "3,5,8     ----     1  \n",
    "4,6,8     ----     1  \n",
    "1,5,6,8    ----    1  \n",
    "3,6,8      ----    1"
   ]
  },
  {
   "cell_type": "markdown",
   "id": "c8dd2124",
   "metadata": {},
   "source": [
    "Заменим все значения 8 по этим условиям на 8"
   ]
  },
  {
   "cell_type": "code",
   "execution_count": 312,
   "id": "7915e24f",
   "metadata": {},
   "outputs": [],
   "source": [
    "#сохраним все отказные отзывы в отдельный датасет, с которым и продолжим работу\n",
    "train_df_negative_8 = train_df.loc[train_df['target_review'] == 1]"
   ]
  },
  {
   "cell_type": "code",
   "execution_count": 313,
   "id": "a61e0596",
   "metadata": {},
   "outputs": [
    {
     "data": {
      "text/plain": [
       "city                      715\n",
       "position                10628\n",
       "positive                26376\n",
       "negative                26789\n",
       "salary_rating               5\n",
       "team_rating                 5\n",
       "managment_rating            5\n",
       "career_rating               5\n",
       "workplace_rating            5\n",
       "rest_recovery_rating        5\n",
       "target                     43\n",
       "target_review               1\n",
       "review_union            29857\n",
       "dtype: int64"
      ]
     },
     "execution_count": 313,
     "metadata": {},
     "output_type": "execute_result"
    }
   ],
   "source": [
    "#проверим результат\n",
    "train_df_negative_8.nunique()"
   ]
  },
  {
   "cell_type": "code",
   "execution_count": 314,
   "id": "d58ef743",
   "metadata": {},
   "outputs": [],
   "source": [
    "train_df_negative_8['target_review'] = train_df_negative_8['target']"
   ]
  },
  {
   "cell_type": "code",
   "execution_count": 315,
   "id": "14b9c968",
   "metadata": {},
   "outputs": [
    {
     "data": {
      "text/html": [
       "<div>\n",
       "<style scoped>\n",
       "    .dataframe tbody tr th:only-of-type {\n",
       "        vertical-align: middle;\n",
       "    }\n",
       "\n",
       "    .dataframe tbody tr th {\n",
       "        vertical-align: top;\n",
       "    }\n",
       "\n",
       "    .dataframe thead th {\n",
       "        text-align: right;\n",
       "    }\n",
       "</style>\n",
       "<table border=\"1\" class=\"dataframe\">\n",
       "  <thead>\n",
       "    <tr style=\"text-align: right;\">\n",
       "      <th></th>\n",
       "      <th>city</th>\n",
       "      <th>position</th>\n",
       "      <th>positive</th>\n",
       "      <th>negative</th>\n",
       "      <th>salary_rating</th>\n",
       "      <th>team_rating</th>\n",
       "      <th>managment_rating</th>\n",
       "      <th>career_rating</th>\n",
       "      <th>workplace_rating</th>\n",
       "      <th>rest_recovery_rating</th>\n",
       "      <th>target</th>\n",
       "      <th>target_review</th>\n",
       "      <th>review_union</th>\n",
       "    </tr>\n",
       "    <tr>\n",
       "      <th>review_id</th>\n",
       "      <th></th>\n",
       "      <th></th>\n",
       "      <th></th>\n",
       "      <th></th>\n",
       "      <th></th>\n",
       "      <th></th>\n",
       "      <th></th>\n",
       "      <th></th>\n",
       "      <th></th>\n",
       "      <th></th>\n",
       "      <th></th>\n",
       "      <th></th>\n",
       "      <th></th>\n",
       "    </tr>\n",
       "  </thead>\n",
       "  <tbody>\n",
       "    <tr>\n",
       "      <th>1</th>\n",
       "      <td>Москва</td>\n",
       "      <td>Руководитель проекта</td>\n",
       "      <td>Расположение офиса, своего рода стабильность (госбанк)</td>\n",
       "      <td>Упростить процессы - все процессы ради процессов, а не результата. Избавиться от чрезмерного уровня бюрократии. Внедрить нормальный электронный документооборот - сейчас все на бумажках, даже то, что заводится в ЭДО. Высшему руководству избавиться от нежелания видеть проблемы - сейчас действует принцип «не вижу проблемы, значит ее нет».</td>\n",
       "      <td>хорошо</td>\n",
       "      <td>хорошо</td>\n",
       "      <td>хорошо</td>\n",
       "      <td>ужасно</td>\n",
       "      <td>ужасно</td>\n",
       "      <td>ужасно</td>\n",
       "      <td>8</td>\n",
       "      <td>8</td>\n",
       "      <td>Москва Руководитель проекта Расположение офиса, своего рода стабильность (госбанк) Упростить процессы - все процессы ради процессов, а не результата. Избавиться от чрезмерного уровня бюрократии. Внедрить нормальный электронный документооборот - сейчас все на бумажках, даже то, что заводится в ЭДО. Высшему руководству избавиться от нежелания видеть проблемы - сейчас действует принцип «не вижу проблемы, значит ее нет». хорошо хорошо хорошо ужасно ужасно ужасно</td>\n",
       "    </tr>\n",
       "    <tr>\n",
       "      <th>7</th>\n",
       "      <td>Москва</td>\n",
       "      <td>Инженер КИПиА</td>\n",
       "      <td>В принципе норм.Работать можно</td>\n",
       "      <td>Всегда есть к чему стремиться</td>\n",
       "      <td>хорошо</td>\n",
       "      <td>отлично</td>\n",
       "      <td>хорошо</td>\n",
       "      <td>плохо</td>\n",
       "      <td>отлично</td>\n",
       "      <td>плохо</td>\n",
       "      <td>8</td>\n",
       "      <td>8</td>\n",
       "      <td>Москва Инженер КИПиА В принципе норм.Работать можно Всегда есть к чему стремиться хорошо отлично хорошо плохо отлично плохо</td>\n",
       "    </tr>\n",
       "    <tr>\n",
       "      <th>21</th>\n",
       "      <td>Новосибирск</td>\n",
       "      <td>Менеджер по работе с крупными корпоративными и государственными клиентами (КАМ)</td>\n",
       "      <td>Ужасно , просто совдепия, зарплата нищенская</td>\n",
       "      <td>Там надо всё улучшать, место дно.</td>\n",
       "      <td>ужасно</td>\n",
       "      <td>плохо</td>\n",
       "      <td>ужасно</td>\n",
       "      <td>ужасно</td>\n",
       "      <td>ужасно</td>\n",
       "      <td>ужасно</td>\n",
       "      <td>8</td>\n",
       "      <td>8</td>\n",
       "      <td>Новосибирск Менеджер по работе с крупными корпоративными и государственными клиентами (КАМ) Ужасно , просто совдепия, зарплата нищенская Там надо всё улучшать, место дно. ужасно плохо ужасно ужасно ужасно ужасно</td>\n",
       "    </tr>\n",
       "    <tr>\n",
       "      <th>22</th>\n",
       "      <td></td>\n",
       "      <td>Механик</td>\n",
       "      <td>Норм норм норм норм норм</td>\n",
       "      <td>Ниче ниче ниче гтчн ниче</td>\n",
       "      <td>отлично</td>\n",
       "      <td>отлично</td>\n",
       "      <td>отлично</td>\n",
       "      <td>отлично</td>\n",
       "      <td>отлично</td>\n",
       "      <td>отлично</td>\n",
       "      <td>8</td>\n",
       "      <td>8</td>\n",
       "      <td>Механик Норм норм норм норм норм Ниче ниче ниче гтчн ниче отлично отлично отлично отлично отлично отлично</td>\n",
       "    </tr>\n",
       "    <tr>\n",
       "      <th>31</th>\n",
       "      <td>Москва</td>\n",
       "      <td>Поиск Работы в строительстве</td>\n",
       "      <td>Позвали на собеседование, но не сказали что нужно прежде чем устроиться оплатить обучение, не известно попадёшь работать или нет. Лохотрон</td>\n",
       "      <td>Не звать на собеседование</td>\n",
       "      <td>ужасно</td>\n",
       "      <td>ужасно</td>\n",
       "      <td>ужасно</td>\n",
       "      <td>ужасно</td>\n",
       "      <td>ужасно</td>\n",
       "      <td>ужасно</td>\n",
       "      <td>7</td>\n",
       "      <td>7</td>\n",
       "      <td>Москва Поиск Работы в строительстве Позвали на собеседование, но не сказали что нужно прежде чем устроиться оплатить обучение, не известно попадёшь работать или нет. Лохотрон Не звать на собеседование ужасно ужасно ужасно ужасно ужасно ужасно</td>\n",
       "    </tr>\n",
       "  </tbody>\n",
       "</table>\n",
       "</div>"
      ],
      "text/plain": [
       "                  city  \\\n",
       "review_id                \n",
       "1               Москва   \n",
       "7               Москва   \n",
       "21         Новосибирск   \n",
       "22                       \n",
       "31              Москва   \n",
       "\n",
       "                                                                                  position  \\\n",
       "review_id                                                                                    \n",
       "1                                                                     Руководитель проекта   \n",
       "7                                                                            Инженер КИПиА   \n",
       "21         Менеджер по работе с крупными корпоративными и государственными клиентами (КАМ)   \n",
       "22                                                                                 Механик   \n",
       "31                                                            Поиск Работы в строительстве   \n",
       "\n",
       "                                                                                                                                             positive  \\\n",
       "review_id                                                                                                                                               \n",
       "1                                                                                              Расположение офиса, своего рода стабильность (госбанк)   \n",
       "7                                                                                                                      В принципе норм.Работать можно   \n",
       "21                                                                                                       Ужасно , просто совдепия, зарплата нищенская   \n",
       "22                                                                                                                           Норм норм норм норм норм   \n",
       "31         Позвали на собеседование, но не сказали что нужно прежде чем устроиться оплатить обучение, не известно попадёшь работать или нет. Лохотрон   \n",
       "\n",
       "                                                                                                                                                                                                                                                                                                                                                    negative  \\\n",
       "review_id                                                                                                                                                                                                                                                                                                                                                      \n",
       "1          Упростить процессы - все процессы ради процессов, а не результата. Избавиться от чрезмерного уровня бюрократии. Внедрить нормальный электронный документооборот - сейчас все на бумажках, даже то, что заводится в ЭДО. Высшему руководству избавиться от нежелания видеть проблемы - сейчас действует принцип «не вижу проблемы, значит ее нет».   \n",
       "7                                                                                                                                                                                                                                                                                                                              Всегда есть к чему стремиться   \n",
       "21                                                                                                                                                                                                                                                                                                                         Там надо всё улучшать, место дно.   \n",
       "22                                                                                                                                                                                                                                                                                                                                  Ниче ниче ниче гтчн ниче   \n",
       "31                                                                                                                                                                                                                                                                                                                                 Не звать на собеседование   \n",
       "\n",
       "          salary_rating team_rating managment_rating career_rating  \\\n",
       "review_id                                                            \n",
       "1                хорошо      хорошо           хорошо        ужасно   \n",
       "7                хорошо     отлично           хорошо         плохо   \n",
       "21               ужасно       плохо           ужасно        ужасно   \n",
       "22              отлично     отлично          отлично       отлично   \n",
       "31               ужасно      ужасно           ужасно        ужасно   \n",
       "\n",
       "          workplace_rating rest_recovery_rating target target_review  \\\n",
       "review_id                                                              \n",
       "1                   ужасно               ужасно      8             8   \n",
       "7                  отлично                плохо      8             8   \n",
       "21                  ужасно               ужасно      8             8   \n",
       "22                 отлично              отлично      8             8   \n",
       "31                  ужасно               ужасно      7             7   \n",
       "\n",
       "                                                                                                                                                                                                                                                                                                                                                                                                                                                                             review_union  \n",
       "review_id                                                                                                                                                                                                                                                                                                                                                                                                                                                                                  \n",
       "1          Москва Руководитель проекта Расположение офиса, своего рода стабильность (госбанк) Упростить процессы - все процессы ради процессов, а не результата. Избавиться от чрезмерного уровня бюрократии. Внедрить нормальный электронный документооборот - сейчас все на бумажках, даже то, что заводится в ЭДО. Высшему руководству избавиться от нежелания видеть проблемы - сейчас действует принцип «не вижу проблемы, значит ее нет». хорошо хорошо хорошо ужасно ужасно ужасно  \n",
       "7                                                                                                                                                                                                                                                                                                                                                             Москва Инженер КИПиА В принципе норм.Работать можно Всегда есть к чему стремиться хорошо отлично хорошо плохо отлично плохо  \n",
       "21                                                                                                                                                                                                                                                                    Новосибирск Менеджер по работе с крупными корпоративными и государственными клиентами (КАМ) Ужасно , просто совдепия, зарплата нищенская Там надо всё улучшать, место дно. ужасно плохо ужасно ужасно ужасно ужасно  \n",
       "22                                                                                                                                                                                                                                                                                                                                                                              Механик Норм норм норм норм норм Ниче ниче ниче гтчн ниче отлично отлично отлично отлично отлично отлично  \n",
       "31                                                                                                                                                                                                                                     Москва Поиск Работы в строительстве Позвали на собеседование, но не сказали что нужно прежде чем устроиться оплатить обучение, не известно попадёшь работать или нет. Лохотрон Не звать на собеседование ужасно ужасно ужасно ужасно ужасно ужасно  "
      ]
     },
     "execution_count": 315,
     "metadata": {},
     "output_type": "execute_result"
    }
   ],
   "source": [
    "train_df_negative_8.head()"
   ]
  },
  {
   "cell_type": "code",
   "execution_count": 316,
   "id": "7f75800a",
   "metadata": {},
   "outputs": [],
   "source": [
    "train_df_negative_8.loc[(train_df_negative_8['target_review'] == \"8\"), 'target_review'] = 8\n",
    "train_df_negative_8.loc[(train_df_negative_8['target_review'] == \"1,8\"), 'target_review'] = 8\n",
    "train_df_negative_8.loc[(train_df_negative_8['target_review'] == \"6,8\"), 'target_review'] = 8\n",
    "train_df_negative_8.loc[(train_df_negative_8['target_review'] == \"3,8\"), 'target_review'] = 8\n",
    "train_df_negative_8.loc[(train_df_negative_8['target_review'] == \"5,8\"), 'target_review'] = 8\n",
    "train_df_negative_8.loc[(train_df_negative_8['target_review'] == \"1,6,8\"), 'target_review'] = 8\n",
    "train_df_negative_8.loc[(train_df_negative_8['target_review'] == \"4,8\"), 'target_review'] = 8\n",
    "train_df_negative_8.loc[(train_df_negative_8['target_review'] == \"1,5,8\"), 'target_review'] = 8\n",
    "train_df_negative_8.loc[(train_df_negative_8['target_review'] == \"7,8\"), 'target_review'] = 8\n",
    "train_df_negative_8.loc[(train_df_negative_8['target_review'] == \"5,6,8\"), 'target_review'] = 8\n",
    "train_df_negative_8.loc[(train_df_negative_8['target_review'] == \"1,4,8\"), 'target_review'] = 8\n",
    "train_df_negative_8.loc[(train_df_negative_8['target_review'] == \"1,3,8\"), 'target_review'] = 8\n",
    "train_df_negative_8.loc[(train_df_negative_8['target_review'] == \"1,7,8\"), 'target_review'] = 8\n",
    "train_df_negative_8.loc[(train_df_negative_8['target_review'] == \"5,7,8\"), 'target_review'] = 8\n",
    "train_df_negative_8.loc[(train_df_negative_8['target_review'] == \"3,5,8\"), 'target_review'] = 8\n",
    "train_df_negative_8.loc[(train_df_negative_8['target_review'] == \"4,6,8\"), 'target_review'] = 8\n",
    "train_df_negative_8.loc[(train_df_negative_8['target_review'] == \"1,5,6,8\"), 'target_review'] = 8\n",
    "train_df_negative_8.loc[(train_df_negative_8['target_review'] == \"3,6,8\"), 'target_review'] = 8"
   ]
  },
  {
   "cell_type": "code",
   "execution_count": 317,
   "id": "7e24f815",
   "metadata": {},
   "outputs": [
    {
     "data": {
      "text/plain": [
       "8        26534\n",
       "1         1269\n",
       "3          905\n",
       "6          368\n",
       "7          326\n",
       "1,6        141\n",
       "5          102\n",
       "1,5         78\n",
       "4           38\n",
       "1,4         24\n",
       "1,7         15\n",
       "5,7         13\n",
       "2           12\n",
       "5,6          9\n",
       "1,3          9\n",
       "1,5,6        7\n",
       "4,6          5\n",
       "3,7          5\n",
       "1,4,6        3\n",
       "6,7          3\n",
       "1,3,5        2\n",
       "1,3,6        1\n",
       "3,6          1\n",
       "3,5,7        1\n",
       "1,2,6        1\n",
       "3,5          1\n",
       "Name: target_review, dtype: int64"
      ]
     },
     "execution_count": 317,
     "metadata": {},
     "output_type": "execute_result"
    }
   ],
   "source": [
    "train_df_negative_8['target_review'].value_counts()"
   ]
  },
  {
   "cell_type": "code",
   "execution_count": 318,
   "id": "e0363fd9",
   "metadata": {},
   "outputs": [
    {
     "data": {
      "text/plain": [
       "city                      715\n",
       "position                10628\n",
       "positive                26376\n",
       "negative                26789\n",
       "salary_rating               5\n",
       "team_rating                 5\n",
       "managment_rating            5\n",
       "career_rating               5\n",
       "workplace_rating            5\n",
       "rest_recovery_rating        5\n",
       "target                     43\n",
       "target_review              26\n",
       "review_union            29857\n",
       "dtype: int64"
      ]
     },
     "execution_count": 318,
     "metadata": {},
     "output_type": "execute_result"
    }
   ],
   "source": [
    "train_df_negative_8.nunique()"
   ]
  },
  {
   "cell_type": "code",
   "execution_count": 319,
   "id": "bd555e82",
   "metadata": {},
   "outputs": [],
   "source": [
    "train_df_negative_8.loc[(train_df_negative_8['target_review'] != 8), 'target_review'] = 0"
   ]
  },
  {
   "cell_type": "code",
   "execution_count": 320,
   "id": "ae3032c2",
   "metadata": {},
   "outputs": [
    {
     "data": {
      "text/plain": [
       "city                      715\n",
       "position                10628\n",
       "positive                26376\n",
       "negative                26789\n",
       "salary_rating               5\n",
       "team_rating                 5\n",
       "managment_rating            5\n",
       "career_rating               5\n",
       "workplace_rating            5\n",
       "rest_recovery_rating        5\n",
       "target                     43\n",
       "target_review               2\n",
       "review_union            29857\n",
       "dtype: int64"
      ]
     },
     "execution_count": 320,
     "metadata": {},
     "output_type": "execute_result"
    }
   ],
   "source": [
    "train_df_negative_8.nunique()"
   ]
  },
  {
   "cell_type": "code",
   "execution_count": 321,
   "id": "10416a99",
   "metadata": {},
   "outputs": [],
   "source": [
    "train_df_negative_8['target_review'] = train_df_negative_8['target_review'].apply(int)"
   ]
  },
  {
   "cell_type": "code",
   "execution_count": 322,
   "id": "21db7cfe",
   "metadata": {},
   "outputs": [
    {
     "data": {
      "text/plain": [
       "8    26534\n",
       "0     3339\n",
       "Name: target_review, dtype: int64"
      ]
     },
     "execution_count": 322,
     "metadata": {},
     "output_type": "execute_result"
    }
   ],
   "source": [
    "train_df_negative_8['target_review'].value_counts()"
   ]
  },
  {
   "cell_type": "code",
   "execution_count": 323,
   "id": "13b42787",
   "metadata": {},
   "outputs": [],
   "source": [
    "train_df_negative_8.loc[(train_df_negative_8['target_review'] == 8), 'target_review'] = 1\n",
    "train_df_negative_8.loc[(train_df_negative_8['target_review'] == 0), 'target_review'] = 0"
   ]
  },
  {
   "cell_type": "code",
   "execution_count": 324,
   "id": "c3760720",
   "metadata": {},
   "outputs": [
    {
     "data": {
      "text/plain": [
       "1    26534\n",
       "0     3339\n",
       "Name: target_review, dtype: int64"
      ]
     },
     "execution_count": 324,
     "metadata": {},
     "output_type": "execute_result"
    }
   ],
   "source": [
    "train_df_negative_8['target_review'].value_counts()"
   ]
  },
  {
   "cell_type": "markdown",
   "id": "3407fa3b",
   "metadata": {},
   "source": [
    "Разбиение прошло успешно, создадим модель"
   ]
  },
  {
   "cell_type": "code",
   "execution_count": 325,
   "id": "f87620ec",
   "metadata": {},
   "outputs": [],
   "source": [
    "#разобьёем train_df на train и test\n",
    "train_df_negative_8_split, test_df_negative_8_split = train_test_split(train_df_negative_8, test_size=2000, random_state=2)"
   ]
  },
  {
   "cell_type": "code",
   "execution_count": 326,
   "id": "e7c2227f",
   "metadata": {},
   "outputs": [
    {
     "data": {
      "text/plain": [
       "(2000, 13)"
      ]
     },
     "execution_count": 326,
     "metadata": {},
     "output_type": "execute_result"
    }
   ],
   "source": [
    "test_df_negative_8_split.shape"
   ]
  },
  {
   "cell_type": "code",
   "execution_count": 327,
   "id": "4de50ade",
   "metadata": {},
   "outputs": [
    {
     "data": {
      "text/plain": [
       "1    1768\n",
       "0     232\n",
       "Name: target_review, dtype: int64"
      ]
     },
     "execution_count": 327,
     "metadata": {},
     "output_type": "execute_result"
    }
   ],
   "source": [
    "test_df_negative_8_split['target_review'].value_counts()"
   ]
  },
  {
   "cell_type": "code",
   "execution_count": 328,
   "id": "1dddcaea",
   "metadata": {},
   "outputs": [
    {
     "data": {
      "text/plain": [
       "1    24766\n",
       "0     3107\n",
       "Name: target_review, dtype: int64"
      ]
     },
     "execution_count": 328,
     "metadata": {},
     "output_type": "execute_result"
    }
   ],
   "source": [
    "train_df_negative_8_split['target_review'].value_counts()"
   ]
  },
  {
   "cell_type": "code",
   "execution_count": 329,
   "id": "ec8f4340",
   "metadata": {},
   "outputs": [],
   "source": [
    "vectorizer_8 = TfidfVectorizer(tokenizer=lambda x: tokenize_sentence(x, remove_stop_words=True))"
   ]
  },
  {
   "cell_type": "code",
   "execution_count": 330,
   "id": "5e48149b",
   "metadata": {},
   "outputs": [],
   "source": [
    "features_8 = vectorizer_8.fit_transform(train_df_negative_8['review_union'])"
   ]
  },
  {
   "cell_type": "code",
   "execution_count": 331,
   "id": "8f06dc0a",
   "metadata": {},
   "outputs": [
    {
     "data": {
      "text/plain": [
       "LogisticRegression(C=10, random_state=0)"
      ]
     },
     "execution_count": 331,
     "metadata": {},
     "output_type": "execute_result"
    }
   ],
   "source": [
    "model = LogisticRegression(random_state=0, C=10)\n",
    "model.fit(features_8, train_df_negative_8['target_review'])"
   ]
  },
  {
   "cell_type": "code",
   "execution_count": 332,
   "id": "46cbdaa9",
   "metadata": {},
   "outputs": [],
   "source": [
    "model_pipeline = Pipeline([\n",
    "    (\"vectorizer_8\", TfidfVectorizer(tokenizer=lambda x: tokenize_sentence(x, remove_stop_words=True))),\n",
    "    (\"model\", LogisticRegression(random_state=0, C=10))\n",
    "]\n",
    ")"
   ]
  },
  {
   "cell_type": "code",
   "execution_count": 333,
   "id": "600d27a0",
   "metadata": {},
   "outputs": [
    {
     "data": {
      "text/plain": [
       "Pipeline(steps=[('vectorizer_8',\n",
       "                 TfidfVectorizer(tokenizer=<function <lambda> at 0x7f9b4c7110d0>)),\n",
       "                ('model', LogisticRegression(C=10, random_state=0))])"
      ]
     },
     "execution_count": 333,
     "metadata": {},
     "output_type": "execute_result"
    }
   ],
   "source": [
    "model_pipeline.fit(train_df_negative_8[\"review_union\"], train_df_negative_8[\"target_review\"])"
   ]
  },
  {
   "cell_type": "code",
   "execution_count": 334,
   "id": "74746255",
   "metadata": {},
   "outputs": [
    {
     "data": {
      "text/plain": [
       "0.9560737527114967"
      ]
     },
     "execution_count": 334,
     "metadata": {},
     "output_type": "execute_result"
    }
   ],
   "source": [
    "precision_score(y_true=test_df_negative_8_split[\"target_review\"], y_pred=model_pipeline.predict(test_df_negative_8_split[\"review_union\"]))"
   ]
  },
  {
   "cell_type": "code",
   "execution_count": 335,
   "id": "1b53f1c4",
   "metadata": {},
   "outputs": [
    {
     "data": {
      "text/plain": [
       "0.9971719457013575"
      ]
     },
     "execution_count": 335,
     "metadata": {},
     "output_type": "execute_result"
    }
   ],
   "source": [
    "recall_score(y_true=test_df_negative_8_split[\"target_review\"], y_pred=model_pipeline.predict(test_df_negative_8_split[\"review_union\"]))"
   ]
  },
  {
   "cell_type": "code",
   "execution_count": 336,
   "id": "35f9cddf",
   "metadata": {},
   "outputs": [],
   "source": [
    "prec, rec, thresholds = precision_recall_curve(y_true=test_df_negative_8_split[\"target_review\"], probas_pred=model_pipeline.predict_proba(test_df_negative_8_split[\"review_union\"])[:, 1])"
   ]
  },
  {
   "cell_type": "code",
   "execution_count": 337,
   "id": "2cbcab97",
   "metadata": {},
   "outputs": [
    {
     "data": {
      "text/plain": [
       "<sklearn.metrics._plot.precision_recall_curve.PrecisionRecallDisplay at 0x7f9b4cbbc370>"
      ]
     },
     "execution_count": 337,
     "metadata": {},
     "output_type": "execute_result"
    },
    {
     "data": {
      "image/png": "[encoded data removed]",
      "text/plain": [
       "<Figure size 432x288 with 1 Axes>"
      ]
     },
     "metadata": {},
     "output_type": "display_data"
    }
   ],
   "source": [
    "plot_precision_recall_curve(estimator=model_pipeline, X=test_df_negative_8_split[\"review_union\"], y=test_df_negative_8_split[\"target_review\"])"
   ]
  },
  {
   "cell_type": "code",
   "execution_count": 338,
   "id": "c4b618c5",
   "metadata": {},
   "outputs": [],
   "source": [
    "features_test_8 = vectorizer_8.transform(test_negative_df['review_union'])"
   ]
  },
  {
   "cell_type": "code",
   "execution_count": 339,
   "id": "082077b6",
   "metadata": {},
   "outputs": [
    {
     "data": {
      "text/plain": [
       "array([1, 1, 1, ..., 1, 1, 1])"
      ]
     },
     "execution_count": 339,
     "metadata": {},
     "output_type": "execute_result"
    }
   ],
   "source": [
    "y_pred_8 = model.predict(features_test_8)\n",
    "y_pred_8"
   ]
  },
  {
   "cell_type": "code",
   "execution_count": 340,
   "id": "48e3097a",
   "metadata": {},
   "outputs": [
    {
     "data": {
      "text/plain": [
       "array([0.99190505, 0.99137026, 0.99640807, 0.79457626, 0.99904976,\n",
       "       0.8818088 , 0.67992145, 0.98301042, 0.96675366, 0.99781109])"
      ]
     },
     "execution_count": 340,
     "metadata": {},
     "output_type": "execute_result"
    }
   ],
   "source": [
    "y_pred_8_proba = model.predict_proba(features_test_8)[:,1]\n",
    "y_pred_8_proba[:10]"
   ]
  },
  {
   "cell_type": "markdown",
   "id": "f0b14c6d",
   "metadata": {},
   "source": [
    "# Построим таблицу общей вероятности по классам"
   ]
  },
  {
   "cell_type": "code",
   "execution_count": 341,
   "id": "802e95d7",
   "metadata": {},
   "outputs": [
    {
     "data": {
      "text/html": [
       "<div>\n",
       "<style scoped>\n",
       "    .dataframe tbody tr th:only-of-type {\n",
       "        vertical-align: middle;\n",
       "    }\n",
       "\n",
       "    .dataframe tbody tr th {\n",
       "        vertical-align: top;\n",
       "    }\n",
       "\n",
       "    .dataframe thead th {\n",
       "        text-align: right;\n",
       "    }\n",
       "</style>\n",
       "<table border=\"1\" class=\"dataframe\">\n",
       "  <thead>\n",
       "    <tr style=\"text-align: right;\">\n",
       "      <th></th>\n",
       "      <th>review_id</th>\n",
       "      <th>predict_class_1</th>\n",
       "      <th>predict_class_2</th>\n",
       "      <th>predict_class_3</th>\n",
       "      <th>predict_class_4</th>\n",
       "      <th>predict_class_5</th>\n",
       "      <th>predict_class_6</th>\n",
       "      <th>predict_class_7</th>\n",
       "      <th>predict_class_8</th>\n",
       "    </tr>\n",
       "  </thead>\n",
       "  <tbody>\n",
       "    <tr>\n",
       "      <th>0</th>\n",
       "      <td>3</td>\n",
       "      <td>0.00</td>\n",
       "      <td>0.00</td>\n",
       "      <td>0.00</td>\n",
       "      <td>0.00</td>\n",
       "      <td>0.00</td>\n",
       "      <td>0.00</td>\n",
       "      <td>0.00</td>\n",
       "      <td>0.99</td>\n",
       "    </tr>\n",
       "    <tr>\n",
       "      <th>1</th>\n",
       "      <td>13</td>\n",
       "      <td>0.00</td>\n",
       "      <td>0.00</td>\n",
       "      <td>0.00</td>\n",
       "      <td>0.00</td>\n",
       "      <td>0.00</td>\n",
       "      <td>0.00</td>\n",
       "      <td>0.00</td>\n",
       "      <td>0.99</td>\n",
       "    </tr>\n",
       "    <tr>\n",
       "      <th>2</th>\n",
       "      <td>17</td>\n",
       "      <td>0.00</td>\n",
       "      <td>0.00</td>\n",
       "      <td>0.02</td>\n",
       "      <td>0.00</td>\n",
       "      <td>0.00</td>\n",
       "      <td>0.00</td>\n",
       "      <td>0.00</td>\n",
       "      <td>1.00</td>\n",
       "    </tr>\n",
       "    <tr>\n",
       "      <th>3</th>\n",
       "      <td>23</td>\n",
       "      <td>0.10</td>\n",
       "      <td>0.00</td>\n",
       "      <td>0.01</td>\n",
       "      <td>0.01</td>\n",
       "      <td>0.03</td>\n",
       "      <td>0.00</td>\n",
       "      <td>0.00</td>\n",
       "      <td>0.79</td>\n",
       "    </tr>\n",
       "    <tr>\n",
       "      <th>4</th>\n",
       "      <td>24</td>\n",
       "      <td>0.00</td>\n",
       "      <td>0.00</td>\n",
       "      <td>0.05</td>\n",
       "      <td>0.00</td>\n",
       "      <td>0.00</td>\n",
       "      <td>0.00</td>\n",
       "      <td>0.00</td>\n",
       "      <td>1.00</td>\n",
       "    </tr>\n",
       "    <tr>\n",
       "      <th>5</th>\n",
       "      <td>26</td>\n",
       "      <td>0.03</td>\n",
       "      <td>0.00</td>\n",
       "      <td>0.00</td>\n",
       "      <td>0.00</td>\n",
       "      <td>0.01</td>\n",
       "      <td>0.01</td>\n",
       "      <td>0.00</td>\n",
       "      <td>0.88</td>\n",
       "    </tr>\n",
       "    <tr>\n",
       "      <th>6</th>\n",
       "      <td>34</td>\n",
       "      <td>0.81</td>\n",
       "      <td>0.00</td>\n",
       "      <td>0.00</td>\n",
       "      <td>0.00</td>\n",
       "      <td>0.00</td>\n",
       "      <td>0.00</td>\n",
       "      <td>0.00</td>\n",
       "      <td>0.68</td>\n",
       "    </tr>\n",
       "    <tr>\n",
       "      <th>7</th>\n",
       "      <td>50</td>\n",
       "      <td>0.01</td>\n",
       "      <td>0.00</td>\n",
       "      <td>0.00</td>\n",
       "      <td>0.00</td>\n",
       "      <td>0.00</td>\n",
       "      <td>0.01</td>\n",
       "      <td>0.00</td>\n",
       "      <td>0.98</td>\n",
       "    </tr>\n",
       "    <tr>\n",
       "      <th>8</th>\n",
       "      <td>52</td>\n",
       "      <td>0.00</td>\n",
       "      <td>0.00</td>\n",
       "      <td>0.01</td>\n",
       "      <td>0.00</td>\n",
       "      <td>0.00</td>\n",
       "      <td>0.01</td>\n",
       "      <td>0.00</td>\n",
       "      <td>0.97</td>\n",
       "    </tr>\n",
       "    <tr>\n",
       "      <th>9</th>\n",
       "      <td>61</td>\n",
       "      <td>0.00</td>\n",
       "      <td>0.00</td>\n",
       "      <td>0.00</td>\n",
       "      <td>0.00</td>\n",
       "      <td>0.00</td>\n",
       "      <td>0.01</td>\n",
       "      <td>0.00</td>\n",
       "      <td>1.00</td>\n",
       "    </tr>\n",
       "    <tr>\n",
       "      <th>10</th>\n",
       "      <td>62</td>\n",
       "      <td>0.00</td>\n",
       "      <td>0.00</td>\n",
       "      <td>0.00</td>\n",
       "      <td>0.00</td>\n",
       "      <td>0.00</td>\n",
       "      <td>0.00</td>\n",
       "      <td>0.00</td>\n",
       "      <td>1.00</td>\n",
       "    </tr>\n",
       "    <tr>\n",
       "      <th>11</th>\n",
       "      <td>78</td>\n",
       "      <td>0.18</td>\n",
       "      <td>0.00</td>\n",
       "      <td>0.01</td>\n",
       "      <td>0.00</td>\n",
       "      <td>0.00</td>\n",
       "      <td>0.02</td>\n",
       "      <td>0.00</td>\n",
       "      <td>0.88</td>\n",
       "    </tr>\n",
       "    <tr>\n",
       "      <th>12</th>\n",
       "      <td>80</td>\n",
       "      <td>0.01</td>\n",
       "      <td>0.00</td>\n",
       "      <td>0.00</td>\n",
       "      <td>0.00</td>\n",
       "      <td>0.00</td>\n",
       "      <td>0.08</td>\n",
       "      <td>0.00</td>\n",
       "      <td>0.99</td>\n",
       "    </tr>\n",
       "    <tr>\n",
       "      <th>13</th>\n",
       "      <td>83</td>\n",
       "      <td>0.05</td>\n",
       "      <td>0.00</td>\n",
       "      <td>0.00</td>\n",
       "      <td>0.00</td>\n",
       "      <td>0.02</td>\n",
       "      <td>0.00</td>\n",
       "      <td>0.00</td>\n",
       "      <td>0.97</td>\n",
       "    </tr>\n",
       "    <tr>\n",
       "      <th>14</th>\n",
       "      <td>88</td>\n",
       "      <td>0.03</td>\n",
       "      <td>0.00</td>\n",
       "      <td>0.02</td>\n",
       "      <td>0.00</td>\n",
       "      <td>0.00</td>\n",
       "      <td>0.00</td>\n",
       "      <td>0.02</td>\n",
       "      <td>0.80</td>\n",
       "    </tr>\n",
       "    <tr>\n",
       "      <th>15</th>\n",
       "      <td>89</td>\n",
       "      <td>0.13</td>\n",
       "      <td>0.00</td>\n",
       "      <td>0.01</td>\n",
       "      <td>0.01</td>\n",
       "      <td>0.00</td>\n",
       "      <td>0.01</td>\n",
       "      <td>0.00</td>\n",
       "      <td>0.96</td>\n",
       "    </tr>\n",
       "    <tr>\n",
       "      <th>16</th>\n",
       "      <td>103</td>\n",
       "      <td>0.05</td>\n",
       "      <td>0.00</td>\n",
       "      <td>0.01</td>\n",
       "      <td>0.00</td>\n",
       "      <td>0.00</td>\n",
       "      <td>0.01</td>\n",
       "      <td>0.00</td>\n",
       "      <td>0.81</td>\n",
       "    </tr>\n",
       "    <tr>\n",
       "      <th>17</th>\n",
       "      <td>107</td>\n",
       "      <td>0.01</td>\n",
       "      <td>0.00</td>\n",
       "      <td>0.02</td>\n",
       "      <td>0.00</td>\n",
       "      <td>0.04</td>\n",
       "      <td>0.00</td>\n",
       "      <td>0.00</td>\n",
       "      <td>0.79</td>\n",
       "    </tr>\n",
       "    <tr>\n",
       "      <th>18</th>\n",
       "      <td>108</td>\n",
       "      <td>0.00</td>\n",
       "      <td>0.00</td>\n",
       "      <td>0.00</td>\n",
       "      <td>0.00</td>\n",
       "      <td>0.00</td>\n",
       "      <td>0.00</td>\n",
       "      <td>0.00</td>\n",
       "      <td>1.00</td>\n",
       "    </tr>\n",
       "    <tr>\n",
       "      <th>19</th>\n",
       "      <td>112</td>\n",
       "      <td>0.01</td>\n",
       "      <td>0.00</td>\n",
       "      <td>0.00</td>\n",
       "      <td>0.00</td>\n",
       "      <td>0.00</td>\n",
       "      <td>0.00</td>\n",
       "      <td>0.00</td>\n",
       "      <td>0.99</td>\n",
       "    </tr>\n",
       "  </tbody>\n",
       "</table>\n",
       "</div>"
      ],
      "text/plain": [
       "    review_id  predict_class_1  predict_class_2  predict_class_3  \\\n",
       "0           3             0.00             0.00             0.00   \n",
       "1          13             0.00             0.00             0.00   \n",
       "2          17             0.00             0.00             0.02   \n",
       "3          23             0.10             0.00             0.01   \n",
       "4          24             0.00             0.00             0.05   \n",
       "5          26             0.03             0.00             0.00   \n",
       "6          34             0.81             0.00             0.00   \n",
       "7          50             0.01             0.00             0.00   \n",
       "8          52             0.00             0.00             0.01   \n",
       "9          61             0.00             0.00             0.00   \n",
       "10         62             0.00             0.00             0.00   \n",
       "11         78             0.18             0.00             0.01   \n",
       "12         80             0.01             0.00             0.00   \n",
       "13         83             0.05             0.00             0.00   \n",
       "14         88             0.03             0.00             0.02   \n",
       "15         89             0.13             0.00             0.01   \n",
       "16        103             0.05             0.00             0.01   \n",
       "17        107             0.01             0.00             0.02   \n",
       "18        108             0.00             0.00             0.00   \n",
       "19        112             0.01             0.00             0.00   \n",
       "\n",
       "    predict_class_4  predict_class_5  predict_class_6  predict_class_7  \\\n",
       "0              0.00             0.00             0.00             0.00   \n",
       "1              0.00             0.00             0.00             0.00   \n",
       "2              0.00             0.00             0.00             0.00   \n",
       "3              0.01             0.03             0.00             0.00   \n",
       "4              0.00             0.00             0.00             0.00   \n",
       "5              0.00             0.01             0.01             0.00   \n",
       "6              0.00             0.00             0.00             0.00   \n",
       "7              0.00             0.00             0.01             0.00   \n",
       "8              0.00             0.00             0.01             0.00   \n",
       "9              0.00             0.00             0.01             0.00   \n",
       "10             0.00             0.00             0.00             0.00   \n",
       "11             0.00             0.00             0.02             0.00   \n",
       "12             0.00             0.00             0.08             0.00   \n",
       "13             0.00             0.02             0.00             0.00   \n",
       "14             0.00             0.00             0.00             0.02   \n",
       "15             0.01             0.00             0.01             0.00   \n",
       "16             0.00             0.00             0.01             0.00   \n",
       "17             0.00             0.04             0.00             0.00   \n",
       "18             0.00             0.00             0.00             0.00   \n",
       "19             0.00             0.00             0.00             0.00   \n",
       "\n",
       "    predict_class_8  \n",
       "0              0.99  \n",
       "1              0.99  \n",
       "2              1.00  \n",
       "3              0.79  \n",
       "4              1.00  \n",
       "5              0.88  \n",
       "6              0.68  \n",
       "7              0.98  \n",
       "8              0.97  \n",
       "9              1.00  \n",
       "10             1.00  \n",
       "11             0.88  \n",
       "12             0.99  \n",
       "13             0.97  \n",
       "14             0.80  \n",
       "15             0.96  \n",
       "16             0.81  \n",
       "17             0.79  \n",
       "18             1.00  \n",
       "19             0.99  "
      ]
     },
     "execution_count": 341,
     "metadata": {},
     "output_type": "execute_result"
    }
   ],
   "source": [
    "full_predict_table = pd.DataFrame()\n",
    "full_predict_table['review_id'] = test_negative_df.index\n",
    "full_predict_table['predict_class_1'] = y_pred_1_proba\n",
    "full_predict_table['predict_class_2'] = y_pred_2_proba\n",
    "full_predict_table['predict_class_3'] = y_pred_3_proba\n",
    "full_predict_table['predict_class_4'] = y_pred_4_proba\n",
    "full_predict_table['predict_class_5'] = y_pred_5_proba\n",
    "full_predict_table['predict_class_6'] = y_pred_6_proba\n",
    "full_predict_table['predict_class_7'] = y_pred_7_proba\n",
    "full_predict_table['predict_class_8'] = y_pred_8_proba\n",
    "full_predict_table.head(20)"
   ]
  },
  {
   "cell_type": "code",
   "execution_count": 342,
   "id": "6667c2c5",
   "metadata": {},
   "outputs": [],
   "source": [
    "full_predict_table.to_csv('full_predict_table.csv', index=False)"
   ]
  },
  {
   "cell_type": "code",
   "execution_count": 343,
   "id": "5d6423c6",
   "metadata": {},
   "outputs": [],
   "source": [
    "FULL_PREDICTION_TABLE = 'full_predict_table.csv'\n",
    "EIGHT_AND_ZERO = 'eight_and_zero_only.csv'"
   ]
  },
  {
   "cell_type": "code",
   "execution_count": 344,
   "id": "85788a7c",
   "metadata": {},
   "outputs": [
    {
     "data": {
      "text/html": [
       "<div>\n",
       "<style scoped>\n",
       "    .dataframe tbody tr th:only-of-type {\n",
       "        vertical-align: middle;\n",
       "    }\n",
       "\n",
       "    .dataframe tbody tr th {\n",
       "        vertical-align: top;\n",
       "    }\n",
       "\n",
       "    .dataframe thead th {\n",
       "        text-align: right;\n",
       "    }\n",
       "</style>\n",
       "<table border=\"1\" class=\"dataframe\">\n",
       "  <thead>\n",
       "    <tr style=\"text-align: right;\">\n",
       "      <th></th>\n",
       "      <th>target</th>\n",
       "    </tr>\n",
       "    <tr>\n",
       "      <th>review_id</th>\n",
       "      <th></th>\n",
       "    </tr>\n",
       "  </thead>\n",
       "  <tbody>\n",
       "    <tr>\n",
       "      <th>3</th>\n",
       "      <td>8</td>\n",
       "    </tr>\n",
       "    <tr>\n",
       "      <th>4</th>\n",
       "      <td>0</td>\n",
       "    </tr>\n",
       "    <tr>\n",
       "      <th>13</th>\n",
       "      <td>8</td>\n",
       "    </tr>\n",
       "    <tr>\n",
       "      <th>14</th>\n",
       "      <td>0</td>\n",
       "    </tr>\n",
       "    <tr>\n",
       "      <th>17</th>\n",
       "      <td>8</td>\n",
       "    </tr>\n",
       "  </tbody>\n",
       "</table>\n",
       "</div>"
      ],
      "text/plain": [
       "           target\n",
       "review_id        \n",
       "3               8\n",
       "4               0\n",
       "13              8\n",
       "14              0\n",
       "17              8"
      ]
     },
     "execution_count": 344,
     "metadata": {},
     "output_type": "execute_result"
    }
   ],
   "source": [
    "eight_and_zero_only = pd.read_csv(EIGHT_AND_ZERO, index_col = 'review_id')\n",
    "eight_and_zero_only.head()"
   ]
  },
  {
   "cell_type": "code",
   "execution_count": 345,
   "id": "f4f81fd0",
   "metadata": {},
   "outputs": [
    {
     "data": {
      "text/html": [
       "<div>\n",
       "<style scoped>\n",
       "    .dataframe tbody tr th:only-of-type {\n",
       "        vertical-align: middle;\n",
       "    }\n",
       "\n",
       "    .dataframe tbody tr th {\n",
       "        vertical-align: top;\n",
       "    }\n",
       "\n",
       "    .dataframe thead th {\n",
       "        text-align: right;\n",
       "    }\n",
       "</style>\n",
       "<table border=\"1\" class=\"dataframe\">\n",
       "  <thead>\n",
       "    <tr style=\"text-align: right;\">\n",
       "      <th></th>\n",
       "      <th>predict_class_1</th>\n",
       "      <th>predict_class_2</th>\n",
       "      <th>predict_class_3</th>\n",
       "      <th>predict_class_4</th>\n",
       "      <th>predict_class_5</th>\n",
       "      <th>predict_class_6</th>\n",
       "      <th>predict_class_7</th>\n",
       "      <th>predict_class_8</th>\n",
       "    </tr>\n",
       "    <tr>\n",
       "      <th>review_id</th>\n",
       "      <th></th>\n",
       "      <th></th>\n",
       "      <th></th>\n",
       "      <th></th>\n",
       "      <th></th>\n",
       "      <th></th>\n",
       "      <th></th>\n",
       "      <th></th>\n",
       "    </tr>\n",
       "  </thead>\n",
       "  <tbody>\n",
       "    <tr>\n",
       "      <th>3</th>\n",
       "      <td>0.00</td>\n",
       "      <td>0.00</td>\n",
       "      <td>0.00</td>\n",
       "      <td>0.00</td>\n",
       "      <td>0.00</td>\n",
       "      <td>0.00</td>\n",
       "      <td>0.00</td>\n",
       "      <td>0.99</td>\n",
       "    </tr>\n",
       "    <tr>\n",
       "      <th>13</th>\n",
       "      <td>0.00</td>\n",
       "      <td>0.00</td>\n",
       "      <td>0.00</td>\n",
       "      <td>0.00</td>\n",
       "      <td>0.00</td>\n",
       "      <td>0.00</td>\n",
       "      <td>0.00</td>\n",
       "      <td>0.99</td>\n",
       "    </tr>\n",
       "    <tr>\n",
       "      <th>17</th>\n",
       "      <td>0.00</td>\n",
       "      <td>0.00</td>\n",
       "      <td>0.02</td>\n",
       "      <td>0.00</td>\n",
       "      <td>0.00</td>\n",
       "      <td>0.00</td>\n",
       "      <td>0.00</td>\n",
       "      <td>1.00</td>\n",
       "    </tr>\n",
       "    <tr>\n",
       "      <th>23</th>\n",
       "      <td>0.10</td>\n",
       "      <td>0.00</td>\n",
       "      <td>0.01</td>\n",
       "      <td>0.01</td>\n",
       "      <td>0.03</td>\n",
       "      <td>0.00</td>\n",
       "      <td>0.00</td>\n",
       "      <td>0.79</td>\n",
       "    </tr>\n",
       "    <tr>\n",
       "      <th>24</th>\n",
       "      <td>0.00</td>\n",
       "      <td>0.00</td>\n",
       "      <td>0.05</td>\n",
       "      <td>0.00</td>\n",
       "      <td>0.00</td>\n",
       "      <td>0.00</td>\n",
       "      <td>0.00</td>\n",
       "      <td>1.00</td>\n",
       "    </tr>\n",
       "    <tr>\n",
       "      <th>26</th>\n",
       "      <td>0.03</td>\n",
       "      <td>0.00</td>\n",
       "      <td>0.00</td>\n",
       "      <td>0.00</td>\n",
       "      <td>0.01</td>\n",
       "      <td>0.01</td>\n",
       "      <td>0.00</td>\n",
       "      <td>0.88</td>\n",
       "    </tr>\n",
       "    <tr>\n",
       "      <th>34</th>\n",
       "      <td>0.81</td>\n",
       "      <td>0.00</td>\n",
       "      <td>0.00</td>\n",
       "      <td>0.00</td>\n",
       "      <td>0.00</td>\n",
       "      <td>0.00</td>\n",
       "      <td>0.00</td>\n",
       "      <td>0.68</td>\n",
       "    </tr>\n",
       "    <tr>\n",
       "      <th>50</th>\n",
       "      <td>0.01</td>\n",
       "      <td>0.00</td>\n",
       "      <td>0.00</td>\n",
       "      <td>0.00</td>\n",
       "      <td>0.00</td>\n",
       "      <td>0.01</td>\n",
       "      <td>0.00</td>\n",
       "      <td>0.98</td>\n",
       "    </tr>\n",
       "    <tr>\n",
       "      <th>52</th>\n",
       "      <td>0.00</td>\n",
       "      <td>0.00</td>\n",
       "      <td>0.01</td>\n",
       "      <td>0.00</td>\n",
       "      <td>0.00</td>\n",
       "      <td>0.01</td>\n",
       "      <td>0.00</td>\n",
       "      <td>0.97</td>\n",
       "    </tr>\n",
       "    <tr>\n",
       "      <th>61</th>\n",
       "      <td>0.00</td>\n",
       "      <td>0.00</td>\n",
       "      <td>0.00</td>\n",
       "      <td>0.00</td>\n",
       "      <td>0.00</td>\n",
       "      <td>0.01</td>\n",
       "      <td>0.00</td>\n",
       "      <td>1.00</td>\n",
       "    </tr>\n",
       "    <tr>\n",
       "      <th>62</th>\n",
       "      <td>0.00</td>\n",
       "      <td>0.00</td>\n",
       "      <td>0.00</td>\n",
       "      <td>0.00</td>\n",
       "      <td>0.00</td>\n",
       "      <td>0.00</td>\n",
       "      <td>0.00</td>\n",
       "      <td>1.00</td>\n",
       "    </tr>\n",
       "    <tr>\n",
       "      <th>78</th>\n",
       "      <td>0.18</td>\n",
       "      <td>0.00</td>\n",
       "      <td>0.01</td>\n",
       "      <td>0.00</td>\n",
       "      <td>0.00</td>\n",
       "      <td>0.02</td>\n",
       "      <td>0.00</td>\n",
       "      <td>0.88</td>\n",
       "    </tr>\n",
       "    <tr>\n",
       "      <th>80</th>\n",
       "      <td>0.01</td>\n",
       "      <td>0.00</td>\n",
       "      <td>0.00</td>\n",
       "      <td>0.00</td>\n",
       "      <td>0.00</td>\n",
       "      <td>0.08</td>\n",
       "      <td>0.00</td>\n",
       "      <td>0.99</td>\n",
       "    </tr>\n",
       "    <tr>\n",
       "      <th>83</th>\n",
       "      <td>0.05</td>\n",
       "      <td>0.00</td>\n",
       "      <td>0.00</td>\n",
       "      <td>0.00</td>\n",
       "      <td>0.02</td>\n",
       "      <td>0.00</td>\n",
       "      <td>0.00</td>\n",
       "      <td>0.97</td>\n",
       "    </tr>\n",
       "    <tr>\n",
       "      <th>88</th>\n",
       "      <td>0.03</td>\n",
       "      <td>0.00</td>\n",
       "      <td>0.02</td>\n",
       "      <td>0.00</td>\n",
       "      <td>0.00</td>\n",
       "      <td>0.00</td>\n",
       "      <td>0.02</td>\n",
       "      <td>0.80</td>\n",
       "    </tr>\n",
       "    <tr>\n",
       "      <th>89</th>\n",
       "      <td>0.13</td>\n",
       "      <td>0.00</td>\n",
       "      <td>0.01</td>\n",
       "      <td>0.01</td>\n",
       "      <td>0.00</td>\n",
       "      <td>0.01</td>\n",
       "      <td>0.00</td>\n",
       "      <td>0.96</td>\n",
       "    </tr>\n",
       "    <tr>\n",
       "      <th>103</th>\n",
       "      <td>0.05</td>\n",
       "      <td>0.00</td>\n",
       "      <td>0.01</td>\n",
       "      <td>0.00</td>\n",
       "      <td>0.00</td>\n",
       "      <td>0.01</td>\n",
       "      <td>0.00</td>\n",
       "      <td>0.81</td>\n",
       "    </tr>\n",
       "    <tr>\n",
       "      <th>107</th>\n",
       "      <td>0.01</td>\n",
       "      <td>0.00</td>\n",
       "      <td>0.02</td>\n",
       "      <td>0.00</td>\n",
       "      <td>0.04</td>\n",
       "      <td>0.00</td>\n",
       "      <td>0.00</td>\n",
       "      <td>0.79</td>\n",
       "    </tr>\n",
       "    <tr>\n",
       "      <th>108</th>\n",
       "      <td>0.00</td>\n",
       "      <td>0.00</td>\n",
       "      <td>0.00</td>\n",
       "      <td>0.00</td>\n",
       "      <td>0.00</td>\n",
       "      <td>0.00</td>\n",
       "      <td>0.00</td>\n",
       "      <td>1.00</td>\n",
       "    </tr>\n",
       "    <tr>\n",
       "      <th>112</th>\n",
       "      <td>0.01</td>\n",
       "      <td>0.00</td>\n",
       "      <td>0.00</td>\n",
       "      <td>0.00</td>\n",
       "      <td>0.00</td>\n",
       "      <td>0.00</td>\n",
       "      <td>0.00</td>\n",
       "      <td>0.99</td>\n",
       "    </tr>\n",
       "  </tbody>\n",
       "</table>\n",
       "</div>"
      ],
      "text/plain": [
       "           predict_class_1  predict_class_2  predict_class_3  predict_class_4  \\\n",
       "review_id                                                                       \n",
       "3                     0.00             0.00             0.00             0.00   \n",
       "13                    0.00             0.00             0.00             0.00   \n",
       "17                    0.00             0.00             0.02             0.00   \n",
       "23                    0.10             0.00             0.01             0.01   \n",
       "24                    0.00             0.00             0.05             0.00   \n",
       "26                    0.03             0.00             0.00             0.00   \n",
       "34                    0.81             0.00             0.00             0.00   \n",
       "50                    0.01             0.00             0.00             0.00   \n",
       "52                    0.00             0.00             0.01             0.00   \n",
       "61                    0.00             0.00             0.00             0.00   \n",
       "62                    0.00             0.00             0.00             0.00   \n",
       "78                    0.18             0.00             0.01             0.00   \n",
       "80                    0.01             0.00             0.00             0.00   \n",
       "83                    0.05             0.00             0.00             0.00   \n",
       "88                    0.03             0.00             0.02             0.00   \n",
       "89                    0.13             0.00             0.01             0.01   \n",
       "103                   0.05             0.00             0.01             0.00   \n",
       "107                   0.01             0.00             0.02             0.00   \n",
       "108                   0.00             0.00             0.00             0.00   \n",
       "112                   0.01             0.00             0.00             0.00   \n",
       "\n",
       "           predict_class_5  predict_class_6  predict_class_7  predict_class_8  \n",
       "review_id                                                                      \n",
       "3                     0.00             0.00             0.00             0.99  \n",
       "13                    0.00             0.00             0.00             0.99  \n",
       "17                    0.00             0.00             0.00             1.00  \n",
       "23                    0.03             0.00             0.00             0.79  \n",
       "24                    0.00             0.00             0.00             1.00  \n",
       "26                    0.01             0.01             0.00             0.88  \n",
       "34                    0.00             0.00             0.00             0.68  \n",
       "50                    0.00             0.01             0.00             0.98  \n",
       "52                    0.00             0.01             0.00             0.97  \n",
       "61                    0.00             0.01             0.00             1.00  \n",
       "62                    0.00             0.00             0.00             1.00  \n",
       "78                    0.00             0.02             0.00             0.88  \n",
       "80                    0.00             0.08             0.00             0.99  \n",
       "83                    0.02             0.00             0.00             0.97  \n",
       "88                    0.00             0.00             0.02             0.80  \n",
       "89                    0.00             0.01             0.00             0.96  \n",
       "103                   0.00             0.01             0.00             0.81  \n",
       "107                   0.04             0.00             0.00             0.79  \n",
       "108                   0.00             0.00             0.00             1.00  \n",
       "112                   0.00             0.00             0.00             0.99  "
      ]
     },
     "execution_count": 345,
     "metadata": {},
     "output_type": "execute_result"
    }
   ],
   "source": [
    "full_predict_table = pd.read_csv(FULL_PREDICTION_TABLE, index_col = 'review_id')\n",
    "full_predict_table.head(20)"
   ]
  },
  {
   "cell_type": "markdown",
   "id": "d4bf2b18",
   "metadata": {},
   "source": [
    "# Общая таблица вероятностей причин готова, напишем условие"
   ]
  },
  {
   "cell_type": "code",
   "execution_count": 346,
   "id": "c62713b5",
   "metadata": {},
   "outputs": [
    {
     "data": {
      "text/html": [
       "<div>\n",
       "<style scoped>\n",
       "    .dataframe tbody tr th:only-of-type {\n",
       "        vertical-align: middle;\n",
       "    }\n",
       "\n",
       "    .dataframe tbody tr th {\n",
       "        vertical-align: top;\n",
       "    }\n",
       "\n",
       "    .dataframe thead th {\n",
       "        text-align: right;\n",
       "    }\n",
       "</style>\n",
       "<table border=\"1\" class=\"dataframe\">\n",
       "  <thead>\n",
       "    <tr style=\"text-align: right;\">\n",
       "      <th></th>\n",
       "      <th>predict_class_1</th>\n",
       "      <th>predict_class_2</th>\n",
       "      <th>predict_class_3</th>\n",
       "      <th>predict_class_4</th>\n",
       "      <th>predict_class_5</th>\n",
       "      <th>predict_class_6</th>\n",
       "      <th>predict_class_7</th>\n",
       "      <th>predict_class_8</th>\n",
       "    </tr>\n",
       "  </thead>\n",
       "  <tbody>\n",
       "    <tr>\n",
       "      <th>count</th>\n",
       "      <td>33,939.00</td>\n",
       "      <td>33,939.00</td>\n",
       "      <td>33,939.00</td>\n",
       "      <td>33,939.00</td>\n",
       "      <td>33,939.00</td>\n",
       "      <td>33,939.00</td>\n",
       "      <td>33,939.00</td>\n",
       "      <td>33,939.00</td>\n",
       "    </tr>\n",
       "    <tr>\n",
       "      <th>mean</th>\n",
       "      <td>0.08</td>\n",
       "      <td>0.00</td>\n",
       "      <td>0.03</td>\n",
       "      <td>0.00</td>\n",
       "      <td>0.01</td>\n",
       "      <td>0.03</td>\n",
       "      <td>0.01</td>\n",
       "      <td>0.91</td>\n",
       "    </tr>\n",
       "    <tr>\n",
       "      <th>std</th>\n",
       "      <td>0.17</td>\n",
       "      <td>0.00</td>\n",
       "      <td>0.10</td>\n",
       "      <td>0.00</td>\n",
       "      <td>0.03</td>\n",
       "      <td>0.09</td>\n",
       "      <td>0.05</td>\n",
       "      <td>0.15</td>\n",
       "    </tr>\n",
       "    <tr>\n",
       "      <th>min</th>\n",
       "      <td>0.00</td>\n",
       "      <td>0.00</td>\n",
       "      <td>0.00</td>\n",
       "      <td>0.00</td>\n",
       "      <td>0.00</td>\n",
       "      <td>0.00</td>\n",
       "      <td>0.00</td>\n",
       "      <td>0.01</td>\n",
       "    </tr>\n",
       "    <tr>\n",
       "      <th>25%</th>\n",
       "      <td>0.00</td>\n",
       "      <td>0.00</td>\n",
       "      <td>0.00</td>\n",
       "      <td>0.00</td>\n",
       "      <td>0.00</td>\n",
       "      <td>0.00</td>\n",
       "      <td>0.00</td>\n",
       "      <td>0.91</td>\n",
       "    </tr>\n",
       "    <tr>\n",
       "      <th>50%</th>\n",
       "      <td>0.01</td>\n",
       "      <td>0.00</td>\n",
       "      <td>0.00</td>\n",
       "      <td>0.00</td>\n",
       "      <td>0.00</td>\n",
       "      <td>0.00</td>\n",
       "      <td>0.00</td>\n",
       "      <td>0.97</td>\n",
       "    </tr>\n",
       "    <tr>\n",
       "      <th>75%</th>\n",
       "      <td>0.06</td>\n",
       "      <td>0.00</td>\n",
       "      <td>0.01</td>\n",
       "      <td>0.00</td>\n",
       "      <td>0.00</td>\n",
       "      <td>0.01</td>\n",
       "      <td>0.00</td>\n",
       "      <td>0.99</td>\n",
       "    </tr>\n",
       "    <tr>\n",
       "      <th>max</th>\n",
       "      <td>1.00</td>\n",
       "      <td>0.00</td>\n",
       "      <td>0.99</td>\n",
       "      <td>0.11</td>\n",
       "      <td>0.99</td>\n",
       "      <td>1.00</td>\n",
       "      <td>1.00</td>\n",
       "      <td>1.00</td>\n",
       "    </tr>\n",
       "  </tbody>\n",
       "</table>\n",
       "</div>"
      ],
      "text/plain": [
       "       predict_class_1  predict_class_2  predict_class_3  predict_class_4  \\\n",
       "count        33,939.00        33,939.00        33,939.00        33,939.00   \n",
       "mean              0.08             0.00             0.03             0.00   \n",
       "std               0.17             0.00             0.10             0.00   \n",
       "min               0.00             0.00             0.00             0.00   \n",
       "25%               0.00             0.00             0.00             0.00   \n",
       "50%               0.01             0.00             0.00             0.00   \n",
       "75%               0.06             0.00             0.01             0.00   \n",
       "max               1.00             0.00             0.99             0.11   \n",
       "\n",
       "       predict_class_5  predict_class_6  predict_class_7  predict_class_8  \n",
       "count        33,939.00        33,939.00        33,939.00        33,939.00  \n",
       "mean              0.01             0.03             0.01             0.91  \n",
       "std               0.03             0.09             0.05             0.15  \n",
       "min               0.00             0.00             0.00             0.01  \n",
       "25%               0.00             0.00             0.00             0.91  \n",
       "50%               0.00             0.00             0.00             0.97  \n",
       "75%               0.00             0.01             0.00             0.99  \n",
       "max               0.99             1.00             1.00             1.00  "
      ]
     },
     "execution_count": 346,
     "metadata": {},
     "output_type": "execute_result"
    }
   ],
   "source": [
    "full_predict_table.describe()"
   ]
  },
  {
   "cell_type": "markdown",
   "id": "bf683da0",
   "metadata": {},
   "source": [
    "Классы 2 и 4 определены с крайне низкой вероятностью"
   ]
  },
  {
   "cell_type": "code",
   "execution_count": 347,
   "id": "ea7886bb",
   "metadata": {},
   "outputs": [
    {
     "data": {
      "text/html": [
       "<div>\n",
       "<style scoped>\n",
       "    .dataframe tbody tr th:only-of-type {\n",
       "        vertical-align: middle;\n",
       "    }\n",
       "\n",
       "    .dataframe tbody tr th {\n",
       "        vertical-align: top;\n",
       "    }\n",
       "\n",
       "    .dataframe thead th {\n",
       "        text-align: right;\n",
       "    }\n",
       "</style>\n",
       "<table border=\"1\" class=\"dataframe\">\n",
       "  <thead>\n",
       "    <tr style=\"text-align: right;\">\n",
       "      <th></th>\n",
       "      <th>predict_class_1</th>\n",
       "      <th>predict_class_2</th>\n",
       "      <th>predict_class_3</th>\n",
       "      <th>predict_class_4</th>\n",
       "      <th>predict_class_5</th>\n",
       "      <th>predict_class_6</th>\n",
       "      <th>predict_class_7</th>\n",
       "      <th>predict_class_8</th>\n",
       "    </tr>\n",
       "    <tr>\n",
       "      <th>review_id</th>\n",
       "      <th></th>\n",
       "      <th></th>\n",
       "      <th></th>\n",
       "      <th></th>\n",
       "      <th></th>\n",
       "      <th></th>\n",
       "      <th></th>\n",
       "      <th></th>\n",
       "    </tr>\n",
       "  </thead>\n",
       "  <tbody>\n",
       "    <tr>\n",
       "      <th>3</th>\n",
       "      <td>0.00</td>\n",
       "      <td>0.00</td>\n",
       "      <td>0.00</td>\n",
       "      <td>0.00</td>\n",
       "      <td>0.00</td>\n",
       "      <td>0.00</td>\n",
       "      <td>0.00</td>\n",
       "      <td>0.99</td>\n",
       "    </tr>\n",
       "    <tr>\n",
       "      <th>13</th>\n",
       "      <td>0.00</td>\n",
       "      <td>0.00</td>\n",
       "      <td>0.00</td>\n",
       "      <td>0.00</td>\n",
       "      <td>0.00</td>\n",
       "      <td>0.00</td>\n",
       "      <td>0.00</td>\n",
       "      <td>0.99</td>\n",
       "    </tr>\n",
       "    <tr>\n",
       "      <th>17</th>\n",
       "      <td>0.00</td>\n",
       "      <td>0.00</td>\n",
       "      <td>0.02</td>\n",
       "      <td>0.00</td>\n",
       "      <td>0.00</td>\n",
       "      <td>0.00</td>\n",
       "      <td>0.00</td>\n",
       "      <td>1.00</td>\n",
       "    </tr>\n",
       "    <tr>\n",
       "      <th>23</th>\n",
       "      <td>0.10</td>\n",
       "      <td>0.00</td>\n",
       "      <td>0.01</td>\n",
       "      <td>0.01</td>\n",
       "      <td>0.03</td>\n",
       "      <td>0.00</td>\n",
       "      <td>0.00</td>\n",
       "      <td>0.79</td>\n",
       "    </tr>\n",
       "    <tr>\n",
       "      <th>24</th>\n",
       "      <td>0.00</td>\n",
       "      <td>0.00</td>\n",
       "      <td>0.05</td>\n",
       "      <td>0.00</td>\n",
       "      <td>0.00</td>\n",
       "      <td>0.00</td>\n",
       "      <td>0.00</td>\n",
       "      <td>1.00</td>\n",
       "    </tr>\n",
       "    <tr>\n",
       "      <th>26</th>\n",
       "      <td>0.03</td>\n",
       "      <td>0.00</td>\n",
       "      <td>0.00</td>\n",
       "      <td>0.00</td>\n",
       "      <td>0.01</td>\n",
       "      <td>0.01</td>\n",
       "      <td>0.00</td>\n",
       "      <td>0.88</td>\n",
       "    </tr>\n",
       "    <tr>\n",
       "      <th>34</th>\n",
       "      <td>0.81</td>\n",
       "      <td>0.00</td>\n",
       "      <td>0.00</td>\n",
       "      <td>0.00</td>\n",
       "      <td>0.00</td>\n",
       "      <td>0.00</td>\n",
       "      <td>0.00</td>\n",
       "      <td>0.68</td>\n",
       "    </tr>\n",
       "    <tr>\n",
       "      <th>50</th>\n",
       "      <td>0.01</td>\n",
       "      <td>0.00</td>\n",
       "      <td>0.00</td>\n",
       "      <td>0.00</td>\n",
       "      <td>0.00</td>\n",
       "      <td>0.01</td>\n",
       "      <td>0.00</td>\n",
       "      <td>0.98</td>\n",
       "    </tr>\n",
       "    <tr>\n",
       "      <th>52</th>\n",
       "      <td>0.00</td>\n",
       "      <td>0.00</td>\n",
       "      <td>0.01</td>\n",
       "      <td>0.00</td>\n",
       "      <td>0.00</td>\n",
       "      <td>0.01</td>\n",
       "      <td>0.00</td>\n",
       "      <td>0.97</td>\n",
       "    </tr>\n",
       "    <tr>\n",
       "      <th>61</th>\n",
       "      <td>0.00</td>\n",
       "      <td>0.00</td>\n",
       "      <td>0.00</td>\n",
       "      <td>0.00</td>\n",
       "      <td>0.00</td>\n",
       "      <td>0.01</td>\n",
       "      <td>0.00</td>\n",
       "      <td>1.00</td>\n",
       "    </tr>\n",
       "  </tbody>\n",
       "</table>\n",
       "</div>"
      ],
      "text/plain": [
       "           predict_class_1  predict_class_2  predict_class_3  predict_class_4  \\\n",
       "review_id                                                                       \n",
       "3                     0.00             0.00             0.00             0.00   \n",
       "13                    0.00             0.00             0.00             0.00   \n",
       "17                    0.00             0.00             0.02             0.00   \n",
       "23                    0.10             0.00             0.01             0.01   \n",
       "24                    0.00             0.00             0.05             0.00   \n",
       "26                    0.03             0.00             0.00             0.00   \n",
       "34                    0.81             0.00             0.00             0.00   \n",
       "50                    0.01             0.00             0.00             0.00   \n",
       "52                    0.00             0.00             0.01             0.00   \n",
       "61                    0.00             0.00             0.00             0.00   \n",
       "\n",
       "           predict_class_5  predict_class_6  predict_class_7  predict_class_8  \n",
       "review_id                                                                      \n",
       "3                     0.00             0.00             0.00             0.99  \n",
       "13                    0.00             0.00             0.00             0.99  \n",
       "17                    0.00             0.00             0.00             1.00  \n",
       "23                    0.03             0.00             0.00             0.79  \n",
       "24                    0.00             0.00             0.00             1.00  \n",
       "26                    0.01             0.01             0.00             0.88  \n",
       "34                    0.00             0.00             0.00             0.68  \n",
       "50                    0.00             0.01             0.00             0.98  \n",
       "52                    0.00             0.01             0.00             0.97  \n",
       "61                    0.00             0.01             0.00             1.00  "
      ]
     },
     "execution_count": 347,
     "metadata": {},
     "output_type": "execute_result"
    }
   ],
   "source": [
    "full_predict_table.head(10)"
   ]
  },
  {
   "cell_type": "code",
   "execution_count": 348,
   "id": "1e75670f",
   "metadata": {},
   "outputs": [],
   "source": [
    "full_predict_table['predict_class_1'] = (full_predict_table['predict_class_1'] > 0.5).astype(int)\n",
    "full_predict_table['predict_class_2'] = (full_predict_table['predict_class_2'] > 0.5).astype(int)\n",
    "full_predict_table['predict_class_3'] = (full_predict_table['predict_class_3'] > 0.5).astype(int)\n",
    "full_predict_table['predict_class_4'] = (full_predict_table['predict_class_4'] > 0.5).astype(int)\n",
    "full_predict_table['predict_class_5'] = (full_predict_table['predict_class_5'] > 0.5).astype(int)\n",
    "full_predict_table['predict_class_6'] = (full_predict_table['predict_class_6'] > 0.5).astype(int)\n",
    "full_predict_table['predict_class_7'] = (full_predict_table['predict_class_7'] > 0.5).astype(int)\n",
    "full_predict_table['predict_class_8'] = (full_predict_table['predict_class_8'] > 0.5).astype(int)"
   ]
  },
  {
   "cell_type": "code",
   "execution_count": 349,
   "id": "888e403f",
   "metadata": {},
   "outputs": [
    {
     "data": {
      "text/html": [
       "<div>\n",
       "<style scoped>\n",
       "    .dataframe tbody tr th:only-of-type {\n",
       "        vertical-align: middle;\n",
       "    }\n",
       "\n",
       "    .dataframe tbody tr th {\n",
       "        vertical-align: top;\n",
       "    }\n",
       "\n",
       "    .dataframe thead th {\n",
       "        text-align: right;\n",
       "    }\n",
       "</style>\n",
       "<table border=\"1\" class=\"dataframe\">\n",
       "  <thead>\n",
       "    <tr style=\"text-align: right;\">\n",
       "      <th></th>\n",
       "      <th>predict_class_1</th>\n",
       "      <th>predict_class_2</th>\n",
       "      <th>predict_class_3</th>\n",
       "      <th>predict_class_4</th>\n",
       "      <th>predict_class_5</th>\n",
       "      <th>predict_class_6</th>\n",
       "      <th>predict_class_7</th>\n",
       "      <th>predict_class_8</th>\n",
       "    </tr>\n",
       "    <tr>\n",
       "      <th>review_id</th>\n",
       "      <th></th>\n",
       "      <th></th>\n",
       "      <th></th>\n",
       "      <th></th>\n",
       "      <th></th>\n",
       "      <th></th>\n",
       "      <th></th>\n",
       "      <th></th>\n",
       "    </tr>\n",
       "  </thead>\n",
       "  <tbody>\n",
       "    <tr>\n",
       "      <th>3</th>\n",
       "      <td>0</td>\n",
       "      <td>0</td>\n",
       "      <td>0</td>\n",
       "      <td>0</td>\n",
       "      <td>0</td>\n",
       "      <td>0</td>\n",
       "      <td>0</td>\n",
       "      <td>1</td>\n",
       "    </tr>\n",
       "    <tr>\n",
       "      <th>13</th>\n",
       "      <td>0</td>\n",
       "      <td>0</td>\n",
       "      <td>0</td>\n",
       "      <td>0</td>\n",
       "      <td>0</td>\n",
       "      <td>0</td>\n",
       "      <td>0</td>\n",
       "      <td>1</td>\n",
       "    </tr>\n",
       "    <tr>\n",
       "      <th>17</th>\n",
       "      <td>0</td>\n",
       "      <td>0</td>\n",
       "      <td>0</td>\n",
       "      <td>0</td>\n",
       "      <td>0</td>\n",
       "      <td>0</td>\n",
       "      <td>0</td>\n",
       "      <td>1</td>\n",
       "    </tr>\n",
       "    <tr>\n",
       "      <th>23</th>\n",
       "      <td>0</td>\n",
       "      <td>0</td>\n",
       "      <td>0</td>\n",
       "      <td>0</td>\n",
       "      <td>0</td>\n",
       "      <td>0</td>\n",
       "      <td>0</td>\n",
       "      <td>1</td>\n",
       "    </tr>\n",
       "    <tr>\n",
       "      <th>24</th>\n",
       "      <td>0</td>\n",
       "      <td>0</td>\n",
       "      <td>0</td>\n",
       "      <td>0</td>\n",
       "      <td>0</td>\n",
       "      <td>0</td>\n",
       "      <td>0</td>\n",
       "      <td>1</td>\n",
       "    </tr>\n",
       "    <tr>\n",
       "      <th>26</th>\n",
       "      <td>0</td>\n",
       "      <td>0</td>\n",
       "      <td>0</td>\n",
       "      <td>0</td>\n",
       "      <td>0</td>\n",
       "      <td>0</td>\n",
       "      <td>0</td>\n",
       "      <td>1</td>\n",
       "    </tr>\n",
       "    <tr>\n",
       "      <th>34</th>\n",
       "      <td>1</td>\n",
       "      <td>0</td>\n",
       "      <td>0</td>\n",
       "      <td>0</td>\n",
       "      <td>0</td>\n",
       "      <td>0</td>\n",
       "      <td>0</td>\n",
       "      <td>1</td>\n",
       "    </tr>\n",
       "    <tr>\n",
       "      <th>50</th>\n",
       "      <td>0</td>\n",
       "      <td>0</td>\n",
       "      <td>0</td>\n",
       "      <td>0</td>\n",
       "      <td>0</td>\n",
       "      <td>0</td>\n",
       "      <td>0</td>\n",
       "      <td>1</td>\n",
       "    </tr>\n",
       "    <tr>\n",
       "      <th>52</th>\n",
       "      <td>0</td>\n",
       "      <td>0</td>\n",
       "      <td>0</td>\n",
       "      <td>0</td>\n",
       "      <td>0</td>\n",
       "      <td>0</td>\n",
       "      <td>0</td>\n",
       "      <td>1</td>\n",
       "    </tr>\n",
       "    <tr>\n",
       "      <th>61</th>\n",
       "      <td>0</td>\n",
       "      <td>0</td>\n",
       "      <td>0</td>\n",
       "      <td>0</td>\n",
       "      <td>0</td>\n",
       "      <td>0</td>\n",
       "      <td>0</td>\n",
       "      <td>1</td>\n",
       "    </tr>\n",
       "  </tbody>\n",
       "</table>\n",
       "</div>"
      ],
      "text/plain": [
       "           predict_class_1  predict_class_2  predict_class_3  predict_class_4  \\\n",
       "review_id                                                                       \n",
       "3                        0                0                0                0   \n",
       "13                       0                0                0                0   \n",
       "17                       0                0                0                0   \n",
       "23                       0                0                0                0   \n",
       "24                       0                0                0                0   \n",
       "26                       0                0                0                0   \n",
       "34                       1                0                0                0   \n",
       "50                       0                0                0                0   \n",
       "52                       0                0                0                0   \n",
       "61                       0                0                0                0   \n",
       "\n",
       "           predict_class_5  predict_class_6  predict_class_7  predict_class_8  \n",
       "review_id                                                                      \n",
       "3                        0                0                0                1  \n",
       "13                       0                0                0                1  \n",
       "17                       0                0                0                1  \n",
       "23                       0                0                0                1  \n",
       "24                       0                0                0                1  \n",
       "26                       0                0                0                1  \n",
       "34                       0                0                0                1  \n",
       "50                       0                0                0                1  \n",
       "52                       0                0                0                1  \n",
       "61                       0                0                0                1  "
      ]
     },
     "execution_count": 349,
     "metadata": {},
     "output_type": "execute_result"
    }
   ],
   "source": [
    "full_predict_table.head(10)"
   ]
  },
  {
   "cell_type": "code",
   "execution_count": 350,
   "id": "6d7ab0fd",
   "metadata": {},
   "outputs": [],
   "source": [
    "full_predict_table.loc[(full_predict_table['predict_class_1'] == 0), 'predict_class_1'] = \" \"\n",
    "full_predict_table.loc[(full_predict_table['predict_class_1'] == 1), 'predict_class_1'] = \"1\"\n",
    "full_predict_table.loc[(full_predict_table['predict_class_2'] == 0), 'predict_class_2'] = \" \"\n",
    "full_predict_table.loc[(full_predict_table['predict_class_2'] == 1), 'predict_class_2'] = \"2\"\n",
    "full_predict_table.loc[(full_predict_table['predict_class_3'] == 0), 'predict_class_3'] = \" \"\n",
    "full_predict_table.loc[(full_predict_table['predict_class_3'] == 1), 'predict_class_3'] = \"3\"\n",
    "full_predict_table.loc[(full_predict_table['predict_class_4'] == 0), 'predict_class_4'] = \" \"\n",
    "full_predict_table.loc[(full_predict_table['predict_class_4'] == 1), 'predict_class_4'] = \"4\"\n",
    "full_predict_table.loc[(full_predict_table['predict_class_5'] == 0), 'predict_class_5'] = \" \"\n",
    "full_predict_table.loc[(full_predict_table['predict_class_5'] == 1), 'predict_class_5'] = \"5\"\n",
    "full_predict_table.loc[(full_predict_table['predict_class_6'] == 0), 'predict_class_6'] = \" \"\n",
    "full_predict_table.loc[(full_predict_table['predict_class_6'] == 1), 'predict_class_6'] = \"6\"\n",
    "full_predict_table.loc[(full_predict_table['predict_class_7'] == 0), 'predict_class_7'] = \" \"\n",
    "full_predict_table.loc[(full_predict_table['predict_class_7'] == 1), 'predict_class_7'] = \"7\"\n",
    "full_predict_table.loc[(full_predict_table['predict_class_8'] == 0), 'predict_class_8'] = \" \"\n",
    "full_predict_table.loc[(full_predict_table['predict_class_8'] == 1), 'predict_class_8'] = \"8\""
   ]
  },
  {
   "cell_type": "code",
   "execution_count": 351,
   "id": "857160e6",
   "metadata": {},
   "outputs": [
    {
     "data": {
      "text/html": [
       "<div>\n",
       "<style scoped>\n",
       "    .dataframe tbody tr th:only-of-type {\n",
       "        vertical-align: middle;\n",
       "    }\n",
       "\n",
       "    .dataframe tbody tr th {\n",
       "        vertical-align: top;\n",
       "    }\n",
       "\n",
       "    .dataframe thead th {\n",
       "        text-align: right;\n",
       "    }\n",
       "</style>\n",
       "<table border=\"1\" class=\"dataframe\">\n",
       "  <thead>\n",
       "    <tr style=\"text-align: right;\">\n",
       "      <th></th>\n",
       "      <th>predict_class_1</th>\n",
       "      <th>predict_class_2</th>\n",
       "      <th>predict_class_3</th>\n",
       "      <th>predict_class_4</th>\n",
       "      <th>predict_class_5</th>\n",
       "      <th>predict_class_6</th>\n",
       "      <th>predict_class_7</th>\n",
       "      <th>predict_class_8</th>\n",
       "    </tr>\n",
       "    <tr>\n",
       "      <th>review_id</th>\n",
       "      <th></th>\n",
       "      <th></th>\n",
       "      <th></th>\n",
       "      <th></th>\n",
       "      <th></th>\n",
       "      <th></th>\n",
       "      <th></th>\n",
       "      <th></th>\n",
       "    </tr>\n",
       "  </thead>\n",
       "  <tbody>\n",
       "    <tr>\n",
       "      <th>3</th>\n",
       "      <td></td>\n",
       "      <td></td>\n",
       "      <td></td>\n",
       "      <td></td>\n",
       "      <td></td>\n",
       "      <td></td>\n",
       "      <td></td>\n",
       "      <td>8</td>\n",
       "    </tr>\n",
       "    <tr>\n",
       "      <th>13</th>\n",
       "      <td></td>\n",
       "      <td></td>\n",
       "      <td></td>\n",
       "      <td></td>\n",
       "      <td></td>\n",
       "      <td></td>\n",
       "      <td></td>\n",
       "      <td>8</td>\n",
       "    </tr>\n",
       "    <tr>\n",
       "      <th>17</th>\n",
       "      <td></td>\n",
       "      <td></td>\n",
       "      <td></td>\n",
       "      <td></td>\n",
       "      <td></td>\n",
       "      <td></td>\n",
       "      <td></td>\n",
       "      <td>8</td>\n",
       "    </tr>\n",
       "    <tr>\n",
       "      <th>23</th>\n",
       "      <td></td>\n",
       "      <td></td>\n",
       "      <td></td>\n",
       "      <td></td>\n",
       "      <td></td>\n",
       "      <td></td>\n",
       "      <td></td>\n",
       "      <td>8</td>\n",
       "    </tr>\n",
       "    <tr>\n",
       "      <th>24</th>\n",
       "      <td></td>\n",
       "      <td></td>\n",
       "      <td></td>\n",
       "      <td></td>\n",
       "      <td></td>\n",
       "      <td></td>\n",
       "      <td></td>\n",
       "      <td>8</td>\n",
       "    </tr>\n",
       "    <tr>\n",
       "      <th>26</th>\n",
       "      <td></td>\n",
       "      <td></td>\n",
       "      <td></td>\n",
       "      <td></td>\n",
       "      <td></td>\n",
       "      <td></td>\n",
       "      <td></td>\n",
       "      <td>8</td>\n",
       "    </tr>\n",
       "    <tr>\n",
       "      <th>34</th>\n",
       "      <td>1</td>\n",
       "      <td></td>\n",
       "      <td></td>\n",
       "      <td></td>\n",
       "      <td></td>\n",
       "      <td></td>\n",
       "      <td></td>\n",
       "      <td>8</td>\n",
       "    </tr>\n",
       "    <tr>\n",
       "      <th>50</th>\n",
       "      <td></td>\n",
       "      <td></td>\n",
       "      <td></td>\n",
       "      <td></td>\n",
       "      <td></td>\n",
       "      <td></td>\n",
       "      <td></td>\n",
       "      <td>8</td>\n",
       "    </tr>\n",
       "    <tr>\n",
       "      <th>52</th>\n",
       "      <td></td>\n",
       "      <td></td>\n",
       "      <td></td>\n",
       "      <td></td>\n",
       "      <td></td>\n",
       "      <td></td>\n",
       "      <td></td>\n",
       "      <td>8</td>\n",
       "    </tr>\n",
       "    <tr>\n",
       "      <th>61</th>\n",
       "      <td></td>\n",
       "      <td></td>\n",
       "      <td></td>\n",
       "      <td></td>\n",
       "      <td></td>\n",
       "      <td></td>\n",
       "      <td></td>\n",
       "      <td>8</td>\n",
       "    </tr>\n",
       "  </tbody>\n",
       "</table>\n",
       "</div>"
      ],
      "text/plain": [
       "          predict_class_1 predict_class_2 predict_class_3 predict_class_4  \\\n",
       "review_id                                                                   \n",
       "3                                                                           \n",
       "13                                                                          \n",
       "17                                                                          \n",
       "23                                                                          \n",
       "24                                                                          \n",
       "26                                                                          \n",
       "34                      1                                                   \n",
       "50                                                                          \n",
       "52                                                                          \n",
       "61                                                                          \n",
       "\n",
       "          predict_class_5 predict_class_6 predict_class_7 predict_class_8  \n",
       "review_id                                                                  \n",
       "3                                                                       8  \n",
       "13                                                                      8  \n",
       "17                                                                      8  \n",
       "23                                                                      8  \n",
       "24                                                                      8  \n",
       "26                                                                      8  \n",
       "34                                                                      8  \n",
       "50                                                                      8  \n",
       "52                                                                      8  \n",
       "61                                                                      8  "
      ]
     },
     "execution_count": 351,
     "metadata": {},
     "output_type": "execute_result"
    }
   ],
   "source": [
    "full_predict_table.head(10)"
   ]
  },
  {
   "cell_type": "code",
   "execution_count": 352,
   "id": "3dfed802",
   "metadata": {},
   "outputs": [],
   "source": [
    "full_predict_table['target'] = full_predict_table['predict_class_1'] + ',' + full_predict_table['predict_class_2'] + ',' + full_predict_table['predict_class_3'] + ',' + full_predict_table['predict_class_4'] + ',' + full_predict_table['predict_class_5'] + ',' + full_predict_table['predict_class_6'] + ',' + full_predict_table['predict_class_7'] + ',' + full_predict_table['predict_class_8']"
   ]
  },
  {
   "cell_type": "code",
   "execution_count": 353,
   "id": "9b239183",
   "metadata": {},
   "outputs": [
    {
     "data": {
      "text/plain": [
       " , , , , , , ,8    30968\n",
       "1, , , , , , ,8     1147\n",
       "1, , , , , , ,       386\n",
       " , , , , , , ,       383\n",
       " , ,3, , , , ,       276\n",
       " , , , , ,6, ,8      275\n",
       " , ,3, , , , ,8      196\n",
       " , , , , , ,7,        87\n",
       " , , , , ,6, ,        67\n",
       "1, , , , ,6, ,        48\n",
       " , , , , , ,7,8       41\n",
       "1, , , , ,6, ,8       28\n",
       " , , , ,5, , ,8       12\n",
       "1, , , ,5, , ,         9\n",
       " , , , ,5, , ,         9\n",
       "1, , , , , ,7,         3\n",
       "1, , , ,5, , ,8        1\n",
       "1, , , , ,6,7,         1\n",
       "1, ,3, , , , ,         1\n",
       " , , , ,5, ,7,         1\n",
       "Name: target, dtype: int64"
      ]
     },
     "execution_count": 353,
     "metadata": {},
     "output_type": "execute_result"
    }
   ],
   "source": [
    "full_predict_table['target'].value_counts()"
   ]
  },
  {
   "cell_type": "code",
   "execution_count": 354,
   "id": "fc667221",
   "metadata": {},
   "outputs": [],
   "source": [
    "full_predict_table.loc[(full_predict_table['target'] == \" , , , , , , ,8\"), 'target'] = '8'\n",
    "full_predict_table.loc[(full_predict_table['target'] == \"1, , , , , , ,8\"), 'target'] = '1,8'\n",
    "full_predict_table.loc[(full_predict_table['target'] == \"1, , , , , , , \"), 'target'] = '1'\n",
    "full_predict_table.loc[(full_predict_table['target'] == \" , , , , , , , \"), 'target'] = '8'\n",
    "full_predict_table.loc[(full_predict_table['target'] == \" , ,3, , , , , \"), 'target'] = '3'\n",
    "full_predict_table.loc[(full_predict_table['target'] == \" , , , , ,6, ,8\"), 'target'] = '6,8'\n",
    "full_predict_table.loc[(full_predict_table['target'] == \" , ,3, , , , ,8\"), 'target'] = '3,8'\n",
    "full_predict_table.loc[(full_predict_table['target'] == \" , , , , , ,7, \"), 'target'] = '7'\n",
    "full_predict_table.loc[(full_predict_table['target'] == \" , , , , ,6, , \"), 'target'] = '6'\n",
    "full_predict_table.loc[(full_predict_table['target'] == \"1, , , , ,6, , \"), 'target'] = '1,6'\n",
    "full_predict_table.loc[(full_predict_table['target'] == \" , , , , , ,7,8\"), 'target'] = '7,8'\n",
    "full_predict_table.loc[(full_predict_table['target'] == \"1, , , , ,6, ,8\"), 'target'] = '1,6,8'\n",
    "full_predict_table.loc[(full_predict_table['target'] == \" , , , ,5, , ,8\"), 'target'] = '1,5,8'\n",
    "full_predict_table.loc[(full_predict_table['target'] == \" , , , ,5, , , \"), 'target'] = '5'\n",
    "full_predict_table.loc[(full_predict_table['target'] == \"1, , , ,5, , , \"), 'target'] = '1,5'\n",
    "full_predict_table.loc[(full_predict_table['target'] == \"1, , , , , ,7, \"), 'target'] = '1,7'\n",
    "full_predict_table.loc[(full_predict_table['target'] == \"1, , , , ,6,7, \"), 'target'] = '1,6,7'\n",
    "full_predict_table.loc[(full_predict_table['target'] == \"1, , , ,5, , ,8\"), 'target'] = '1,5,8'\n",
    "full_predict_table.loc[(full_predict_table['target'] == \" , , , ,5, ,7, \"), 'target'] = '1,5,7'\n",
    "full_predict_table.loc[(full_predict_table['target'] == \"1, ,3, , , , , \"), 'target'] = '1,3'"
   ]
  },
  {
   "cell_type": "code",
   "execution_count": 355,
   "id": "496aa0f8",
   "metadata": {},
   "outputs": [
    {
     "data": {
      "text/plain": [
       "8        31351\n",
       "1,8       1147\n",
       "1          386\n",
       "3          276\n",
       "6,8        275\n",
       "3,8        196\n",
       "7           87\n",
       "6           67\n",
       "1,6         48\n",
       "7,8         41\n",
       "1,6,8       28\n",
       "1,5,8       13\n",
       "5            9\n",
       "1,5          9\n",
       "1,7          3\n",
       "1,6,7        1\n",
       "1,3          1\n",
       "1,5,7        1\n",
       "Name: target, dtype: int64"
      ]
     },
     "execution_count": 355,
     "metadata": {},
     "output_type": "execute_result"
    }
   ],
   "source": [
    "full_predict_table['target'].value_counts()"
   ]
  },
  {
   "cell_type": "code",
   "execution_count": 356,
   "id": "6ed3cc9b",
   "metadata": {},
   "outputs": [
    {
     "data": {
      "text/html": [
       "<div>\n",
       "<style scoped>\n",
       "    .dataframe tbody tr th:only-of-type {\n",
       "        vertical-align: middle;\n",
       "    }\n",
       "\n",
       "    .dataframe tbody tr th {\n",
       "        vertical-align: top;\n",
       "    }\n",
       "\n",
       "    .dataframe thead th {\n",
       "        text-align: right;\n",
       "    }\n",
       "</style>\n",
       "<table border=\"1\" class=\"dataframe\">\n",
       "  <thead>\n",
       "    <tr style=\"text-align: right;\">\n",
       "      <th></th>\n",
       "      <th>predict_class_1</th>\n",
       "      <th>predict_class_2</th>\n",
       "      <th>predict_class_3</th>\n",
       "      <th>predict_class_4</th>\n",
       "      <th>predict_class_5</th>\n",
       "      <th>predict_class_6</th>\n",
       "      <th>predict_class_7</th>\n",
       "      <th>predict_class_8</th>\n",
       "      <th>target</th>\n",
       "    </tr>\n",
       "    <tr>\n",
       "      <th>review_id</th>\n",
       "      <th></th>\n",
       "      <th></th>\n",
       "      <th></th>\n",
       "      <th></th>\n",
       "      <th></th>\n",
       "      <th></th>\n",
       "      <th></th>\n",
       "      <th></th>\n",
       "      <th></th>\n",
       "    </tr>\n",
       "  </thead>\n",
       "  <tbody>\n",
       "    <tr>\n",
       "      <th>3</th>\n",
       "      <td></td>\n",
       "      <td></td>\n",
       "      <td></td>\n",
       "      <td></td>\n",
       "      <td></td>\n",
       "      <td></td>\n",
       "      <td></td>\n",
       "      <td>8</td>\n",
       "      <td>8</td>\n",
       "    </tr>\n",
       "    <tr>\n",
       "      <th>13</th>\n",
       "      <td></td>\n",
       "      <td></td>\n",
       "      <td></td>\n",
       "      <td></td>\n",
       "      <td></td>\n",
       "      <td></td>\n",
       "      <td></td>\n",
       "      <td>8</td>\n",
       "      <td>8</td>\n",
       "    </tr>\n",
       "    <tr>\n",
       "      <th>17</th>\n",
       "      <td></td>\n",
       "      <td></td>\n",
       "      <td></td>\n",
       "      <td></td>\n",
       "      <td></td>\n",
       "      <td></td>\n",
       "      <td></td>\n",
       "      <td>8</td>\n",
       "      <td>8</td>\n",
       "    </tr>\n",
       "    <tr>\n",
       "      <th>23</th>\n",
       "      <td></td>\n",
       "      <td></td>\n",
       "      <td></td>\n",
       "      <td></td>\n",
       "      <td></td>\n",
       "      <td></td>\n",
       "      <td></td>\n",
       "      <td>8</td>\n",
       "      <td>8</td>\n",
       "    </tr>\n",
       "    <tr>\n",
       "      <th>24</th>\n",
       "      <td></td>\n",
       "      <td></td>\n",
       "      <td></td>\n",
       "      <td></td>\n",
       "      <td></td>\n",
       "      <td></td>\n",
       "      <td></td>\n",
       "      <td>8</td>\n",
       "      <td>8</td>\n",
       "    </tr>\n",
       "  </tbody>\n",
       "</table>\n",
       "</div>"
      ],
      "text/plain": [
       "          predict_class_1 predict_class_2 predict_class_3 predict_class_4  \\\n",
       "review_id                                                                   \n",
       "3                                                                           \n",
       "13                                                                          \n",
       "17                                                                          \n",
       "23                                                                          \n",
       "24                                                                          \n",
       "\n",
       "          predict_class_5 predict_class_6 predict_class_7 predict_class_8  \\\n",
       "review_id                                                                   \n",
       "3                                                                       8   \n",
       "13                                                                      8   \n",
       "17                                                                      8   \n",
       "23                                                                      8   \n",
       "24                                                                      8   \n",
       "\n",
       "          target  \n",
       "review_id         \n",
       "3              8  \n",
       "13             8  \n",
       "17             8  \n",
       "23             8  \n",
       "24             8  "
      ]
     },
     "execution_count": 356,
     "metadata": {},
     "output_type": "execute_result"
    }
   ],
   "source": [
    "full_predict_table.head()"
   ]
  },
  {
   "cell_type": "code",
   "execution_count": 357,
   "id": "74929034",
   "metadata": {},
   "outputs": [
    {
     "data": {
      "text/html": [
       "<div>\n",
       "<style scoped>\n",
       "    .dataframe tbody tr th:only-of-type {\n",
       "        vertical-align: middle;\n",
       "    }\n",
       "\n",
       "    .dataframe tbody tr th {\n",
       "        vertical-align: top;\n",
       "    }\n",
       "\n",
       "    .dataframe thead th {\n",
       "        text-align: right;\n",
       "    }\n",
       "</style>\n",
       "<table border=\"1\" class=\"dataframe\">\n",
       "  <thead>\n",
       "    <tr style=\"text-align: right;\">\n",
       "      <th></th>\n",
       "      <th>target</th>\n",
       "    </tr>\n",
       "    <tr>\n",
       "      <th>review_id</th>\n",
       "      <th></th>\n",
       "    </tr>\n",
       "  </thead>\n",
       "  <tbody>\n",
       "    <tr>\n",
       "      <th>3</th>\n",
       "      <td>8</td>\n",
       "    </tr>\n",
       "    <tr>\n",
       "      <th>4</th>\n",
       "      <td>0</td>\n",
       "    </tr>\n",
       "    <tr>\n",
       "      <th>13</th>\n",
       "      <td>8</td>\n",
       "    </tr>\n",
       "    <tr>\n",
       "      <th>14</th>\n",
       "      <td>0</td>\n",
       "    </tr>\n",
       "    <tr>\n",
       "      <th>17</th>\n",
       "      <td>8</td>\n",
       "    </tr>\n",
       "  </tbody>\n",
       "</table>\n",
       "</div>"
      ],
      "text/plain": [
       "           target\n",
       "review_id        \n",
       "3               8\n",
       "4               0\n",
       "13              8\n",
       "14              0\n",
       "17              8"
      ]
     },
     "execution_count": 357,
     "metadata": {},
     "output_type": "execute_result"
    }
   ],
   "source": [
    "eight_and_zero_only.head()"
   ]
  },
  {
   "cell_type": "code",
   "execution_count": 358,
   "id": "6865ce92",
   "metadata": {},
   "outputs": [
    {
     "data": {
      "text/html": [
       "<div>\n",
       "<style scoped>\n",
       "    .dataframe tbody tr th:only-of-type {\n",
       "        vertical-align: middle;\n",
       "    }\n",
       "\n",
       "    .dataframe tbody tr th {\n",
       "        vertical-align: top;\n",
       "    }\n",
       "\n",
       "    .dataframe thead th {\n",
       "        text-align: right;\n",
       "    }\n",
       "</style>\n",
       "<table border=\"1\" class=\"dataframe\">\n",
       "  <thead>\n",
       "    <tr style=\"text-align: right;\">\n",
       "      <th></th>\n",
       "      <th>review_id</th>\n",
       "      <th>target</th>\n",
       "    </tr>\n",
       "  </thead>\n",
       "  <tbody>\n",
       "    <tr>\n",
       "      <th>0</th>\n",
       "      <td>3</td>\n",
       "      <td>1</td>\n",
       "    </tr>\n",
       "    <tr>\n",
       "      <th>1</th>\n",
       "      <td>4</td>\n",
       "      <td>1</td>\n",
       "    </tr>\n",
       "    <tr>\n",
       "      <th>2</th>\n",
       "      <td>13</td>\n",
       "      <td>1</td>\n",
       "    </tr>\n",
       "    <tr>\n",
       "      <th>3</th>\n",
       "      <td>14</td>\n",
       "      <td>1</td>\n",
       "    </tr>\n",
       "    <tr>\n",
       "      <th>4</th>\n",
       "      <td>17</td>\n",
       "      <td>1</td>\n",
       "    </tr>\n",
       "    <tr>\n",
       "      <th>5</th>\n",
       "      <td>23</td>\n",
       "      <td>1</td>\n",
       "    </tr>\n",
       "    <tr>\n",
       "      <th>6</th>\n",
       "      <td>24</td>\n",
       "      <td>1</td>\n",
       "    </tr>\n",
       "    <tr>\n",
       "      <th>7</th>\n",
       "      <td>26</td>\n",
       "      <td>1</td>\n",
       "    </tr>\n",
       "    <tr>\n",
       "      <th>8</th>\n",
       "      <td>34</td>\n",
       "      <td>1</td>\n",
       "    </tr>\n",
       "    <tr>\n",
       "      <th>9</th>\n",
       "      <td>36</td>\n",
       "      <td>1</td>\n",
       "    </tr>\n",
       "    <tr>\n",
       "      <th>10</th>\n",
       "      <td>39</td>\n",
       "      <td>1</td>\n",
       "    </tr>\n",
       "    <tr>\n",
       "      <th>11</th>\n",
       "      <td>40</td>\n",
       "      <td>1</td>\n",
       "    </tr>\n",
       "    <tr>\n",
       "      <th>12</th>\n",
       "      <td>46</td>\n",
       "      <td>1</td>\n",
       "    </tr>\n",
       "    <tr>\n",
       "      <th>13</th>\n",
       "      <td>50</td>\n",
       "      <td>1</td>\n",
       "    </tr>\n",
       "    <tr>\n",
       "      <th>14</th>\n",
       "      <td>52</td>\n",
       "      <td>1</td>\n",
       "    </tr>\n",
       "    <tr>\n",
       "      <th>15</th>\n",
       "      <td>60</td>\n",
       "      <td>1</td>\n",
       "    </tr>\n",
       "    <tr>\n",
       "      <th>16</th>\n",
       "      <td>61</td>\n",
       "      <td>1</td>\n",
       "    </tr>\n",
       "    <tr>\n",
       "      <th>17</th>\n",
       "      <td>62</td>\n",
       "      <td>1</td>\n",
       "    </tr>\n",
       "    <tr>\n",
       "      <th>18</th>\n",
       "      <td>70</td>\n",
       "      <td>1</td>\n",
       "    </tr>\n",
       "    <tr>\n",
       "      <th>19</th>\n",
       "      <td>72</td>\n",
       "      <td>1</td>\n",
       "    </tr>\n",
       "  </tbody>\n",
       "</table>\n",
       "</div>"
      ],
      "text/plain": [
       "    review_id  target\n",
       "0           3       1\n",
       "1           4       1\n",
       "2          13       1\n",
       "3          14       1\n",
       "4          17       1\n",
       "5          23       1\n",
       "6          24       1\n",
       "7          26       1\n",
       "8          34       1\n",
       "9          36       1\n",
       "10         39       1\n",
       "11         40       1\n",
       "12         46       1\n",
       "13         50       1\n",
       "14         52       1\n",
       "15         60       1\n",
       "16         61       1\n",
       "17         62       1\n",
       "18         70       1\n",
       "19         72       1"
      ]
     },
     "execution_count": 358,
     "metadata": {},
     "output_type": "execute_result"
    }
   ],
   "source": [
    "final_predict_table = pd.DataFrame()\n",
    "final_predict_table['review_id'] = eight_and_zero_only.index\n",
    "final_predict_table['target'] = 1\n",
    "final_predict_table.head(20)"
   ]
  },
  {
   "cell_type": "code",
   "execution_count": 359,
   "id": "d93a1214",
   "metadata": {},
   "outputs": [
    {
     "data": {
      "text/html": [
       "<div>\n",
       "<style scoped>\n",
       "    .dataframe tbody tr th:only-of-type {\n",
       "        vertical-align: middle;\n",
       "    }\n",
       "\n",
       "    .dataframe tbody tr th {\n",
       "        vertical-align: top;\n",
       "    }\n",
       "\n",
       "    .dataframe thead th {\n",
       "        text-align: right;\n",
       "    }\n",
       "</style>\n",
       "<table border=\"1\" class=\"dataframe\">\n",
       "  <thead>\n",
       "    <tr style=\"text-align: right;\">\n",
       "      <th></th>\n",
       "      <th>review_id</th>\n",
       "      <th>target</th>\n",
       "    </tr>\n",
       "  </thead>\n",
       "  <tbody>\n",
       "    <tr>\n",
       "      <th>3</th>\n",
       "      <td>3</td>\n",
       "      <td>1</td>\n",
       "    </tr>\n",
       "    <tr>\n",
       "      <th>4</th>\n",
       "      <td>4</td>\n",
       "      <td>1</td>\n",
       "    </tr>\n",
       "    <tr>\n",
       "      <th>13</th>\n",
       "      <td>13</td>\n",
       "      <td>1</td>\n",
       "    </tr>\n",
       "    <tr>\n",
       "      <th>14</th>\n",
       "      <td>14</td>\n",
       "      <td>1</td>\n",
       "    </tr>\n",
       "    <tr>\n",
       "      <th>17</th>\n",
       "      <td>17</td>\n",
       "      <td>1</td>\n",
       "    </tr>\n",
       "    <tr>\n",
       "      <th>23</th>\n",
       "      <td>23</td>\n",
       "      <td>1</td>\n",
       "    </tr>\n",
       "    <tr>\n",
       "      <th>24</th>\n",
       "      <td>24</td>\n",
       "      <td>1</td>\n",
       "    </tr>\n",
       "    <tr>\n",
       "      <th>26</th>\n",
       "      <td>26</td>\n",
       "      <td>1</td>\n",
       "    </tr>\n",
       "    <tr>\n",
       "      <th>34</th>\n",
       "      <td>34</td>\n",
       "      <td>1</td>\n",
       "    </tr>\n",
       "    <tr>\n",
       "      <th>36</th>\n",
       "      <td>36</td>\n",
       "      <td>1</td>\n",
       "    </tr>\n",
       "    <tr>\n",
       "      <th>39</th>\n",
       "      <td>39</td>\n",
       "      <td>1</td>\n",
       "    </tr>\n",
       "    <tr>\n",
       "      <th>40</th>\n",
       "      <td>40</td>\n",
       "      <td>1</td>\n",
       "    </tr>\n",
       "    <tr>\n",
       "      <th>46</th>\n",
       "      <td>46</td>\n",
       "      <td>1</td>\n",
       "    </tr>\n",
       "    <tr>\n",
       "      <th>50</th>\n",
       "      <td>50</td>\n",
       "      <td>1</td>\n",
       "    </tr>\n",
       "    <tr>\n",
       "      <th>52</th>\n",
       "      <td>52</td>\n",
       "      <td>1</td>\n",
       "    </tr>\n",
       "    <tr>\n",
       "      <th>60</th>\n",
       "      <td>60</td>\n",
       "      <td>1</td>\n",
       "    </tr>\n",
       "    <tr>\n",
       "      <th>61</th>\n",
       "      <td>61</td>\n",
       "      <td>1</td>\n",
       "    </tr>\n",
       "    <tr>\n",
       "      <th>62</th>\n",
       "      <td>62</td>\n",
       "      <td>1</td>\n",
       "    </tr>\n",
       "    <tr>\n",
       "      <th>70</th>\n",
       "      <td>70</td>\n",
       "      <td>1</td>\n",
       "    </tr>\n",
       "    <tr>\n",
       "      <th>72</th>\n",
       "      <td>72</td>\n",
       "      <td>1</td>\n",
       "    </tr>\n",
       "  </tbody>\n",
       "</table>\n",
       "</div>"
      ],
      "text/plain": [
       "    review_id  target\n",
       "3           3       1\n",
       "4           4       1\n",
       "13         13       1\n",
       "14         14       1\n",
       "17         17       1\n",
       "23         23       1\n",
       "24         24       1\n",
       "26         26       1\n",
       "34         34       1\n",
       "36         36       1\n",
       "39         39       1\n",
       "40         40       1\n",
       "46         46       1\n",
       "50         50       1\n",
       "52         52       1\n",
       "60         60       1\n",
       "61         61       1\n",
       "62         62       1\n",
       "70         70       1\n",
       "72         72       1"
      ]
     },
     "execution_count": 359,
     "metadata": {},
     "output_type": "execute_result"
    }
   ],
   "source": [
    "final_predict_table.index = list(final_predict_table[\"review_id\"])\n",
    "final_predict_table.head(20)"
   ]
  },
  {
   "cell_type": "code",
   "execution_count": 360,
   "id": "9e8e9a2b",
   "metadata": {},
   "outputs": [],
   "source": [
    "final_predict_table['target'] = eight_and_zero_only['target']\n",
    "final_predict_table['target'] = full_predict_table['target']\n",
    "final_predict_table.loc[final_predict_table['target'].isna(), 'target'] = \"0\""
   ]
  },
  {
   "cell_type": "code",
   "execution_count": 361,
   "id": "ac1c8411",
   "metadata": {},
   "outputs": [
    {
     "data": {
      "text/html": [
       "<div>\n",
       "<style scoped>\n",
       "    .dataframe tbody tr th:only-of-type {\n",
       "        vertical-align: middle;\n",
       "    }\n",
       "\n",
       "    .dataframe tbody tr th {\n",
       "        vertical-align: top;\n",
       "    }\n",
       "\n",
       "    .dataframe thead th {\n",
       "        text-align: right;\n",
       "    }\n",
       "</style>\n",
       "<table border=\"1\" class=\"dataframe\">\n",
       "  <thead>\n",
       "    <tr style=\"text-align: right;\">\n",
       "      <th></th>\n",
       "      <th>review_id</th>\n",
       "      <th>target</th>\n",
       "    </tr>\n",
       "  </thead>\n",
       "  <tbody>\n",
       "    <tr>\n",
       "      <th>3</th>\n",
       "      <td>3</td>\n",
       "      <td>8</td>\n",
       "    </tr>\n",
       "    <tr>\n",
       "      <th>4</th>\n",
       "      <td>4</td>\n",
       "      <td>0</td>\n",
       "    </tr>\n",
       "    <tr>\n",
       "      <th>13</th>\n",
       "      <td>13</td>\n",
       "      <td>8</td>\n",
       "    </tr>\n",
       "    <tr>\n",
       "      <th>14</th>\n",
       "      <td>14</td>\n",
       "      <td>0</td>\n",
       "    </tr>\n",
       "    <tr>\n",
       "      <th>17</th>\n",
       "      <td>17</td>\n",
       "      <td>8</td>\n",
       "    </tr>\n",
       "    <tr>\n",
       "      <th>23</th>\n",
       "      <td>23</td>\n",
       "      <td>8</td>\n",
       "    </tr>\n",
       "    <tr>\n",
       "      <th>24</th>\n",
       "      <td>24</td>\n",
       "      <td>8</td>\n",
       "    </tr>\n",
       "    <tr>\n",
       "      <th>26</th>\n",
       "      <td>26</td>\n",
       "      <td>8</td>\n",
       "    </tr>\n",
       "    <tr>\n",
       "      <th>34</th>\n",
       "      <td>34</td>\n",
       "      <td>1,8</td>\n",
       "    </tr>\n",
       "    <tr>\n",
       "      <th>36</th>\n",
       "      <td>36</td>\n",
       "      <td>0</td>\n",
       "    </tr>\n",
       "    <tr>\n",
       "      <th>39</th>\n",
       "      <td>39</td>\n",
       "      <td>0</td>\n",
       "    </tr>\n",
       "    <tr>\n",
       "      <th>40</th>\n",
       "      <td>40</td>\n",
       "      <td>0</td>\n",
       "    </tr>\n",
       "    <tr>\n",
       "      <th>46</th>\n",
       "      <td>46</td>\n",
       "      <td>0</td>\n",
       "    </tr>\n",
       "    <tr>\n",
       "      <th>50</th>\n",
       "      <td>50</td>\n",
       "      <td>8</td>\n",
       "    </tr>\n",
       "    <tr>\n",
       "      <th>52</th>\n",
       "      <td>52</td>\n",
       "      <td>8</td>\n",
       "    </tr>\n",
       "    <tr>\n",
       "      <th>60</th>\n",
       "      <td>60</td>\n",
       "      <td>0</td>\n",
       "    </tr>\n",
       "    <tr>\n",
       "      <th>61</th>\n",
       "      <td>61</td>\n",
       "      <td>8</td>\n",
       "    </tr>\n",
       "    <tr>\n",
       "      <th>62</th>\n",
       "      <td>62</td>\n",
       "      <td>8</td>\n",
       "    </tr>\n",
       "    <tr>\n",
       "      <th>70</th>\n",
       "      <td>70</td>\n",
       "      <td>0</td>\n",
       "    </tr>\n",
       "    <tr>\n",
       "      <th>72</th>\n",
       "      <td>72</td>\n",
       "      <td>0</td>\n",
       "    </tr>\n",
       "  </tbody>\n",
       "</table>\n",
       "</div>"
      ],
      "text/plain": [
       "    review_id target\n",
       "3           3      8\n",
       "4           4      0\n",
       "13         13      8\n",
       "14         14      0\n",
       "17         17      8\n",
       "23         23      8\n",
       "24         24      8\n",
       "26         26      8\n",
       "34         34    1,8\n",
       "36         36      0\n",
       "39         39      0\n",
       "40         40      0\n",
       "46         46      0\n",
       "50         50      8\n",
       "52         52      8\n",
       "60         60      0\n",
       "61         61      8\n",
       "62         62      8\n",
       "70         70      0\n",
       "72         72      0"
      ]
     },
     "execution_count": 361,
     "metadata": {},
     "output_type": "execute_result"
    }
   ],
   "source": [
    "final_predict_table.head(20)"
   ]
  },
  {
   "cell_type": "code",
   "execution_count": 362,
   "id": "b34eb505",
   "metadata": {},
   "outputs": [
    {
     "data": {
      "text/plain": [
       "8        31351\n",
       "0        16712\n",
       "1,8       1147\n",
       "1          386\n",
       "3          276\n",
       "6,8        275\n",
       "3,8        196\n",
       "7           87\n",
       "6           67\n",
       "1,6         48\n",
       "7,8         41\n",
       "1,6,8       28\n",
       "1,5,8       13\n",
       "1,5          9\n",
       "5            9\n",
       "1,7          3\n",
       "1,5,7        1\n",
       "1,6,7        1\n",
       "1,3          1\n",
       "Name: target, dtype: int64"
      ]
     },
     "execution_count": 362,
     "metadata": {},
     "output_type": "execute_result"
    }
   ],
   "source": [
    "final_predict_table['target'].value_counts()"
   ]
  },
  {
   "cell_type": "code",
   "execution_count": 363,
   "id": "b69dded7",
   "metadata": {},
   "outputs": [],
   "source": [
    "final_predict_table.to_csv('final_predict_table_SUPERFINAL.csv', index=False)"
   ]
  }
 ],
 "metadata": {
  "kernelspec": {
   "display_name": "Python 3",
   "language": "python",
   "name": "python3"
  },
  "language_info": {
   "codemirror_mode": {
    "name": "ipython",
    "version": 3
   },
   "file_extension": ".py",
   "mimetype": "text/x-python",
   "name": "python",
   "nbconvert_exporter": "python",
   "pygments_lexer": "ipython3",
   "version": "3.8.8"
  }
 },
 "nbformat": 4,
 "nbformat_minor": 5
}
